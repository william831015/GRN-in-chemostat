{
 "cells": [
  {
   "cell_type": "code",
   "execution_count": 46,
   "metadata": {},
   "outputs": [
    {
     "data": {
      "application/javascript": "\n(function(root) {\n  function now() {\n    return new Date();\n  }\n\n  var force = true;\n\n  if (typeof root._bokeh_onload_callbacks === \"undefined\" || force === true) {\n    root._bokeh_onload_callbacks = [];\n    root._bokeh_is_loading = undefined;\n  }\n\n  if (typeof (root._bokeh_timeout) === \"undefined\" || force === true) {\n    root._bokeh_timeout = Date.now() + 5000;\n    root._bokeh_failed_load = false;\n  }\n\n  function run_callbacks() {\n    try {\n      root._bokeh_onload_callbacks.forEach(function(callback) {\n        if (callback != null)\n          callback();\n      });\n    } finally {\n      delete root._bokeh_onload_callbacks\n    }\n    console.debug(\"Bokeh: all callbacks have finished\");\n  }\n\n  function load_libs(css_urls, js_urls, js_modules, callback) {\n    if (css_urls == null) css_urls = [];\n    if (js_urls == null) js_urls = [];\n    if (js_modules == null) js_modules = [];\n\n    root._bokeh_onload_callbacks.push(callback);\n    if (root._bokeh_is_loading > 0) {\n      console.debug(\"Bokeh: BokehJS is being loaded, scheduling callback at\", now());\n      return null;\n    }\n    if (js_urls.length === 0 && js_modules.length === 0) {\n      run_callbacks();\n      return null;\n    }\n    console.debug(\"Bokeh: BokehJS not loaded, scheduling load and callback at\", now());\n\n    function on_load() {\n      root._bokeh_is_loading--;\n      if (root._bokeh_is_loading === 0) {\n        console.debug(\"Bokeh: all BokehJS libraries/stylesheets loaded\");\n        run_callbacks()\n      }\n    }\n\n    function on_error() {\n      console.error(\"failed to load \" + url);\n    }\n\n    for (var i = 0; i < css_urls.length; i++) {\n      var url = css_urls[i];\n      const element = document.createElement(\"link\");\n      element.onload = on_load;\n      element.onerror = on_error;\n      element.rel = \"stylesheet\";\n      element.type = \"text/css\";\n      element.href = url;\n      console.debug(\"Bokeh: injecting link tag for BokehJS stylesheet: \", url);\n      document.body.appendChild(element);\n    }\n\n    var skip = [];\n    if (window.requirejs) {\n      window.requirejs.config({'packages': {}, 'paths': {'gridstack': 'https://cdn.jsdelivr.net/npm/gridstack@4.2.5/dist/gridstack-h5'}, 'shim': {'gridstack': {'exports': 'GridStack'}}});\n      \n      require([\"gridstack\"], function(GridStack) {\n\t\n\twindow.GridStack = GridStack\n\t\n\ton_load()\n      })\n      \n      root._bokeh_is_loading = css_urls.length + 1;\n    } else {\n      root._bokeh_is_loading = css_urls.length + js_urls.length + js_modules.length;\n    }\n    if (((window['GridStack'] !== undefined) && (!(window['GridStack'] instanceof HTMLElement))) || window.requirejs) {\n      var urls = ['https://cdn.jsdelivr.net/npm/gridstack@4.2.5/dist/gridstack-h5.js'];\n      for (var i = 0; i < urls.length; i++) {\n        skip.push(urls[i])\n      }\n    }\n    for (var i = 0; i < js_urls.length; i++) {\n      var url = js_urls[i];\n      if (skip.indexOf(url) >= 0) {\n\tif (!window.requirejs) {\n\t  on_load();\n\t}\n\tcontinue;\n      }\n      var element = document.createElement('script');\n      element.onload = on_load;\n      element.onerror = on_error;\n      element.async = false;\n      element.src = url;\n      console.debug(\"Bokeh: injecting script tag for BokehJS library: \", url);\n      document.head.appendChild(element);\n    }\n    for (var i = 0; i < js_modules.length; i++) {\n      var url = js_modules[i];\n      if (skip.indexOf(url) >= 0) {\n\tif (!window.requirejs) {\n\t  on_load();\n\t}\n\tcontinue;\n      }\n      var element = document.createElement('script');\n      element.onload = on_load;\n      element.onerror = on_error;\n      element.async = false;\n      element.src = url;\n      element.type = \"module\";\n      console.debug(\"Bokeh: injecting script tag for BokehJS library: \", url);\n      document.head.appendChild(element);\n    }\n    if (!js_urls.length && !js_modules.length) {\n      on_load()\n    }\n  };\n\n  function inject_raw_css(css) {\n    const element = document.createElement(\"style\");\n    element.appendChild(document.createTextNode(css));\n    document.body.appendChild(element);\n  }\n\n  var js_urls = [\"https://cdn.bokeh.org/bokeh/release/bokeh-2.4.2.min.js\", \"https://cdn.bokeh.org/bokeh/release/bokeh-gl-2.4.2.min.js\", \"https://cdn.bokeh.org/bokeh/release/bokeh-widgets-2.4.2.min.js\", \"https://cdn.bokeh.org/bokeh/release/bokeh-tables-2.4.2.min.js\", \"https://cdn.bokeh.org/bokeh/release/bokeh-mathjax-2.4.2.min.js\", \"https://unpkg.com/@holoviz/panel@0.13.0/dist/panel.min.js\"];\n  var js_modules = [];\n  var css_urls = [\"https://unpkg.com/@holoviz/panel@0.13.0/dist/css/debugger.css\", \"https://unpkg.com/@holoviz/panel@0.13.0/dist/css/alerts.css\", \"https://unpkg.com/@holoviz/panel@0.13.0/dist/css/card.css\", \"https://unpkg.com/@holoviz/panel@0.13.0/dist/css/widgets.css\", \"https://unpkg.com/@holoviz/panel@0.13.0/dist/css/markdown.css\", \"https://unpkg.com/@holoviz/panel@0.13.0/dist/css/json.css\", \"https://unpkg.com/@holoviz/panel@0.13.0/dist/css/loading.css\", \"https://unpkg.com/@holoviz/panel@0.13.0/dist/css/dataframe.css\"];\n  var inline_js = [\n    function(Bokeh) {\n      inject_raw_css(\"\\n    .bk.pn-loading.arcs:before {\\n      background-image: url(\\\"data:image/svg+xml;base64,PHN2ZyB4bWxucz0iaHR0cDovL3d3dy53My5vcmcvMjAwMC9zdmciIHhtbG5zOnhsaW5rPSJodHRwOi8vd3d3LnczLm9yZy8xOTk5L3hsaW5rIiBzdHlsZT0ibWFyZ2luOiBhdXRvOyBiYWNrZ3JvdW5kOiBub25lOyBkaXNwbGF5OiBibG9jazsgc2hhcGUtcmVuZGVyaW5nOiBhdXRvOyIgdmlld0JveD0iMCAwIDEwMCAxMDAiIHByZXNlcnZlQXNwZWN0UmF0aW89InhNaWRZTWlkIj4gIDxjaXJjbGUgY3g9IjUwIiBjeT0iNTAiIHI9IjMyIiBzdHJva2Utd2lkdGg9IjgiIHN0cm9rZT0iI2MzYzNjMyIgc3Ryb2tlLWRhc2hhcnJheT0iNTAuMjY1NDgyNDU3NDM2NjkgNTAuMjY1NDgyNDU3NDM2NjkiIGZpbGw9Im5vbmUiIHN0cm9rZS1saW5lY2FwPSJyb3VuZCI+ICAgIDxhbmltYXRlVHJhbnNmb3JtIGF0dHJpYnV0ZU5hbWU9InRyYW5zZm9ybSIgdHlwZT0icm90YXRlIiByZXBlYXRDb3VudD0iaW5kZWZpbml0ZSIgZHVyPSIxcyIga2V5VGltZXM9IjA7MSIgdmFsdWVzPSIwIDUwIDUwOzM2MCA1MCA1MCI+PC9hbmltYXRlVHJhbnNmb3JtPiAgPC9jaXJjbGU+PC9zdmc+\\\");\\n      background-size: auto calc(min(50%, 400px));\\n    }\\n    \");\n    },\n    function(Bokeh) {\n      Bokeh.set_log_level(\"info\");\n    },\n    function(Bokeh) {} // ensure no trailing comma for IE\n  ];\n\n  function run_inline_js() {\n    if ((root.Bokeh !== undefined) || (force === true)) {\n      for (var i = 0; i < inline_js.length; i++) {\n        inline_js[i].call(root, root.Bokeh);\n      }} else if (Date.now() < root._bokeh_timeout) {\n      setTimeout(run_inline_js, 100);\n    } else if (!root._bokeh_failed_load) {\n      console.log(\"Bokeh: BokehJS failed to load within specified timeout.\");\n      root._bokeh_failed_load = true;\n    }\n  }\n\n  if (root._bokeh_is_loading === 0) {\n    console.debug(\"Bokeh: BokehJS loaded, going straight to plotting\");\n    run_inline_js();\n  } else {\n    load_libs(css_urls, js_urls, js_modules, function() {\n      console.debug(\"Bokeh: BokehJS plotting callback run at\", now());\n      run_inline_js();\n    });\n  }\n}(window));",
      "application/vnd.holoviews_load.v0+json": ""
     },
     "metadata": {},
     "output_type": "display_data"
    },
    {
     "data": {
      "application/javascript": "\nif ((window.PyViz === undefined) || (window.PyViz instanceof HTMLElement)) {\n  window.PyViz = {comms: {}, comm_status:{}, kernels:{}, receivers: {}, plot_index: []}\n}\n\n\n    function JupyterCommManager() {\n    }\n\n    JupyterCommManager.prototype.register_target = function(plot_id, comm_id, msg_handler) {\n      if (window.comm_manager || ((window.Jupyter !== undefined) && (Jupyter.notebook.kernel != null))) {\n        var comm_manager = window.comm_manager || Jupyter.notebook.kernel.comm_manager;\n        comm_manager.register_target(comm_id, function(comm) {\n          comm.on_msg(msg_handler);\n        });\n      } else if ((plot_id in window.PyViz.kernels) && (window.PyViz.kernels[plot_id])) {\n        window.PyViz.kernels[plot_id].registerCommTarget(comm_id, function(comm) {\n          comm.onMsg = msg_handler;\n        });\n      } else if (typeof google != 'undefined' && google.colab.kernel != null) {\n        google.colab.kernel.comms.registerTarget(comm_id, (comm) => {\n          var messages = comm.messages[Symbol.asyncIterator]();\n          function processIteratorResult(result) {\n            var message = result.value;\n            console.log(message)\n            var content = {data: message.data, comm_id};\n            var buffers = []\n            for (var buffer of message.buffers || []) {\n              buffers.push(new DataView(buffer))\n            }\n            var metadata = message.metadata || {};\n            var msg = {content, buffers, metadata}\n            msg_handler(msg);\n            return messages.next().then(processIteratorResult);\n          }\n          return messages.next().then(processIteratorResult);\n        })\n      }\n    }\n\n    JupyterCommManager.prototype.get_client_comm = function(plot_id, comm_id, msg_handler) {\n      if (comm_id in window.PyViz.comms) {\n        return window.PyViz.comms[comm_id];\n      } else if (window.comm_manager || ((window.Jupyter !== undefined) && (Jupyter.notebook.kernel != null))) {\n        var comm_manager = window.comm_manager || Jupyter.notebook.kernel.comm_manager;\n        var comm = comm_manager.new_comm(comm_id, {}, {}, {}, comm_id);\n        if (msg_handler) {\n          comm.on_msg(msg_handler);\n        }\n      } else if ((plot_id in window.PyViz.kernels) && (window.PyViz.kernels[plot_id])) {\n        var comm = window.PyViz.kernels[plot_id].connectToComm(comm_id);\n        comm.open();\n        if (msg_handler) {\n          comm.onMsg = msg_handler;\n        }\n      } else if (typeof google != 'undefined' && google.colab.kernel != null) {\n        var comm_promise = google.colab.kernel.comms.open(comm_id)\n        comm_promise.then((comm) => {\n          window.PyViz.comms[comm_id] = comm;\n          if (msg_handler) {\n            var messages = comm.messages[Symbol.asyncIterator]();\n            function processIteratorResult(result) {\n              var message = result.value;\n              var content = {data: message.data};\n              var metadata = message.metadata || {comm_id};\n              var msg = {content, metadata}\n              msg_handler(msg);\n              return messages.next().then(processIteratorResult);\n            }\n            return messages.next().then(processIteratorResult);\n          }\n        }) \n        var sendClosure = (data, metadata, buffers, disposeOnDone) => {\n          return comm_promise.then((comm) => {\n            comm.send(data, metadata, buffers, disposeOnDone);\n          });\n        };\n        var comm = {\n          send: sendClosure\n        };\n      }\n      window.PyViz.comms[comm_id] = comm;\n      return comm;\n    }\n    window.PyViz.comm_manager = new JupyterCommManager();\n    \n\n\nvar JS_MIME_TYPE = 'application/javascript';\nvar HTML_MIME_TYPE = 'text/html';\nvar EXEC_MIME_TYPE = 'application/vnd.holoviews_exec.v0+json';\nvar CLASS_NAME = 'output';\n\n/**\n * Render data to the DOM node\n */\nfunction render(props, node) {\n  var div = document.createElement(\"div\");\n  var script = document.createElement(\"script\");\n  node.appendChild(div);\n  node.appendChild(script);\n}\n\n/**\n * Handle when a new output is added\n */\nfunction handle_add_output(event, handle) {\n  var output_area = handle.output_area;\n  var output = handle.output;\n  if ((output.data == undefined) || (!output.data.hasOwnProperty(EXEC_MIME_TYPE))) {\n    return\n  }\n  var id = output.metadata[EXEC_MIME_TYPE][\"id\"];\n  var toinsert = output_area.element.find(\".\" + CLASS_NAME.split(' ')[0]);\n  if (id !== undefined) {\n    var nchildren = toinsert.length;\n    var html_node = toinsert[nchildren-1].children[0];\n    html_node.innerHTML = output.data[HTML_MIME_TYPE];\n    var scripts = [];\n    var nodelist = html_node.querySelectorAll(\"script\");\n    for (var i in nodelist) {\n      if (nodelist.hasOwnProperty(i)) {\n        scripts.push(nodelist[i])\n      }\n    }\n\n    scripts.forEach( function (oldScript) {\n      var newScript = document.createElement(\"script\");\n      var attrs = [];\n      var nodemap = oldScript.attributes;\n      for (var j in nodemap) {\n        if (nodemap.hasOwnProperty(j)) {\n          attrs.push(nodemap[j])\n        }\n      }\n      attrs.forEach(function(attr) { newScript.setAttribute(attr.name, attr.value) });\n      newScript.appendChild(document.createTextNode(oldScript.innerHTML));\n      oldScript.parentNode.replaceChild(newScript, oldScript);\n    });\n    if (JS_MIME_TYPE in output.data) {\n      toinsert[nchildren-1].children[1].textContent = output.data[JS_MIME_TYPE];\n    }\n    output_area._hv_plot_id = id;\n    if ((window.Bokeh !== undefined) && (id in Bokeh.index)) {\n      window.PyViz.plot_index[id] = Bokeh.index[id];\n    } else {\n      window.PyViz.plot_index[id] = null;\n    }\n  } else if (output.metadata[EXEC_MIME_TYPE][\"server_id\"] !== undefined) {\n    var bk_div = document.createElement(\"div\");\n    bk_div.innerHTML = output.data[HTML_MIME_TYPE];\n    var script_attrs = bk_div.children[0].attributes;\n    for (var i = 0; i < script_attrs.length; i++) {\n      toinsert[toinsert.length - 1].childNodes[1].setAttribute(script_attrs[i].name, script_attrs[i].value);\n    }\n    // store reference to server id on output_area\n    output_area._bokeh_server_id = output.metadata[EXEC_MIME_TYPE][\"server_id\"];\n  }\n}\n\n/**\n * Handle when an output is cleared or removed\n */\nfunction handle_clear_output(event, handle) {\n  var id = handle.cell.output_area._hv_plot_id;\n  var server_id = handle.cell.output_area._bokeh_server_id;\n  if (((id === undefined) || !(id in PyViz.plot_index)) && (server_id !== undefined)) { return; }\n  var comm = window.PyViz.comm_manager.get_client_comm(\"hv-extension-comm\", \"hv-extension-comm\", function () {});\n  if (server_id !== null) {\n    comm.send({event_type: 'server_delete', 'id': server_id});\n    return;\n  } else if (comm !== null) {\n    comm.send({event_type: 'delete', 'id': id});\n  }\n  delete PyViz.plot_index[id];\n  if ((window.Bokeh !== undefined) & (id in window.Bokeh.index)) {\n    var doc = window.Bokeh.index[id].model.document\n    doc.clear();\n    const i = window.Bokeh.documents.indexOf(doc);\n    if (i > -1) {\n      window.Bokeh.documents.splice(i, 1);\n    }\n  }\n}\n\n/**\n * Handle kernel restart event\n */\nfunction handle_kernel_cleanup(event, handle) {\n  delete PyViz.comms[\"hv-extension-comm\"];\n  window.PyViz.plot_index = {}\n}\n\n/**\n * Handle update_display_data messages\n */\nfunction handle_update_output(event, handle) {\n  handle_clear_output(event, {cell: {output_area: handle.output_area}})\n  handle_add_output(event, handle)\n}\n\nfunction register_renderer(events, OutputArea) {\n  function append_mime(data, metadata, element) {\n    // create a DOM node to render to\n    var toinsert = this.create_output_subarea(\n    metadata,\n    CLASS_NAME,\n    EXEC_MIME_TYPE\n    );\n    this.keyboard_manager.register_events(toinsert);\n    // Render to node\n    var props = {data: data, metadata: metadata[EXEC_MIME_TYPE]};\n    render(props, toinsert[0]);\n    element.append(toinsert);\n    return toinsert\n  }\n\n  events.on('output_added.OutputArea', handle_add_output);\n  events.on('output_updated.OutputArea', handle_update_output);\n  events.on('clear_output.CodeCell', handle_clear_output);\n  events.on('delete.Cell', handle_clear_output);\n  events.on('kernel_ready.Kernel', handle_kernel_cleanup);\n\n  OutputArea.prototype.register_mime_type(EXEC_MIME_TYPE, append_mime, {\n    safe: true,\n    index: 0\n  });\n}\n\nif (window.Jupyter !== undefined) {\n  try {\n    var events = require('base/js/events');\n    var OutputArea = require('notebook/js/outputarea').OutputArea;\n    if (OutputArea.prototype.mime_types().indexOf(EXEC_MIME_TYPE) == -1) {\n      register_renderer(events, OutputArea);\n    }\n  } catch(err) {\n  }\n}\n",
      "application/vnd.holoviews_load.v0+json": ""
     },
     "metadata": {},
     "output_type": "display_data"
    },
    {
     "data": {
      "text/html": [
       "<style>.bk-root, .bk-root .bk:before, .bk-root .bk:after {\n",
       "  font-family: var(--jp-ui-font-size1);\n",
       "  font-size: var(--jp-ui-font-size1);\n",
       "  color: var(--jp-ui-font-color1);\n",
       "}\n",
       "</style>"
      ]
     },
     "metadata": {},
     "output_type": "display_data"
    },
    {
     "data": {
      "text/html": [
       "\n",
       "    <div class=\"bk-root\">\n",
       "        <a href=\"https://bokeh.org\" target=\"_blank\" class=\"bk-logo bk-logo-small bk-logo-notebook\"></a>\n",
       "        <span id=\"5483\">Loading BokehJS ...</span>\n",
       "    </div>"
      ]
     },
     "metadata": {},
     "output_type": "display_data"
    },
    {
     "data": {
      "application/javascript": "\n(function(root) {\n  function now() {\n    return new Date();\n  }\n\n  const force = true;\n\n  if (typeof root._bokeh_onload_callbacks === \"undefined\" || force === true) {\n    root._bokeh_onload_callbacks = [];\n    root._bokeh_is_loading = undefined;\n  }\n\n  const JS_MIME_TYPE = 'application/javascript';\n  const HTML_MIME_TYPE = 'text/html';\n  const EXEC_MIME_TYPE = 'application/vnd.bokehjs_exec.v0+json';\n  const CLASS_NAME = 'output_bokeh rendered_html';\n\n  /**\n   * Render data to the DOM node\n   */\n  function render(props, node) {\n    const script = document.createElement(\"script\");\n    node.appendChild(script);\n  }\n\n  /**\n   * Handle when an output is cleared or removed\n   */\n  function handleClearOutput(event, handle) {\n    const cell = handle.cell;\n\n    const id = cell.output_area._bokeh_element_id;\n    const server_id = cell.output_area._bokeh_server_id;\n    // Clean up Bokeh references\n    if (id != null && id in Bokeh.index) {\n      Bokeh.index[id].model.document.clear();\n      delete Bokeh.index[id];\n    }\n\n    if (server_id !== undefined) {\n      // Clean up Bokeh references\n      const cmd_clean = \"from bokeh.io.state import curstate; print(curstate().uuid_to_server['\" + server_id + \"'].get_sessions()[0].document.roots[0]._id)\";\n      cell.notebook.kernel.execute(cmd_clean, {\n        iopub: {\n          output: function(msg) {\n            const id = msg.content.text.trim();\n            if (id in Bokeh.index) {\n              Bokeh.index[id].model.document.clear();\n              delete Bokeh.index[id];\n            }\n          }\n        }\n      });\n      // Destroy server and session\n      const cmd_destroy = \"import bokeh.io.notebook as ion; ion.destroy_server('\" + server_id + \"')\";\n      cell.notebook.kernel.execute(cmd_destroy);\n    }\n  }\n\n  /**\n   * Handle when a new output is added\n   */\n  function handleAddOutput(event, handle) {\n    const output_area = handle.output_area;\n    const output = handle.output;\n\n    // limit handleAddOutput to display_data with EXEC_MIME_TYPE content only\n    if ((output.output_type != \"display_data\") || (!Object.prototype.hasOwnProperty.call(output.data, EXEC_MIME_TYPE))) {\n      return\n    }\n\n    const toinsert = output_area.element.find(\".\" + CLASS_NAME.split(' ')[0]);\n\n    if (output.metadata[EXEC_MIME_TYPE][\"id\"] !== undefined) {\n      toinsert[toinsert.length - 1].firstChild.textContent = output.data[JS_MIME_TYPE];\n      // store reference to embed id on output_area\n      output_area._bokeh_element_id = output.metadata[EXEC_MIME_TYPE][\"id\"];\n    }\n    if (output.metadata[EXEC_MIME_TYPE][\"server_id\"] !== undefined) {\n      const bk_div = document.createElement(\"div\");\n      bk_div.innerHTML = output.data[HTML_MIME_TYPE];\n      const script_attrs = bk_div.children[0].attributes;\n      for (let i = 0; i < script_attrs.length; i++) {\n        toinsert[toinsert.length - 1].firstChild.setAttribute(script_attrs[i].name, script_attrs[i].value);\n        toinsert[toinsert.length - 1].firstChild.textContent = bk_div.children[0].textContent\n      }\n      // store reference to server id on output_area\n      output_area._bokeh_server_id = output.metadata[EXEC_MIME_TYPE][\"server_id\"];\n    }\n  }\n\n  function register_renderer(events, OutputArea) {\n\n    function append_mime(data, metadata, element) {\n      // create a DOM node to render to\n      const toinsert = this.create_output_subarea(\n        metadata,\n        CLASS_NAME,\n        EXEC_MIME_TYPE\n      );\n      this.keyboard_manager.register_events(toinsert);\n      // Render to node\n      const props = {data: data, metadata: metadata[EXEC_MIME_TYPE]};\n      render(props, toinsert[toinsert.length - 1]);\n      element.append(toinsert);\n      return toinsert\n    }\n\n    /* Handle when an output is cleared or removed */\n    events.on('clear_output.CodeCell', handleClearOutput);\n    events.on('delete.Cell', handleClearOutput);\n\n    /* Handle when a new output is added */\n    events.on('output_added.OutputArea', handleAddOutput);\n\n    /**\n     * Register the mime type and append_mime function with output_area\n     */\n    OutputArea.prototype.register_mime_type(EXEC_MIME_TYPE, append_mime, {\n      /* Is output safe? */\n      safe: true,\n      /* Index of renderer in `output_area.display_order` */\n      index: 0\n    });\n  }\n\n  // register the mime type if in Jupyter Notebook environment and previously unregistered\n  if (root.Jupyter !== undefined) {\n    const events = require('base/js/events');\n    const OutputArea = require('notebook/js/outputarea').OutputArea;\n\n    if (OutputArea.prototype.mime_types().indexOf(EXEC_MIME_TYPE) == -1) {\n      register_renderer(events, OutputArea);\n    }\n  }\n\n  \n  if (typeof (root._bokeh_timeout) === \"undefined\" || force === true) {\n    root._bokeh_timeout = Date.now() + 5000;\n    root._bokeh_failed_load = false;\n  }\n\n  const NB_LOAD_WARNING = {'data': {'text/html':\n     \"<div style='background-color: #fdd'>\\n\"+\n     \"<p>\\n\"+\n     \"BokehJS does not appear to have successfully loaded. If loading BokehJS from CDN, this \\n\"+\n     \"may be due to a slow or bad network connection. Possible fixes:\\n\"+\n     \"</p>\\n\"+\n     \"<ul>\\n\"+\n     \"<li>re-rerun `output_notebook()` to attempt to load from CDN again, or</li>\\n\"+\n     \"<li>use INLINE resources instead, as so:</li>\\n\"+\n     \"</ul>\\n\"+\n     \"<code>\\n\"+\n     \"from bokeh.resources import INLINE\\n\"+\n     \"output_notebook(resources=INLINE)\\n\"+\n     \"</code>\\n\"+\n     \"</div>\"}};\n\n  function display_loaded() {\n    const el = document.getElementById(\"5483\");\n    if (el != null) {\n      el.textContent = \"BokehJS is loading...\";\n    }\n    if (root.Bokeh !== undefined) {\n      if (el != null) {\n        el.textContent = \"BokehJS \" + root.Bokeh.version + \" successfully loaded.\";\n      }\n    } else if (Date.now() < root._bokeh_timeout) {\n      setTimeout(display_loaded, 100)\n    }\n  }\n\n\n  function run_callbacks() {\n    try {\n      root._bokeh_onload_callbacks.forEach(function(callback) {\n        if (callback != null)\n          callback();\n      });\n    } finally {\n      delete root._bokeh_onload_callbacks\n    }\n    console.debug(\"Bokeh: all callbacks have finished\");\n  }\n\n  function load_libs(css_urls, js_urls, callback) {\n    if (css_urls == null) css_urls = [];\n    if (js_urls == null) js_urls = [];\n\n    root._bokeh_onload_callbacks.push(callback);\n    if (root._bokeh_is_loading > 0) {\n      console.debug(\"Bokeh: BokehJS is being loaded, scheduling callback at\", now());\n      return null;\n    }\n    if (js_urls == null || js_urls.length === 0) {\n      run_callbacks();\n      return null;\n    }\n    console.debug(\"Bokeh: BokehJS not loaded, scheduling load and callback at\", now());\n    root._bokeh_is_loading = css_urls.length + js_urls.length;\n\n    function on_load() {\n      root._bokeh_is_loading--;\n      if (root._bokeh_is_loading === 0) {\n        console.debug(\"Bokeh: all BokehJS libraries/stylesheets loaded\");\n        run_callbacks()\n      }\n    }\n\n    function on_error(url) {\n      console.error(\"failed to load \" + url);\n    }\n\n    for (let i = 0; i < css_urls.length; i++) {\n      const url = css_urls[i];\n      const element = document.createElement(\"link\");\n      element.onload = on_load;\n      element.onerror = on_error.bind(null, url);\n      element.rel = \"stylesheet\";\n      element.type = \"text/css\";\n      element.href = url;\n      console.debug(\"Bokeh: injecting link tag for BokehJS stylesheet: \", url);\n      document.body.appendChild(element);\n    }\n\n    for (let i = 0; i < js_urls.length; i++) {\n      const url = js_urls[i];\n      const element = document.createElement('script');\n      element.onload = on_load;\n      element.onerror = on_error.bind(null, url);\n      element.async = false;\n      element.src = url;\n      console.debug(\"Bokeh: injecting script tag for BokehJS library: \", url);\n      document.head.appendChild(element);\n    }\n  };\n\n  function inject_raw_css(css) {\n    const element = document.createElement(\"style\");\n    element.appendChild(document.createTextNode(css));\n    document.body.appendChild(element);\n  }\n\n  \n  const js_urls = [\"https://cdn.bokeh.org/bokeh/release/bokeh-2.4.2.min.js\", \"https://cdn.bokeh.org/bokeh/release/bokeh-gl-2.4.2.min.js\", \"https://cdn.bokeh.org/bokeh/release/bokeh-widgets-2.4.2.min.js\", \"https://cdn.bokeh.org/bokeh/release/bokeh-tables-2.4.2.min.js\", \"https://cdn.bokeh.org/bokeh/release/bokeh-mathjax-2.4.2.min.js\", \"https://unpkg.com/@holoviz/panel@0.13.0/dist/panel.min.js\"];\n  const css_urls = [];\n  \n\n  const inline_js = [\n    function(Bokeh) {\n      Bokeh.set_log_level(\"info\");\n    },\n    function(Bokeh) {\n    \n    \n    }\n  ];\n\n  function run_inline_js() {\n    \n    if (root.Bokeh !== undefined || force === true) {\n      \n    for (let i = 0; i < inline_js.length; i++) {\n      inline_js[i].call(root, root.Bokeh);\n    }\n    if (force === true) {\n        display_loaded();\n      }} else if (Date.now() < root._bokeh_timeout) {\n      setTimeout(run_inline_js, 100);\n    } else if (!root._bokeh_failed_load) {\n      console.log(\"Bokeh: BokehJS failed to load within specified timeout.\");\n      root._bokeh_failed_load = true;\n    } else if (force !== true) {\n      const cell = $(document.getElementById(\"5483\")).parents('.cell').data().cell;\n      cell.output_area.append_execute_result(NB_LOAD_WARNING)\n    }\n\n  }\n\n  if (root._bokeh_is_loading === 0) {\n    console.debug(\"Bokeh: BokehJS loaded, going straight to plotting\");\n    run_inline_js();\n  } else {\n    load_libs(css_urls, js_urls, function() {\n      console.debug(\"Bokeh: BokehJS plotting callback run at\", now());\n      run_inline_js();\n    });\n  }\n}(window));",
      "application/vnd.bokehjs_load.v0+json": ""
     },
     "metadata": {},
     "output_type": "display_data"
    }
   ],
   "source": [
    "import sys,os\n",
    "sys.path.append(os.path.realpath('..'))\n",
    "\n",
    "from scripts.functions import dilute, replenish,dilute_species, replenish_species, run_model,plot_result\n",
    "from scripts.species import DNA, RNA, Protein, Resource\n",
    "from scripts.models import Repressor_model\n",
    "\n",
    "\n",
    "import numpy as np\n",
    "import scipy.integrate\n",
    "import scipy.optimize\n",
    "from bokeh.plotting import figure, output_file, show\n",
    "\n",
    "import bokeh.plotting\n",
    "import bokeh.io\n",
    "from bokeh.models import Span\n",
    "\n",
    "\n",
    "# We will use Matplotlib to make a 3D plot\n",
    "import matplotlib.pyplot as plt\n",
    "from mpl_toolkits.mplot3d import Axes3D\n",
    "%matplotlib inline\n",
    "%config InlineBackend.figure_format = 'retina'\n",
    "\n",
    "import panel as pn\n",
    "pn.extension()\n",
    "\n",
    "bokeh.io.output_notebook()"
   ]
  },
  {
   "cell_type": "code",
   "execution_count": 89,
   "metadata": {},
   "outputs": [],
   "source": [
    "#######Define species #######\n",
    "\n",
    "#T7 RNAP\n",
    "T7_DNA = DNA()\n",
    "T7_RNA = RNA()\n",
    "T7 = Protein()\n",
    "\n",
    "#Repressor\n",
    "Repressor_DNA = DNA()\n",
    "Repressor_RNA = RNA()\n",
    "Repressor = Protein()\n",
    "\n",
    "#GFP\n",
    "GFP_DNA = DNA()\n",
    "GFP_RNA = RNA()\n",
    "GFP = Protein()\n",
    "\n",
    "#Resource\n",
    "R      = Resource()\n",
    "\n",
    "#Others\n",
    "TX = 1\n",
    "TL = 1\n",
    "\n",
    "#list of molecules\n",
    "molecules_list = [T7_DNA,T7_RNA,T7,GFP_DNA,GFP_RNA,GFP,Repressor_DNA,Repressor_RNA,Repressor,R]\n",
    "\n",
    "\n",
    "#give index num\n",
    "for i in range(0,len(molecules_list)):\n",
    "    molecules_list[i].idx = i\n",
    "\n",
    "\n",
    "\n",
    "\n",
    "#define values \n",
    "##T7\n",
    "T7_DNA.ic =0.01\n",
    "T7_DNA.lc =0.01\n",
    "\n",
    "T7.ic = 1\n",
    "T7.lc = 1\n",
    "\n",
    "##GFP\n",
    "GFP_DNA.ic = 2\n",
    "GFP_DNA.lc = 2\n",
    "\n",
    "GFP.lc = 0\n",
    "\n",
    "##Repressor \n",
    "Repressor_DNA.ic = 0\n",
    "Repressor_DNA.lc = 0\n",
    "\n",
    "\n",
    "#resources\n",
    "R.ic =100\n",
    "R.lc =100\n",
    "\n",
    "#Define parameters\n",
    "alpha=0.7;\n",
    "beta=0.07;\n",
    "K=1.0;\n",
    "Kd = 0.5;\n",
    "HC = 1;\n",
    "KTL=10;\n",
    "KTX=1;\n",
    "lamb1=0;\n",
    "lamb2=0;\n",
    "\n",
    "parameters_list = (alpha,beta,K,Kd,KTL,KTX,lamb1,lamb2)\n",
    "\n"
   ]
  },
  {
   "cell_type": "code",
   "execution_count": 90,
   "metadata": {},
   "outputs": [],
   "source": [
    "def run_model(model,t,parameters_list,molecules_0,dilute_list,replenish_list,result_all):  \n",
    "    start_cycle,end_cycle = np.array(t)*4\n",
    "    for n in range (start_cycle,end_cycle):\n",
    "        #define time\n",
    "        t_start= n*15\n",
    "        t_end = (n+1)*15\n",
    "        t= np.linspace(t_start,t_end,2)\n",
    "                \n",
    "        #dilution \n",
    "        ###diute out\n",
    "        dilute_species((dilute_list),molecules_0)\n",
    "        \n",
    "        ###replenish \n",
    "        replenish_species((replenish_list),molecules_0)\n",
    "        result_all = np.append(result_all,molecules_0)\n",
    "\n",
    "        #solve equation and save result\n",
    "        result = scipy.integrate.odeint(model, molecules_0, t, args=parameters_list)\n",
    "        \n",
    "        #update parameter\n",
    "        molecules_0 = result.transpose()[:,-1]\n",
    "\n",
    "    return result_all,molecules_0\n",
    "    "
   ]
  },
  {
   "cell_type": "code",
   "execution_count": 91,
   "metadata": {},
   "outputs": [
    {
     "data": {
      "text/html": [
       "\n",
       "\n",
       "\n",
       "\n",
       "\n",
       "\n",
       "  <div class=\"bk-root\" id=\"d66d2a96-e78a-4e65-bead-7a79b7096dd1\" data-root-id=\"16922\"></div>\n"
      ]
     },
     "metadata": {},
     "output_type": "display_data"
    },
    {
     "data": {
      "application/javascript": "(function(root) {\n  function embed_document(root) {\n    \n  const docs_json = {\"7c782373-0a57-4330-a029-cd7089527f65\":{\"defs\":[{\"extends\":null,\"module\":null,\"name\":\"ReactiveHTML1\",\"overrides\":[],\"properties\":[]},{\"extends\":null,\"module\":null,\"name\":\"FlexBox1\",\"overrides\":[],\"properties\":[{\"default\":\"flex-start\",\"kind\":null,\"name\":\"align_content\"},{\"default\":\"flex-start\",\"kind\":null,\"name\":\"align_items\"},{\"default\":\"row\",\"kind\":null,\"name\":\"flex_direction\"},{\"default\":\"wrap\",\"kind\":null,\"name\":\"flex_wrap\"},{\"default\":\"flex-start\",\"kind\":null,\"name\":\"justify_content\"}]},{\"extends\":null,\"module\":null,\"name\":\"GridStack1\",\"overrides\":[],\"properties\":[{\"default\":\"warn\",\"kind\":null,\"name\":\"mode\"},{\"default\":null,\"kind\":null,\"name\":\"ncols\"},{\"default\":null,\"kind\":null,\"name\":\"nrows\"},{\"default\":true,\"kind\":null,\"name\":\"allow_resize\"},{\"default\":true,\"kind\":null,\"name\":\"allow_drag\"},{\"default\":[],\"kind\":null,\"name\":\"state\"}]},{\"extends\":null,\"module\":null,\"name\":\"click1\",\"overrides\":[],\"properties\":[{\"default\":\"\",\"kind\":null,\"name\":\"terminal_output\"},{\"default\":\"\",\"kind\":null,\"name\":\"debug_name\"},{\"default\":0,\"kind\":null,\"name\":\"clears\"}]},{\"extends\":null,\"module\":null,\"name\":\"TemplateActions1\",\"overrides\":[],\"properties\":[{\"default\":0,\"kind\":null,\"name\":\"open_modal\"},{\"default\":0,\"kind\":null,\"name\":\"close_modal\"}]},{\"extends\":null,\"module\":null,\"name\":\"MaterialTemplateActions1\",\"overrides\":[],\"properties\":[{\"default\":0,\"kind\":null,\"name\":\"open_modal\"},{\"default\":0,\"kind\":null,\"name\":\"close_modal\"}]}],\"roots\":{\"references\":[{\"attributes\":{\"below\":[{\"id\":\"16931\"}],\"center\":[{\"id\":\"16934\"},{\"id\":\"16938\"},{\"id\":\"16959\"},{\"id\":\"16960\"}],\"height\":400,\"left\":[{\"id\":\"16935\"}],\"renderers\":[{\"id\":\"16957\"}],\"title\":{\"id\":\"17555\"},\"toolbar\":{\"id\":\"16946\"},\"width\":800,\"x_range\":{\"id\":\"16923\"},\"x_scale\":{\"id\":\"16927\"},\"y_range\":{\"id\":\"16925\"},\"y_scale\":{\"id\":\"16929\"}},\"id\":\"16922\",\"subtype\":\"Figure\",\"type\":\"Plot\"},{\"attributes\":{\"coordinates\":null,\"data_source\":{\"id\":\"16953\"},\"glyph\":{\"id\":\"16954\"},\"group\":null,\"hover_glyph\":null,\"muted_glyph\":{\"id\":\"16956\"},\"nonselection_glyph\":{\"id\":\"16955\"},\"view\":{\"id\":\"16958\"}},\"id\":\"16957\",\"type\":\"GlyphRenderer\"},{\"attributes\":{\"bottom_units\":\"screen\",\"coordinates\":null,\"fill_alpha\":0.5,\"fill_color\":\"lightgrey\",\"group\":null,\"left_units\":\"screen\",\"level\":\"overlay\",\"line_alpha\":1.0,\"line_color\":\"black\",\"line_dash\":[4,4],\"line_width\":2,\"right_units\":\"screen\",\"syncable\":false,\"top_units\":\"screen\"},\"id\":\"16945\",\"type\":\"BoxAnnotation\"},{\"attributes\":{\"tools\":[{\"id\":\"16939\"},{\"id\":\"16940\"},{\"id\":\"16941\"},{\"id\":\"16942\"},{\"id\":\"16943\"},{\"id\":\"16944\"}]},\"id\":\"16946\",\"type\":\"Toolbar\"},{\"attributes\":{},\"id\":\"17561\",\"type\":\"BasicTickFormatter\"},{\"attributes\":{},\"id\":\"17562\",\"type\":\"AllLabels\"},{\"attributes\":{\"coordinates\":null,\"dimension\":\"height\",\"group\":null,\"line_dash\":[6],\"location\":4},\"id\":\"16959\",\"type\":\"Span\"},{\"attributes\":{\"line_alpha\":0.2,\"line_color\":\"#1f77b4\",\"line_width\":2,\"x\":{\"field\":\"x\"},\"y\":{\"field\":\"y\"}},\"id\":\"16956\",\"type\":\"Line\"},{\"attributes\":{},\"id\":\"16939\",\"type\":\"PanTool\"},{\"attributes\":{},\"id\":\"16923\",\"type\":\"DataRange1d\"},{\"attributes\":{\"coordinates\":null,\"dimension\":\"height\",\"group\":null,\"line_dash\":[6],\"location\":16},\"id\":\"16960\",\"type\":\"Span\"},{\"attributes\":{},\"id\":\"17559\",\"type\":\"AllLabels\"},{\"attributes\":{},\"id\":\"17558\",\"type\":\"BasicTickFormatter\"},{\"attributes\":{\"data\":{\"x\":{\"__ndarray__\":\"AAAAAAAAAAAAAAAAAADQPwAAAAAAAOA/AAAAAAAA6D8AAAAAAADwPwAAAAAAAPQ/AAAAAAAA+D8AAAAAAAD8PwAAAAAAAABAAAAAAAAAAkAAAAAAAAAEQAAAAAAAAAZAAAAAAAAACEAAAAAAAAAKQAAAAAAAAAxAAAAAAAAADkAAAAAAAAAQQAAAAAAAABFAAAAAAAAAEkAAAAAAAAATQAAAAAAAABRAAAAAAAAAFUAAAAAAAAAWQAAAAAAAABdAAAAAAAAAGEAAAAAAAAAZQAAAAAAAABpAAAAAAAAAG0AAAAAAAAAcQAAAAAAAAB1AAAAAAAAAHkAAAAAAAAAfQAAAAAAAACBAAAAAAACAIEAAAAAAAAAhQAAAAAAAgCFAAAAAAAAAIkAAAAAAAIAiQAAAAAAAACNAAAAAAACAI0AAAAAAAAAkQAAAAAAAgCRAAAAAAAAAJUAAAAAAAIAlQAAAAAAAACZAAAAAAACAJkAAAAAAAAAnQAAAAAAAgCdAAAAAAAAAKEAAAAAAAIAoQAAAAAAAAClAAAAAAACAKUAAAAAAAAAqQAAAAAAAgCpAAAAAAAAAK0AAAAAAAIArQAAAAAAAACxAAAAAAACALEAAAAAAAAAtQAAAAAAAgC1AAAAAAAAALkAAAAAAAIAuQAAAAAAAAC9AAAAAAACAL0AAAAAAAAAwQAAAAAAAQDBAAAAAAACAMEAAAAAAAMAwQAAAAAAAADFAAAAAAABAMUAAAAAAAIAxQAAAAAAAwDFAAAAAAAAAMkAAAAAAAEAyQAAAAAAAgDJAAAAAAADAMkAAAAAAAAAzQAAAAAAAQDNAAAAAAACAM0AAAAAAAMAzQAAAAAAAADRAAAAAAABANEAAAAAAAIA0QAAAAAAAwDRAAAAAAAAANUAAAAAAAEA1QAAAAAAAgDVAAAAAAADANUAAAAAAAAA2QAAAAAAAQDZAAAAAAACANkAAAAAAAMA2QAAAAAAAADdAAAAAAABAN0AAAAAAAIA3QAAAAAAAwDdAAAAAAAAAOEAAAAAAAEA4QAAAAAAAgDhAAAAAAADAOEAAAAAAAAA5QAAAAAAAQDlAAAAAAACAOUAAAAAAAMA5QAAAAAAAADpAAAAAAABAOkAAAAAAAIA6QAAAAAAAwDpAAAAAAAAAO0AAAAAAAEA7QAAAAAAAgDtAAAAAAADAO0AAAAAAAAA8QAAAAAAAQDxAAAAAAACAPEAAAAAAAMA8QAAAAAAAAD1AAAAAAABAPUAAAAAAAIA9QAAAAAAAwD1AAAAAAAAAPkA=\",\"dtype\":\"float64\",\"order\":\"little\",\"shape\":[121]},\"y\":{\"__ndarray__\":\"AAAAAAAAAAAAAAAAAAAAAFMcNtl2OyFAequvPQ0GPUC3CDfBR1BGQK50xavvIEdAGj/FiiC1R0CyHmTSyR1IQM6I/6ZlZ0hAu10H1QGbSECE50LPHL9IQDgzybZU2EhAkQrX2OzpSEA1EQrFMPZIQHduknK8/khAt+7pEbAESUD7+2Xq1AhJQL1+gme3C0lApAPga7kNSUAzwgAqHw9JQKbUriAYEElA8dmBYcUQSUApBpLxPRFJQOTLqNaREUlAlIF+N8wRSUBwu7/W9BFJQJoH8RoREklAGm8hxiQSSUCUJsZ1MhJJQMiutvs7EklAKgsanEISSUCK5344RxJJQPyQ2G1KEklAMwxdqUwSSUApXgo3ThJJQFEwwUtPEklA7rFMDFASSUDPAkeSUBJJQPirgO9QEklAwQRfMFESSUBIJYJdURJJQLCA6nxREklACjHFklESSUD0HvqhURJJQA/sjqxREklAu8brs1ESSUCGTgu5URJJQFnnm7xREklAkOkWv1ESSUCRxNDAURJJQPM4BMJREklAUCjawlESSUDZBG/DURJJQM6Z1sNREklA/qwexFESSUDW01DEURJJQHG5c8RREklAsgGMxFESSUAf55zEURJJQOioqMRREklAONewxFESSUB+iLbEURJJQId+usRREklAIkC9xFESSUAcK7/EURJJQMWAwMRREklAg27BxFESSUDvE8LEURJJQAuHwsRREklALNfCxFESSUDzDsPEURJJQMA1w8RREklAwFDDxFESSUCIY8PEURJJQJ9ww8RREklAvHnDxFESSUARgMPEURJJQHuEw8RREklAkIfDxFESSUC3icPEURJJQDqLw8RREklAQIzDxFESSUACjcPEURJJQIiNw8RREklA543DxFESSUArjsPEURJJQFmOw8RREklAgo7DxFESSUCbjsPEURJJQKyOw8RREklAtY7DxFESSUDDjsPEURJJQMiOw8RREklA1I7DxFESSUDYjsPEURJJQNmOw8RREklA5I7DxFESSUDojsPEURJJQPGOw8RREklA+I7DxFESSUD2jsPEURJJQPaOw8RREklA+o7DxFESSUAAj8PEURJJQAiPw8RREklAC4/DxFESSUAJj8PEURJJQAiPw8RREklAE4/DxFESSUARj8PEURJJQBKPw8RREklAFY/DxFESSUAYj8PEURJJQBSPw8RREklAGI/DxFESSUAcj8PEURJJQBaPw8RREklAHI/DxFESSUAfj8PEURJJQByPw8RREklAHI/DxFESSUA=\",\"dtype\":\"float64\",\"order\":\"little\",\"shape\":[121]}},\"selected\":{\"id\":\"17564\"},\"selection_policy\":{\"id\":\"17563\"}},\"id\":\"16953\",\"type\":\"ColumnDataSource\"},{\"attributes\":{},\"id\":\"16942\",\"type\":\"SaveTool\"},{\"attributes\":{\"overlay\":{\"id\":\"16945\"}},\"id\":\"16941\",\"type\":\"BoxZoomTool\"},{\"attributes\":{},\"id\":\"16943\",\"type\":\"ResetTool\"},{\"attributes\":{},\"id\":\"17564\",\"type\":\"Selection\"},{\"attributes\":{},\"id\":\"16940\",\"type\":\"WheelZoomTool\"},{\"attributes\":{},\"id\":\"17563\",\"type\":\"UnionRenderers\"},{\"attributes\":{\"coordinates\":null,\"formatter\":{\"id\":\"17558\"},\"group\":null,\"major_label_policy\":{\"id\":\"17559\"},\"ticker\":{\"id\":\"16936\"}},\"id\":\"16935\",\"type\":\"LinearAxis\"},{\"attributes\":{\"axis\":{\"id\":\"16931\"},\"coordinates\":null,\"group\":null,\"ticker\":null},\"id\":\"16934\",\"type\":\"Grid\"},{\"attributes\":{\"coordinates\":null,\"group\":null},\"id\":\"17555\",\"type\":\"Title\"},{\"attributes\":{},\"id\":\"16929\",\"type\":\"LinearScale\"},{\"attributes\":{\"axis_label\":\"t\",\"coordinates\":null,\"formatter\":{\"id\":\"17561\"},\"group\":null,\"major_label_policy\":{\"id\":\"17562\"},\"ticker\":{\"id\":\"16932\"}},\"id\":\"16931\",\"type\":\"LinearAxis\"},{\"attributes\":{\"line_color\":\"#1f77b4\",\"line_width\":2,\"x\":{\"field\":\"x\"},\"y\":{\"field\":\"y\"}},\"id\":\"16954\",\"type\":\"Line\"},{\"attributes\":{},\"id\":\"16936\",\"type\":\"BasicTicker\"},{\"attributes\":{},\"id\":\"16932\",\"type\":\"BasicTicker\"},{\"attributes\":{},\"id\":\"16925\",\"type\":\"DataRange1d\"},{\"attributes\":{\"line_alpha\":0.1,\"line_color\":\"#1f77b4\",\"line_width\":2,\"x\":{\"field\":\"x\"},\"y\":{\"field\":\"y\"}},\"id\":\"16955\",\"type\":\"Line\"},{\"attributes\":{},\"id\":\"16927\",\"type\":\"LinearScale\"},{\"attributes\":{\"axis\":{\"id\":\"16935\"},\"coordinates\":null,\"dimension\":1,\"group\":null,\"ticker\":null},\"id\":\"16938\",\"type\":\"Grid\"},{\"attributes\":{},\"id\":\"16944\",\"type\":\"HelpTool\"},{\"attributes\":{\"source\":{\"id\":\"16953\"}},\"id\":\"16958\",\"type\":\"CDSView\"}],\"root_ids\":[\"16922\"]},\"title\":\"Bokeh Application\",\"version\":\"2.4.2\"}};\n  const render_items = [{\"docid\":\"7c782373-0a57-4330-a029-cd7089527f65\",\"root_ids\":[\"16922\"],\"roots\":{\"16922\":\"d66d2a96-e78a-4e65-bead-7a79b7096dd1\"}}];\n  root.Bokeh.embed.embed_items_notebook(docs_json, render_items);\n\n  }\n  if (root.Bokeh !== undefined) {\n    embed_document(root);\n  } else {\n    let attempts = 0;\n    const timer = setInterval(function(root) {\n      if (root.Bokeh !== undefined) {\n        clearInterval(timer);\n        embed_document(root);\n      } else {\n        attempts++;\n        if (attempts > 100) {\n          clearInterval(timer);\n          console.log(\"Bokeh: ERROR: Unable to run BokehJS code because BokehJS library is missing\");\n        }\n      }\n    }, 10, root)\n  }\n})(window);",
      "application/vnd.bokehjs_exec.v0+json": ""
     },
     "metadata": {
      "application/vnd.bokehjs_exec.v0+json": {
       "id": "16922"
      }
     },
     "output_type": "display_data"
    }
   ],
   "source": [
    "#Positive control\n",
    "T7_DNA.ic = 0\n",
    "T7_DNA.lc = 0\n",
    "\n",
    "#initial value\n",
    "molecules_0 = [None]*len(molecules_list) #create empty list\n",
    "\n",
    "\n",
    "for i in range(0,len(molecules_list)):\n",
    "    molecules_0[i] = molecules_list[i].ic\n",
    "\n",
    "#stage 1 kick start\n",
    "result_all=[molecules_0] #initial condition\n",
    "\n",
    "\n",
    "#kick start\n",
    "dilution_list = [T7_RNA,T7,GFP,GFP_RNA,Repressor,Repressor_RNA,R]\n",
    "replenish_list = [T7,R]\n",
    "result_all,molecules_0 = run_model(Repressor_model,(0,4),parameters_list,molecules_0,dilution_list,replenish_list,result_all)\n",
    "\n",
    "\n",
    "#self regeneration \n",
    "dilution_list = [T7_RNA,T7,GFP,GFP_RNA,Repressor,Repressor_RNA,R]\n",
    "replenish_list = [T7,R]\n",
    "result_all,molecules_0 = run_model(Repressor_model,(4,16),parameters_list,molecules_0,dilution_list,replenish_list,result_all)\n",
    "\n",
    "\n",
    "\n",
    "#wash out\n",
    "dilution_list = [T7_DNA,T7_RNA,T7,GFP,GFP_RNA,Repressor_DNA,Repressor,Repressor_RNA,R]\n",
    "replenish_list = [T7,R]\n",
    "\n",
    "result_all,molecules_0=run_model(Repressor_model,(16,30),parameters_list,molecules_0,dilution_list,replenish_list,result_all)\n",
    "\n",
    "\n",
    "\n",
    "result_all = np.resize(result_all,(121,10))\n",
    "for i in range(0,len(molecules_list)):\n",
    "        (molecules_list[i]).pc_result = result_all.transpose()[i]\n",
    "\n",
    "#T7_DNA,T7_RNA,T7,GFP_DNA,GFP_RNA,GFP,R = result_all.transpose()\n",
    "plot_result(GFP.pc_result)"
   ]
  },
  {
   "cell_type": "code",
   "execution_count": 92,
   "metadata": {},
   "outputs": [
    {
     "data": {
      "text/html": [
       "\n",
       "\n",
       "\n",
       "\n",
       "\n",
       "\n",
       "  <div class=\"bk-root\" id=\"ccf53981-c878-4a47-8677-5d27dd80a18e\" data-root-id=\"17621\"></div>\n"
      ]
     },
     "metadata": {},
     "output_type": "display_data"
    },
    {
     "data": {
      "application/javascript": "(function(root) {\n  function embed_document(root) {\n    \n  const docs_json = {\"cf3816e8-3452-4887-afa3-e27e625639ac\":{\"defs\":[{\"extends\":null,\"module\":null,\"name\":\"ReactiveHTML1\",\"overrides\":[],\"properties\":[]},{\"extends\":null,\"module\":null,\"name\":\"FlexBox1\",\"overrides\":[],\"properties\":[{\"default\":\"flex-start\",\"kind\":null,\"name\":\"align_content\"},{\"default\":\"flex-start\",\"kind\":null,\"name\":\"align_items\"},{\"default\":\"row\",\"kind\":null,\"name\":\"flex_direction\"},{\"default\":\"wrap\",\"kind\":null,\"name\":\"flex_wrap\"},{\"default\":\"flex-start\",\"kind\":null,\"name\":\"justify_content\"}]},{\"extends\":null,\"module\":null,\"name\":\"GridStack1\",\"overrides\":[],\"properties\":[{\"default\":\"warn\",\"kind\":null,\"name\":\"mode\"},{\"default\":null,\"kind\":null,\"name\":\"ncols\"},{\"default\":null,\"kind\":null,\"name\":\"nrows\"},{\"default\":true,\"kind\":null,\"name\":\"allow_resize\"},{\"default\":true,\"kind\":null,\"name\":\"allow_drag\"},{\"default\":[],\"kind\":null,\"name\":\"state\"}]},{\"extends\":null,\"module\":null,\"name\":\"click1\",\"overrides\":[],\"properties\":[{\"default\":\"\",\"kind\":null,\"name\":\"terminal_output\"},{\"default\":\"\",\"kind\":null,\"name\":\"debug_name\"},{\"default\":0,\"kind\":null,\"name\":\"clears\"}]},{\"extends\":null,\"module\":null,\"name\":\"TemplateActions1\",\"overrides\":[],\"properties\":[{\"default\":0,\"kind\":null,\"name\":\"open_modal\"},{\"default\":0,\"kind\":null,\"name\":\"close_modal\"}]},{\"extends\":null,\"module\":null,\"name\":\"MaterialTemplateActions1\",\"overrides\":[],\"properties\":[{\"default\":0,\"kind\":null,\"name\":\"open_modal\"},{\"default\":0,\"kind\":null,\"name\":\"close_modal\"}]}],\"roots\":{\"references\":[{\"attributes\":{\"below\":[{\"id\":\"17630\"}],\"center\":[{\"id\":\"17633\"},{\"id\":\"17637\"},{\"id\":\"17658\"},{\"id\":\"17659\"}],\"height\":400,\"left\":[{\"id\":\"17634\"}],\"renderers\":[{\"id\":\"17656\"}],\"title\":{\"id\":\"18265\"},\"toolbar\":{\"id\":\"17645\"},\"width\":800,\"x_range\":{\"id\":\"17622\"},\"x_scale\":{\"id\":\"17626\"},\"y_range\":{\"id\":\"17624\"},\"y_scale\":{\"id\":\"17628\"}},\"id\":\"17621\",\"subtype\":\"Figure\",\"type\":\"Plot\"},{\"attributes\":{},\"id\":\"17628\",\"type\":\"LinearScale\"},{\"attributes\":{},\"id\":\"17643\",\"type\":\"HelpTool\"},{\"attributes\":{\"axis_label\":\"t\",\"coordinates\":null,\"formatter\":{\"id\":\"18271\"},\"group\":null,\"major_label_policy\":{\"id\":\"18272\"},\"ticker\":{\"id\":\"17631\"}},\"id\":\"17630\",\"type\":\"LinearAxis\"},{\"attributes\":{\"coordinates\":null,\"data_source\":{\"id\":\"17652\"},\"glyph\":{\"id\":\"17653\"},\"group\":null,\"hover_glyph\":null,\"muted_glyph\":{\"id\":\"17655\"},\"nonselection_glyph\":{\"id\":\"17654\"},\"view\":{\"id\":\"17657\"}},\"id\":\"17656\",\"type\":\"GlyphRenderer\"},{\"attributes\":{},\"id\":\"17631\",\"type\":\"BasicTicker\"},{\"attributes\":{},\"id\":\"17624\",\"type\":\"DataRange1d\"},{\"attributes\":{},\"id\":\"18273\",\"type\":\"UnionRenderers\"},{\"attributes\":{\"tools\":[{\"id\":\"17638\"},{\"id\":\"17639\"},{\"id\":\"17640\"},{\"id\":\"17641\"},{\"id\":\"17642\"},{\"id\":\"17643\"}]},\"id\":\"17645\",\"type\":\"Toolbar\"},{\"attributes\":{},\"id\":\"18272\",\"type\":\"AllLabels\"},{\"attributes\":{\"coordinates\":null,\"dimension\":\"height\",\"group\":null,\"line_dash\":[6],\"location\":4},\"id\":\"17658\",\"type\":\"Span\"},{\"attributes\":{},\"id\":\"17626\",\"type\":\"LinearScale\"},{\"attributes\":{\"axis\":{\"id\":\"17634\"},\"coordinates\":null,\"dimension\":1,\"group\":null,\"ticker\":null},\"id\":\"17637\",\"type\":\"Grid\"},{\"attributes\":{},\"id\":\"18274\",\"type\":\"Selection\"},{\"attributes\":{\"source\":{\"id\":\"17652\"}},\"id\":\"17657\",\"type\":\"CDSView\"},{\"attributes\":{\"coordinates\":null,\"dimension\":\"height\",\"group\":null,\"line_dash\":[6],\"location\":16},\"id\":\"17659\",\"type\":\"Span\"},{\"attributes\":{\"data\":{\"x\":{\"__ndarray__\":\"AAAAAAAAAAAAAAAAAADQPwAAAAAAAOA/AAAAAAAA6D8AAAAAAADwPwAAAAAAAPQ/AAAAAAAA+D8AAAAAAAD8PwAAAAAAAABAAAAAAAAAAkAAAAAAAAAEQAAAAAAAAAZAAAAAAAAACEAAAAAAAAAKQAAAAAAAAAxAAAAAAAAADkAAAAAAAAAQQAAAAAAAABFAAAAAAAAAEkAAAAAAAAATQAAAAAAAABRAAAAAAAAAFUAAAAAAAAAWQAAAAAAAABdAAAAAAAAAGEAAAAAAAAAZQAAAAAAAABpAAAAAAAAAG0AAAAAAAAAcQAAAAAAAAB1AAAAAAAAAHkAAAAAAAAAfQAAAAAAAACBAAAAAAACAIEAAAAAAAAAhQAAAAAAAgCFAAAAAAAAAIkAAAAAAAIAiQAAAAAAAACNAAAAAAACAI0AAAAAAAAAkQAAAAAAAgCRAAAAAAAAAJUAAAAAAAIAlQAAAAAAAACZAAAAAAACAJkAAAAAAAAAnQAAAAAAAgCdAAAAAAAAAKEAAAAAAAIAoQAAAAAAAAClAAAAAAACAKUAAAAAAAAAqQAAAAAAAgCpAAAAAAAAAK0AAAAAAAIArQAAAAAAAACxAAAAAAACALEAAAAAAAAAtQAAAAAAAgC1AAAAAAAAALkAAAAAAAIAuQAAAAAAAAC9AAAAAAACAL0AAAAAAAAAwQAAAAAAAQDBAAAAAAACAMEAAAAAAAMAwQAAAAAAAADFAAAAAAABAMUAAAAAAAIAxQAAAAAAAwDFAAAAAAAAAMkAAAAAAAEAyQAAAAAAAgDJAAAAAAADAMkAAAAAAAAAzQAAAAAAAQDNAAAAAAACAM0AAAAAAAMAzQAAAAAAAADRAAAAAAABANEAAAAAAAIA0QAAAAAAAwDRAAAAAAAAANUAAAAAAAEA1QAAAAAAAgDVAAAAAAADANUAAAAAAAAA2QAAAAAAAQDZAAAAAAACANkAAAAAAAMA2QAAAAAAAADdAAAAAAABAN0AAAAAAAIA3QAAAAAAAwDdAAAAAAAAAOEAAAAAAAEA4QAAAAAAAgDhAAAAAAADAOEAAAAAAAAA5QAAAAAAAQDlAAAAAAACAOUAAAAAAAMA5QAAAAAAAADpAAAAAAABAOkAAAAAAAIA6QAAAAAAAwDpAAAAAAAAAO0AAAAAAAEA7QAAAAAAAgDtAAAAAAADAO0AAAAAAAAA8QAAAAAAAQDxAAAAAAACAPEAAAAAAAMA8QAAAAAAAAD1AAAAAAABAPUAAAAAAAIA9QAAAAAAAwD1AAAAAAAAAPkA=\",\"dtype\":\"float64\",\"order\":\"little\",\"shape\":[121]},\"y\":{\"__ndarray__\":\"AAAAAAAA8D8AAAAAAADwPwAAAAAAAPA/AAAAAAAA8D8AAAAAAADwPwAAAAAAAPA/AAAAAAAA8D8AAAAAAADwPwAAAAAAAPA/AAAAAAAA8D8AAAAAAADwPwAAAAAAAPA/AAAAAAAA8D8AAAAAAADwPwAAAAAAAPA/AAAAAAAA8D8AAAAAAADwP5qZmZmZmek/fBSuR+F65D/9qfHSTWLgPy9DHOviNto/82jjiLX41D+P7bWg98bQP0yvvJry18o/PYww4o55xT+X1iboCy7BP7+919nffLs/mWR54X/9tT8U6i2BmZexP4d2SWjCJaw/oCuhhpuEpj8aVueerwOiP8SJ2Jey0pw/ndRGRvUOlz+xQ9LRXXKSP7XStk/Jg40/K0KSDKGchz9Wmw4KtOOCP/BeFxAgOX4/WrISQLMteD+vjqiZwldzP+V92vXQ8m4/HsuuxEDCaD8YPPI2ms5jPydgUL72sF8/U7Om/l5aWT+pwuv+S0hUP4doiWXWOVA/P6eo1SP2ST9mH7p36cREP1JM+5KHnUA/HXr4t6WVOj9+Li2ThEQ1P5iLikKdAzE/9Hiqnfs4Kz+QLVWxL8clP6dXdycmbCE/2CXyCz3gGz9HHiij/UwWP2xLU08x1xE/ekWFGIKLDD/IajetAdYGP21VLCTORAI/4rsTbeM6/T7oL3aKT2L3PiDzxG4MtfI+NLjUSnru7T5dkxBv+/HnPn4P2lj8J+M+ZLIpjmCm3j63jlQLGoXYPpPYdm+undM+7MBXsrBizz5XmqyOwBvJPuDhVqUzFsQ+5+er6sIRwD4/pqyqBLa5PmbrVlWdkbQ+uCLf3X10sD4n0TGW/FOqPlOn9ET9D6U+qVJdapfZoD4PUZUQv/WaPnPa3aZlkZU+9uEXHx5BkT4kA/NkY5uLPrc1jx3pFYY+X5Fy5CCrgT7MG4RtAUV8PnBJA76anXY+jQdp/q4Xcj58cg6XsfJsPjD1cRKOKGc+85DBDtiGYj7s52jkjKRdPoq5IB3Xtlc+O2FNF6z4Uj5faBXyrFpOPoBTRFuKSEg+NKk2fDttQz66DvH5KxU/PsgL9Me83Tg+OtZcBpfkMz5d8PrWJNQvPrEmL9+Ddik+KFK/5c9eJD6HDpmE2UsgPgzk9KD1Eho+1xz3s/fbFD6ssMVc+a8QPhSBb5Qoswo+d5q/diBcBT7Grv9egBYBPj2xMsszV/s9MfSOolzf9T1bw9hOfX/xPV8FjuQu/+s9s2o+Hb9l5j1cVZhK/+rhPce78xAyq9w9oPzCQFvv1j0=\",\"dtype\":\"float64\",\"order\":\"little\",\"shape\":[121]}},\"selected\":{\"id\":\"18274\"},\"selection_policy\":{\"id\":\"18273\"}},\"id\":\"17652\",\"type\":\"ColumnDataSource\"},{\"attributes\":{},\"id\":\"17642\",\"type\":\"ResetTool\"},{\"attributes\":{\"line_alpha\":0.2,\"line_color\":\"#1f77b4\",\"line_width\":2,\"x\":{\"field\":\"x\"},\"y\":{\"field\":\"y\"}},\"id\":\"17655\",\"type\":\"Line\"},{\"attributes\":{},\"id\":\"17638\",\"type\":\"PanTool\"},{\"attributes\":{},\"id\":\"18271\",\"type\":\"BasicTickFormatter\"},{\"attributes\":{\"coordinates\":null,\"formatter\":{\"id\":\"18268\"},\"group\":null,\"major_label_policy\":{\"id\":\"18269\"},\"ticker\":{\"id\":\"17635\"}},\"id\":\"17634\",\"type\":\"LinearAxis\"},{\"attributes\":{},\"id\":\"17639\",\"type\":\"WheelZoomTool\"},{\"attributes\":{},\"id\":\"18268\",\"type\":\"BasicTickFormatter\"},{\"attributes\":{},\"id\":\"17622\",\"type\":\"DataRange1d\"},{\"attributes\":{\"overlay\":{\"id\":\"17644\"}},\"id\":\"17640\",\"type\":\"BoxZoomTool\"},{\"attributes\":{},\"id\":\"18269\",\"type\":\"AllLabels\"},{\"attributes\":{\"coordinates\":null,\"group\":null},\"id\":\"18265\",\"type\":\"Title\"},{\"attributes\":{},\"id\":\"17635\",\"type\":\"BasicTicker\"},{\"attributes\":{\"line_color\":\"#1f77b4\",\"line_width\":2,\"x\":{\"field\":\"x\"},\"y\":{\"field\":\"y\"}},\"id\":\"17653\",\"type\":\"Line\"},{\"attributes\":{\"line_alpha\":0.1,\"line_color\":\"#1f77b4\",\"line_width\":2,\"x\":{\"field\":\"x\"},\"y\":{\"field\":\"y\"}},\"id\":\"17654\",\"type\":\"Line\"},{\"attributes\":{\"axis\":{\"id\":\"17630\"},\"coordinates\":null,\"group\":null,\"ticker\":null},\"id\":\"17633\",\"type\":\"Grid\"},{\"attributes\":{\"bottom_units\":\"screen\",\"coordinates\":null,\"fill_alpha\":0.5,\"fill_color\":\"lightgrey\",\"group\":null,\"left_units\":\"screen\",\"level\":\"overlay\",\"line_alpha\":1.0,\"line_color\":\"black\",\"line_dash\":[4,4],\"line_width\":2,\"right_units\":\"screen\",\"syncable\":false,\"top_units\":\"screen\"},\"id\":\"17644\",\"type\":\"BoxAnnotation\"},{\"attributes\":{},\"id\":\"17641\",\"type\":\"SaveTool\"}],\"root_ids\":[\"17621\"]},\"title\":\"Bokeh Application\",\"version\":\"2.4.2\"}};\n  const render_items = [{\"docid\":\"cf3816e8-3452-4887-afa3-e27e625639ac\",\"root_ids\":[\"17621\"],\"roots\":{\"17621\":\"ccf53981-c878-4a47-8677-5d27dd80a18e\"}}];\n  root.Bokeh.embed.embed_items_notebook(docs_json, render_items);\n\n  }\n  if (root.Bokeh !== undefined) {\n    embed_document(root);\n  } else {\n    let attempts = 0;\n    const timer = setInterval(function(root) {\n      if (root.Bokeh !== undefined) {\n        clearInterval(timer);\n        embed_document(root);\n      } else {\n        attempts++;\n        if (attempts > 100) {\n          clearInterval(timer);\n          console.log(\"Bokeh: ERROR: Unable to run BokehJS code because BokehJS library is missing\");\n        }\n      }\n    }, 10, root)\n  }\n})(window);",
      "application/vnd.bokehjs_exec.v0+json": ""
     },
     "metadata": {
      "application/vnd.bokehjs_exec.v0+json": {
       "id": "17621"
      }
     },
     "output_type": "display_data"
    }
   ],
   "source": [
    "#Negative control\n",
    "T7_DNA.ic = 0\n",
    "T7_DNA.lc = 0\n",
    "\n",
    "#initial value\n",
    "molecules_0 = [None]*len(molecules_list) #create empty list\n",
    "\n",
    "\n",
    "for i in range(0,len(molecules_list)):\n",
    "    molecules_0[i] = molecules_list[i].ic\n",
    "\n",
    "#stage 1 kick start\n",
    "result_all=[molecules_0] #initial condition\n",
    "\n",
    "\n",
    "#kick start\n",
    "dilution_list = [T7_RNA,T7,GFP,GFP_RNA,Repressor,Repressor_RNA,R]\n",
    "replenish_list = [T7,R]\n",
    "result_all,molecules_0 = run_model(Repressor_model,(0,4),parameters_list,molecules_0,dilution_list,replenish_list,result_all)\n",
    "\n",
    "\n",
    "#self regeneration \n",
    "dilution_list = [T7_RNA,T7,GFP,GFP_RNA,Repressor,Repressor_RNA,R]\n",
    "replenish_list = [R]\n",
    "result_all,molecules_0 = run_model(Repressor_model,(4,16),parameters_list,molecules_0,dilution_list,replenish_list,result_all)\n",
    "\n",
    "\n",
    "\n",
    "#wash out\n",
    "dilution_list = [T7_DNA,T7_RNA,T7,GFP,GFP_RNA,Repressor_DNA,Repressor,Repressor_RNA,R]\n",
    "replenish_list = [R]\n",
    "\n",
    "result_all,molecules_0=run_model(Repressor_model,(16,30),parameters_list,molecules_0,dilution_list,replenish_list,result_all)\n",
    "\n",
    "\n",
    "\n",
    "result_all = np.resize(result_all,(121,10))\n",
    "for i in range(0,len(molecules_list)):\n",
    "        (molecules_list[i]).nc_result = result_all.transpose()[i]\n",
    "\n",
    "#T7_DNA,T7_RNA,T7,GFP_DNA,GFP_RNA,GFP,R = result_all.transpose()\n",
    "plot_result(T7.nc_result)"
   ]
  },
  {
   "cell_type": "code",
   "execution_count": 93,
   "metadata": {},
   "outputs": [],
   "source": [
    "#experiment \n",
    "T7_DNA.ic = 0.001\n",
    "T7_DNA.lc = 0.001\n",
    "#initial value\n",
    "molecules_0 = [None]*len(molecules_list) #create empty list\n",
    "\n",
    "for i in range(0,len(molecules_list)):\n",
    "    molecules_0[i] = molecules_list[i].ic\n",
    "\n",
    "#stage 1 kick start\n",
    "result_all=[molecules_0] #initial condition\n",
    "\n",
    "\n",
    "#DR = 0.2\n",
    "\n",
    "#kick start\n",
    "dilution_list = [T7_RNA,T7,GFP,GFP_RNA,Repressor,Repressor_RNA,R]\n",
    "replenish_list = [T7,R]\n",
    "result_all,molecules_0 = run_model(Repressor_model,(0,4),parameters_list,molecules_0,dilution_list,replenish_list,result_all)\n",
    "\n",
    "\n",
    "#self regeneration \n",
    "dilution_list = [T7_RNA,T7,GFP,GFP_RNA,Repressor,Repressor_RNA,R]\n",
    "replenish_list = [R]\n",
    "result_all,molecules_0 = run_model(Repressor_model,(4,16),parameters_list,molecules_0,dilution_list,replenish_list,result_all)\n",
    "\n",
    "\n",
    "\n",
    "#wash out\n",
    "dilution_list = [T7_DNA,T7_RNA,T7,GFP,GFP_RNA,Repressor_DNA,Repressor,Repressor_RNA,R]\n",
    "replenish_list = [R]\n",
    "\n",
    "result_all,molecules_0=run_model(Repressor_model,(16,30),parameters_list,molecules_0,dilution_list,replenish_list,result_all)\n",
    "\n",
    "\n",
    "\n",
    "result_all = np.resize(result_all,(121,10))\n",
    "for i in range(0,len(molecules_list)):\n",
    "        (molecules_list[i]).result = result_all.transpose()[i]\n",
    "\n",
    "#T7_DNA,T7_RNA,T7,GFP_DNA,GFP_RNA,GFP,R = result_all.transpose()\n",
    "GFP.result1 = GFP.result"
   ]
  },
  {
   "cell_type": "code",
   "execution_count": 94,
   "metadata": {},
   "outputs": [],
   "source": [
    "#experiment \n",
    "T7_DNA.ic = 0.01\n",
    "T7_DNA.lc = 0.01\n",
    "#initial value\n",
    "molecules_0 = [None]*len(molecules_list) #create empty list\n",
    "\n",
    "for i in range(0,len(molecules_list)):\n",
    "    molecules_0[i] = molecules_list[i].ic\n",
    "\n",
    "#stage 1 kick start\n",
    "result_all=[molecules_0] #initial condition\n",
    "\n",
    "\n",
    "#DR = 0.2\n",
    "\n",
    "#kick start\n",
    "dilution_list = [T7_RNA,T7,GFP,GFP_RNA,Repressor,Repressor_RNA,R]\n",
    "replenish_list = [T7,R]\n",
    "result_all,molecules_0 = run_model(Repressor_model,(0,4),parameters_list,molecules_0,dilution_list,replenish_list,result_all)\n",
    "\n",
    "\n",
    "#self regeneration \n",
    "dilution_list = [T7_RNA,T7,GFP,GFP_RNA,Repressor,Repressor_RNA,R]\n",
    "replenish_list = [R]\n",
    "result_all,molecules_0 = run_model(Repressor_model,(4,16),parameters_list,molecules_0,dilution_list,replenish_list,result_all)\n",
    "\n",
    "\n",
    "\n",
    "#wash out\n",
    "dilution_list = [T7_DNA,T7_RNA,T7,GFP,GFP_RNA,Repressor_DNA,Repressor,Repressor_RNA,R]\n",
    "replenish_list = [R]\n",
    "\n",
    "result_all,molecules_0=run_model(Repressor_model,(16,30),parameters_list,molecules_0,dilution_list,replenish_list,result_all)\n",
    "\n",
    "\n",
    "\n",
    "result_all = np.resize(result_all,(121,10))\n",
    "for i in range(0,len(molecules_list)):\n",
    "        (molecules_list[i]).result = result_all.transpose()[i]\n",
    "\n",
    "#T7_DNA,T7_RNA,T7,GFP_DNA,GFP_RNA,GFP,R = result_all.transpose()\n",
    "GFP.result2 = GFP.result"
   ]
  },
  {
   "cell_type": "code",
   "execution_count": null,
   "metadata": {},
   "outputs": [],
   "source": [
    "\n",
    "    "
   ]
  },
  {
   "cell_type": "code",
   "execution_count": 95,
   "metadata": {},
   "outputs": [],
   "source": [
    "#experiment \n",
    "T7_DNA.ic = 1\n",
    "T7_DNA.lc = 1\n",
    "#initial value\n",
    "molecules_0 = [None]*len(molecules_list) #create empty list\n",
    "\n",
    "for i in range(0,len(molecules_list)):\n",
    "    molecules_0[i] = molecules_list[i].ic\n",
    "\n",
    "#stage 1 kick start\n",
    "result_all=[molecules_0] #initial condition\n",
    "\n",
    "\n",
    "#DR = 0.2\n",
    "\n",
    "#kick start\n",
    "dilution_list = [T7_RNA,T7,GFP,GFP_RNA,Repressor,Repressor_RNA,R]\n",
    "replenish_list = [T7,R]\n",
    "result_all,molecules_0 = run_model(Repressor_model,(0,4),parameters_list,molecules_0,dilution_list,replenish_list,result_all)\n",
    "\n",
    "\n",
    "#self regeneration \n",
    "dilution_list = [T7_RNA,T7,GFP,GFP_RNA,Repressor,Repressor_RNA,R]\n",
    "replenish_list = [R]\n",
    "result_all,molecules_0 = run_model(Repressor_model,(4,16),parameters_list,molecules_0,dilution_list,replenish_list,result_all)\n",
    "\n",
    "\n",
    "\n",
    "#wash out\n",
    "dilution_list = [T7_DNA,T7_RNA,T7,GFP,GFP_RNA,Repressor_DNA,Repressor,Repressor_RNA,R]\n",
    "replenish_list = [R]\n",
    "\n",
    "result_all,molecules_0=run_model(Repressor_model,(16,30),parameters_list,molecules_0,dilution_list,replenish_list,result_all)\n",
    "\n",
    "\n",
    "\n",
    "result_all = np.resize(result_all,(121,10))\n",
    "for i in range(0,len(molecules_list)):\n",
    "        (molecules_list[i]).result = result_all.transpose()[i]\n",
    "\n",
    "#T7_DNA,T7_RNA,T7,GFP_DNA,GFP_RNA,GFP,R = result_all.transpose()\n",
    "GFP.result3 = GFP.result"
   ]
  },
  {
   "cell_type": "code",
   "execution_count": 96,
   "metadata": {},
   "outputs": [
    {
     "name": "stderr",
     "output_type": "stream",
     "text": [
      "BokehUserWarning: ColumnDataSource's columns must be of the same length. Current lengths: ('x', 121), ('y', 120)\n",
      "BokehUserWarning: ColumnDataSource's columns must be of the same length. Current lengths: ('x', 121), ('y', 120)\n",
      "BokehUserWarning: ColumnDataSource's columns must be of the same length. Current lengths: ('x', 121), ('y', 120)\n",
      "BokehUserWarning: ColumnDataSource's columns must be of the same length. Current lengths: ('x', 121), ('y', 120)\n",
      "BokehUserWarning: ColumnDataSource's columns must be of the same length. Current lengths: ('x', 121), ('y', 120)\n"
     ]
    },
    {
     "data": {
      "text/html": [
       "\n",
       "\n",
       "\n",
       "\n",
       "\n",
       "\n",
       "  <div class=\"bk-root\" id=\"81abd1fa-c0ea-4c11-9047-40d39dcfa8e4\" data-root-id=\"18331\"></div>\n"
      ]
     },
     "metadata": {},
     "output_type": "display_data"
    },
    {
     "data": {
      "application/javascript": "(function(root) {\n  function embed_document(root) {\n    \n  const docs_json = {\"8494d0ed-123e-48a4-930c-6a47dc43bd7a\":{\"defs\":[{\"extends\":null,\"module\":null,\"name\":\"ReactiveHTML1\",\"overrides\":[],\"properties\":[]},{\"extends\":null,\"module\":null,\"name\":\"FlexBox1\",\"overrides\":[],\"properties\":[{\"default\":\"flex-start\",\"kind\":null,\"name\":\"align_content\"},{\"default\":\"flex-start\",\"kind\":null,\"name\":\"align_items\"},{\"default\":\"row\",\"kind\":null,\"name\":\"flex_direction\"},{\"default\":\"wrap\",\"kind\":null,\"name\":\"flex_wrap\"},{\"default\":\"flex-start\",\"kind\":null,\"name\":\"justify_content\"}]},{\"extends\":null,\"module\":null,\"name\":\"GridStack1\",\"overrides\":[],\"properties\":[{\"default\":\"warn\",\"kind\":null,\"name\":\"mode\"},{\"default\":null,\"kind\":null,\"name\":\"ncols\"},{\"default\":null,\"kind\":null,\"name\":\"nrows\"},{\"default\":true,\"kind\":null,\"name\":\"allow_resize\"},{\"default\":true,\"kind\":null,\"name\":\"allow_drag\"},{\"default\":[],\"kind\":null,\"name\":\"state\"}]},{\"extends\":null,\"module\":null,\"name\":\"click1\",\"overrides\":[],\"properties\":[{\"default\":\"\",\"kind\":null,\"name\":\"terminal_output\"},{\"default\":\"\",\"kind\":null,\"name\":\"debug_name\"},{\"default\":0,\"kind\":null,\"name\":\"clears\"}]},{\"extends\":null,\"module\":null,\"name\":\"TemplateActions1\",\"overrides\":[],\"properties\":[{\"default\":0,\"kind\":null,\"name\":\"open_modal\"},{\"default\":0,\"kind\":null,\"name\":\"close_modal\"}]},{\"extends\":null,\"module\":null,\"name\":\"MaterialTemplateActions1\",\"overrides\":[],\"properties\":[{\"default\":0,\"kind\":null,\"name\":\"open_modal\"},{\"default\":0,\"kind\":null,\"name\":\"close_modal\"}]}],\"roots\":{\"references\":[{\"attributes\":{\"below\":[{\"id\":\"18340\"}],\"center\":[{\"id\":\"18343\"},{\"id\":\"18347\"},{\"id\":\"18392\"},{\"id\":\"18393\"}],\"height\":500,\"left\":[{\"id\":\"18344\"}],\"renderers\":[{\"id\":\"18366\"},{\"id\":\"18372\"},{\"id\":\"18378\"},{\"id\":\"18384\"},{\"id\":\"18390\"}],\"title\":{\"id\":\"19010\"},\"toolbar\":{\"id\":\"18355\"},\"width\":2000,\"x_range\":{\"id\":\"18332\"},\"x_scale\":{\"id\":\"18336\"},\"y_range\":{\"id\":\"18334\"},\"y_scale\":{\"id\":\"18338\"}},\"id\":\"18331\",\"subtype\":\"Figure\",\"type\":\"Plot\"},{\"attributes\":{},\"id\":\"18341\",\"type\":\"BasicTicker\"},{\"attributes\":{},\"id\":\"19018\",\"type\":\"UnionRenderers\"},{\"attributes\":{\"tools\":[{\"id\":\"18348\"},{\"id\":\"18349\"},{\"id\":\"18350\"},{\"id\":\"18351\"},{\"id\":\"18352\"},{\"id\":\"18353\"}]},\"id\":\"18355\",\"type\":\"Toolbar\"},{\"attributes\":{},\"id\":\"19019\",\"type\":\"Selection\"},{\"attributes\":{\"line_alpha\":0.2,\"line_color\":\"#2ca02c\",\"line_width\":4,\"x\":{\"field\":\"x\"},\"y\":{\"field\":\"y\"}},\"id\":\"18365\",\"type\":\"Line\"},{\"attributes\":{\"line_alpha\":0.6,\"line_color\":\"#1f77b4\",\"line_width\":4,\"x\":{\"field\":\"x\"},\"y\":{\"field\":\"y\"}},\"id\":\"18381\",\"type\":\"Line\"},{\"attributes\":{\"data\":{\"x\":{\"__ndarray__\":\"AAAAAAAAAAAAAAAAAADQPwAAAAAAAOA/AAAAAAAA6D8AAAAAAADwPwAAAAAAAPQ/AAAAAAAA+D8AAAAAAAD8PwAAAAAAAABAAAAAAAAAAkAAAAAAAAAEQAAAAAAAAAZAAAAAAAAACEAAAAAAAAAKQAAAAAAAAAxAAAAAAAAADkAAAAAAAAAQQAAAAAAAABFAAAAAAAAAEkAAAAAAAAATQAAAAAAAABRAAAAAAAAAFUAAAAAAAAAWQAAAAAAAABdAAAAAAAAAGEAAAAAAAAAZQAAAAAAAABpAAAAAAAAAG0AAAAAAAAAcQAAAAAAAAB1AAAAAAAAAHkAAAAAAAAAfQAAAAAAAACBAAAAAAACAIEAAAAAAAAAhQAAAAAAAgCFAAAAAAAAAIkAAAAAAAIAiQAAAAAAAACNAAAAAAACAI0AAAAAAAAAkQAAAAAAAgCRAAAAAAAAAJUAAAAAAAIAlQAAAAAAAACZAAAAAAACAJkAAAAAAAAAnQAAAAAAAgCdAAAAAAAAAKEAAAAAAAIAoQAAAAAAAAClAAAAAAACAKUAAAAAAAAAqQAAAAAAAgCpAAAAAAAAAK0AAAAAAAIArQAAAAAAAACxAAAAAAACALEAAAAAAAAAtQAAAAAAAgC1AAAAAAAAALkAAAAAAAIAuQAAAAAAAAC9AAAAAAACAL0AAAAAAAAAwQAAAAAAAQDBAAAAAAACAMEAAAAAAAMAwQAAAAAAAADFAAAAAAABAMUAAAAAAAIAxQAAAAAAAwDFAAAAAAAAAMkAAAAAAAEAyQAAAAAAAgDJAAAAAAADAMkAAAAAAAAAzQAAAAAAAQDNAAAAAAACAM0AAAAAAAMAzQAAAAAAAADRAAAAAAABANEAAAAAAAIA0QAAAAAAAwDRAAAAAAAAANUAAAAAAAEA1QAAAAAAAgDVAAAAAAADANUAAAAAAAAA2QAAAAAAAQDZAAAAAAACANkAAAAAAAMA2QAAAAAAAADdAAAAAAABAN0AAAAAAAIA3QAAAAAAAwDdAAAAAAAAAOEAAAAAAAEA4QAAAAAAAgDhAAAAAAADAOEAAAAAAAAA5QAAAAAAAQDlAAAAAAACAOUAAAAAAAMA5QAAAAAAAADpAAAAAAABAOkAAAAAAAIA6QAAAAAAAwDpAAAAAAAAAO0AAAAAAAEA7QAAAAAAAgDtAAAAAAADAO0AAAAAAAAA8QAAAAAAAQDxAAAAAAACAPEAAAAAAAMA8QAAAAAAAAD1AAAAAAABAPUAAAAAAAIA9QAAAAAAAwD1AAAAAAAAAPkA=\",\"dtype\":\"float64\",\"order\":\"little\",\"shape\":[121]},\"y\":{\"__ndarray__\":\"AAAAAAAAAABTHDbZdjshQHqrrz0NBj1Atwg3wUdQRkCudMWr7yBHQBo/xYogtUdAsh5k0skdSEDOiP+mZWdIQLtdB9UBm0hAhOdCzxy/SEA4M8m2VNhIQJEK19js6UhANREKxTD2SEB3bpJyvP5IQLfu6RGwBElA+/tl6tQISUC9foJntwtJQBgMNN3abklA+DP4gG4PSkDSRjJ2GtVKQL1tdDvVrktARCbQTMGQTED0wgeDsHJNQGCtjqTSTk5AvUTBvu4bT0Dk0PQnqa1PQEfdGN6GyE9A6lFNh1BeT0APUE9AC3lOQFfyhnQaLU1ANN+79JeSS0Bffb75kMFJQE+iw+bpz0dATpFx3FfQRUDs4X0ZDdJDQNk2LaDQ4EFA9YY2OlAFQEDluGoqGos8QJx6GfCeSjlAxF5ILixNNkB8ogb+9ZMzQJ4lDLMWHjFAtUtMk0XSLUCijraeROMpQPn9L1rkZiZAqPUXnCBUI0BVSEuJq6EgQNcyl8qHjBxA7Xhv4+VxGED4deN2beIUQJeOejQ6zhFABcccJktNDkBnz4GeprwJQEMOTalh0gVAlECoxdZ4AkDIU6+qfzn/P+XQ8M4bWvo/MkWoLXk19j96fbs0R7HyP8r8R7ghbe8/2LF/psVi6j/Wt8em7CDmP1/pxGnDieI/1dW2hz0H3z98ujWM7fDZP4XBnvDdqtU/SlqThdYU0j9Cl4pdwybOP1MK8ApJHsk/zBki6pboxD9ZsCXbEmTBP790eDSf6Lw/LWxbz5QCuD9PA/ZAhu2zP+J7E0dXh7A/cEgZja5mqz9vMN8l2bKmP93nBF69yqI/x5eUdu0Ynz8kCOFVS7eZP1cqlWwfQZU/4zBotsOOkT/Kh0xnQP6MPxdemsA37Yc/IqFGQXC8gz9li2WGoEWAP5BZRHje0Xo/FxQDWcYXdj/wu7s6/jByP2CEQZ0K8m0/Os8b0iijaD+0Nm3dJENkPw0BeKVpqGA/4H/qRBRhWz9U1XeuFH5WP+cpvW+4eFI/Z69wAiBUTj9ak4Jl4+NIP2A2tBufa0Q/qiAEiX+/QD/NBdD9vHY7P3TeoPrcgjY/vS8unEByMj8nTUKJ5DguPxRVIupDwCg/gFmnA8pDJD8KX1CFWpYgP019awO5JRs/NHmj+6E1Fj9AH7QrUSoSP+37hVA1tQ0/p8cYxV5JCD/3Sa8AndkDP7385kNjOAA/DQI8PKeA+j7HhxIkkqX1Pue/6+ZHrfE+lOsgdDPd7D5nN4WJko/nPgd3+D5lOuM+\",\"dtype\":\"float64\",\"order\":\"little\",\"shape\":[120]}},\"selected\":{\"id\":\"19021\"},\"selection_policy\":{\"id\":\"19020\"}},\"id\":\"18368\",\"type\":\"ColumnDataSource\"},{\"attributes\":{},\"id\":\"19024\",\"type\":\"UnionRenderers\"},{\"attributes\":{\"data\":{\"x\":{\"__ndarray__\":\"AAAAAAAAAAAAAAAAAADQPwAAAAAAAOA/AAAAAAAA6D8AAAAAAADwPwAAAAAAAPQ/AAAAAAAA+D8AAAAAAAD8PwAAAAAAAABAAAAAAAAAAkAAAAAAAAAEQAAAAAAAAAZAAAAAAAAACEAAAAAAAAAKQAAAAAAAAAxAAAAAAAAADkAAAAAAAAAQQAAAAAAAABFAAAAAAAAAEkAAAAAAAAATQAAAAAAAABRAAAAAAAAAFUAAAAAAAAAWQAAAAAAAABdAAAAAAAAAGEAAAAAAAAAZQAAAAAAAABpAAAAAAAAAG0AAAAAAAAAcQAAAAAAAAB1AAAAAAAAAHkAAAAAAAAAfQAAAAAAAACBAAAAAAACAIEAAAAAAAAAhQAAAAAAAgCFAAAAAAAAAIkAAAAAAAIAiQAAAAAAAACNAAAAAAACAI0AAAAAAAAAkQAAAAAAAgCRAAAAAAAAAJUAAAAAAAIAlQAAAAAAAACZAAAAAAACAJkAAAAAAAAAnQAAAAAAAgCdAAAAAAAAAKEAAAAAAAIAoQAAAAAAAAClAAAAAAACAKUAAAAAAAAAqQAAAAAAAgCpAAAAAAAAAK0AAAAAAAIArQAAAAAAAACxAAAAAAACALEAAAAAAAAAtQAAAAAAAgC1AAAAAAAAALkAAAAAAAIAuQAAAAAAAAC9AAAAAAACAL0AAAAAAAAAwQAAAAAAAQDBAAAAAAACAMEAAAAAAAMAwQAAAAAAAADFAAAAAAABAMUAAAAAAAIAxQAAAAAAAwDFAAAAAAAAAMkAAAAAAAEAyQAAAAAAAgDJAAAAAAADAMkAAAAAAAAAzQAAAAAAAQDNAAAAAAACAM0AAAAAAAMAzQAAAAAAAADRAAAAAAABANEAAAAAAAIA0QAAAAAAAwDRAAAAAAAAANUAAAAAAAEA1QAAAAAAAgDVAAAAAAADANUAAAAAAAAA2QAAAAAAAQDZAAAAAAACANkAAAAAAAMA2QAAAAAAAADdAAAAAAABAN0AAAAAAAIA3QAAAAAAAwDdAAAAAAAAAOEAAAAAAAEA4QAAAAAAAgDhAAAAAAADAOEAAAAAAAAA5QAAAAAAAQDlAAAAAAACAOUAAAAAAAMA5QAAAAAAAADpAAAAAAABAOkAAAAAAAIA6QAAAAAAAwDpAAAAAAAAAO0AAAAAAAEA7QAAAAAAAgDtAAAAAAADAO0AAAAAAAAA8QAAAAAAAQDxAAAAAAACAPEAAAAAAAMA8QAAAAAAAAD1AAAAAAABAPUAAAAAAAIA9QAAAAAAAwD1AAAAAAAAAPkA=\",\"dtype\":\"float64\",\"order\":\"little\",\"shape\":[121]},\"y\":{\"__ndarray__\":\"AAAAAAAAAABTHDbZdjshQHqrrz0NBj1Atwg3wUdQRkCudMWr7yBHQBo/xYogtUdAsh5k0skdSEDOiP+mZWdIQLtdB9UBm0hAhOdCzxy/SEA4M8m2VNhIQJEK19js6UhANREKxTD2SEB3bpJyvP5IQLfu6RGwBElA+/tl6tQISUC9foJntwtJQKQD4Gu5DUlAM8IAKh8PSUCm1K4gGBBJQPHZgWHFEElAKQaS8T0RSUDky6jWkRFJQJSBfjfMEUlAcLu/1vQRSUCaB/EaERJJQBpvIcYkEklAlCbGdTISSUDIrrb7OxJJQCoLGpxCEklAiud+OEcSSUD8kNhtShJJQDMMXalMEklAKV4KN04SSUBRMMFLTxJJQO6xTAxQEklAzwJHklASSUD4q4DvUBJJQMEEXzBREklASCWCXVESSUCwgOp8URJJQAoxxZJREklA9B76oVESSUAP7I6sURJJQLvG67NREklAhk4LuVESSUBZ55u8URJJQJDpFr9REklAkcTQwFESSUDzOATCURJJQFAo2sJREklA2QRvw1ESSUDOmdbDURJJQP6sHsRREklA1tNQxFESSUBxuXPEURJJQLIBjMRREklAH+ecxFESSUDoqKjEURJJQDjXsMRREklAfoi2xFESSUCHfrrEURJJQCJAvcRREklAHCu/xFESSUDFgMDEURJJQINuwcRREklA7xPCxFESSUALh8LEURJJQCzXwsRREklA8w7DxFESSUDANcPEURJJQMBQw8RREklAiGPDxFESSUCfcMPEURJJQLx5w8RREklAEYDDxFESSUB7hMPEURJJQJCHw8RREklAt4nDxFESSUA6i8PEURJJQECMw8RREklAAo3DxFESSUCIjcPEURJJQOeNw8RREklAK47DxFESSUBZjsPEURJJQIKOw8RREklAm47DxFESSUCsjsPEURJJQLWOw8RREklAw47DxFESSUDIjsPEURJJQNSOw8RREklA2I7DxFESSUDZjsPEURJJQOSOw8RREklA6I7DxFESSUDxjsPEURJJQPiOw8RREklA9o7DxFESSUD2jsPEURJJQPqOw8RREklAAI/DxFESSUAIj8PEURJJQAuPw8RREklACY/DxFESSUAIj8PEURJJQBOPw8RREklAEY/DxFESSUASj8PEURJJQBWPw8RREklAGI/DxFESSUAUj8PEURJJQBiPw8RREklAHI/DxFESSUAWj8PEURJJQByPw8RREklAH4/DxFESSUAcj8PEURJJQByPw8RREklA\",\"dtype\":\"float64\",\"order\":\"little\",\"shape\":[120]}},\"selected\":{\"id\":\"19019\"},\"selection_policy\":{\"id\":\"19018\"}},\"id\":\"18362\",\"type\":\"ColumnDataSource\"},{\"attributes\":{\"coordinates\":null,\"data_source\":{\"id\":\"18362\"},\"glyph\":{\"id\":\"18363\"},\"group\":null,\"hover_glyph\":null,\"muted_glyph\":{\"id\":\"18365\"},\"nonselection_glyph\":{\"id\":\"18364\"},\"view\":{\"id\":\"18367\"}},\"id\":\"18366\",\"type\":\"GlyphRenderer\"},{\"attributes\":{\"bottom_units\":\"screen\",\"coordinates\":null,\"fill_alpha\":0.5,\"fill_color\":\"lightgrey\",\"group\":null,\"left_units\":\"screen\",\"level\":\"overlay\",\"line_alpha\":1.0,\"line_color\":\"black\",\"line_dash\":[4,4],\"line_width\":2,\"right_units\":\"screen\",\"syncable\":false,\"top_units\":\"screen\"},\"id\":\"18354\",\"type\":\"BoxAnnotation\"},{\"attributes\":{},\"id\":\"18352\",\"type\":\"ResetTool\"},{\"attributes\":{},\"id\":\"19025\",\"type\":\"Selection\"},{\"attributes\":{},\"id\":\"18351\",\"type\":\"SaveTool\"},{\"attributes\":{},\"id\":\"19021\",\"type\":\"Selection\"},{\"attributes\":{\"data\":{\"x\":{\"__ndarray__\":\"AAAAAAAAAAAAAAAAAADQPwAAAAAAAOA/AAAAAAAA6D8AAAAAAADwPwAAAAAAAPQ/AAAAAAAA+D8AAAAAAAD8PwAAAAAAAABAAAAAAAAAAkAAAAAAAAAEQAAAAAAAAAZAAAAAAAAACEAAAAAAAAAKQAAAAAAAAAxAAAAAAAAADkAAAAAAAAAQQAAAAAAAABFAAAAAAAAAEkAAAAAAAAATQAAAAAAAABRAAAAAAAAAFUAAAAAAAAAWQAAAAAAAABdAAAAAAAAAGEAAAAAAAAAZQAAAAAAAABpAAAAAAAAAG0AAAAAAAAAcQAAAAAAAAB1AAAAAAAAAHkAAAAAAAAAfQAAAAAAAACBAAAAAAACAIEAAAAAAAAAhQAAAAAAAgCFAAAAAAAAAIkAAAAAAAIAiQAAAAAAAACNAAAAAAACAI0AAAAAAAAAkQAAAAAAAgCRAAAAAAAAAJUAAAAAAAIAlQAAAAAAAACZAAAAAAACAJkAAAAAAAAAnQAAAAAAAgCdAAAAAAAAAKEAAAAAAAIAoQAAAAAAAAClAAAAAAACAKUAAAAAAAAAqQAAAAAAAgCpAAAAAAAAAK0AAAAAAAIArQAAAAAAAACxAAAAAAACALEAAAAAAAAAtQAAAAAAAgC1AAAAAAAAALkAAAAAAAIAuQAAAAAAAAC9AAAAAAACAL0AAAAAAAAAwQAAAAAAAQDBAAAAAAACAMEAAAAAAAMAwQAAAAAAAADFAAAAAAABAMUAAAAAAAIAxQAAAAAAAwDFAAAAAAAAAMkAAAAAAAEAyQAAAAAAAgDJAAAAAAADAMkAAAAAAAAAzQAAAAAAAQDNAAAAAAACAM0AAAAAAAMAzQAAAAAAAADRAAAAAAABANEAAAAAAAIA0QAAAAAAAwDRAAAAAAAAANUAAAAAAAEA1QAAAAAAAgDVAAAAAAADANUAAAAAAAAA2QAAAAAAAQDZAAAAAAACANkAAAAAAAMA2QAAAAAAAADdAAAAAAABAN0AAAAAAAIA3QAAAAAAAwDdAAAAAAAAAOEAAAAAAAEA4QAAAAAAAgDhAAAAAAADAOEAAAAAAAAA5QAAAAAAAQDlAAAAAAACAOUAAAAAAAMA5QAAAAAAAADpAAAAAAABAOkAAAAAAAIA6QAAAAAAAwDpAAAAAAAAAO0AAAAAAAEA7QAAAAAAAgDtAAAAAAADAO0AAAAAAAAA8QAAAAAAAQDxAAAAAAACAPEAAAAAAAMA8QAAAAAAAAD1AAAAAAABAPUAAAAAAAIA9QAAAAAAAwD1AAAAAAAAAPkA=\",\"dtype\":\"float64\",\"order\":\"little\",\"shape\":[121]},\"y\":{\"__ndarray__\":\"AAAAAAAAAACI7mnLx1cnQNGhQC0grydAiUKXjuTnJ0B97dzy3wwoQDyFihsBJShAiBG1fMM0KEBQZSUVED8oQPEi0ubLRShAkF8BQDNKKEB3BtilFE0oQAeLBwn3TihAvOEMoDJQKEDbRi4aAVEoQM65ITKIUShA9AYoluBRKED4TbZrGlIoQAhyizHsaChA1FehS2OKKEARlb/vPK8oQAdOK6NU0yhAEVbqa4P0KECSXGt52hEpQGIcdXohKylAEbcVLoRAKUCR8M2dX1IpQPe88u4jYSlAffnTQUNtKUArPgakKHcpQNgF5N4zfylAZ4RXGbiFKUA4aHAJ/IopQM8HJfE6jylAxcvj8aWSKUAS9J90ZZUpQGEwq4KalylAk6kQ/l+ZKUBah96yy5opQGzqyEDvmylA7C2x39icKUB6xggDlJ0pQHKMeeApnilAV/Qm3qGeKUDgzoDsAZ8pQHyJKM9OnylADSPsV4yfKUB0I2KWvZ8pQCChRf7knylAiNtShgSgKUB0QBTBHaApQM/ny/AxoClAIEFtF0KgKUCCTWwDT6ApQELLAVpZoClAD9Bkn2GgKUCEOmE9aKApQBAbnohtoClAANbWxHGgKUDyjjwodaApQCfTKt53oClAQvFRCXqgKUBllXLFe6ApQDfCwCh9oClAqNn/RH6gKUB64GUof6ApQMK1hZ/S6ilA/OAWn091KkAfb/2DgzsrQM8U63LoOixA2M5y/TJxLUAFhlo5wdsuQCvb9Y/GOzBAAo2QNKcgMUAziuVK0hoyQDZ9IqScKDNAGnXhOWtINECEw7F/uHg1QDjbWjAVuDZAUrx9CSYFOEClRyLEn145QNSarlZCwzpAJ66sRtQxPEAoDMyRHqk9QDdrPIHpJz9Ay9SQSH1WQEAdFiC7iRtBQONuVhp54kFAnXjiFKmqQkAwVWvwdnNDQGwz2cFAPERA3gcC22YERUBYMZFVTctFQFCkpaRdkEZAegA2GQhTR0ARHYBIxRJIQB5kW0cXz0hA4HTysIqHSUCgqvdytztKQFhis1xB60pAUjoRcdiVS0Dcq2b8ODtMQPeXf1or20xAklNdb4J1TUBPvgm+DwpOQGUHLulImE5AAmt/ThQdT0CsNyBr0YpPQLWnj2GPxk9ASqsfUGu7T0CsuUBuPWFPQDrM/SDQuE5Af8VYVqDITUCy+6vfn5pMQGRgxh+NOktAqIuEkrS0SUB4gp3ICxVIQG/zg9+YZkZAXpv1BRizREBXhf1X0AJDQForNdWKXEFA\",\"dtype\":\"float64\",\"order\":\"little\",\"shape\":[120]}},\"selected\":{\"id\":\"19023\"},\"selection_policy\":{\"id\":\"19022\"}},\"id\":\"18374\",\"type\":\"ColumnDataSource\"},{\"attributes\":{\"coordinates\":null,\"dimension\":\"height\",\"group\":null,\"line_dash\":[6],\"location\":4},\"id\":\"18392\",\"type\":\"Span\"},{\"attributes\":{\"overlay\":{\"id\":\"18354\"}},\"id\":\"18350\",\"type\":\"BoxZoomTool\"},{\"attributes\":{},\"id\":\"18338\",\"type\":\"LinearScale\"},{\"attributes\":{},\"id\":\"19013\",\"type\":\"BasicTickFormatter\"},{\"attributes\":{},\"id\":\"19026\",\"type\":\"UnionRenderers\"},{\"attributes\":{},\"id\":\"19020\",\"type\":\"UnionRenderers\"},{\"attributes\":{\"line_alpha\":0.1,\"line_color\":\"#1f77b4\",\"line_width\":4,\"x\":{\"field\":\"x\"},\"y\":{\"field\":\"y\"}},\"id\":\"18382\",\"type\":\"Line\"},{\"attributes\":{\"end\":80},\"id\":\"18334\",\"type\":\"Range1d\"},{\"attributes\":{\"line_alpha\":0.3,\"line_color\":\"#1f77b4\",\"line_width\":4,\"x\":{\"field\":\"x\"},\"y\":{\"field\":\"y\"}},\"id\":\"18387\",\"type\":\"Line\"},{\"attributes\":{},\"id\":\"19014\",\"type\":\"AllLabels\"},{\"attributes\":{},\"id\":\"18332\",\"type\":\"DataRange1d\"},{\"attributes\":{\"line_alpha\":0.2,\"line_color\":\"#1f77b4\",\"line_width\":4,\"x\":{\"field\":\"x\"},\"y\":{\"field\":\"y\"}},\"id\":\"18377\",\"type\":\"Line\"},{\"attributes\":{\"line_alpha\":0.2,\"line_color\":\"#ff7f0e\",\"line_width\":4,\"x\":{\"field\":\"x\"},\"y\":{\"field\":\"y\"}},\"id\":\"18371\",\"type\":\"Line\"},{\"attributes\":{\"axis\":{\"id\":\"18340\"},\"coordinates\":null,\"group\":null,\"ticker\":null},\"id\":\"18343\",\"type\":\"Grid\"},{\"attributes\":{\"coordinates\":null,\"data_source\":{\"id\":\"18374\"},\"glyph\":{\"id\":\"18375\"},\"group\":null,\"hover_glyph\":null,\"muted_glyph\":{\"id\":\"18377\"},\"nonselection_glyph\":{\"id\":\"18376\"},\"view\":{\"id\":\"18379\"}},\"id\":\"18378\",\"type\":\"GlyphRenderer\"},{\"attributes\":{},\"id\":\"18349\",\"type\":\"WheelZoomTool\"},{\"attributes\":{\"source\":{\"id\":\"18362\"}},\"id\":\"18367\",\"type\":\"CDSView\"},{\"attributes\":{},\"id\":\"18348\",\"type\":\"PanTool\"},{\"attributes\":{},\"id\":\"19016\",\"type\":\"BasicTickFormatter\"},{\"attributes\":{\"line_color\":\"#2ca02c\",\"line_width\":4,\"x\":{\"field\":\"x\"},\"y\":{\"field\":\"y\"}},\"id\":\"18363\",\"type\":\"Line\"},{\"attributes\":{\"line_color\":\"#ff7f0e\",\"line_width\":4,\"x\":{\"field\":\"x\"},\"y\":{\"field\":\"y\"}},\"id\":\"18369\",\"type\":\"Line\"},{\"attributes\":{\"line_color\":\"#1f77b4\",\"line_width\":4,\"x\":{\"field\":\"x\"},\"y\":{\"field\":\"y\"}},\"id\":\"18375\",\"type\":\"Line\"},{\"attributes\":{\"coordinates\":null,\"group\":null},\"id\":\"19010\",\"type\":\"Title\"},{\"attributes\":{},\"id\":\"18353\",\"type\":\"HelpTool\"},{\"attributes\":{},\"id\":\"19017\",\"type\":\"AllLabels\"},{\"attributes\":{\"coordinates\":null,\"data_source\":{\"id\":\"18380\"},\"glyph\":{\"id\":\"18381\"},\"group\":null,\"hover_glyph\":null,\"muted_glyph\":{\"id\":\"18383\"},\"nonselection_glyph\":{\"id\":\"18382\"},\"view\":{\"id\":\"18385\"}},\"id\":\"18384\",\"type\":\"GlyphRenderer\"},{\"attributes\":{\"axis\":{\"id\":\"18344\"},\"coordinates\":null,\"dimension\":1,\"group\":null,\"ticker\":null},\"id\":\"18347\",\"type\":\"Grid\"},{\"attributes\":{\"line_alpha\":0.1,\"line_color\":\"#2ca02c\",\"line_width\":4,\"x\":{\"field\":\"x\"},\"y\":{\"field\":\"y\"}},\"id\":\"18364\",\"type\":\"Line\"},{\"attributes\":{\"line_alpha\":0.1,\"line_color\":\"#1f77b4\",\"line_width\":4,\"x\":{\"field\":\"x\"},\"y\":{\"field\":\"y\"}},\"id\":\"18376\",\"type\":\"Line\"},{\"attributes\":{\"coordinates\":null,\"dimension\":\"height\",\"group\":null,\"line_dash\":[6],\"location\":16},\"id\":\"18393\",\"type\":\"Span\"},{\"attributes\":{\"source\":{\"id\":\"18380\"}},\"id\":\"18385\",\"type\":\"CDSView\"},{\"attributes\":{\"coordinates\":null,\"data_source\":{\"id\":\"18368\"},\"glyph\":{\"id\":\"18369\"},\"group\":null,\"hover_glyph\":null,\"muted_glyph\":{\"id\":\"18371\"},\"nonselection_glyph\":{\"id\":\"18370\"},\"view\":{\"id\":\"18373\"}},\"id\":\"18372\",\"type\":\"GlyphRenderer\"},{\"attributes\":{\"line_alpha\":0.2,\"line_color\":\"#1f77b4\",\"line_width\":4,\"x\":{\"field\":\"x\"},\"y\":{\"field\":\"y\"}},\"id\":\"18389\",\"type\":\"Line\"},{\"attributes\":{\"axis_label\":\"GFP\",\"coordinates\":null,\"formatter\":{\"id\":\"19013\"},\"group\":null,\"major_label_policy\":{\"id\":\"19014\"},\"ticker\":{\"id\":\"18345\"}},\"id\":\"18344\",\"type\":\"LinearAxis\"},{\"attributes\":{\"source\":{\"id\":\"18374\"}},\"id\":\"18379\",\"type\":\"CDSView\"},{\"attributes\":{},\"id\":\"19027\",\"type\":\"Selection\"},{\"attributes\":{\"axis_label\":\"time(h)\",\"coordinates\":null,\"formatter\":{\"id\":\"19016\"},\"group\":null,\"major_label_policy\":{\"id\":\"19017\"},\"ticker\":{\"id\":\"18341\"}},\"id\":\"18340\",\"type\":\"LinearAxis\"},{\"attributes\":{\"line_alpha\":0.1,\"line_color\":\"#ff7f0e\",\"line_width\":4,\"x\":{\"field\":\"x\"},\"y\":{\"field\":\"y\"}},\"id\":\"18370\",\"type\":\"Line\"},{\"attributes\":{\"source\":{\"id\":\"18386\"}},\"id\":\"18391\",\"type\":\"CDSView\"},{\"attributes\":{},\"id\":\"19022\",\"type\":\"UnionRenderers\"},{\"attributes\":{},\"id\":\"18336\",\"type\":\"LinearScale\"},{\"attributes\":{\"source\":{\"id\":\"18368\"}},\"id\":\"18373\",\"type\":\"CDSView\"},{\"attributes\":{\"line_alpha\":0.1,\"line_color\":\"#1f77b4\",\"line_width\":4,\"x\":{\"field\":\"x\"},\"y\":{\"field\":\"y\"}},\"id\":\"18388\",\"type\":\"Line\"},{\"attributes\":{},\"id\":\"18345\",\"type\":\"BasicTicker\"},{\"attributes\":{},\"id\":\"19023\",\"type\":\"Selection\"},{\"attributes\":{\"data\":{\"x\":{\"__ndarray__\":\"AAAAAAAAAAAAAAAAAADQPwAAAAAAAOA/AAAAAAAA6D8AAAAAAADwPwAAAAAAAPQ/AAAAAAAA+D8AAAAAAAD8PwAAAAAAAABAAAAAAAAAAkAAAAAAAAAEQAAAAAAAAAZAAAAAAAAACEAAAAAAAAAKQAAAAAAAAAxAAAAAAAAADkAAAAAAAAAQQAAAAAAAABFAAAAAAAAAEkAAAAAAAAATQAAAAAAAABRAAAAAAAAAFUAAAAAAAAAWQAAAAAAAABdAAAAAAAAAGEAAAAAAAAAZQAAAAAAAABpAAAAAAAAAG0AAAAAAAAAcQAAAAAAAAB1AAAAAAAAAHkAAAAAAAAAfQAAAAAAAACBAAAAAAACAIEAAAAAAAAAhQAAAAAAAgCFAAAAAAAAAIkAAAAAAAIAiQAAAAAAAACNAAAAAAACAI0AAAAAAAAAkQAAAAAAAgCRAAAAAAAAAJUAAAAAAAIAlQAAAAAAAACZAAAAAAACAJkAAAAAAAAAnQAAAAAAAgCdAAAAAAAAAKEAAAAAAAIAoQAAAAAAAAClAAAAAAACAKUAAAAAAAAAqQAAAAAAAgCpAAAAAAAAAK0AAAAAAAIArQAAAAAAAACxAAAAAAACALEAAAAAAAAAtQAAAAAAAgC1AAAAAAAAALkAAAAAAAIAuQAAAAAAAAC9AAAAAAACAL0AAAAAAAAAwQAAAAAAAQDBAAAAAAACAMEAAAAAAAMAwQAAAAAAAADFAAAAAAABAMUAAAAAAAIAxQAAAAAAAwDFAAAAAAAAAMkAAAAAAAEAyQAAAAAAAgDJAAAAAAADAMkAAAAAAAAAzQAAAAAAAQDNAAAAAAACAM0AAAAAAAMAzQAAAAAAAADRAAAAAAABANEAAAAAAAIA0QAAAAAAAwDRAAAAAAAAANUAAAAAAAEA1QAAAAAAAgDVAAAAAAADANUAAAAAAAAA2QAAAAAAAQDZAAAAAAACANkAAAAAAAMA2QAAAAAAAADdAAAAAAABAN0AAAAAAAIA3QAAAAAAAwDdAAAAAAAAAOEAAAAAAAEA4QAAAAAAAgDhAAAAAAADAOEAAAAAAAAA5QAAAAAAAQDlAAAAAAACAOUAAAAAAAMA5QAAAAAAAADpAAAAAAABAOkAAAAAAAIA6QAAAAAAAwDpAAAAAAAAAO0AAAAAAAEA7QAAAAAAAgDtAAAAAAADAO0AAAAAAAAA8QAAAAAAAQDxAAAAAAACAPEAAAAAAAMA8QAAAAAAAAD1AAAAAAABAPUAAAAAAAIA9QAAAAAAAwD1AAAAAAAAAPkA=\",\"dtype\":\"float64\",\"order\":\"little\",\"shape\":[121]},\"y\":{\"__ndarray__\":\"AAAAAAAAAABp4OXiZT8hQGxiVWN1Hj1AcfqyStw0RkAT/J5ySwFHQE12oT8tkkdA5PuZZEz4R0DFKbsY/T9IQBTOyKoqckhA5W6BbDaVSEDTt7cHp61IQKtjgnitvkhAKjCwUIfKSEA0IM4AxtJIQIjiIOSB2EhAdnCweX7cSEAs26zuQ99IQPaX7+3PP0lA+NGEOK3bSUC94Qh4sJpKQJKqxnfha0tAn7566mNDTEBgvF2TAxlNQFLtGrYh501AsHspdy2pTkDi9UlZO1NPQJ/64rb3vU9Ad2/wS9vGT0DgiEqbAGhPQFzDJOAtqk5AmnSL8oWcTUAMyr3JUlBMQEDBJ9ms1kpAX87iSzA/SUC4z24+XZdHQJLcjlll6kVAbCihZTpBRECrJtBywKJCQFb53IIQFEFAXEz/In8xP0BcBlefRmY8QEqgJWwhyTlAmIm2FSZbN0CQNhynNRw1QJm40hJKCzNAvBNWerYmMUDypg0EttguQM1W1uObsytAIgeipPfYKEBT08ccgEMmQCnxiPLu7SNAz7NKxRvTIUA01cDoHtwfQEhZAlwidBxA1GUTTV1lGUBLdiEvgacWQFhbj97YMhRAYxO91EcAEkC/V2hYRgkQQKpR/iW3jwxAKLFffyxtCUD5MJv+CKEGQGRtSXVWIgRAt8BUxProAUAX+GATTdv/PwRBP+yGU/w/Cf8Ik7ku+T9CexfCF2L2PzQ+SXDe4/M/V3Ea5Umr8T+vqRoSE2HvPyeZOd9g2es/ODFGbEWz6D/IrmDBAeTlP2lX6gglYuM/X1PeMWMl4T+dZ1yf20zeP0AicR2ivdo/gyYhpqmR1z+sno9UxL7UP+3pobHZO9I/dhMFPcEA0D9PZNvdRgzMP8+RyWLAisg/fAhitPNwxT8fsamLB7TCP65HGKQnSsA/7IJZWNhUvD91WZ1XiZm4PwhTEiXLU7U/8K3zn292sj9KDw0EKOuvP/JbbhAMjas/0odSl1O/pz9IKWoGx3CkPyDcWVMCkqE/R4Si0pcqnj+cImFG3NyZP83smW4mJZY/z+kqIUfwkj9pjFj2TC2QP11gZ3uUmos/lBpyzD6Ghz9TE/dkkwaEP/hXNDFsB4E/jYX8amPufD+1jdNnGI14P8rv0CNI0HQ/NypTsMegcT9X8TR4BtVtPyuNS/M4OGk/NSyGTidNZT/DRgCh9PlhPyLrQKO7UF4/A/r3o4GKWT8BUxhrZIBVP3OQM+E/FlI//K/UiP5nTj+QrPKOHIpJPyB+IBG5b0U/\",\"dtype\":\"float64\",\"order\":\"little\",\"shape\":[120]}},\"selected\":{\"id\":\"19027\"},\"selection_policy\":{\"id\":\"19026\"}},\"id\":\"18386\",\"type\":\"ColumnDataSource\"},{\"attributes\":{\"data\":{\"x\":{\"__ndarray__\":\"AAAAAAAAAAAAAAAAAADQPwAAAAAAAOA/AAAAAAAA6D8AAAAAAADwPwAAAAAAAPQ/AAAAAAAA+D8AAAAAAAD8PwAAAAAAAABAAAAAAAAAAkAAAAAAAAAEQAAAAAAAAAZAAAAAAAAACEAAAAAAAAAKQAAAAAAAAAxAAAAAAAAADkAAAAAAAAAQQAAAAAAAABFAAAAAAAAAEkAAAAAAAAATQAAAAAAAABRAAAAAAAAAFUAAAAAAAAAWQAAAAAAAABdAAAAAAAAAGEAAAAAAAAAZQAAAAAAAABpAAAAAAAAAG0AAAAAAAAAcQAAAAAAAAB1AAAAAAAAAHkAAAAAAAAAfQAAAAAAAACBAAAAAAACAIEAAAAAAAAAhQAAAAAAAgCFAAAAAAAAAIkAAAAAAAIAiQAAAAAAAACNAAAAAAACAI0AAAAAAAAAkQAAAAAAAgCRAAAAAAAAAJUAAAAAAAIAlQAAAAAAAACZAAAAAAACAJkAAAAAAAAAnQAAAAAAAgCdAAAAAAAAAKEAAAAAAAIAoQAAAAAAAAClAAAAAAACAKUAAAAAAAAAqQAAAAAAAgCpAAAAAAAAAK0AAAAAAAIArQAAAAAAAACxAAAAAAACALEAAAAAAAAAtQAAAAAAAgC1AAAAAAAAALkAAAAAAAIAuQAAAAAAAAC9AAAAAAACAL0AAAAAAAAAwQAAAAAAAQDBAAAAAAACAMEAAAAAAAMAwQAAAAAAAADFAAAAAAABAMUAAAAAAAIAxQAAAAAAAwDFAAAAAAAAAMkAAAAAAAEAyQAAAAAAAgDJAAAAAAADAMkAAAAAAAAAzQAAAAAAAQDNAAAAAAACAM0AAAAAAAMAzQAAAAAAAADRAAAAAAABANEAAAAAAAIA0QAAAAAAAwDRAAAAAAAAANUAAAAAAAEA1QAAAAAAAgDVAAAAAAADANUAAAAAAAAA2QAAAAAAAQDZAAAAAAACANkAAAAAAAMA2QAAAAAAAADdAAAAAAABAN0AAAAAAAIA3QAAAAAAAwDdAAAAAAAAAOEAAAAAAAEA4QAAAAAAAgDhAAAAAAADAOEAAAAAAAAA5QAAAAAAAQDlAAAAAAACAOUAAAAAAAMA5QAAAAAAAADpAAAAAAABAOkAAAAAAAIA6QAAAAAAAwDpAAAAAAAAAO0AAAAAAAEA7QAAAAAAAgDtAAAAAAADAO0AAAAAAAAA8QAAAAAAAQDxAAAAAAACAPEAAAAAAAMA8QAAAAAAAAD1AAAAAAABAPUAAAAAAAIA9QAAAAAAAwD1AAAAAAAAAPkA=\",\"dtype\":\"float64\",\"order\":\"little\",\"shape\":[121]},\"y\":{\"__ndarray__\":\"AAAAAAAAAABHOMtG7GIhQFfQng7c+z1AY81OFQpURUBmSsG95QBGQNu0iDKLeUZA32zIaWbNRkB4vTutggdHQGxndouxL0dAgL37JXBLR0BO7SH+kl5HQFUY9V3Da0dAH4KsPdl0R0D6+vXkGntHQNxENZBpf0dA+XNQk2CCR0CYpVj5aoRHQOttbwpN00dA7/Z0F/JPSEAeD8A0heRIQGLifqvkgUlADGjZbdYdSkCyWcpmvLFKQDAOK1WfOUtA6mh0i3WzS0CaUX5ylB5MQHcdXvNBe0xA77KL6V7KTEC8MkAQJg1NQJKNywf8RE1AEPnRik1zTUBiXbgbeZlNQFdGFJrBuE1A/bxdbUfSTUAvyltIBudNQEzVJOzV901AFPsbtGwFTkCHIoUMYxBOQA8LNz03GU5AnL1kKVEgTkDPEJDNBSZOQLd6NmCaKk5AtSytC0cuTkBiqHJCOTFOQJrcS7WVM05A5GNc9Xk1TkAn01DN/TZOQG3KcFw0OE5AN4OR/Sw5TkCKYr4C9DlOQCX2N02TOk5A5LxAyBI7TkDylCDMeDtOQOjZ2W3KO05Adxw/vws8TkAXEWwCQDxOQOetFNNpPE5ABcamR4s8TkBYHNkLpjxOQGJ683W7PE5AzNDal8w8TkDgI7hM2jxOQLrN5kPlPE5A8pW0Ce48TkB9t2IO9TxOQK8rWOYGPk5A5DDCpYFCTkDlY4b5/UxOQAKiPfdbX05AfK/AbpF6TkDys6ndw55OQHC7r5dvy05AWlBgaXL/TkCKTl5TwDhPQJ1uaEtcc09ACjSuaoKnT0DHohCMFslPQAz9tjGnyk9AX7RTjxChT0Da+1K5DkVPQDKDv0hks05ANTNyy3DsTUCdP3uajfNMQL90sl9SzktApwycWteDSkBQBiRqBhxJQLSV0kYGn0dASPtWPcUURkAMKa6Po4REQF9ERKw69UJAiHGMxDxsQUAF9V3nz9w/QJ8Eg0MQ/zxA2N0oygZFOkCxH84X27I3QEHoiE4/SzVAj2TwAqMPM0AhOsWWZgAxQIJ96j8ZOi5AvT+2ic/IKkClJKAuiKknQGDImOcW2CRAEB9ai8lPIkD9TyqmnAsgQGdTjXvNDBxAsDTfKfZ1GEDibva8iUgVQCZHR7O3ehJA17ynmiYDEEBEiIYsEbILQC/fOT9Q6AdAfXG5BN2ZBEDJDGjIyrgBQPVh3O/RcP4/VCPeu3Ea+j8XAJOLvln2PxVUj7YmHPM/3InnrxdR8D8t5nVcrdPrPwBQfOSxsuc/\",\"dtype\":\"float64\",\"order\":\"little\",\"shape\":[120]}},\"selected\":{\"id\":\"19025\"},\"selection_policy\":{\"id\":\"19024\"}},\"id\":\"18380\",\"type\":\"ColumnDataSource\"},{\"attributes\":{\"coordinates\":null,\"data_source\":{\"id\":\"18386\"},\"glyph\":{\"id\":\"18387\"},\"group\":null,\"hover_glyph\":null,\"muted_glyph\":{\"id\":\"18389\"},\"nonselection_glyph\":{\"id\":\"18388\"},\"view\":{\"id\":\"18391\"}},\"id\":\"18390\",\"type\":\"GlyphRenderer\"},{\"attributes\":{\"line_alpha\":0.2,\"line_color\":\"#1f77b4\",\"line_width\":4,\"x\":{\"field\":\"x\"},\"y\":{\"field\":\"y\"}},\"id\":\"18383\",\"type\":\"Line\"}],\"root_ids\":[\"18331\"]},\"title\":\"Bokeh Application\",\"version\":\"2.4.2\"}};\n  const render_items = [{\"docid\":\"8494d0ed-123e-48a4-930c-6a47dc43bd7a\",\"root_ids\":[\"18331\"],\"roots\":{\"18331\":\"81abd1fa-c0ea-4c11-9047-40d39dcfa8e4\"}}];\n  root.Bokeh.embed.embed_items_notebook(docs_json, render_items);\n\n  }\n  if (root.Bokeh !== undefined) {\n    embed_document(root);\n  } else {\n    let attempts = 0;\n    const timer = setInterval(function(root) {\n      if (root.Bokeh !== undefined) {\n        clearInterval(timer);\n        embed_document(root);\n      } else {\n        attempts++;\n        if (attempts > 100) {\n          clearInterval(timer);\n          console.log(\"Bokeh: ERROR: Unable to run BokehJS code because BokehJS library is missing\");\n        }\n      }\n    }, 10, root)\n  }\n})(window);",
      "application/vnd.bokehjs_exec.v0+json": ""
     },
     "metadata": {
      "application/vnd.bokehjs_exec.v0+json": {
       "id": "18331"
      }
     },
     "output_type": "display_data"
    }
   ],
   "source": [
    "\n",
    "t = np.linspace(0, 15*(len(GFP.pc_result)-1), len(GFP.pc_result))\n",
    "p = bokeh.plotting.figure(\n",
    "    plot_width=2000,\n",
    "    plot_height=500,\n",
    "    x_axis_label=\"time(h)\",\n",
    "    y_axis_label=\"GFP\",\n",
    "    y_axis_type=\"linear\",\n",
    "    y_range=(0, 80)\n",
    ")\n",
    "\n",
    "colors = bokeh.palettes.d3[\"Category10\"][3]\n",
    "\n",
    "# Populate glyphs\n",
    "p.line(t/60, GFP.pc_result[1:], line_width=4, color=colors[2])\n",
    "p.line(t/60, GFP.nc_result[1:], line_width=4, color=colors[1])\n",
    "p.line(t/60, GFP.result3[1:], line_width=4, color=colors[0],alpha = 1)\n",
    "p.line(t/60, GFP.result2[1:], line_width=4, color=colors[0],alpha = 0.6)\n",
    "p.line(t/60, GFP.result1[1:], line_width=4, color=colors[0],alpha = 0.3)\n",
    "vline1 = Span(location=4, dimension='height', line_color='black', line_width=1,line_dash='dashed')\n",
    "vline2 = Span(location=16, dimension='height', line_color='black', line_width=1,line_dash='dashed')\n",
    "p.add_layout(vline1)\n",
    "p.add_layout(vline2)\n",
    "show(p)\n"
   ]
  },
  {
   "cell_type": "code",
   "execution_count": 82,
   "metadata": {},
   "outputs": [
    {
     "data": {
      "text/plain": [
       "array([ 0.        ,  0.        , 11.73510752, 11.93864038, 12.08655642,\n",
       "       12.19867645, 12.2871914 , 12.35961381, 12.42058467, 12.47299111,\n",
       "       12.5186586 , 12.55877731, 12.59416184, 12.6254068 , 12.65297801,\n",
       "       12.67726446, 12.69860687, 12.71731263, 12.7832939 , 12.87085852,\n",
       "       12.96438963, 13.05502465, 13.13822478, 13.21209657, 13.27628324,\n",
       "       13.33125955, 13.37789915, 13.41721981, 13.45024102, 13.47791074,\n",
       "       13.50107328, 13.52046057, 13.53669606, 13.55030468, 13.56172504,\n",
       "       13.57132196, 13.57939805, 13.58620406, 13.59194774, 13.59680136,\n",
       "       13.60090798, 13.60438655, 13.60733622, 13.60983979, 13.61196652,\n",
       "       13.6137745 , 13.61531253, 13.61662169, 13.61773661, 13.61868654,\n",
       "       13.61949621, 13.62018657, 13.62077536, 13.62127766, 13.62170627,\n",
       "       13.62207207, 13.62238431, 13.62265088, 13.62287847, 13.62307281,\n",
       "       13.62323877, 13.62338051, 13.62350156, 13.62360496, 13.62369328,\n",
       "       13.62376872, 13.77788345, 14.06424682, 14.47297538, 14.99816173,\n",
       "       15.63432928, 16.37527329, 17.2139837 , 18.14295476, 19.15455482,\n",
       "       20.2413254 , 21.3961735 , 22.61246384, 23.88403323, 25.205152  ,\n",
       "       26.5704548 , 27.97485855, 29.41348041, 30.88156448, 32.37442273,\n",
       "       33.88739255, 35.41581183, 36.9550106 , 38.50031761, 40.04707941,\n",
       "       41.5906891 , 43.12662201, 44.65047553, 46.15801026, 47.64519044,\n",
       "       49.10822157, 50.5435837 , 51.94805925, 53.31875476, 54.65311601,\n",
       "       55.94893656, 57.20435896, 58.41785744, 59.58809399, 60.71277664,\n",
       "       61.7808292 , 62.73391029, 63.39948335, 63.57715147, 63.16075227,\n",
       "       62.12748243, 60.50901737, 58.37127259, 55.79981444, 52.88883879,\n",
       "       49.73301165, 46.42179029, 43.03582359, 39.64499089, 36.30765573,\n",
       "       33.07077575])"
      ]
     },
     "execution_count": 82,
     "metadata": {},
     "output_type": "execute_result"
    }
   ],
   "source": [
    "GFP.result3"
   ]
  },
  {
   "cell_type": "code",
   "execution_count": null,
   "metadata": {},
   "outputs": [],
   "source": []
  }
 ],
 "metadata": {
  "kernelspec": {
   "display_name": "Python 3.9.12 ('base')",
   "language": "python",
   "name": "python3"
  },
  "language_info": {
   "codemirror_mode": {
    "name": "ipython",
    "version": 3
   },
   "file_extension": ".py",
   "mimetype": "text/x-python",
   "name": "python",
   "nbconvert_exporter": "python",
   "pygments_lexer": "ipython3",
   "version": "3.9.12"
  },
  "orig_nbformat": 4,
  "vscode": {
   "interpreter": {
    "hash": "702350541321a2f0d6ee5689c760d1f3e12a6e5a69204819bb813b28aabd20d3"
   }
  }
 },
 "nbformat": 4,
 "nbformat_minor": 2
}
