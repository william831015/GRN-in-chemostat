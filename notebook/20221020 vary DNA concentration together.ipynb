{
 "cells": [
  {
   "cell_type": "markdown",
   "metadata": {},
   "source": [
    "Vary DNA concentration together include GFP DNA concentration"
   ]
  },
  {
   "cell_type": "code",
   "execution_count": 1,
   "metadata": {},
   "outputs": [
    {
     "data": {
      "application/javascript": "(function(root) {\n  function now() {\n    return new Date();\n  }\n\n  var force = true;\n\n  if (typeof root._bokeh_onload_callbacks === \"undefined\" || force === true) {\n    root._bokeh_onload_callbacks = [];\n    root._bokeh_is_loading = undefined;\n  }\n\n  if (typeof (root._bokeh_timeout) === \"undefined\" || force === true) {\n    root._bokeh_timeout = Date.now() + 5000;\n    root._bokeh_failed_load = false;\n  }\n\n  function run_callbacks() {\n    try {\n      root._bokeh_onload_callbacks.forEach(function(callback) {\n        if (callback != null)\n          callback();\n      });\n    } finally {\n      delete root._bokeh_onload_callbacks\n    }\n    console.debug(\"Bokeh: all callbacks have finished\");\n  }\n\n  function load_libs(css_urls, js_urls, js_modules, callback) {\n    if (css_urls == null) css_urls = [];\n    if (js_urls == null) js_urls = [];\n    if (js_modules == null) js_modules = [];\n\n    root._bokeh_onload_callbacks.push(callback);\n    if (root._bokeh_is_loading > 0) {\n      console.debug(\"Bokeh: BokehJS is being loaded, scheduling callback at\", now());\n      return null;\n    }\n    if (js_urls.length === 0 && js_modules.length === 0) {\n      run_callbacks();\n      return null;\n    }\n    console.debug(\"Bokeh: BokehJS not loaded, scheduling load and callback at\", now());\n\n    function on_load() {\n      root._bokeh_is_loading--;\n      if (root._bokeh_is_loading === 0) {\n        console.debug(\"Bokeh: all BokehJS libraries/stylesheets loaded\");\n        run_callbacks()\n      }\n    }\n\n    function on_error() {\n      console.error(\"failed to load \" + url);\n    }\n\n    for (var i = 0; i < css_urls.length; i++) {\n      var url = css_urls[i];\n      const element = document.createElement(\"link\");\n      element.onload = on_load;\n      element.onerror = on_error;\n      element.rel = \"stylesheet\";\n      element.type = \"text/css\";\n      element.href = url;\n      console.debug(\"Bokeh: injecting link tag for BokehJS stylesheet: \", url);\n      document.body.appendChild(element);\n    }\n\n    var skip = [];\n    if (window.requirejs) {\n      window.requirejs.config({'packages': {}, 'paths': {'gridstack': 'https://cdn.jsdelivr.net/npm/gridstack@4.2.5/dist/gridstack-h5', 'notyf': 'https://cdn.jsdelivr.net/npm/notyf@3/notyf.min'}, 'shim': {'gridstack': {'exports': 'GridStack'}}});\n      require([\"gridstack\"], function(GridStack) {\n\twindow.GridStack = GridStack\n\ton_load()\n      })\n      require([\"notyf\"], function() {\n\ton_load()\n      })\n      root._bokeh_is_loading = css_urls.length + 2;\n    } else {\n      root._bokeh_is_loading = css_urls.length + js_urls.length + js_modules.length;\n    }    if (((window['GridStack'] !== undefined) && (!(window['GridStack'] instanceof HTMLElement))) || window.requirejs) {\n      var urls = ['https://cdn.jsdelivr.net/npm/gridstack@4.2.5/dist/gridstack-h5.js'];\n      for (var i = 0; i < urls.length; i++) {\n        skip.push(urls[i])\n      }\n    }    if (((window['Notyf'] !== undefined) && (!(window['Notyf'] instanceof HTMLElement))) || window.requirejs) {\n      var urls = ['https://cdn.jsdelivr.net/npm/notyf@3/notyf.min.js'];\n      for (var i = 0; i < urls.length; i++) {\n        skip.push(urls[i])\n      }\n    }    for (var i = 0; i < js_urls.length; i++) {\n      var url = js_urls[i];\n      if (skip.indexOf(url) >= 0) {\n\tif (!window.requirejs) {\n\t  on_load();\n\t}\n\tcontinue;\n      }\n      var element = document.createElement('script');\n      element.onload = on_load;\n      element.onerror = on_error;\n      element.async = false;\n      element.src = url;\n      console.debug(\"Bokeh: injecting script tag for BokehJS library: \", url);\n      document.head.appendChild(element);\n    }\n    for (var i = 0; i < js_modules.length; i++) {\n      var url = js_modules[i];\n      if (skip.indexOf(url) >= 0) {\n\tif (!window.requirejs) {\n\t  on_load();\n\t}\n\tcontinue;\n      }\n      var element = document.createElement('script');\n      element.onload = on_load;\n      element.onerror = on_error;\n      element.async = false;\n      element.src = url;\n      element.type = \"module\";\n      console.debug(\"Bokeh: injecting script tag for BokehJS library: \", url);\n      document.head.appendChild(element);\n    }\n    if (!js_urls.length && !js_modules.length) {\n      on_load()\n    }\n  };\n\n  function inject_raw_css(css) {\n    const element = document.createElement(\"style\");\n    element.appendChild(document.createTextNode(css));\n    document.body.appendChild(element);\n  }\n\n  var js_urls = [\"https://cdn.bokeh.org/bokeh/release/bokeh-2.4.1.min.js\", \"https://cdn.bokeh.org/bokeh/release/bokeh-gl-2.4.1.min.js\", \"https://cdn.bokeh.org/bokeh/release/bokeh-widgets-2.4.1.min.js\", \"https://cdn.bokeh.org/bokeh/release/bokeh-tables-2.4.1.min.js\", \"https://cdn.bokeh.org/bokeh/release/bokeh-mathjax-2.4.1.min.js\", \"https://cdn.jsdelivr.net/npm/notyf@3/notyf.min.js\", \"https://unpkg.com/@holoviz/panel@0.13.1/dist/panel.min.js\"];\n  var js_modules = [];\n  var css_urls = [\"https://cdn.jsdelivr.net/npm/notyf@3/notyf.min.css\", \"https://cdnjs.cloudflare.com/ajax/libs/font-awesome/5.15.1/css/all.min.css\", \"https://unpkg.com/@holoviz/panel@0.13.1/dist/css/debugger.css\", \"https://unpkg.com/@holoviz/panel@0.13.1/dist/css/alerts.css\", \"https://unpkg.com/@holoviz/panel@0.13.1/dist/css/card.css\", \"https://unpkg.com/@holoviz/panel@0.13.1/dist/css/widgets.css\", \"https://unpkg.com/@holoviz/panel@0.13.1/dist/css/markdown.css\", \"https://unpkg.com/@holoviz/panel@0.13.1/dist/css/json.css\", \"https://unpkg.com/@holoviz/panel@0.13.1/dist/css/loading.css\", \"https://unpkg.com/@holoviz/panel@0.13.1/dist/css/dataframe.css\"];\n  var inline_js = [    function(Bokeh) {\n      inject_raw_css(\"\\n    .bk.pn-loading.arcs:before {\\n      background-image: url(\\\"data:image/svg+xml;base64,PHN2ZyB4bWxucz0iaHR0cDovL3d3dy53My5vcmcvMjAwMC9zdmciIHhtbG5zOnhsaW5rPSJodHRwOi8vd3d3LnczLm9yZy8xOTk5L3hsaW5rIiBzdHlsZT0ibWFyZ2luOiBhdXRvOyBiYWNrZ3JvdW5kOiBub25lOyBkaXNwbGF5OiBibG9jazsgc2hhcGUtcmVuZGVyaW5nOiBhdXRvOyIgdmlld0JveD0iMCAwIDEwMCAxMDAiIHByZXNlcnZlQXNwZWN0UmF0aW89InhNaWRZTWlkIj4gIDxjaXJjbGUgY3g9IjUwIiBjeT0iNTAiIHI9IjMyIiBzdHJva2Utd2lkdGg9IjgiIHN0cm9rZT0iI2MzYzNjMyIgc3Ryb2tlLWRhc2hhcnJheT0iNTAuMjY1NDgyNDU3NDM2NjkgNTAuMjY1NDgyNDU3NDM2NjkiIGZpbGw9Im5vbmUiIHN0cm9rZS1saW5lY2FwPSJyb3VuZCI+ICAgIDxhbmltYXRlVHJhbnNmb3JtIGF0dHJpYnV0ZU5hbWU9InRyYW5zZm9ybSIgdHlwZT0icm90YXRlIiByZXBlYXRDb3VudD0iaW5kZWZpbml0ZSIgZHVyPSIxcyIga2V5VGltZXM9IjA7MSIgdmFsdWVzPSIwIDUwIDUwOzM2MCA1MCA1MCI+PC9hbmltYXRlVHJhbnNmb3JtPiAgPC9jaXJjbGU+PC9zdmc+\\\");\\n      background-size: auto calc(min(50%, 400px));\\n    }\\n    \");\n    },    function(Bokeh) {\n      Bokeh.set_log_level(\"info\");\n    },\nfunction(Bokeh) {} // ensure no trailing comma for IE\n  ];\n\n  function run_inline_js() {\n    if ((root.Bokeh !== undefined) || (force === true)) {\n      for (var i = 0; i < inline_js.length; i++) {\n        inline_js[i].call(root, root.Bokeh);\n      }} else if (Date.now() < root._bokeh_timeout) {\n      setTimeout(run_inline_js, 100);\n    } else if (!root._bokeh_failed_load) {\n      console.log(\"Bokeh: BokehJS failed to load within specified timeout.\");\n      root._bokeh_failed_load = true;\n    }\n  }\n\n  if (root._bokeh_is_loading === 0) {\n    console.debug(\"Bokeh: BokehJS loaded, going straight to plotting\");\n    run_inline_js();\n  } else {\n    load_libs(css_urls, js_urls, js_modules, function() {\n      console.debug(\"Bokeh: BokehJS plotting callback run at\", now());\n      run_inline_js();\n    });\n  }\n}(window));",
      "application/vnd.holoviews_load.v0+json": ""
     },
     "metadata": {},
     "output_type": "display_data"
    },
    {
     "data": {
      "application/javascript": "\nif ((window.PyViz === undefined) || (window.PyViz instanceof HTMLElement)) {\n  window.PyViz = {comms: {}, comm_status:{}, kernels:{}, receivers: {}, plot_index: []}\n}\n\n\n    function JupyterCommManager() {\n    }\n\n    JupyterCommManager.prototype.register_target = function(plot_id, comm_id, msg_handler) {\n      if (window.comm_manager || ((window.Jupyter !== undefined) && (Jupyter.notebook.kernel != null))) {\n        var comm_manager = window.comm_manager || Jupyter.notebook.kernel.comm_manager;\n        comm_manager.register_target(comm_id, function(comm) {\n          comm.on_msg(msg_handler);\n        });\n      } else if ((plot_id in window.PyViz.kernels) && (window.PyViz.kernels[plot_id])) {\n        window.PyViz.kernels[plot_id].registerCommTarget(comm_id, function(comm) {\n          comm.onMsg = msg_handler;\n        });\n      } else if (typeof google != 'undefined' && google.colab.kernel != null) {\n        google.colab.kernel.comms.registerTarget(comm_id, (comm) => {\n          var messages = comm.messages[Symbol.asyncIterator]();\n          function processIteratorResult(result) {\n            var message = result.value;\n            console.log(message)\n            var content = {data: message.data, comm_id};\n            var buffers = []\n            for (var buffer of message.buffers || []) {\n              buffers.push(new DataView(buffer))\n            }\n            var metadata = message.metadata || {};\n            var msg = {content, buffers, metadata}\n            msg_handler(msg);\n            return messages.next().then(processIteratorResult);\n          }\n          return messages.next().then(processIteratorResult);\n        })\n      }\n    }\n\n    JupyterCommManager.prototype.get_client_comm = function(plot_id, comm_id, msg_handler) {\n      if (comm_id in window.PyViz.comms) {\n        return window.PyViz.comms[comm_id];\n      } else if (window.comm_manager || ((window.Jupyter !== undefined) && (Jupyter.notebook.kernel != null))) {\n        var comm_manager = window.comm_manager || Jupyter.notebook.kernel.comm_manager;\n        var comm = comm_manager.new_comm(comm_id, {}, {}, {}, comm_id);\n        if (msg_handler) {\n          comm.on_msg(msg_handler);\n        }\n      } else if ((plot_id in window.PyViz.kernels) && (window.PyViz.kernels[plot_id])) {\n        var comm = window.PyViz.kernels[plot_id].connectToComm(comm_id);\n        comm.open();\n        if (msg_handler) {\n          comm.onMsg = msg_handler;\n        }\n      } else if (typeof google != 'undefined' && google.colab.kernel != null) {\n        var comm_promise = google.colab.kernel.comms.open(comm_id)\n        comm_promise.then((comm) => {\n          window.PyViz.comms[comm_id] = comm;\n          if (msg_handler) {\n            var messages = comm.messages[Symbol.asyncIterator]();\n            function processIteratorResult(result) {\n              var message = result.value;\n              var content = {data: message.data};\n              var metadata = message.metadata || {comm_id};\n              var msg = {content, metadata}\n              msg_handler(msg);\n              return messages.next().then(processIteratorResult);\n            }\n            return messages.next().then(processIteratorResult);\n          }\n        }) \n        var sendClosure = (data, metadata, buffers, disposeOnDone) => {\n          return comm_promise.then((comm) => {\n            comm.send(data, metadata, buffers, disposeOnDone);\n          });\n        };\n        var comm = {\n          send: sendClosure\n        };\n      }\n      window.PyViz.comms[comm_id] = comm;\n      return comm;\n    }\n    window.PyViz.comm_manager = new JupyterCommManager();\n    \n\n\nvar JS_MIME_TYPE = 'application/javascript';\nvar HTML_MIME_TYPE = 'text/html';\nvar EXEC_MIME_TYPE = 'application/vnd.holoviews_exec.v0+json';\nvar CLASS_NAME = 'output';\n\n/**\n * Render data to the DOM node\n */\nfunction render(props, node) {\n  var div = document.createElement(\"div\");\n  var script = document.createElement(\"script\");\n  node.appendChild(div);\n  node.appendChild(script);\n}\n\n/**\n * Handle when a new output is added\n */\nfunction handle_add_output(event, handle) {\n  var output_area = handle.output_area;\n  var output = handle.output;\n  if ((output.data == undefined) || (!output.data.hasOwnProperty(EXEC_MIME_TYPE))) {\n    return\n  }\n  var id = output.metadata[EXEC_MIME_TYPE][\"id\"];\n  var toinsert = output_area.element.find(\".\" + CLASS_NAME.split(' ')[0]);\n  if (id !== undefined) {\n    var nchildren = toinsert.length;\n    var html_node = toinsert[nchildren-1].children[0];\n    html_node.innerHTML = output.data[HTML_MIME_TYPE];\n    var scripts = [];\n    var nodelist = html_node.querySelectorAll(\"script\");\n    for (var i in nodelist) {\n      if (nodelist.hasOwnProperty(i)) {\n        scripts.push(nodelist[i])\n      }\n    }\n\n    scripts.forEach( function (oldScript) {\n      var newScript = document.createElement(\"script\");\n      var attrs = [];\n      var nodemap = oldScript.attributes;\n      for (var j in nodemap) {\n        if (nodemap.hasOwnProperty(j)) {\n          attrs.push(nodemap[j])\n        }\n      }\n      attrs.forEach(function(attr) { newScript.setAttribute(attr.name, attr.value) });\n      newScript.appendChild(document.createTextNode(oldScript.innerHTML));\n      oldScript.parentNode.replaceChild(newScript, oldScript);\n    });\n    if (JS_MIME_TYPE in output.data) {\n      toinsert[nchildren-1].children[1].textContent = output.data[JS_MIME_TYPE];\n    }\n    output_area._hv_plot_id = id;\n    if ((window.Bokeh !== undefined) && (id in Bokeh.index)) {\n      window.PyViz.plot_index[id] = Bokeh.index[id];\n    } else {\n      window.PyViz.plot_index[id] = null;\n    }\n  } else if (output.metadata[EXEC_MIME_TYPE][\"server_id\"] !== undefined) {\n    var bk_div = document.createElement(\"div\");\n    bk_div.innerHTML = output.data[HTML_MIME_TYPE];\n    var script_attrs = bk_div.children[0].attributes;\n    for (var i = 0; i < script_attrs.length; i++) {\n      toinsert[toinsert.length - 1].childNodes[1].setAttribute(script_attrs[i].name, script_attrs[i].value);\n    }\n    // store reference to server id on output_area\n    output_area._bokeh_server_id = output.metadata[EXEC_MIME_TYPE][\"server_id\"];\n  }\n}\n\n/**\n * Handle when an output is cleared or removed\n */\nfunction handle_clear_output(event, handle) {\n  var id = handle.cell.output_area._hv_plot_id;\n  var server_id = handle.cell.output_area._bokeh_server_id;\n  if (((id === undefined) || !(id in PyViz.plot_index)) && (server_id !== undefined)) { return; }\n  var comm = window.PyViz.comm_manager.get_client_comm(\"hv-extension-comm\", \"hv-extension-comm\", function () {});\n  if (server_id !== null) {\n    comm.send({event_type: 'server_delete', 'id': server_id});\n    return;\n  } else if (comm !== null) {\n    comm.send({event_type: 'delete', 'id': id});\n  }\n  delete PyViz.plot_index[id];\n  if ((window.Bokeh !== undefined) & (id in window.Bokeh.index)) {\n    var doc = window.Bokeh.index[id].model.document\n    doc.clear();\n    const i = window.Bokeh.documents.indexOf(doc);\n    if (i > -1) {\n      window.Bokeh.documents.splice(i, 1);\n    }\n  }\n}\n\n/**\n * Handle kernel restart event\n */\nfunction handle_kernel_cleanup(event, handle) {\n  delete PyViz.comms[\"hv-extension-comm\"];\n  window.PyViz.plot_index = {}\n}\n\n/**\n * Handle update_display_data messages\n */\nfunction handle_update_output(event, handle) {\n  handle_clear_output(event, {cell: {output_area: handle.output_area}})\n  handle_add_output(event, handle)\n}\n\nfunction register_renderer(events, OutputArea) {\n  function append_mime(data, metadata, element) {\n    // create a DOM node to render to\n    var toinsert = this.create_output_subarea(\n    metadata,\n    CLASS_NAME,\n    EXEC_MIME_TYPE\n    );\n    this.keyboard_manager.register_events(toinsert);\n    // Render to node\n    var props = {data: data, metadata: metadata[EXEC_MIME_TYPE]};\n    render(props, toinsert[0]);\n    element.append(toinsert);\n    return toinsert\n  }\n\n  events.on('output_added.OutputArea', handle_add_output);\n  events.on('output_updated.OutputArea', handle_update_output);\n  events.on('clear_output.CodeCell', handle_clear_output);\n  events.on('delete.Cell', handle_clear_output);\n  events.on('kernel_ready.Kernel', handle_kernel_cleanup);\n\n  OutputArea.prototype.register_mime_type(EXEC_MIME_TYPE, append_mime, {\n    safe: true,\n    index: 0\n  });\n}\n\nif (window.Jupyter !== undefined) {\n  try {\n    var events = require('base/js/events');\n    var OutputArea = require('notebook/js/outputarea').OutputArea;\n    if (OutputArea.prototype.mime_types().indexOf(EXEC_MIME_TYPE) == -1) {\n      register_renderer(events, OutputArea);\n    }\n  } catch(err) {\n  }\n}\n",
      "application/vnd.holoviews_load.v0+json": ""
     },
     "metadata": {},
     "output_type": "display_data"
    },
    {
     "data": {
      "text/html": [
       "<style>.bk-root, .bk-root .bk:before, .bk-root .bk:after {\n",
       "  font-family: var(--jp-ui-font-size1);\n",
       "  font-size: var(--jp-ui-font-size1);\n",
       "  color: var(--jp-ui-font-color1);\n",
       "}\n",
       "</style>"
      ]
     },
     "metadata": {},
     "output_type": "display_data"
    },
    {
     "data": {
      "text/html": [
       "\n",
       "    <div class=\"bk-root\">\n",
       "        <a href=\"https://bokeh.org\" target=\"_blank\" class=\"bk-logo bk-logo-small bk-logo-notebook\"></a>\n",
       "        <span id=\"1002\">Loading BokehJS ...</span>\n",
       "    </div>"
      ]
     },
     "metadata": {},
     "output_type": "display_data"
    },
    {
     "data": {
      "application/javascript": "\n(function(root) {\n  function now() {\n    return new Date();\n  }\n\n  const force = true;\n\n  if (typeof root._bokeh_onload_callbacks === \"undefined\" || force === true) {\n    root._bokeh_onload_callbacks = [];\n    root._bokeh_is_loading = undefined;\n  }\n\n  const JS_MIME_TYPE = 'application/javascript';\n  const HTML_MIME_TYPE = 'text/html';\n  const EXEC_MIME_TYPE = 'application/vnd.bokehjs_exec.v0+json';\n  const CLASS_NAME = 'output_bokeh rendered_html';\n\n  /**\n   * Render data to the DOM node\n   */\n  function render(props, node) {\n    const script = document.createElement(\"script\");\n    node.appendChild(script);\n  }\n\n  /**\n   * Handle when an output is cleared or removed\n   */\n  function handleClearOutput(event, handle) {\n    const cell = handle.cell;\n\n    const id = cell.output_area._bokeh_element_id;\n    const server_id = cell.output_area._bokeh_server_id;\n    // Clean up Bokeh references\n    if (id != null && id in Bokeh.index) {\n      Bokeh.index[id].model.document.clear();\n      delete Bokeh.index[id];\n    }\n\n    if (server_id !== undefined) {\n      // Clean up Bokeh references\n      const cmd_clean = \"from bokeh.io.state import curstate; print(curstate().uuid_to_server['\" + server_id + \"'].get_sessions()[0].document.roots[0]._id)\";\n      cell.notebook.kernel.execute(cmd_clean, {\n        iopub: {\n          output: function(msg) {\n            const id = msg.content.text.trim();\n            if (id in Bokeh.index) {\n              Bokeh.index[id].model.document.clear();\n              delete Bokeh.index[id];\n            }\n          }\n        }\n      });\n      // Destroy server and session\n      const cmd_destroy = \"import bokeh.io.notebook as ion; ion.destroy_server('\" + server_id + \"')\";\n      cell.notebook.kernel.execute(cmd_destroy);\n    }\n  }\n\n  /**\n   * Handle when a new output is added\n   */\n  function handleAddOutput(event, handle) {\n    const output_area = handle.output_area;\n    const output = handle.output;\n\n    // limit handleAddOutput to display_data with EXEC_MIME_TYPE content only\n    if ((output.output_type != \"display_data\") || (!Object.prototype.hasOwnProperty.call(output.data, EXEC_MIME_TYPE))) {\n      return\n    }\n\n    const toinsert = output_area.element.find(\".\" + CLASS_NAME.split(' ')[0]);\n\n    if (output.metadata[EXEC_MIME_TYPE][\"id\"] !== undefined) {\n      toinsert[toinsert.length - 1].firstChild.textContent = output.data[JS_MIME_TYPE];\n      // store reference to embed id on output_area\n      output_area._bokeh_element_id = output.metadata[EXEC_MIME_TYPE][\"id\"];\n    }\n    if (output.metadata[EXEC_MIME_TYPE][\"server_id\"] !== undefined) {\n      const bk_div = document.createElement(\"div\");\n      bk_div.innerHTML = output.data[HTML_MIME_TYPE];\n      const script_attrs = bk_div.children[0].attributes;\n      for (let i = 0; i < script_attrs.length; i++) {\n        toinsert[toinsert.length - 1].firstChild.setAttribute(script_attrs[i].name, script_attrs[i].value);\n        toinsert[toinsert.length - 1].firstChild.textContent = bk_div.children[0].textContent\n      }\n      // store reference to server id on output_area\n      output_area._bokeh_server_id = output.metadata[EXEC_MIME_TYPE][\"server_id\"];\n    }\n  }\n\n  function register_renderer(events, OutputArea) {\n\n    function append_mime(data, metadata, element) {\n      // create a DOM node to render to\n      const toinsert = this.create_output_subarea(\n        metadata,\n        CLASS_NAME,\n        EXEC_MIME_TYPE\n      );\n      this.keyboard_manager.register_events(toinsert);\n      // Render to node\n      const props = {data: data, metadata: metadata[EXEC_MIME_TYPE]};\n      render(props, toinsert[toinsert.length - 1]);\n      element.append(toinsert);\n      return toinsert\n    }\n\n    /* Handle when an output is cleared or removed */\n    events.on('clear_output.CodeCell', handleClearOutput);\n    events.on('delete.Cell', handleClearOutput);\n\n    /* Handle when a new output is added */\n    events.on('output_added.OutputArea', handleAddOutput);\n\n    /**\n     * Register the mime type and append_mime function with output_area\n     */\n    OutputArea.prototype.register_mime_type(EXEC_MIME_TYPE, append_mime, {\n      /* Is output safe? */\n      safe: true,\n      /* Index of renderer in `output_area.display_order` */\n      index: 0\n    });\n  }\n\n  // register the mime type if in Jupyter Notebook environment and previously unregistered\n  if (root.Jupyter !== undefined) {\n    const events = require('base/js/events');\n    const OutputArea = require('notebook/js/outputarea').OutputArea;\n\n    if (OutputArea.prototype.mime_types().indexOf(EXEC_MIME_TYPE) == -1) {\n      register_renderer(events, OutputArea);\n    }\n  }\n\n  \n  if (typeof (root._bokeh_timeout) === \"undefined\" || force === true) {\n    root._bokeh_timeout = Date.now() + 5000;\n    root._bokeh_failed_load = false;\n  }\n\n  const NB_LOAD_WARNING = {'data': {'text/html':\n     \"<div style='background-color: #fdd'>\\n\"+\n     \"<p>\\n\"+\n     \"BokehJS does not appear to have successfully loaded. If loading BokehJS from CDN, this \\n\"+\n     \"may be due to a slow or bad network connection. Possible fixes:\\n\"+\n     \"</p>\\n\"+\n     \"<ul>\\n\"+\n     \"<li>re-rerun `output_notebook()` to attempt to load from CDN again, or</li>\\n\"+\n     \"<li>use INLINE resources instead, as so:</li>\\n\"+\n     \"</ul>\\n\"+\n     \"<code>\\n\"+\n     \"from bokeh.resources import INLINE\\n\"+\n     \"output_notebook(resources=INLINE)\\n\"+\n     \"</code>\\n\"+\n     \"</div>\"}};\n\n  function display_loaded() {\n    const el = document.getElementById(\"1002\");\n    if (el != null) {\n      el.textContent = \"BokehJS is loading...\";\n    }\n    if (root.Bokeh !== undefined) {\n      if (el != null) {\n        el.textContent = \"BokehJS \" + root.Bokeh.version + \" successfully loaded.\";\n      }\n    } else if (Date.now() < root._bokeh_timeout) {\n      setTimeout(display_loaded, 100)\n    }\n  }\n\n\n  function run_callbacks() {\n    try {\n      root._bokeh_onload_callbacks.forEach(function(callback) {\n        if (callback != null)\n          callback();\n      });\n    } finally {\n      delete root._bokeh_onload_callbacks\n    }\n    console.debug(\"Bokeh: all callbacks have finished\");\n  }\n\n  function load_libs(css_urls, js_urls, callback) {\n    if (css_urls == null) css_urls = [];\n    if (js_urls == null) js_urls = [];\n\n    root._bokeh_onload_callbacks.push(callback);\n    if (root._bokeh_is_loading > 0) {\n      console.debug(\"Bokeh: BokehJS is being loaded, scheduling callback at\", now());\n      return null;\n    }\n    if (js_urls == null || js_urls.length === 0) {\n      run_callbacks();\n      return null;\n    }\n    console.debug(\"Bokeh: BokehJS not loaded, scheduling load and callback at\", now());\n    root._bokeh_is_loading = css_urls.length + js_urls.length;\n\n    function on_load() {\n      root._bokeh_is_loading--;\n      if (root._bokeh_is_loading === 0) {\n        console.debug(\"Bokeh: all BokehJS libraries/stylesheets loaded\");\n        run_callbacks()\n      }\n    }\n\n    function on_error(url) {\n      console.error(\"failed to load \" + url);\n    }\n\n    for (let i = 0; i < css_urls.length; i++) {\n      const url = css_urls[i];\n      const element = document.createElement(\"link\");\n      element.onload = on_load;\n      element.onerror = on_error.bind(null, url);\n      element.rel = \"stylesheet\";\n      element.type = \"text/css\";\n      element.href = url;\n      console.debug(\"Bokeh: injecting link tag for BokehJS stylesheet: \", url);\n      document.body.appendChild(element);\n    }\n\n    for (let i = 0; i < js_urls.length; i++) {\n      const url = js_urls[i];\n      const element = document.createElement('script');\n      element.onload = on_load;\n      element.onerror = on_error.bind(null, url);\n      element.async = false;\n      element.src = url;\n      console.debug(\"Bokeh: injecting script tag for BokehJS library: \", url);\n      document.head.appendChild(element);\n    }\n  };\n\n  function inject_raw_css(css) {\n    const element = document.createElement(\"style\");\n    element.appendChild(document.createTextNode(css));\n    document.body.appendChild(element);\n  }\n\n  \n  const js_urls = [\"https://cdn.bokeh.org/bokeh/release/bokeh-2.4.1.min.js\", \"https://cdn.bokeh.org/bokeh/release/bokeh-gl-2.4.1.min.js\", \"https://cdn.bokeh.org/bokeh/release/bokeh-widgets-2.4.1.min.js\", \"https://cdn.bokeh.org/bokeh/release/bokeh-tables-2.4.1.min.js\", \"https://cdn.bokeh.org/bokeh/release/bokeh-mathjax-2.4.1.min.js\", \"https://unpkg.com/@holoviz/panel@0.13.1/dist/panel.min.js\"];\n  const css_urls = [];\n  \n\n  const inline_js = [\n    function(Bokeh) {\n      Bokeh.set_log_level(\"info\");\n    },\n    function(Bokeh) {\n    \n    \n    }\n  ];\n\n  function run_inline_js() {\n    \n    if (root.Bokeh !== undefined || force === true) {\n      \n    for (let i = 0; i < inline_js.length; i++) {\n      inline_js[i].call(root, root.Bokeh);\n    }\n    if (force === true) {\n        display_loaded();\n      }} else if (Date.now() < root._bokeh_timeout) {\n      setTimeout(run_inline_js, 100);\n    } else if (!root._bokeh_failed_load) {\n      console.log(\"Bokeh: BokehJS failed to load within specified timeout.\");\n      root._bokeh_failed_load = true;\n    } else if (force !== true) {\n      const cell = $(document.getElementById(\"1002\")).parents('.cell').data().cell;\n      cell.output_area.append_execute_result(NB_LOAD_WARNING)\n    }\n\n  }\n\n  if (root._bokeh_is_loading === 0) {\n    console.debug(\"Bokeh: BokehJS loaded, going straight to plotting\");\n    run_inline_js();\n  } else {\n    load_libs(css_urls, js_urls, function() {\n      console.debug(\"Bokeh: BokehJS plotting callback run at\", now());\n      run_inline_js();\n    });\n  }\n}(window));",
      "application/vnd.bokehjs_load.v0+json": ""
     },
     "metadata": {},
     "output_type": "display_data"
    }
   ],
   "source": [
    "import sys,os\n",
    "sys.path.append(os.path.realpath('..'))\n",
    "\n",
    "from scripts.functions import dilute, replenish,dilute_species, replenish_species, run_model,plot_result,plot_result_two_state\n",
    "from scripts.species import DNA, RNA, Protein, Resource\n",
    "from scripts.models import Repressor_model_HC\n",
    "\n",
    "\n",
    "import numpy as np\n",
    "import scipy.integrate\n",
    "import scipy.optimize\n",
    "from bokeh.plotting import figure, output_file, show\n",
    "import bokeh.plotting\n",
    "import bokeh.io\n",
    "from bokeh.models import Span\n",
    "\n",
    "\n",
    "# We will use Matplotlib to make a 3D plot\n",
    "import matplotlib.pyplot as plt\n",
    "from mpl_toolkits.mplot3d import Axes3D\n",
    "%matplotlib inline\n",
    "%config InlineBackend.figure_format = 'retina'\n",
    "\n",
    "import panel as pn\n",
    "pn.extension()\n",
    "\n",
    "bokeh.io.output_notebook()"
   ]
  },
  {
   "cell_type": "code",
   "execution_count": 24,
   "metadata": {},
   "outputs": [],
   "source": [
    "#######Define species #######\n",
    "\n",
    "#T7 RNAP\n",
    "T7_DNA = DNA()\n",
    "T7_RNA = RNA()\n",
    "T7 = Protein()\n",
    "\n",
    "#Repressor\n",
    "Repressor_DNA = DNA()\n",
    "Repressor_RNA = RNA()\n",
    "Repressor = Protein()\n",
    "\n",
    "#GFP\n",
    "GFP_DNA = DNA()\n",
    "GFP_RNA = RNA()\n",
    "GFP = Protein()\n",
    "\n",
    "#Resource\n",
    "R      = Resource()\n",
    "\n",
    "#Others\n",
    "TX = 1\n",
    "TL = 1\n",
    "\n",
    "#list of molecules\n",
    "molecules_list = [T7_DNA,T7_RNA,T7,GFP_DNA,GFP_RNA,GFP,Repressor_DNA,Repressor_RNA,Repressor,R]\n",
    "\n",
    "\n",
    "#give index num\n",
    "for i in range(0,len(molecules_list)):\n",
    "    molecules_list[i].idx = i\n",
    "\n",
    "\n",
    "\n",
    "\n",
    "#define values \n",
    "##T7\n",
    "T7_DNA.ic =0.01\n",
    "T7_DNA.lc =0.01\n",
    "\n",
    "T7.ic = 1\n",
    "T7.lc = 1\n",
    "\n",
    "##GFP\n",
    "GFP_DNA.ic = 2\n",
    "GFP_DNA.lc = 2\n",
    "\n",
    "GFP.lc = 0\n",
    "\n",
    "##Repressor \n",
    "Repressor_DNA.ic = 0.01\n",
    "Repressor_DNA.lc = 0.01\n",
    "\n",
    "\n",
    "#resources\n",
    "R.ic =100\n",
    "R.lc =100\n",
    "\n",
    "#Define parameters\n",
    "alpha=0.7;\n",
    "beta=0.07;\n",
    "K=1.0;\n",
    "Kd = 0.5;\n",
    "HC = 1;\n",
    "KTL=10;\n",
    "KTX=1;\n",
    "lamb1=0;\n",
    "lamb2=0;\n",
    "\n",
    "parameters_list = (alpha,beta,K,HC,Kd,KTL,KTX,lamb1,lamb2)\n",
    "\n",
    "end_time = 30\n",
    "\n",
    "end_cycle = end_time*4+1\n"
   ]
  },
  {
   "cell_type": "code",
   "execution_count": 25,
   "metadata": {},
   "outputs": [
    {
     "name": "stdout",
     "output_type": "stream",
     "text": [
      "0.0001\n",
      "0.00011233240329780277\n",
      "0.0001261856883066021\n",
      "0.00014174741629268049\n",
      "0.00015922827933410923\n",
      "0.0001788649529057435\n",
      "0.00020092330025650479\n",
      "0.0002257019719633919\n",
      "0.00025353644939701115\n",
      "0.0002848035868435802\n",
      "0.00031992671377973844\n",
      "0.00035938136638046257\n",
      "0.0004037017258596554\n",
      "0.00045348785081285824\n",
      "0.000509413801481638\n",
      "0.0005722367659350221\n",
      "0.0006428073117284319\n",
      "0.0007220809018385464\n",
      "0.0008111308307896872\n",
      "0.0009111627561154887\n",
      "0.001023531021899027\n",
      "0.0011497569953977356\n",
      "0.001291549665014884\n",
      "0.0014508287784959402\n",
      "0.0016297508346206436\n",
      "0.0018307382802953678\n",
      "0.0020565123083486517\n",
      "0.002310129700083158\n",
      "0.002595024211399737\n",
      "0.002915053062825176\n",
      "0.0032745491628777285\n",
      "0.0036783797718286343\n",
      "0.004132012400115334\n",
      "0.004641588833612782\n",
      "0.005214008287999685\n",
      "0.005857020818056668\n",
      "0.006579332246575682\n",
      "0.007390722033525776\n",
      "0.008302175681319744\n",
      "0.0093260334688322\n",
      "0.010476157527896652\n",
      "0.011768119524349979\n",
      "0.013219411484660288\n",
      "0.01484968262254465\n",
      "0.016681005372000592\n",
      "0.01873817422860383\n",
      "0.0210490414451202\n",
      "0.023644894126454073\n",
      "0.026560877829466867\n",
      "0.029836472402833405\n",
      "0.03351602650938841\n",
      "0.037649358067924674\n",
      "0.04229242874389499\n",
      "0.04750810162102798\n",
      "0.05336699231206307\n",
      "0.05994842503189409\n",
      "0.06734150657750822\n",
      "0.07564633275546291\n",
      "0.08497534359086438\n",
      "0.09545484566618337\n",
      "0.10722672220103231\n",
      "0.12045035402587824\n",
      "0.1353047774579806\n",
      "0.1519911082952933\n",
      "0.17073526474706904\n",
      "0.19179102616724888\n",
      "0.21544346900318845\n",
      "0.2420128264794381\n",
      "0.271858824273294\n",
      "0.30538555088334157\n",
      "0.34304692863149194\n",
      "0.38535285937105274\n",
      "0.4328761281083057\n",
      "0.4862601580065353\n",
      "0.5462277217684343\n",
      "0.6135907273413169\n",
      "0.6892612104349695\n",
      "0.774263682681127\n",
      "0.8697490026177834\n",
      "0.9770099572992247\n",
      "1.0974987654930568\n",
      "1.232846739442066\n",
      "1.3848863713938717\n",
      "1.5556761439304723\n",
      "1.747528400007683\n",
      "1.9630406500402724\n",
      "2.2051307399030455\n",
      "2.477076355991709\n",
      "2.782559402207126\n",
      "3.1257158496882353\n",
      "3.5111917342151275\n",
      "3.944206059437656\n",
      "4.430621457583878\n",
      "4.9770235643321135\n",
      "5.5908101825122225\n",
      "6.280291441834247\n",
      "7.054802310718645\n",
      "7.92482898353917\n",
      "8.902150854450392\n",
      "10.0\n"
     ]
    }
   ],
   "source": [
    "stored_data = []\n",
    "for conc in np.logspace(-4,1, 100, endpoint=True):\n",
    "    print(conc)\n",
    "    #experiment \n",
    "    T7_DNA.ic = conc\n",
    "    T7_DNA.lc = conc\n",
    "    Repressor_DNA.ic = conc\n",
    "    Repressor_DNA.lc = conc\n",
    "    GFP_DNA.ic = 2\n",
    "    GFP_DNA.lc = 2\n",
    "    #initial value\n",
    "    molecules_0 = [None]*len(molecules_list) #create empty list\n",
    "\n",
    "    for i in range(0,len(molecules_list)):\n",
    "        molecules_0[i] = molecules_list[i].ic\n",
    "\n",
    "    #stage 1 kick start\n",
    "    result_all=[molecules_0] #initial condition\n",
    "\n",
    "\n",
    "    #DR = 0.2\n",
    "\n",
    "    #kick start\n",
    "    dilution_list = [T7_RNA,T7,GFP,GFP_RNA,Repressor,Repressor_RNA,R]\n",
    "    replenish_list = [T7,R]\n",
    "    result_all,molecules_0 = run_model(Repressor_model_HC,(0,4),parameters_list,molecules_0,dilution_list,replenish_list,result_all)\n",
    "\n",
    "\n",
    "    #self regeneration \n",
    "    dilution_list = [T7_RNA,T7,GFP,GFP_RNA,Repressor,Repressor_RNA,R]\n",
    "    replenish_list = [R]\n",
    "    result_all,molecules_0 = run_model(Repressor_model_HC,(4,30),parameters_list,molecules_0,dilution_list,replenish_list,result_all)\n",
    "\n",
    "\n",
    "    result_all = np.resize(result_all,(end_cycle,10))\n",
    "    for i in range(0,len(molecules_list)):\n",
    "            (molecules_list[i]).result = result_all.transpose()[i]\n",
    "\n",
    "    #T7_DNA,T7_RNA,T7,GFP_DNA,GFP_RNA,GFP,R = result_all.transpose()\n",
    "    #plot_result_two_state(GFP.result)\n",
    "    #print((GFP).result[60]/GFP.pc_result[60])\n",
    "    stored_data.append((T7).result[100])\n",
    "\n"
   ]
  },
  {
   "cell_type": "code",
   "execution_count": 27,
   "metadata": {},
   "outputs": [
    {
     "data": {
      "text/html": [
       "\n",
       "\n",
       "\n",
       "\n",
       "\n",
       "\n",
       "  <div class=\"bk-root\" id=\"4b7afe4c-d37f-4138-a4e8-5025ee112e69\" data-root-id=\"2326\"></div>\n"
      ]
     },
     "metadata": {},
     "output_type": "display_data"
    },
    {
     "data": {
      "application/javascript": "(function(root) {\n  function embed_document(root) {\n    \n  const docs_json = {\"d40ce98f-9358-4547-abd0-6ccdde31e8c6\":{\"defs\":[{\"extends\":null,\"module\":null,\"name\":\"ReactiveHTML1\",\"overrides\":[],\"properties\":[]},{\"extends\":null,\"module\":null,\"name\":\"FlexBox1\",\"overrides\":[],\"properties\":[{\"default\":\"flex-start\",\"kind\":null,\"name\":\"align_content\"},{\"default\":\"flex-start\",\"kind\":null,\"name\":\"align_items\"},{\"default\":\"row\",\"kind\":null,\"name\":\"flex_direction\"},{\"default\":\"wrap\",\"kind\":null,\"name\":\"flex_wrap\"},{\"default\":\"flex-start\",\"kind\":null,\"name\":\"justify_content\"}]},{\"extends\":null,\"module\":null,\"name\":\"GridStack1\",\"overrides\":[],\"properties\":[{\"default\":\"warn\",\"kind\":null,\"name\":\"mode\"},{\"default\":null,\"kind\":null,\"name\":\"ncols\"},{\"default\":null,\"kind\":null,\"name\":\"nrows\"},{\"default\":true,\"kind\":null,\"name\":\"allow_resize\"},{\"default\":true,\"kind\":null,\"name\":\"allow_drag\"},{\"default\":[],\"kind\":null,\"name\":\"state\"}]},{\"extends\":null,\"module\":null,\"name\":\"click1\",\"overrides\":[],\"properties\":[{\"default\":\"\",\"kind\":null,\"name\":\"terminal_output\"},{\"default\":\"\",\"kind\":null,\"name\":\"debug_name\"},{\"default\":0,\"kind\":null,\"name\":\"clears\"}]},{\"extends\":null,\"module\":null,\"name\":\"NotificationAreaBase1\",\"overrides\":[],\"properties\":[{\"default\":\"bottom-right\",\"kind\":null,\"name\":\"position\"},{\"default\":0,\"kind\":null,\"name\":\"_clear\"}]},{\"extends\":null,\"module\":null,\"name\":\"NotificationArea1\",\"overrides\":[],\"properties\":[{\"default\":[],\"kind\":null,\"name\":\"notifications\"},{\"default\":\"bottom-right\",\"kind\":null,\"name\":\"position\"},{\"default\":0,\"kind\":null,\"name\":\"_clear\"},{\"default\":[{\"background\":\"#ffc107\",\"icon\":{\"className\":\"fas fa-exclamation-triangle\",\"color\":\"white\",\"tagName\":\"i\"},\"type\":\"warning\"},{\"background\":\"#007bff\",\"icon\":{\"className\":\"fas fa-info-circle\",\"color\":\"white\",\"tagName\":\"i\"},\"type\":\"info\"}],\"kind\":null,\"name\":\"types\"}]},{\"extends\":null,\"module\":null,\"name\":\"Notification\",\"overrides\":[],\"properties\":[{\"default\":null,\"kind\":null,\"name\":\"background\"},{\"default\":3000,\"kind\":null,\"name\":\"duration\"},{\"default\":null,\"kind\":null,\"name\":\"icon\"},{\"default\":\"\",\"kind\":null,\"name\":\"message\"},{\"default\":null,\"kind\":null,\"name\":\"notification_type\"},{\"default\":false,\"kind\":null,\"name\":\"_destroyed\"}]},{\"extends\":null,\"module\":null,\"name\":\"TemplateActions1\",\"overrides\":[],\"properties\":[{\"default\":0,\"kind\":null,\"name\":\"open_modal\"},{\"default\":0,\"kind\":null,\"name\":\"close_modal\"}]},{\"extends\":null,\"module\":null,\"name\":\"MaterialTemplateActions1\",\"overrides\":[],\"properties\":[{\"default\":0,\"kind\":null,\"name\":\"open_modal\"},{\"default\":0,\"kind\":null,\"name\":\"close_modal\"}]}],\"roots\":{\"references\":[{\"attributes\":{\"below\":[{\"id\":\"2335\"}],\"center\":[{\"id\":\"2338\"},{\"id\":\"2342\"}],\"height\":400,\"left\":[{\"id\":\"2339\"}],\"renderers\":[{\"id\":\"2361\"}],\"title\":{\"id\":\"2462\"},\"toolbar\":{\"id\":\"2350\"},\"width\":800,\"x_range\":{\"id\":\"2327\"},\"x_scale\":{\"id\":\"2331\"},\"y_range\":{\"id\":\"2329\"},\"y_scale\":{\"id\":\"2333\"}},\"id\":\"2326\",\"subtype\":\"Figure\",\"type\":\"Plot\"},{\"attributes\":{\"source\":{\"id\":\"2357\"}},\"id\":\"2362\",\"type\":\"CDSView\"},{\"attributes\":{},\"id\":\"2333\",\"type\":\"LinearScale\"},{\"attributes\":{\"bottom_units\":\"screen\",\"coordinates\":null,\"fill_alpha\":0.5,\"fill_color\":\"lightgrey\",\"group\":null,\"left_units\":\"screen\",\"level\":\"overlay\",\"line_alpha\":1.0,\"line_color\":\"black\",\"line_dash\":[4,4],\"line_width\":2,\"right_units\":\"screen\",\"syncable\":false,\"top_units\":\"screen\"},\"id\":\"2349\",\"type\":\"BoxAnnotation\"},{\"attributes\":{},\"id\":\"2465\",\"type\":\"BasicTickFormatter\"},{\"attributes\":{\"num_minor_ticks\":10},\"id\":\"2336\",\"type\":\"LogTicker\"},{\"attributes\":{\"axis\":{\"id\":\"2335\"},\"coordinates\":null,\"group\":null,\"ticker\":null},\"id\":\"2338\",\"type\":\"Grid\"},{\"attributes\":{},\"id\":\"2348\",\"type\":\"HelpTool\"},{\"attributes\":{},\"id\":\"2329\",\"type\":\"DataRange1d\"},{\"attributes\":{\"axis_label\":\"Concentration\",\"coordinates\":null,\"formatter\":{\"id\":\"2465\"},\"group\":null,\"major_label_policy\":{\"id\":\"2466\"},\"ticker\":{\"id\":\"2340\"}},\"id\":\"2339\",\"type\":\"LinearAxis\"},{\"attributes\":{},\"id\":\"2466\",\"type\":\"AllLabels\"},{\"attributes\":{\"axis\":{\"id\":\"2339\"},\"coordinates\":null,\"dimension\":1,\"group\":null,\"ticker\":null},\"id\":\"2342\",\"type\":\"Grid\"},{\"attributes\":{\"coordinates\":null,\"group\":null},\"id\":\"2462\",\"type\":\"Title\"},{\"attributes\":{\"axis_label\":\"DNA concentration\",\"coordinates\":null,\"formatter\":{\"id\":\"2468\"},\"group\":null,\"major_label_policy\":{\"id\":\"2469\"},\"ticker\":{\"id\":\"2336\"}},\"id\":\"2335\",\"type\":\"LogAxis\"},{\"attributes\":{},\"id\":\"2340\",\"type\":\"BasicTicker\"},{\"attributes\":{\"ticker\":null},\"id\":\"2468\",\"type\":\"LogTickFormatter\"},{\"attributes\":{},\"id\":\"2331\",\"type\":\"LogScale\"},{\"attributes\":{},\"id\":\"2469\",\"type\":\"AllLabels\"},{\"attributes\":{\"fill_color\":{\"value\":\"#1f77b4\"},\"line_color\":{\"value\":\"#1f77b4\"},\"marker\":{\"value\":\"dot\"},\"size\":{\"value\":20},\"x\":{\"field\":\"x\"},\"y\":{\"field\":\"y\"}},\"id\":\"2358\",\"type\":\"Scatter\"},{\"attributes\":{\"tools\":[{\"id\":\"2343\"},{\"id\":\"2344\"},{\"id\":\"2345\"},{\"id\":\"2346\"},{\"id\":\"2347\"},{\"id\":\"2348\"}]},\"id\":\"2350\",\"type\":\"Toolbar\"},{\"attributes\":{\"coordinates\":null,\"data_source\":{\"id\":\"2357\"},\"glyph\":{\"id\":\"2358\"},\"group\":null,\"hover_glyph\":null,\"muted_glyph\":{\"id\":\"2360\"},\"nonselection_glyph\":{\"id\":\"2359\"},\"view\":{\"id\":\"2362\"}},\"id\":\"2361\",\"type\":\"GlyphRenderer\"},{\"attributes\":{},\"id\":\"2470\",\"type\":\"UnionRenderers\"},{\"attributes\":{\"fill_alpha\":{\"value\":0.2},\"fill_color\":{\"value\":\"#1f77b4\"},\"hatch_alpha\":{\"value\":0.2},\"line_alpha\":{\"value\":0.2},\"line_color\":{\"value\":\"#1f77b4\"},\"marker\":{\"value\":\"dot\"},\"size\":{\"value\":20},\"x\":{\"field\":\"x\"},\"y\":{\"field\":\"y\"}},\"id\":\"2360\",\"type\":\"Scatter\"},{\"attributes\":{},\"id\":\"2347\",\"type\":\"ResetTool\"},{\"attributes\":{},\"id\":\"2471\",\"type\":\"Selection\"},{\"attributes\":{},\"id\":\"2344\",\"type\":\"WheelZoomTool\"},{\"attributes\":{},\"id\":\"2343\",\"type\":\"PanTool\"},{\"attributes\":{\"overlay\":{\"id\":\"2349\"}},\"id\":\"2345\",\"type\":\"BoxZoomTool\"},{\"attributes\":{},\"id\":\"2346\",\"type\":\"SaveTool\"},{\"attributes\":{\"data\":{\"x\":{\"__ndarray__\":\"LUMc6+I2Gj96Z2j+f3IdP0qjGs8WiiA/SY7XCEGUIj8RfjKB0N4kP1T+Cj+2cSc/2afYAd5VKj/G4ystTZUtP31TLcKinTA/dehdFzaqMj/CRNbFevc0PzcvJDdrjTc/7GW8tf10Oj9eHQZ9Q7g9P74QCs9FsUA/TkX+GEXAQj+SGdUwQhBFP28b4u1AqUc/QOkMMkKUSj+2nJIeY9tNP2fq/RAAxVA/dJ9jLG7WUj8VLqLkJilVP9WS94k3xVc/JMFCoquzWj98XKZCrP5dP6czdqPR2GA/DTBdcLHsYj+LatkDKUJlP18hRTJP4Wc/BN0JMjrTaj83DVAaHyJuP7CpAKK67HA/lZneAw8Dcz8Pnj+xSFt1Pz9F2Q2I/Xc/7shBDe7yej+ZWdjWu0V+P/+ZSyi7AIE/vBIABocZgz/9rsIPhnSFPwOl8EPiGYg/qur9X8cSiz8cK8KpgmmOP8cIJlLTFJE/6ZH+lRkwkz9dy3lC4Y2VP1lG9vtdNpg/EL+FVsYymz+n7srEc42eP6rXfzsDKaE/fvg708ZGoz/XmaVsWqelP6nEg137Uqg/bBdVHetSqz/L2epZj7GuP53saQBLPbE/dT4/3Y5dsz+LarCx8cC1PzqIYZC6b7g/jVcc4TVzuz9ZMFWb1dW+P8tYFr2qUcE/PZ6003F0wz95aC41p9rFP5n9hrybjMg/tLPAzqaTyz/viXi7RvrOP/B/2I0iZtE/28Bt1m+L0z/Ryt0ae/TVP/HMGgqfqdg/E29cEz602z9cGP/s4h7fP5c/JY+yeuE/9elhBYmi4z+zBqeGbQ7mPx8Sc6HExug/nBo/3PvU6z/J7c5iqkPvP74Wk91aj/E/eySugL258z8vAZ2cfij2P42UFasM5Pg/yNPtVuD1+z/LQwpQnWj/P4tN2pUbpAFAF2+VaA3RA0BdQf2ArkIGQKP/t093AQlAF4QjsesWDEAUwg/ou40PQEsd1dT0uBFAP+mA3XjoE0CZIjBY/VwWQGsbQLgEHxlAkyDRGB44HEBOxnpeBrMfQIXYf7fmzSFAAAAAAAAAJEA=\",\"dtype\":\"float64\",\"order\":\"little\",\"shape\":[100]},\"y\":[6.458325260874781e-08,7.556648280565435e-08,8.927981397014184e-08,1.0656226548037203e-07,1.2856000760485602e-07,1.5685725407887304e-07,1.936682700897072e-07,2.4212682246224676e-07,3.067277846455743e-07,3.940009732909313e-07,5.135743763906317e-07,6.798558787907835e-07,9.147282112748348e-07,1.2519936343043326e-06,1.744750383823499e-06,2.4778934274454783e-06,3.5896768347296246e-06,5.309589034527496e-06,8.026166924704947e-06,1.2410739113661802e-05,1.9647780861507308e-05,3.1871844237757245e-05,5.3012497397098715e-05,9.045756438349392e-05,0.0001583800732605055,0.00028447842697934024,0.0005237296990133325,0.0009863912384101693,0.0018939723348244358,0.003685910502083742,0.007202547784091046,0.0139306529844962,0.026133125045743288,0.04636326328566858,0.07583230050531091,0.11229230885629386,0.14958418882359803,0.180399794825663,0.2030720877491457,0.22131857990966053,0.2376742706557896,0.2533165126280549,0.2687129189532589,0.2840108280585789,0.2992201064923147,0.31429345928958646,0.3291616409848421,0.3437492660605247,0.3579823292659428,0.37179211944256785,0.38511745454652746,0.3979060164425011,0.4101151005967658,0.42171191816673614,0.432673526501431,0.4429864476219541,0.45264603319362023,0.4616556364529781,0.470025647787131,0.4777724574251597,0.4849173970999888,0.49148569945352316,0.49750551401507787,0.5030070048163215,0.5080215462548849,0.512581025974222,0.516717256933942,0.5204614956881312,0.5238440601269498,0.5268940374838184,0.5296390720287438,0.5321052213599772,0.5343168703436141,0.5362966923619003,0.538065648429332,0.5396430159186462,0.541046440808803,0.5422920310738191,0.5433944506809524,0.5443668002285409,0.5452209309744176,0.545967455064068,0.5466158202887463,0.5471743819989907,0.5476504665862171,0.5480504248462533,0.5483796738548532,0.5486427263549378,0.5488432070821301,0.5489838559837787,0.5490665188939516,0.5490921268986164,0.5490606663251857,0.5489711419280474,0.5488215364284835,0.5486087698300575,0.548328662087243,0.5479759023896782,0.5475440279016829,0.5470254138695785]},\"selected\":{\"id\":\"2471\"},\"selection_policy\":{\"id\":\"2470\"}},\"id\":\"2357\",\"type\":\"ColumnDataSource\"},{\"attributes\":{},\"id\":\"2327\",\"type\":\"DataRange1d\"},{\"attributes\":{\"fill_alpha\":{\"value\":0.1},\"fill_color\":{\"value\":\"#1f77b4\"},\"hatch_alpha\":{\"value\":0.1},\"line_alpha\":{\"value\":0.1},\"line_color\":{\"value\":\"#1f77b4\"},\"marker\":{\"value\":\"dot\"},\"size\":{\"value\":20},\"x\":{\"field\":\"x\"},\"y\":{\"field\":\"y\"}},\"id\":\"2359\",\"type\":\"Scatter\"}],\"root_ids\":[\"2326\"]},\"title\":\"Bokeh Application\",\"version\":\"2.4.1\"}};\n  const render_items = [{\"docid\":\"d40ce98f-9358-4547-abd0-6ccdde31e8c6\",\"root_ids\":[\"2326\"],\"roots\":{\"2326\":\"4b7afe4c-d37f-4138-a4e8-5025ee112e69\"}}];\n  root.Bokeh.embed.embed_items_notebook(docs_json, render_items);\n\n  }\n  if (root.Bokeh !== undefined) {\n    embed_document(root);\n  } else {\n    let attempts = 0;\n    const timer = setInterval(function(root) {\n      if (root.Bokeh !== undefined) {\n        clearInterval(timer);\n        embed_document(root);\n      } else {\n        attempts++;\n        if (attempts > 100) {\n          clearInterval(timer);\n          console.log(\"Bokeh: ERROR: Unable to run BokehJS code because BokehJS library is missing\");\n        }\n      }\n    }, 10, root)\n  }\n})(window);",
      "application/vnd.bokehjs_exec.v0+json": ""
     },
     "metadata": {
      "application/vnd.bokehjs_exec.v0+json": {
       "id": "2326"
      }
     },
     "output_type": "display_data"
    }
   ],
   "source": [
    "conc = np.logspace(-4,1, 100, endpoint=True)\n",
    "\n",
    "p = figure(width=800, height=400,x_axis_type = \"log\")\n",
    "p.dot(conc,stored_data,size=20)\n",
    "p.xaxis.axis_label = 'DNA concentration'\n",
    "p.yaxis.axis_label = 'Concentration'\n",
    "\n",
    "show(p)\n",
    "#bokeh.io.export_png(p, filename=\"plot.png\")\n"
   ]
  },
  {
   "cell_type": "code",
   "execution_count": 7,
   "metadata": {},
   "outputs": [
    {
     "name": "stdout",
     "output_type": "stream",
     "text": [
      "[1.00000000e-04 1.12332403e-04 1.26185688e-04 1.41747416e-04\n",
      " 1.59228279e-04 1.78864953e-04 2.00923300e-04 2.25701972e-04\n",
      " 2.53536449e-04 2.84803587e-04 3.19926714e-04 3.59381366e-04\n",
      " 4.03701726e-04 4.53487851e-04 5.09413801e-04 5.72236766e-04\n",
      " 6.42807312e-04 7.22080902e-04 8.11130831e-04 9.11162756e-04\n",
      " 1.02353102e-03 1.14975700e-03 1.29154967e-03 1.45082878e-03\n",
      " 1.62975083e-03 1.83073828e-03 2.05651231e-03 2.31012970e-03\n",
      " 2.59502421e-03 2.91505306e-03 3.27454916e-03 3.67837977e-03\n",
      " 4.13201240e-03 4.64158883e-03 5.21400829e-03 5.85702082e-03\n",
      " 6.57933225e-03 7.39072203e-03 8.30217568e-03 9.32603347e-03\n",
      " 1.04761575e-02 1.17681195e-02 1.32194115e-02 1.48496826e-02\n",
      " 1.66810054e-02 1.87381742e-02 2.10490414e-02 2.36448941e-02\n",
      " 2.65608778e-02 2.98364724e-02 3.35160265e-02 3.76493581e-02\n",
      " 4.22924287e-02 4.75081016e-02 5.33669923e-02 5.99484250e-02\n",
      " 6.73415066e-02 7.56463328e-02 8.49753436e-02 9.54548457e-02\n",
      " 1.07226722e-01 1.20450354e-01 1.35304777e-01 1.51991108e-01\n",
      " 1.70735265e-01 1.91791026e-01 2.15443469e-01 2.42012826e-01\n",
      " 2.71858824e-01 3.05385551e-01 3.43046929e-01 3.85352859e-01\n",
      " 4.32876128e-01 4.86260158e-01 5.46227722e-01 6.13590727e-01\n",
      " 6.89261210e-01 7.74263683e-01 8.69749003e-01 9.77009957e-01\n",
      " 1.09749877e+00 1.23284674e+00 1.38488637e+00 1.55567614e+00\n",
      " 1.74752840e+00 1.96304065e+00 2.20513074e+00 2.47707636e+00\n",
      " 2.78255940e+00 3.12571585e+00 3.51119173e+00 3.94420606e+00\n",
      " 4.43062146e+00 4.97702356e+00 5.59081018e+00 6.28029144e+00\n",
      " 7.05480231e+00 7.92482898e+00 8.90215085e+00 1.00000000e+01]\n"
     ]
    }
   ],
   "source": [
    "print(conc)"
   ]
  },
  {
   "cell_type": "code",
   "execution_count": null,
   "metadata": {},
   "outputs": [
    {
     "name": "stdout",
     "output_type": "stream",
     "text": [
      "[1.00000000e-04 1.12332403e-04 1.26185688e-04 1.41747416e-04\n",
      " 1.59228279e-04 1.78864953e-04 2.00923300e-04 2.25701972e-04\n",
      " 2.53536449e-04 2.84803587e-04 3.19926714e-04 3.59381366e-04\n",
      " 4.03701726e-04 4.53487851e-04 5.09413801e-04 5.72236766e-04\n",
      " 6.42807312e-04 7.22080902e-04 8.11130831e-04 9.11162756e-04\n",
      " 1.02353102e-03 1.14975700e-03 1.29154967e-03 1.45082878e-03\n",
      " 1.62975083e-03 1.83073828e-03 2.05651231e-03 2.31012970e-03\n",
      " 2.59502421e-03 2.91505306e-03 3.27454916e-03 3.67837977e-03\n",
      " 4.13201240e-03 4.64158883e-03 5.21400829e-03 5.85702082e-03\n",
      " 6.57933225e-03 7.39072203e-03 8.30217568e-03 9.32603347e-03\n",
      " 1.04761575e-02 1.17681195e-02 1.32194115e-02 1.48496826e-02\n",
      " 1.66810054e-02 1.87381742e-02 2.10490414e-02 2.36448941e-02\n",
      " 2.65608778e-02 2.98364724e-02 3.35160265e-02 3.76493581e-02\n",
      " 4.22924287e-02 4.75081016e-02 5.33669923e-02 5.99484250e-02\n",
      " 6.73415066e-02 7.56463328e-02 8.49753436e-02 9.54548457e-02\n",
      " 1.07226722e-01 1.20450354e-01 1.35304777e-01 1.51991108e-01\n",
      " 1.70735265e-01 1.91791026e-01 2.15443469e-01 2.42012826e-01\n",
      " 2.71858824e-01 3.05385551e-01 3.43046929e-01 3.85352859e-01\n",
      " 4.32876128e-01 4.86260158e-01 5.46227722e-01 6.13590727e-01\n",
      " 6.89261210e-01 7.74263683e-01 8.69749003e-01 9.77009957e-01\n",
      " 1.09749877e+00 1.23284674e+00 1.38488637e+00 1.55567614e+00\n",
      " 1.74752840e+00 1.96304065e+00 2.20513074e+00 2.47707636e+00\n",
      " 2.78255940e+00 3.12571585e+00 3.51119173e+00 3.94420606e+00\n",
      " 4.43062146e+00 4.97702356e+00 5.59081018e+00 6.28029144e+00\n",
      " 7.05480231e+00 7.92482898e+00 8.90215085e+00 1.00000000e+01]\n"
     ]
    }
   ],
   "source": [
    "print(conc)"
   ]
  },
  {
   "cell_type": "code",
   "execution_count": null,
   "metadata": {},
   "outputs": [],
   "source": []
  }
 ],
 "metadata": {
  "kernelspec": {
   "display_name": "Python 3.9.12 ('base')",
   "language": "python",
   "name": "python3"
  },
  "language_info": {
   "codemirror_mode": {
    "name": "ipython",
    "version": 3
   },
   "file_extension": ".py",
   "mimetype": "text/x-python",
   "name": "python",
   "nbconvert_exporter": "python",
   "pygments_lexer": "ipython3",
   "version": "3.9.7"
  },
  "orig_nbformat": 4,
  "vscode": {
   "interpreter": {
    "hash": "702350541321a2f0d6ee5689c760d1f3e12a6e5a69204819bb813b28aabd20d3"
   }
  }
 },
 "nbformat": 4,
 "nbformat_minor": 2
}
