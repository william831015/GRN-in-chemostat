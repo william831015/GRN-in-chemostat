{
 "cells": [
  {
   "cell_type": "markdown",
   "metadata": {},
   "source": [
    "20221010 "
   ]
  },
  {
   "cell_type": "code",
   "execution_count": 1,
   "metadata": {},
   "outputs": [
    {
     "ename": "ImportError",
     "evalue": "cannot import name 'dilution' from 'scripts.functions' (/Users/william/Desktop/git/GRN-in-chemostat/scripts/functions.py)",
     "output_type": "error",
     "traceback": [
      "\u001b[0;31m---------------------------------------------------------------------------\u001b[0m",
      "\u001b[0;31mImportError\u001b[0m                               Traceback (most recent call last)",
      "\u001b[0;32m/var/folders/0v/g9gh7qlj3bb0y2y0t0lpf2ym0000gn/T/ipykernel_89433/375379281.py\u001b[0m in \u001b[0;36m<module>\u001b[0;34m\u001b[0m\n\u001b[1;32m      2\u001b[0m \u001b[0msys\u001b[0m\u001b[0;34m.\u001b[0m\u001b[0mpath\u001b[0m\u001b[0;34m.\u001b[0m\u001b[0mappend\u001b[0m\u001b[0;34m(\u001b[0m\u001b[0mos\u001b[0m\u001b[0;34m.\u001b[0m\u001b[0mpath\u001b[0m\u001b[0;34m.\u001b[0m\u001b[0mrealpath\u001b[0m\u001b[0;34m(\u001b[0m\u001b[0;34m'..'\u001b[0m\u001b[0;34m)\u001b[0m\u001b[0;34m)\u001b[0m\u001b[0;34m\u001b[0m\u001b[0;34m\u001b[0m\u001b[0m\n\u001b[1;32m      3\u001b[0m \u001b[0;34m\u001b[0m\u001b[0m\n\u001b[0;32m----> 4\u001b[0;31m \u001b[0;32mfrom\u001b[0m \u001b[0mscripts\u001b[0m\u001b[0;34m.\u001b[0m\u001b[0mfunctions\u001b[0m \u001b[0;32mimport\u001b[0m \u001b[0mdilution\u001b[0m\u001b[0;34m,\u001b[0m \u001b[0mreplenish\u001b[0m\u001b[0;34m,\u001b[0m \u001b[0mdilute_out_species\u001b[0m\u001b[0;34m\u001b[0m\u001b[0;34m\u001b[0m\u001b[0m\n\u001b[0m\u001b[1;32m      5\u001b[0m \u001b[0;32mfrom\u001b[0m \u001b[0mscripts\u001b[0m\u001b[0;34m.\u001b[0m\u001b[0mspecies\u001b[0m \u001b[0;32mimport\u001b[0m \u001b[0mDNA\u001b[0m\u001b[0;34m,\u001b[0m \u001b[0mRNA\u001b[0m\u001b[0;34m,\u001b[0m \u001b[0mProtein\u001b[0m\u001b[0;34m,\u001b[0m \u001b[0mResource\u001b[0m\u001b[0;34m\u001b[0m\u001b[0;34m\u001b[0m\u001b[0m\n\u001b[1;32m      6\u001b[0m \u001b[0;32mfrom\u001b[0m \u001b[0mscripts\u001b[0m\u001b[0;34m.\u001b[0m\u001b[0mmodels\u001b[0m \u001b[0;32mimport\u001b[0m \u001b[0mRepressor_model\u001b[0m\u001b[0;34m\u001b[0m\u001b[0;34m\u001b[0m\u001b[0m\n",
      "\u001b[0;31mImportError\u001b[0m: cannot import name 'dilution' from 'scripts.functions' (/Users/william/Desktop/git/GRN-in-chemostat/scripts/functions.py)"
     ]
    }
   ],
   "source": [
    "import sys,os\n",
    "sys.path.append(os.path.realpath('..'))\n",
    "\n",
    "from scripts.functions import dilution, replenish, dilute_out_species\n",
    "from scripts.species import DNA, RNA, Protein, Resource\n",
    "from scripts.models import Repressor_model\n",
    "\n",
    "\n",
    "import numpy as np\n",
    "import scipy.integrate\n",
    "import scipy.optimize\n",
    "from bokeh.plotting import figure, output_file, show\n",
    "\n",
    "import bokeh.plotting\n",
    "import bokeh.io\n",
    "from bokeh.models import Span\n",
    "\n",
    "\n",
    "# We will use Matplotlib to make a 3D plot\n",
    "import matplotlib.pyplot as plt\n",
    "from mpl_toolkits.mplot3d import Axes3D\n",
    "%matplotlib inline\n",
    "%config InlineBackend.figure_format = 'retina'\n",
    "\n",
    "import panel as pn\n",
    "pn.extension()\n",
    "\n",
    "bokeh.io.output_notebook()"
   ]
  },
  {
   "cell_type": "code",
   "execution_count": 2,
   "metadata": {},
   "outputs": [
    {
     "ename": "NameError",
     "evalue": "name 'DNA' is not defined",
     "output_type": "error",
     "traceback": [
      "\u001b[0;31m---------------------------------------------------------------------------\u001b[0m",
      "\u001b[0;31mNameError\u001b[0m                                 Traceback (most recent call last)",
      "\u001b[0;32m/var/folders/0v/g9gh7qlj3bb0y2y0t0lpf2ym0000gn/T/ipykernel_89433/3749635236.py\u001b[0m in \u001b[0;36m<module>\u001b[0;34m\u001b[0m\n\u001b[1;32m      2\u001b[0m \u001b[0;34m\u001b[0m\u001b[0m\n\u001b[1;32m      3\u001b[0m \u001b[0;31m#T7 RNAP\u001b[0m\u001b[0;34m\u001b[0m\u001b[0;34m\u001b[0m\u001b[0m\n\u001b[0;32m----> 4\u001b[0;31m \u001b[0mT7_DNA\u001b[0m \u001b[0;34m=\u001b[0m \u001b[0mDNA\u001b[0m\u001b[0;34m(\u001b[0m\u001b[0;34m)\u001b[0m\u001b[0;34m\u001b[0m\u001b[0;34m\u001b[0m\u001b[0m\n\u001b[0m\u001b[1;32m      5\u001b[0m \u001b[0mT7_RNA\u001b[0m \u001b[0;34m=\u001b[0m \u001b[0mRNA\u001b[0m\u001b[0;34m(\u001b[0m\u001b[0;34m)\u001b[0m\u001b[0;34m\u001b[0m\u001b[0;34m\u001b[0m\u001b[0m\n\u001b[1;32m      6\u001b[0m \u001b[0mT7\u001b[0m \u001b[0;34m=\u001b[0m \u001b[0mProtein\u001b[0m\u001b[0;34m(\u001b[0m\u001b[0;34m)\u001b[0m\u001b[0;34m\u001b[0m\u001b[0;34m\u001b[0m\u001b[0m\n",
      "\u001b[0;31mNameError\u001b[0m: name 'DNA' is not defined"
     ]
    }
   ],
   "source": [
    "#######Define species #######\n",
    "\n",
    "#T7 RNAP\n",
    "T7_DNA = DNA()\n",
    "T7_RNA = RNA()\n",
    "T7 = Protein()\n",
    "\n",
    "#Repressor\n",
    "Repressor_DNA = DNA()\n",
    "Repressor_RNA = RNA()\n",
    "Repressor = Protein()\n",
    "\n",
    "#GFP\n",
    "GFP_DNA = DNA()\n",
    "GFP_RNA = RNA()\n",
    "GFP = Protein()\n",
    "\n",
    "#Resource\n",
    "R      = Resource()\n",
    "\n",
    "#Others\n",
    "TX = 1\n",
    "TL = 1\n",
    "\n",
    "#list of molecules\n",
    "molecules_list = [T7_DNA,T7_RNA,T7,GFP_DNA,GFP_RNA,GFP,Repressor_DNA,Repressor_RNA,Repressor,R]\n",
    "\n",
    "\n",
    "#give index num\n",
    "for i in range(0,len(molecules_list)):\n",
    "    molecules_list[i].idx = i\n",
    "\n",
    "\n",
    "\n",
    "\n",
    "#define values \n",
    "##T7\n",
    "T7_DNA.ic =0.2\n",
    "T7_DNA.lc = 0.2\n",
    "\n",
    "T7.ic = 1\n",
    "T7.lc = 1\n",
    "\n",
    "##GFP\n",
    "GFP_DNA.ic = 1\n",
    "GFP_DNA.lc = 1\n",
    "\n",
    "GFP.lc = 0\n",
    "\n",
    "##Repressor \n",
    "Repressor_DNA.ic = 0.2\n",
    "Repressor_DNA.lc = 0.2\n",
    "\n",
    "\n",
    "#resources\n",
    "R.ic =10\n",
    "R.lc =10\n",
    "\n",
    "#initial value\n",
    "molecules_0 = [None]*len(molecules_list) #create empty list\n",
    "\n",
    "\n",
    "for i in range(0,len(molecules_list)):\n",
    "\n",
    "    molecules_0[i] = molecules_list[i].ic\n"
   ]
  },
  {
   "cell_type": "code",
   "execution_count": 18,
   "metadata": {},
   "outputs": [],
   "source": [
    "#Define parameters\n",
    "alpha=0.7;\n",
    "beta=0.07;\n",
    "K=1.0;\n",
    "Kd = 0.5;\n",
    "HC = 1;\n",
    "KTL=10;\n",
    "KTX=1;\n",
    "lamb1=0;\n",
    "lamb2=0;\n",
    "\n",
    "parameters_list = (alpha,beta,K,Kd,KTL,KTX,lamb1,lamb2)\n",
    "\n"
   ]
  },
  {
   "cell_type": "code",
   "execution_count": 19,
   "metadata": {},
   "outputs": [],
   "source": [
    "#stage 1 kick start\n",
    "result_all=molecules_0 #initial condition\n",
    "\n",
    "DR = 0.2\n",
    "Switch_time = np.array([4,16,24])\n",
    "Switch_cycle = Switch_time*4\n",
    "\n",
    "dilution_list = [T7_RNA,GFP,GFP_RNA,Repressor,Repressor_RNA]\n",
    "replenish_list = [T7,R]\n",
    "\n",
    "for n in range (1,Switch_cycle[0]):\n",
    "\n",
    "    #define time\n",
    "    t_start= n*15\n",
    "    t_end = (n+1)*15\n",
    "    t= np.linspace(t_start,t_end,2)\n",
    "\n",
    "    #solve equation and save result\n",
    "    result = scipy.integrate.odeint(Repressor_model, molecules_0, t, args=parameters_list)\n",
    "    result_all = np.append(result_all,result[1])\n",
    "    #update parameter\n",
    "    molecules_0 = result.transpose()[:,-1]\n",
    "     \n",
    "    #dilution & replenish\n",
    "\n",
    "    ###diute out\n",
    "    dilute_out_species((T7_RNA,GFP,GFP_RNA,Repressor,Repressor_RNA),molecules_0)\n",
    "\n",
    "    ###replenish \n",
    "    molecules_0[R.idx] = R.ic*DR+(1-DR)*molecules_0[R.idx]\n",
    "    molecules_0[T7.idx] = T7.lc*DR+(1-DR)*molecules_0[T7.idx]\n",
    "\n",
    "\n",
    "\n",
    "#stage 2 self regeneration \n",
    "\n",
    "for n in range (Switch_cycle[0],Switch_cycle[1]):\n",
    "\n",
    "    #define time\n",
    "    t_start= n*15\n",
    "    t_end = (n+1)*15\n",
    "    t= np.linspace(t_start,t_end,2)\n",
    "\n",
    "    #solve equation and save result\n",
    "    result = scipy.integrate.odeint(Repressor_model, molecules_0, t, args=parameters_list)\n",
    "    result_all = np.append(result_all,result[1])\n",
    "    \n",
    "    #update parameter\n",
    "    molecules_0 = result.transpose()[:,-1]\n",
    "    \n",
    "    #dilution \n",
    "    ###replenish \n",
    "    molecules_0[R.idx] = R.ic*DR+(1-DR)*molecules_0[R.idx]\n",
    "    \n",
    "\n",
    "    ###diute out\n",
    "    dilute_out_species((T7_RNA,GFP,GFP_RNA,Repressor,Repressor_RNA),molecules_0)\n",
    "\n",
    "\n",
    "\n",
    "for n in range (Switch_cycle[1],Switch_cycle[2]):\n",
    "\n",
    "    #define time\n",
    "    t_start= n*15\n",
    "    t_end = (n+1)*15\n",
    "    t= np.linspace(t_start,t_end,2)\n",
    "\n",
    "    #solve equation and save result\n",
    "    result = scipy.integrate.odeint(Repressor_model, molecules_0, t, args=parameters_list)\n",
    "    result_all = np.append(result_all,result[1])\n",
    "    #update parameter\n",
    "    molecules_0 = result.transpose()[:,-1]\n",
    "    \n",
    "    #dilution \n",
    "    ###replenish \n",
    "    molecules_0[R.idx] = R.ic*DR+(1-DR)*molecules_0[R.idx]\n",
    "\n",
    "    ###diute out\n",
    "    dilute_out_species((T7,T7_RNA,T7_DNA,GFP,GFP_RNA,GFP_DNA,Repressor,Repressor_RNA,Repressor_DNA),molecules_0)\n",
    "\n",
    "\n",
    "\n",
    "result_all = np.resize(result_all,(96,10))\n",
    "for i in range(0,len(molecules_list)):\n",
    "        (molecules_list[i]).result = result_all.transpose()[i]\n",
    "\n",
    "#T7_DNA,T7_RNA,T7,GFP_DNA,GFP_RNA,GFP,R = result_all.transpose()\n"
   ]
  },
  {
   "cell_type": "code",
   "execution_count": 20,
   "metadata": {},
   "outputs": [
    {
     "name": "stdout",
     "output_type": "stream",
     "text": [
      "[16 64 96]\n"
     ]
    }
   ],
   "source": [
    "Switch_time = np.array([4,16,24])\n",
    "Switch_cycle = Switch_time*4\n",
    "print(Switch_cycle)"
   ]
  },
  {
   "cell_type": "code",
   "execution_count": 21,
   "metadata": {},
   "outputs": [
    {
     "data": {
      "text/html": [
       "\n",
       "\n",
       "\n",
       "\n",
       "\n",
       "\n",
       "  <div class=\"bk-root\" id=\"5d070eef-43ed-49d3-a8a4-0fb4bb244128\" data-root-id=\"1351\"></div>\n"
      ]
     },
     "metadata": {},
     "output_type": "display_data"
    },
    {
     "data": {
      "application/javascript": "(function(root) {\n  function embed_document(root) {\n    \n  const docs_json = {\"4989ab8b-e537-44c2-b4b7-3263a3017f67\":{\"defs\":[{\"extends\":null,\"module\":null,\"name\":\"ReactiveHTML1\",\"overrides\":[],\"properties\":[]},{\"extends\":null,\"module\":null,\"name\":\"FlexBox1\",\"overrides\":[],\"properties\":[{\"default\":\"flex-start\",\"kind\":null,\"name\":\"align_content\"},{\"default\":\"flex-start\",\"kind\":null,\"name\":\"align_items\"},{\"default\":\"row\",\"kind\":null,\"name\":\"flex_direction\"},{\"default\":\"wrap\",\"kind\":null,\"name\":\"flex_wrap\"},{\"default\":\"flex-start\",\"kind\":null,\"name\":\"justify_content\"}]},{\"extends\":null,\"module\":null,\"name\":\"GridStack1\",\"overrides\":[],\"properties\":[{\"default\":\"warn\",\"kind\":null,\"name\":\"mode\"},{\"default\":null,\"kind\":null,\"name\":\"ncols\"},{\"default\":null,\"kind\":null,\"name\":\"nrows\"},{\"default\":true,\"kind\":null,\"name\":\"allow_resize\"},{\"default\":true,\"kind\":null,\"name\":\"allow_drag\"},{\"default\":[],\"kind\":null,\"name\":\"state\"}]},{\"extends\":null,\"module\":null,\"name\":\"click1\",\"overrides\":[],\"properties\":[{\"default\":\"\",\"kind\":null,\"name\":\"terminal_output\"},{\"default\":\"\",\"kind\":null,\"name\":\"debug_name\"},{\"default\":0,\"kind\":null,\"name\":\"clears\"}]},{\"extends\":null,\"module\":null,\"name\":\"TemplateActions1\",\"overrides\":[],\"properties\":[{\"default\":0,\"kind\":null,\"name\":\"open_modal\"},{\"default\":0,\"kind\":null,\"name\":\"close_modal\"}]},{\"extends\":null,\"module\":null,\"name\":\"MaterialTemplateActions1\",\"overrides\":[],\"properties\":[{\"default\":0,\"kind\":null,\"name\":\"open_modal\"},{\"default\":0,\"kind\":null,\"name\":\"close_modal\"}]}],\"roots\":{\"references\":[{\"attributes\":{\"below\":[{\"id\":\"1360\"}],\"center\":[{\"id\":\"1363\"},{\"id\":\"1367\"},{\"id\":\"1388\"},{\"id\":\"1389\"}],\"height\":400,\"left\":[{\"id\":\"1364\"}],\"renderers\":[{\"id\":\"1386\"}],\"title\":{\"id\":\"1423\"},\"toolbar\":{\"id\":\"1375\"},\"width\":800,\"x_range\":{\"id\":\"1352\"},\"x_scale\":{\"id\":\"1356\"},\"y_range\":{\"id\":\"1354\"},\"y_scale\":{\"id\":\"1358\"}},\"id\":\"1351\",\"subtype\":\"Figure\",\"type\":\"Plot\"},{\"attributes\":{\"coordinates\":null,\"dimension\":\"height\",\"group\":null,\"line_dash\":[6],\"location\":16},\"id\":\"1389\",\"type\":\"Span\"},{\"attributes\":{},\"id\":\"1368\",\"type\":\"PanTool\"},{\"attributes\":{\"axis\":{\"id\":\"1360\"},\"coordinates\":null,\"group\":null,\"ticker\":null},\"id\":\"1363\",\"type\":\"Grid\"},{\"attributes\":{},\"id\":\"1361\",\"type\":\"BasicTicker\"},{\"attributes\":{\"bottom_units\":\"screen\",\"coordinates\":null,\"fill_alpha\":0.5,\"fill_color\":\"lightgrey\",\"group\":null,\"left_units\":\"screen\",\"level\":\"overlay\",\"line_alpha\":1.0,\"line_color\":\"black\",\"line_dash\":[4,4],\"line_width\":2,\"right_units\":\"screen\",\"syncable\":false,\"top_units\":\"screen\"},\"id\":\"1374\",\"type\":\"BoxAnnotation\"},{\"attributes\":{\"axis_label\":\"t\",\"coordinates\":null,\"formatter\":{\"id\":\"1429\"},\"group\":null,\"major_label_policy\":{\"id\":\"1430\"},\"ticker\":{\"id\":\"1361\"}},\"id\":\"1360\",\"type\":\"LinearAxis\"},{\"attributes\":{},\"id\":\"1358\",\"type\":\"LinearScale\"},{\"attributes\":{},\"id\":\"1365\",\"type\":\"BasicTicker\"},{\"attributes\":{},\"id\":\"1430\",\"type\":\"AllLabels\"},{\"attributes\":{\"line_color\":\"#1f77b4\",\"line_width\":2,\"x\":{\"field\":\"x\"},\"y\":{\"field\":\"y\"}},\"id\":\"1383\",\"type\":\"Line\"},{\"attributes\":{},\"id\":\"1372\",\"type\":\"ResetTool\"},{\"attributes\":{},\"id\":\"1369\",\"type\":\"WheelZoomTool\"},{\"attributes\":{},\"id\":\"1426\",\"type\":\"BasicTickFormatter\"},{\"attributes\":{\"axis\":{\"id\":\"1364\"},\"coordinates\":null,\"dimension\":1,\"group\":null,\"ticker\":null},\"id\":\"1367\",\"type\":\"Grid\"},{\"attributes\":{},\"id\":\"1431\",\"type\":\"UnionRenderers\"},{\"attributes\":{},\"id\":\"1371\",\"type\":\"SaveTool\"},{\"attributes\":{\"data\":{\"x\":{\"__ndarray__\":\"AAAAAAAAAACyAmGkHSvQP7ICYaQdK+A/C4SRdqxA6D+yAmGkHSvwP15DeQ3lNfQ/C4SRdqxA+D+2xKnfc0v8P7ICYaQdKwBAByPtWIEwAkBeQ3kN5TUEQLRjBcJIOwZAC4SRdqxACEBhpB0rEEYKQLbEqd9zSwxADeU1lNdQDkCyAmGkHSsQQN0Sp37PLRFAByPtWIEwEkAzMzMzMzMTQF5DeQ3lNRRAilO/55Y4FUC0YwXCSDsWQN9zS5z6PRdAC4SRdqxAGEA1lNdQXkMZQGGkHSsQRhpAjLRjBcJIG0C2xKnfc0scQOLU77klTh1ADeU1lNdQHkA59XtuiVMfQLICYaQdKyBAxwqEkXasIEDdEqd+zy0hQPIaymsoryFAByPtWIEwIkAeKxBG2rEiQDMzMzMzMyNASTtWIIy0I0BeQ3kN5TUkQHNLnPo9tyRAilO/55Y4JUCfW+LU77klQLRjBcJIOyZAymsor6G8JkDfc0uc+j0nQPV7bolTvydAC4SRdqxAKEAgjLRjBcIoQDWU11BeQylAS5z6PbfEKUBhpB0rEEYqQHasQBhpxypAjLRjBcJIK0ChvIbyGsorQLbEqd9zSyxAzczMzMzMLEDi1O+5JU4tQPfcEqd+zy1ADeU1lNdQLkAi7ViBMNIuQDn1e26JUy9ATv2eW+LUL0CyAmGkHSswQLyG8hrKazBAxwqEkXasMEDSjhUII+0wQN0Sp37PLTFA55Y49XtuMUDyGsprKK8xQP2eW+LU7zFAByPtWIEwMkASp37PLXEyQB4rEEbasTJAKa+hvIbyMkAzMzMzMzMzQD63xKnfczNASTtWIIy0M0BTv+eWOPUzQF5DeQ3lNTRAaccKhJF2NEBzS5z6Pbc0QH7PLXHq9zRAilO/55Y4NUCU11BeQ3k1QJ9b4tTvuTVAqt9zS5z6NUC0YwXCSDs2QL/nljj1ezZAymsor6G8NkDU77klTv02QN9zS5z6PTdA6vfcEqd+N0D1e26JU783QAAAAAAAADhA\",\"dtype\":\"float64\",\"order\":\"little\",\"shape\":[96]},\"y\":{\"__ndarray__\":\"AAAAAAAA8D9kYGN7wjv0P8G/oPurfvQ/EDY9W1Wj9D8X7eLsBLP0P+x0RSiGtPQ/Z55ZWsis9D/SFGOtVp/0P6v3D0+zjvQ/obk3gJx89D8YLVrCQGr0P3R7+B1mWPQ/5PXKjodH9D9ia6Xt6jf0P4f+WCWxKfQ/eeNwFeIc9D+7LXwzdRH0P4MhjycL0vQ/vK6L9hKN9T+D3oMrY0P2P4j3h1us9fY/hawIGX+k9z+x+eZXUVD4P7tqTSCD+fg/vNIvjmKg+T+CblAqL0X6PyqRyq8c6Po/xY2gUlWJ+z8yIP2a+yj8PyFJ/+Yrx/w/9iCLov1j/T8Ar6dChP/9Pw5aZQ/Qmf4/IkS9xe4y/z+LRhMZ7Mr/PydHUw3pMABAPgUJxtR7AEADzIIQPcYAQLklylklEAFAEmHmtpBZAUDkAGT1gaIBQKs0eqj76gFA6ydtMwAzAkBJuePRkXoCQHx3eJ6ywQJALrX1l2QIA0DBBIClqU4DQBEe6JmDlANAAmlRNvTZA0DmB1Es/R4EQPXHoR+gYwRA2XKDp96nBED58dZPuusEQBUYB5o0LwVA6IPF/U5yBUB7J6jpCrUFQNdrrMNp9wVAuc2l6Ww5BkDhPpyxFXsGQLmvHWplvAZAAGuFWl39BkA1WzvD/j0HQBDf7N1KfgdAJnfA3UK+B0DcT4Xv5/0HQJSUsGbpiwNAViOqxvYcAECqFOwuIv76P841QHJ7Dfc/Z5ihldwc9D+9zqQXb+3xP8VcL2SPTPA/vW3tVPIk7j8Cp5Fye0DsP+tSFfC6u+o/weUISNhx6T8bPoNKOUfoP36Skx/sJ+c/f806c1AG5j8A6umLFNrkP4PyykRwn+M/KG54b2dW4j8f/Gcj7AHhP0BumOjCTd8/y8GcqTuW3D9C8cvtIunZP3XzfPlNUdc/2s2VdsXX1D9naRKGb4PSP1cHPOcIWdA/UUiHo6K2zD+9ntT9pRbJPxSSzn1p0cU/Mced/Bbkwj9XH3IsSkrAP/odGPIj/bs/\",\"dtype\":\"float64\",\"order\":\"little\",\"shape\":[96]}},\"selected\":{\"id\":\"1432\"},\"selection_policy\":{\"id\":\"1431\"}},\"id\":\"1382\",\"type\":\"ColumnDataSource\"},{\"attributes\":{\"coordinates\":null,\"data_source\":{\"id\":\"1382\"},\"glyph\":{\"id\":\"1383\"},\"group\":null,\"hover_glyph\":null,\"muted_glyph\":{\"id\":\"1385\"},\"nonselection_glyph\":{\"id\":\"1384\"},\"view\":{\"id\":\"1387\"}},\"id\":\"1386\",\"type\":\"GlyphRenderer\"},{\"attributes\":{\"coordinates\":null,\"formatter\":{\"id\":\"1426\"},\"group\":null,\"major_label_policy\":{\"id\":\"1427\"},\"ticker\":{\"id\":\"1365\"}},\"id\":\"1364\",\"type\":\"LinearAxis\"},{\"attributes\":{\"overlay\":{\"id\":\"1374\"}},\"id\":\"1370\",\"type\":\"BoxZoomTool\"},{\"attributes\":{},\"id\":\"1354\",\"type\":\"DataRange1d\"},{\"attributes\":{\"coordinates\":null,\"dimension\":\"height\",\"group\":null,\"line_dash\":[6],\"location\":4},\"id\":\"1388\",\"type\":\"Span\"},{\"attributes\":{},\"id\":\"1356\",\"type\":\"LinearScale\"},{\"attributes\":{},\"id\":\"1432\",\"type\":\"Selection\"},{\"attributes\":{},\"id\":\"1373\",\"type\":\"HelpTool\"},{\"attributes\":{\"source\":{\"id\":\"1382\"}},\"id\":\"1387\",\"type\":\"CDSView\"},{\"attributes\":{\"tools\":[{\"id\":\"1368\"},{\"id\":\"1369\"},{\"id\":\"1370\"},{\"id\":\"1371\"},{\"id\":\"1372\"},{\"id\":\"1373\"}]},\"id\":\"1375\",\"type\":\"Toolbar\"},{\"attributes\":{\"line_alpha\":0.1,\"line_color\":\"#1f77b4\",\"line_width\":2,\"x\":{\"field\":\"x\"},\"y\":{\"field\":\"y\"}},\"id\":\"1384\",\"type\":\"Line\"},{\"attributes\":{},\"id\":\"1429\",\"type\":\"BasicTickFormatter\"},{\"attributes\":{},\"id\":\"1352\",\"type\":\"DataRange1d\"},{\"attributes\":{\"coordinates\":null,\"group\":null},\"id\":\"1423\",\"type\":\"Title\"},{\"attributes\":{},\"id\":\"1427\",\"type\":\"AllLabels\"},{\"attributes\":{\"line_alpha\":0.2,\"line_color\":\"#1f77b4\",\"line_width\":2,\"x\":{\"field\":\"x\"},\"y\":{\"field\":\"y\"}},\"id\":\"1385\",\"type\":\"Line\"}],\"root_ids\":[\"1351\"]},\"title\":\"Bokeh Application\",\"version\":\"2.4.2\"}};\n  const render_items = [{\"docid\":\"4989ab8b-e537-44c2-b4b7-3263a3017f67\",\"root_ids\":[\"1351\"],\"roots\":{\"1351\":\"5d070eef-43ed-49d3-a8a4-0fb4bb244128\"}}];\n  root.Bokeh.embed.embed_items_notebook(docs_json, render_items);\n\n  }\n  if (root.Bokeh !== undefined) {\n    embed_document(root);\n  } else {\n    let attempts = 0;\n    const timer = setInterval(function(root) {\n      if (root.Bokeh !== undefined) {\n        clearInterval(timer);\n        embed_document(root);\n      } else {\n        attempts++;\n        if (attempts > 100) {\n          clearInterval(timer);\n          console.log(\"Bokeh: ERROR: Unable to run BokehJS code because BokehJS library is missing\");\n        }\n      }\n    }, 10, root)\n  }\n})(window);",
      "application/vnd.bokehjs_exec.v0+json": ""
     },
     "metadata": {
      "application/vnd.bokehjs_exec.v0+json": {
       "id": "1351"
      }
     },
     "output_type": "display_data"
    }
   ],
   "source": [
    "t = np.linspace(0, 1440, 96)\n",
    "p = bokeh.plotting.figure(\n",
    "    plot_width=800,\n",
    "    plot_height=400,\n",
    "    x_axis_label=\"t\",\n",
    "    y_axis_type=\"linear\",\n",
    "\n",
    ")\n",
    "\n",
    "colors = bokeh.palettes.d3[\"Category10\"][3]\n",
    "\n",
    "\n",
    "# Populate glyphs\n",
    "p.line(\n",
    "    t/60, T7.result, line_width=2, color=colors[0]\n",
    ")\n",
    "vline1 = Span(location=4, dimension='height', line_color='black', line_width=1,line_dash='dashed')\n",
    "vline2 = Span(location=16, dimension='height', line_color='black', line_width=1,line_dash='dashed')\n",
    "p.add_layout(vline1)\n",
    "p.add_layout(vline2)\n",
    "\n",
    "\n",
    "show(p)\n"
   ]
  }
 ],
 "metadata": {
  "kernelspec": {
   "display_name": "Python 3.9.7 ('base')",
   "language": "python",
   "name": "python3"
  },
  "language_info": {
   "codemirror_mode": {
    "name": "ipython",
    "version": 3
   },
   "file_extension": ".py",
   "mimetype": "text/x-python",
   "name": "python",
   "nbconvert_exporter": "python",
   "pygments_lexer": "ipython3",
   "version": "3.9.7"
  },
  "orig_nbformat": 4,
  "vscode": {
   "interpreter": {
    "hash": "702350541321a2f0d6ee5689c760d1f3e12a6e5a69204819bb813b28aabd20d3"
   }
  }
 },
 "nbformat": 4,
 "nbformat_minor": 2
}
