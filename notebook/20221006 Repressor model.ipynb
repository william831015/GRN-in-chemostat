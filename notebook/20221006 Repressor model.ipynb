{
 "cells": [
  {
   "cell_type": "code",
   "execution_count": 7,
   "metadata": {},
   "outputs": [
    {
     "ename": "NameError",
     "evalue": "name 'molecules_0' is not defined",
     "output_type": "error",
     "traceback": [
      "\u001b[0;31m---------------------------------------------------------------------------\u001b[0m",
      "\u001b[0;31mNameError\u001b[0m                                 Traceback (most recent call last)",
      "\u001b[0;32m/var/folders/0v/g9gh7qlj3bb0y2y0t0lpf2ym0000gn/T/ipykernel_81788/3140227457.py\u001b[0m in \u001b[0;36m<module>\u001b[0;34m\u001b[0m\n\u001b[1;32m      2\u001b[0m \u001b[0msys\u001b[0m\u001b[0;34m.\u001b[0m\u001b[0mpath\u001b[0m\u001b[0;34m.\u001b[0m\u001b[0mappend\u001b[0m\u001b[0;34m(\u001b[0m\u001b[0mos\u001b[0m\u001b[0;34m.\u001b[0m\u001b[0mpath\u001b[0m\u001b[0;34m.\u001b[0m\u001b[0mrealpath\u001b[0m\u001b[0;34m(\u001b[0m\u001b[0;34m'..'\u001b[0m\u001b[0;34m)\u001b[0m\u001b[0;34m)\u001b[0m\u001b[0;34m\u001b[0m\u001b[0;34m\u001b[0m\u001b[0m\n\u001b[1;32m      3\u001b[0m \u001b[0;34m\u001b[0m\u001b[0m\n\u001b[0;32m----> 4\u001b[0;31m \u001b[0;32mfrom\u001b[0m \u001b[0mscripts\u001b[0m\u001b[0;34m.\u001b[0m\u001b[0mfunctions\u001b[0m \u001b[0;32mimport\u001b[0m \u001b[0mdilution\u001b[0m\u001b[0;34m,\u001b[0m \u001b[0mreplenish\u001b[0m\u001b[0;34m,\u001b[0m \u001b[0mdilute_out_species\u001b[0m\u001b[0;34m\u001b[0m\u001b[0;34m\u001b[0m\u001b[0m\n\u001b[0m\u001b[1;32m      5\u001b[0m \u001b[0;32mfrom\u001b[0m \u001b[0mscripts\u001b[0m\u001b[0;34m.\u001b[0m\u001b[0mspecies\u001b[0m \u001b[0;32mimport\u001b[0m \u001b[0mDNA\u001b[0m\u001b[0;34m,\u001b[0m \u001b[0mRNA\u001b[0m\u001b[0;34m,\u001b[0m \u001b[0mProtein\u001b[0m\u001b[0;34m,\u001b[0m \u001b[0mResource\u001b[0m\u001b[0;34m\u001b[0m\u001b[0;34m\u001b[0m\u001b[0m\n\u001b[1;32m      6\u001b[0m \u001b[0;32mimport\u001b[0m \u001b[0mscripts\u001b[0m\u001b[0;34m.\u001b[0m\u001b[0mmodels\u001b[0m\u001b[0;34m\u001b[0m\u001b[0;34m\u001b[0m\u001b[0m\n",
      "\u001b[0;32m~/Desktop/git/GRN-in-chemostat/scripts/functions.py\u001b[0m in \u001b[0;36m<module>\u001b[0;34m\u001b[0m\n\u001b[1;32m     11\u001b[0m     \u001b[0;32mreturn\u001b[0m \u001b[0mmolecule_replenished\u001b[0m\u001b[0;34m\u001b[0m\u001b[0;34m\u001b[0m\u001b[0m\n\u001b[1;32m     12\u001b[0m \u001b[0;34m\u001b[0m\u001b[0m\n\u001b[0;32m---> 13\u001b[0;31m \u001b[0;32mdef\u001b[0m \u001b[0mdilute_out_species\u001b[0m\u001b[0;34m(\u001b[0m\u001b[0mmolecules\u001b[0m\u001b[0;34m,\u001b[0m\u001b[0mmolecules_0\u001b[0m\u001b[0;34m=\u001b[0m\u001b[0mmolecules_0\u001b[0m\u001b[0;34m,\u001b[0m\u001b[0mDR\u001b[0m\u001b[0;34m=\u001b[0m\u001b[0;36m0.2\u001b[0m\u001b[0;34m)\u001b[0m\u001b[0;34m:\u001b[0m\u001b[0;34m\u001b[0m\u001b[0;34m\u001b[0m\u001b[0m\n\u001b[0m\u001b[1;32m     14\u001b[0m     \u001b[0;32mfor\u001b[0m \u001b[0mi\u001b[0m \u001b[0;32min\u001b[0m \u001b[0;34m(\u001b[0m\u001b[0mmolecules\u001b[0m\u001b[0;34m)\u001b[0m\u001b[0;34m:\u001b[0m\u001b[0;34m\u001b[0m\u001b[0;34m\u001b[0m\u001b[0m\n\u001b[1;32m     15\u001b[0m         \u001b[0mmolecules_0\u001b[0m\u001b[0;34m[\u001b[0m\u001b[0mi\u001b[0m\u001b[0;34m.\u001b[0m\u001b[0midx\u001b[0m\u001b[0;34m]\u001b[0m \u001b[0;34m=\u001b[0m \u001b[0mdilution\u001b[0m\u001b[0;34m(\u001b[0m\u001b[0mmolecules_0\u001b[0m\u001b[0;34m[\u001b[0m\u001b[0mi\u001b[0m\u001b[0;34m.\u001b[0m\u001b[0midx\u001b[0m\u001b[0;34m]\u001b[0m\u001b[0;34m,\u001b[0m\u001b[0mDR\u001b[0m\u001b[0;34m)\u001b[0m\u001b[0;34m\u001b[0m\u001b[0;34m\u001b[0m\u001b[0m\n",
      "\u001b[0;31mNameError\u001b[0m: name 'molecules_0' is not defined"
     ]
    }
   ],
   "source": [
    "import sys,os\n",
    "sys.path.append(os.path.realpath('..'))\n",
    "\n",
    "from scripts.functions import dilution, replenish, dilute_out_species\n",
    "from scripts.species import DNA, RNA, Protein, Resource\n",
    "import scripts.models \n",
    "\n",
    "\n",
    "import numpy as np\n",
    "import scipy.integrate\n",
    "import scipy.optimize\n",
    "from bokeh.plotting import figure, output_file, show\n",
    "\n",
    "import bokeh.plotting\n",
    "import bokeh.io\n",
    "from bokeh.models import Span\n",
    "\n",
    "\n",
    "# We will use Matplotlib to make a 3D plot\n",
    "import matplotlib.pyplot as plt\n",
    "from mpl_toolkits.mplot3d import Axes3D\n",
    "%matplotlib inline\n",
    "%config InlineBackend.figure_format = 'retina'\n",
    "\n",
    "import panel as pn\n",
    "pn.extension()\n",
    "\n",
    "bokeh.io.output_notebook()"
   ]
  },
  {
   "cell_type": "code",
   "execution_count": null,
   "metadata": {},
   "outputs": [],
   "source": [
    "#######Define species #######\n",
    "\n",
    "#T7 RNAP\n",
    "T7_DNA = DNA()\n",
    "T7_RNA = RNA()\n",
    "T7 = Protein()\n",
    "\n",
    "#Repressor\n",
    "Repressor_DNA = DNA()\n",
    "Repressor_RNA = RNA()\n",
    "Repressor = Protein()\n",
    "\n",
    "#GFP\n",
    "GFP_DNA = DNA()\n",
    "GFP_RNA = RNA()\n",
    "GFP = Protein()\n",
    "\n",
    "#Resource\n",
    "R      = Resource()\n",
    "\n",
    "#Others\n",
    "TX = 1\n",
    "TL = 1\n",
    "\n",
    "#list of molecules\n",
    "molecules_list = [T7_DNA,T7_RNA,T7,GFP_DNA,GFP_RNA,GFP,Repressor_DNA,Repressor_RNA,Repressor,R]\n",
    "\n",
    "\n",
    "#give index num\n",
    "for i in range(0,len(molecules_list)):\n",
    "    molecules_list[i].idx = i\n",
    "\n",
    "\n",
    "\n",
    "\n",
    "#define values \n",
    "##T7\n",
    "T7_DNA.ic =0.1\n",
    "T7_DNA.lc = 0.1\n",
    "\n",
    "T7.ic = 1\n",
    "T7.lc = 1\n",
    "\n",
    "##GFP\n",
    "GFP_DNA.ic = 1\n",
    "GFP_DNA.lc = 1\n",
    "\n",
    "GFP.lc = 0\n",
    "\n",
    "##Repressor \n",
    "Repressor_DNA.ic = 0.2\n",
    "Repressor_DNA.lc = 0.2\n",
    "\n",
    "\n",
    "#resources\n",
    "R.ic =500\n",
    "R.lc =500\n",
    "\n",
    "#initial value\n",
    "molecules_0 = [None]*len(molecules_list) #create empty list\n",
    "\n",
    "\n",
    "for i in range(0,len(molecules_list)):\n",
    "\n",
    "    molecules_0[i] = molecules_list[i].ic\n"
   ]
  },
  {
   "cell_type": "code",
   "execution_count": null,
   "metadata": {},
   "outputs": [],
   "source": [
    "#Define parameters\n",
    "alpha=0.7;\n",
    "beta=0.07;\n",
    "K=1.0;\n",
    "Kd = 1;\n",
    "HC = 1;\n",
    "KTL=10;\n",
    "KTX=1;\n",
    "Kr = 1\n",
    "lamb1=0;\n",
    "lamb2=0;"
   ]
  },
  {
   "cell_type": "code",
   "execution_count": null,
   "metadata": {},
   "outputs": [],
   "source": [
    "#define model\n",
    "def Self_regenerate_model(molecules,t,alpha,beta,K,Kr,KTL,KTX,lamb1,lamb2):\n",
    "    T7_DNA,T7_RNA,T7,GFP_DNA,GFP_RNA,GFP,Repressor_DNA,Repressor_RNA,Repressor,R = molecules\n",
    "    TX = 1\n",
    "    TL = 1\n",
    "    return np.array(\n",
    "        [\n",
    "            0,\n",
    "            alpha*TX*T7_DNA*T7*R/(R+K)*(Kr/(Repressor+Kr)),\n",
    "            beta*TL*T7_RNA*(R/(R+K)),\n",
    "            0,\n",
    "            alpha*TX*GFP_DNA*T7*R/(R+K),\n",
    "            beta*TL*GFP_RNA*R/(R+K),\n",
    "            0,\n",
    "            alpha*TX*Repressor_DNA*T7*R/(R+K),\n",
    "            beta*TL*Repressor_RNA*R/(R+K),\n",
    "            -alpha*TX*T7_DNA*T7*R/(R+K)-alpha*TX*GFP_DNA*T7*R/(R+K)-alpha*TX*Repressor_DNA*T7*R/(R+K)-beta*TL*T7_RNA*R/(R+K)-beta*TL*GFP_RNA*R/(R+K)-beta*TL*Repressor_RNA*R/(R+K),\n",
    "        ]\n",
    "    )\n",
    "    "
   ]
  },
  {
   "cell_type": "code",
   "execution_count": null,
   "metadata": {},
   "outputs": [
    {
     "ename": "TypeError",
     "evalue": "dilute_out_species() missing 1 required positional argument: 'molecules_0'",
     "output_type": "error",
     "traceback": [
      "\u001b[0;31m---------------------------------------------------------------------------\u001b[0m",
      "\u001b[0;31mTypeError\u001b[0m                                 Traceback (most recent call last)",
      "\u001b[0;32m/var/folders/0v/g9gh7qlj3bb0y2y0t0lpf2ym0000gn/T/ipykernel_81666/2672361745.py\u001b[0m in \u001b[0;36m<module>\u001b[0;34m\u001b[0m\n\u001b[1;32m     60\u001b[0m     \u001b[0mmolecules_0\u001b[0m\u001b[0;34m[\u001b[0m\u001b[0mRepressor\u001b[0m\u001b[0;34m.\u001b[0m\u001b[0midx\u001b[0m\u001b[0;34m]\u001b[0m \u001b[0;34m=\u001b[0m \u001b[0;34m(\u001b[0m\u001b[0;36m1\u001b[0m\u001b[0;34m-\u001b[0m\u001b[0mDR\u001b[0m\u001b[0;34m)\u001b[0m\u001b[0;34m*\u001b[0m\u001b[0mmolecules_0\u001b[0m\u001b[0;34m[\u001b[0m\u001b[0mRepressor\u001b[0m\u001b[0;34m.\u001b[0m\u001b[0midx\u001b[0m\u001b[0;34m]\u001b[0m\u001b[0;34m\u001b[0m\u001b[0;34m\u001b[0m\u001b[0m\n\u001b[1;32m     61\u001b[0m \u001b[0;34m\u001b[0m\u001b[0m\n\u001b[0;32m---> 62\u001b[0;31m     \u001b[0mdilute_out_species\u001b[0m\u001b[0;34m(\u001b[0m\u001b[0;34m(\u001b[0m \u001b[0mmolecules_0\u001b[0m\u001b[0;34m[\u001b[0m\u001b[0mRepressor_RNA\u001b[0m\u001b[0;34m.\u001b[0m\u001b[0midx\u001b[0m\u001b[0;34m]\u001b[0m\u001b[0;34m,\u001b[0m\u001b[0mmolecules_0\u001b[0m\u001b[0;34m[\u001b[0m\u001b[0mGFP_RNA\u001b[0m\u001b[0;34m.\u001b[0m\u001b[0midx\u001b[0m\u001b[0;34m]\u001b[0m\u001b[0;34m)\u001b[0m\u001b[0;34m)\u001b[0m\u001b[0;34m\u001b[0m\u001b[0;34m\u001b[0m\u001b[0m\n\u001b[0m\u001b[1;32m     63\u001b[0m \u001b[0;34m\u001b[0m\u001b[0m\n\u001b[1;32m     64\u001b[0m \u001b[0;34m\u001b[0m\u001b[0m\n",
      "\u001b[0;31mTypeError\u001b[0m: dilute_out_species() missing 1 required positional argument: 'molecules_0'"
     ]
    }
   ],
   "source": [
    "#stage 1 kick start\n",
    "result_all=molecules_0 #initial condition\n",
    "\n",
    "DR = 0.2\n",
    "\n",
    "\n",
    "for n in range (1,16):\n",
    "\n",
    "    #define time\n",
    "    t_start= n*15\n",
    "    t_end = (n+1)*15\n",
    "    t= np.linspace(t_start,t_end,2)\n",
    "\n",
    "    #solve equation and save result\n",
    "    result = scipy.integrate.odeint(Self_regenerate_model, molecules_0, t, args=(alpha,beta,K,Kr,KTL,KTX,lamb1,lamb2))\n",
    "    result_all = np.append(result_all,result[1])\n",
    "    #update parameter\n",
    "    molecules_0 = result.transpose()[:,-1]\n",
    "    \n",
    "    #dilution \n",
    "    ###replenish \n",
    "    molecules_0[R.idx] = R.ic*DR+(1-DR)*molecules_0[R.idx]\n",
    "    molecules_0[T7.idx] = T7.lc*DR+(1-DR)*molecules_0[T7.idx]\n",
    "\n",
    "    ###diute out\n",
    "    molecules_0[T7_RNA.idx] = (1-DR)*molecules_0[T7_RNA.idx] \n",
    "    molecules_0[GFP_RNA.idx] = (1-DR)*molecules_0[GFP_RNA.idx]\n",
    "    molecules_0[GFP.idx] = (1-DR)*molecules_0[GFP.idx]\n",
    "    molecules_0[Repressor_RNA.idx] = (1-DR)*molecules_0[Repressor_RNA.idx]\n",
    "    molecules_0[Repressor.idx] = (1-DR)*molecules_0[Repressor.idx]\n",
    "\n",
    "\n",
    "#stage 2 self regeneration \n",
    "\n",
    "for n in range (16,64):\n",
    "\n",
    "    #define time\n",
    "    t_start= n*15\n",
    "    t_end = (n+1)*15\n",
    "    t= np.linspace(t_start,t_end,2)\n",
    "\n",
    "    #solve equation and save result\n",
    "    result = scipy.integrate.odeint(Self_regenerate_model, molecules_0, t, args=(alpha,beta,K,Kr,KTL,KTX,lamb1,lamb2))\n",
    "    result_all = np.append(result_all,result[1])\n",
    "    \n",
    "    #update parameter\n",
    "    molecules_0 = result.transpose()[:,-1]\n",
    "    \n",
    "    #dilution \n",
    "    ###replenish \n",
    "    molecules_0[R.idx] = R.ic*DR+(1-DR)*molecules_0[R.idx]\n",
    "    \n",
    "\n",
    "    ###diute out\n",
    "    molecules_0[T7_RNA.idx] = (1-DR)*molecules_0[T7_RNA.idx] \n",
    "    molecules_0[T7.idx] = (1-DR)*molecules_0[T7.idx] \n",
    "    molecules_0[GFP_RNA.idx] = (1-DR)*molecules_0[GFP_RNA.idx]\n",
    "    molecules_0[GFP.idx] = (1-DR)*molecules_0[GFP.idx]\n",
    "    molecules_0[Repressor_RNA.idx] = (1-DR)*molecules_0[Repressor_RNA.idx]\n",
    "    molecules_0[Repressor.idx] = (1-DR)*molecules_0[Repressor.idx]\n",
    "\n",
    "    dilute_out_species(( molecules_0[Repressor_RNA.idx],molecules_0[GFP_RNA.idx]))\n",
    "\n",
    "\n",
    "\n",
    "for n in range (64,96):\n",
    "\n",
    "    #define time\n",
    "    t_start= n*15\n",
    "    t_end = (n+1)*15\n",
    "    t= np.linspace(t_start,t_end,2)\n",
    "\n",
    "    #solve equation and save result\n",
    "    result = scipy.integrate.odeint(Self_regenerate_model, molecules_0, t, args=(alpha,beta,K,Kr,KTL,KTX,lamb1,lamb2))\n",
    "    result_all = np.append(result_all,result[1])\n",
    "    #update parameter\n",
    "    molecules_0 = result.transpose()[:,-1]\n",
    "    \n",
    "    #dilution \n",
    "    ###replenish \n",
    "    molecules_0[R.idx] = R.ic*DR+(1-DR)*molecules_0[R.idx]\n",
    "\n",
    "    ###diute out\n",
    "    molecules_0[T7_RNA.idx] = dilution(molecules_0[T7_RNA.idx],DR)\n",
    "    molecules_0[GFP_RNA.idx] = (1-DR)*molecules_0[GFP_RNA.idx]\n",
    "    molecules_0[T7.idx] = (1-DR)*molecules_0[T7.idx] \n",
    "    molecules_0[GFP.idx] = (1-DR)*molecules_0[GFP.idx]\n",
    "    molecules_0[T7_DNA.idx] = (1-DR)*molecules_0[T7_DNA.idx]\n",
    "    molecules_0[GFP_DNA.idx] = (1-DR)*molecules_0[GFP_DNA.idx]\n",
    "    molecules_0[Repressor_DNA.idx] = (1-DR)*molecules_0[Repressor_DNA.idx]\n",
    "    molecules_0[Repressor_RNA.idx] = (1-DR)*molecules_0[Repressor_RNA.idx]\n",
    "    molecules_0[Repressor.idx] = (1-DR)*molecules_0[Repressor.idx]\n",
    "\n",
    "\n",
    "\n",
    "result_all = np.resize(result_all,(96,10))\n",
    "for i in range(0,len(molecules_list)):\n",
    "        (molecules_list[i]).result = result_all.transpose()[i]\n",
    "\n",
    "#T7_DNA,T7_RNA,T7,GFP_DNA,GFP_RNA,GFP,R = result_all.transpose()\n"
   ]
  },
  {
   "cell_type": "code",
   "execution_count": null,
   "metadata": {},
   "outputs": [
    {
     "ename": "TypeError",
     "evalue": "'int' object is not iterable",
     "output_type": "error",
     "traceback": [
      "\u001b[0;31m---------------------------------------------------------------------------\u001b[0m",
      "\u001b[0;31mTypeError\u001b[0m                                 Traceback (most recent call last)",
      "\u001b[0;32m/var/folders/0v/g9gh7qlj3bb0y2y0t0lpf2ym0000gn/T/ipykernel_79534/2901762375.py\u001b[0m in \u001b[0;36m<module>\u001b[0;34m\u001b[0m\n\u001b[0;32m----> 1\u001b[0;31m \u001b[0mdilute_out_species\u001b[0m\u001b[0;34m(\u001b[0m\u001b[0;36m0\u001b[0m\u001b[0;34m)\u001b[0m\u001b[0;34m\u001b[0m\u001b[0;34m\u001b[0m\u001b[0m\n\u001b[0m",
      "\u001b[0;32m~/Desktop/git/GRN-in-chemostat/scripts/functions.py\u001b[0m in \u001b[0;36mdilute_out_species\u001b[0;34m(molecules)\u001b[0m\n",
      "\u001b[0;31mTypeError\u001b[0m: 'int' object is not iterable"
     ]
    }
   ],
   "source": [
    "dilute_out_species(0)"
   ]
  },
  {
   "cell_type": "code",
   "execution_count": null,
   "metadata": {},
   "outputs": [
    {
     "data": {
      "text/html": [
       "\n",
       "\n",
       "\n",
       "\n",
       "\n",
       "\n",
       "  <div class=\"bk-root\" id=\"68f70b06-30dc-4f48-8a6f-539ee0848904\" data-root-id=\"21738\"></div>\n"
      ]
     },
     "metadata": {},
     "output_type": "display_data"
    },
    {
     "data": {
      "application/javascript": "(function(root) {\n  function embed_document(root) {\n    \n  const docs_json = {\"de20a92b-1b99-46fc-8af6-795ff137c3a4\":{\"defs\":[{\"extends\":null,\"module\":null,\"name\":\"ReactiveHTML1\",\"overrides\":[],\"properties\":[]},{\"extends\":null,\"module\":null,\"name\":\"FlexBox1\",\"overrides\":[],\"properties\":[{\"default\":\"flex-start\",\"kind\":null,\"name\":\"align_content\"},{\"default\":\"flex-start\",\"kind\":null,\"name\":\"align_items\"},{\"default\":\"row\",\"kind\":null,\"name\":\"flex_direction\"},{\"default\":\"wrap\",\"kind\":null,\"name\":\"flex_wrap\"},{\"default\":\"flex-start\",\"kind\":null,\"name\":\"justify_content\"}]},{\"extends\":null,\"module\":null,\"name\":\"GridStack1\",\"overrides\":[],\"properties\":[{\"default\":\"warn\",\"kind\":null,\"name\":\"mode\"},{\"default\":null,\"kind\":null,\"name\":\"ncols\"},{\"default\":null,\"kind\":null,\"name\":\"nrows\"},{\"default\":true,\"kind\":null,\"name\":\"allow_resize\"},{\"default\":true,\"kind\":null,\"name\":\"allow_drag\"},{\"default\":[],\"kind\":null,\"name\":\"state\"}]},{\"extends\":null,\"module\":null,\"name\":\"click1\",\"overrides\":[],\"properties\":[{\"default\":\"\",\"kind\":null,\"name\":\"terminal_output\"},{\"default\":\"\",\"kind\":null,\"name\":\"debug_name\"},{\"default\":0,\"kind\":null,\"name\":\"clears\"}]},{\"extends\":null,\"module\":null,\"name\":\"NotificationAreaBase1\",\"overrides\":[],\"properties\":[{\"default\":\"bottom-right\",\"kind\":null,\"name\":\"position\"},{\"default\":0,\"kind\":null,\"name\":\"_clear\"}]},{\"extends\":null,\"module\":null,\"name\":\"NotificationArea1\",\"overrides\":[],\"properties\":[{\"default\":[],\"kind\":null,\"name\":\"notifications\"},{\"default\":\"bottom-right\",\"kind\":null,\"name\":\"position\"},{\"default\":0,\"kind\":null,\"name\":\"_clear\"},{\"default\":[{\"background\":\"#ffc107\",\"icon\":{\"className\":\"fas fa-exclamation-triangle\",\"color\":\"white\",\"tagName\":\"i\"},\"type\":\"warning\"},{\"background\":\"#007bff\",\"icon\":{\"className\":\"fas fa-info-circle\",\"color\":\"white\",\"tagName\":\"i\"},\"type\":\"info\"}],\"kind\":null,\"name\":\"types\"}]},{\"extends\":null,\"module\":null,\"name\":\"Notification\",\"overrides\":[],\"properties\":[{\"default\":null,\"kind\":null,\"name\":\"background\"},{\"default\":3000,\"kind\":null,\"name\":\"duration\"},{\"default\":null,\"kind\":null,\"name\":\"icon\"},{\"default\":\"\",\"kind\":null,\"name\":\"message\"},{\"default\":null,\"kind\":null,\"name\":\"notification_type\"},{\"default\":false,\"kind\":null,\"name\":\"_destroyed\"}]},{\"extends\":null,\"module\":null,\"name\":\"TemplateActions1\",\"overrides\":[],\"properties\":[{\"default\":0,\"kind\":null,\"name\":\"open_modal\"},{\"default\":0,\"kind\":null,\"name\":\"close_modal\"}]},{\"extends\":null,\"module\":null,\"name\":\"MaterialTemplateActions1\",\"overrides\":[],\"properties\":[{\"default\":0,\"kind\":null,\"name\":\"open_modal\"},{\"default\":0,\"kind\":null,\"name\":\"close_modal\"}]}],\"roots\":{\"references\":[{\"attributes\":{\"below\":[{\"id\":\"21747\"}],\"center\":[{\"id\":\"21750\"},{\"id\":\"21754\"},{\"id\":\"21775\"},{\"id\":\"21776\"}],\"height\":400,\"left\":[{\"id\":\"21751\"}],\"renderers\":[{\"id\":\"21773\"}],\"title\":{\"id\":\"22360\"},\"toolbar\":{\"id\":\"21762\"},\"width\":800,\"x_range\":{\"id\":\"21739\"},\"x_scale\":{\"id\":\"21743\"},\"y_range\":{\"id\":\"21741\"},\"y_scale\":{\"id\":\"21745\"}},\"id\":\"21738\",\"subtype\":\"Figure\",\"type\":\"Plot\"},{\"attributes\":{\"line_color\":\"#1f77b4\",\"line_width\":2,\"x\":{\"field\":\"x\"},\"y\":{\"field\":\"y\"}},\"id\":\"21770\",\"type\":\"Line\"},{\"attributes\":{},\"id\":\"21739\",\"type\":\"DataRange1d\"},{\"attributes\":{\"data\":{\"x\":{\"__ndarray__\":\"AAAAAAAAAACyAmGkHSvQP7ICYaQdK+A/C4SRdqxA6D+yAmGkHSvwP15DeQ3lNfQ/C4SRdqxA+D+2xKnfc0v8P7ICYaQdKwBAByPtWIEwAkBeQ3kN5TUEQLRjBcJIOwZAC4SRdqxACEBhpB0rEEYKQLbEqd9zSwxADeU1lNdQDkCyAmGkHSsQQN0Sp37PLRFAByPtWIEwEkAzMzMzMzMTQF5DeQ3lNRRAilO/55Y4FUC0YwXCSDsWQN9zS5z6PRdAC4SRdqxAGEA1lNdQXkMZQGGkHSsQRhpAjLRjBcJIG0C2xKnfc0scQOLU77klTh1ADeU1lNdQHkA59XtuiVMfQLICYaQdKyBAxwqEkXasIEDdEqd+zy0hQPIaymsoryFAByPtWIEwIkAeKxBG2rEiQDMzMzMzMyNASTtWIIy0I0BeQ3kN5TUkQHNLnPo9tyRAilO/55Y4JUCfW+LU77klQLRjBcJIOyZAymsor6G8JkDfc0uc+j0nQPV7bolTvydAC4SRdqxAKEAgjLRjBcIoQDWU11BeQylAS5z6PbfEKUBhpB0rEEYqQHasQBhpxypAjLRjBcJIK0ChvIbyGsorQLbEqd9zSyxAzczMzMzMLEDi1O+5JU4tQPfcEqd+zy1ADeU1lNdQLkAi7ViBMNIuQDn1e26JUy9ATv2eW+LUL0CyAmGkHSswQLyG8hrKazBAxwqEkXasMEDSjhUII+0wQN0Sp37PLTFA55Y49XtuMUDyGsprKK8xQP2eW+LU7zFAByPtWIEwMkASp37PLXEyQB4rEEbasTJAKa+hvIbyMkAzMzMzMzMzQD63xKnfczNASTtWIIy0M0BTv+eWOPUzQF5DeQ3lNTRAaccKhJF2NEBzS5z6Pbc0QH7PLXHq9zRAilO/55Y4NUCU11BeQ3k1QJ9b4tTvuTVAqt9zS5z6NUC0YwXCSDs2QL/nljj1ezZAymsor6G8NkDU77klTv02QN9zS5z6PTdA6vfcEqd+N0D1e26JU783QAAAAAAAADhA\",\"dtype\":\"float64\",\"order\":\"little\",\"shape\":[96]},\"y\":{\"__ndarray__\":\"AAAAAAAAAAAcdDYt/R/zP4GIANTfpBNAOWMylLWVJ0BaaqiuJSk2QMfZdUMp30FAzglR4pLKSUDWVLuQqOlKQO1Oyp3CdktAyFiohGL6S0Bmjkjg83VMQAv6KG8+6kxAS2MZLKZXTUBrNrsYV75NQDggsWNiHk5AZ4lWKNF3TkCXtCnkr8pOQAGsrjjONE9AGYHyBN2pT0A2aQoh5xBQQPzo9IO5S1BAOixooL+DUEBMIk7+W65QQGWLryM+r1BAkEhbvfeFUEAOLgd4dTdQQCgt0EPAk09AVxqOLgmHTkAFn9PVuFRNQDmNP9qpB0xAyy1eaWypSkAGLVpzOUJJQCsyEsT72EdAz7pvymVzRkAYESJcDhZFQMSBHWmQxENAcAXeZ6uBQkBeHlPQYk9BQA4n8bsbL0BAgy2JQHBDPkDTFhrBXk88QI3B90NIgjpATkp92u7bOEB/NS93sls3QOQ1VjGtADZAnP6QDcvJNECfDhOo3bUzQJPFOhaswzJAUZYoSv/xMUBcpic1qz8xQFMCQ9eUqzBAmSCuXbU0MEDhJbrSNLQvQAJTOSzHNS9AXpeexnrsLkC7Ff5ns9YuQDzt+XjM8i5A2oVvvAI/L0Cfr+JDXLkvQGQxfy3ILzBAMWCWs3iXMEDstqVoLRIxQM0olXgSnjFAiNu3SxA5MkAeOIegzeAyQFR40hv5dTNArqBGI+XOM0C8rB1Bp9gzQFSKJj5gjzNAtfFJu+X4MkDpqXauzCAyQG20Xu9zFTFAPIF6X8TLL0D1h6aIq0AtQPP7NirKoipA0RTNtB0HKEA79RAaNn4lQPnt26pjFCNAvBXu7iXSIEBddQYWdnkdQP0bELRxrRlAO9gakEFBFkBvf142yzITQBErcKG9fRBAvLDy8aA4DECLNvZHug8IQCldZm2qcgRAY3osuzVTAUB24NfXAEf9P6YHnGbJrPg/QajHxFG/9D/TBgo0OmjxP6srOlubJu0/UgkF5P1c6D9eBFZrp1PkPx0LF3yI7uA/\",\"dtype\":\"float64\",\"order\":\"little\",\"shape\":[96]}},\"selected\":{\"id\":\"22369\"},\"selection_policy\":{\"id\":\"22368\"}},\"id\":\"21769\",\"type\":\"ColumnDataSource\"},{\"attributes\":{},\"id\":\"22367\",\"type\":\"AllLabels\"},{\"attributes\":{},\"id\":\"21748\",\"type\":\"BasicTicker\"},{\"attributes\":{},\"id\":\"21743\",\"type\":\"LinearScale\"},{\"attributes\":{\"coordinates\":null,\"group\":null},\"id\":\"22360\",\"type\":\"Title\"},{\"attributes\":{\"coordinates\":null,\"data_source\":{\"id\":\"21769\"},\"glyph\":{\"id\":\"21770\"},\"group\":null,\"hover_glyph\":null,\"muted_glyph\":{\"id\":\"21772\"},\"nonselection_glyph\":{\"id\":\"21771\"},\"view\":{\"id\":\"21774\"}},\"id\":\"21773\",\"type\":\"GlyphRenderer\"},{\"attributes\":{},\"id\":\"22364\",\"type\":\"AllLabels\"},{\"attributes\":{\"line_alpha\":0.1,\"line_color\":\"#1f77b4\",\"line_width\":2,\"x\":{\"field\":\"x\"},\"y\":{\"field\":\"y\"}},\"id\":\"21771\",\"type\":\"Line\"},{\"attributes\":{\"coordinates\":null,\"dimension\":\"height\",\"group\":null,\"line_dash\":[6],\"location\":16},\"id\":\"21776\",\"type\":\"Span\"},{\"attributes\":{\"coordinates\":null,\"dimension\":\"height\",\"group\":null,\"line_dash\":[6],\"location\":4},\"id\":\"21775\",\"type\":\"Span\"},{\"attributes\":{},\"id\":\"21755\",\"type\":\"PanTool\"},{\"attributes\":{},\"id\":\"21760\",\"type\":\"HelpTool\"},{\"attributes\":{},\"id\":\"22366\",\"type\":\"BasicTickFormatter\"},{\"attributes\":{},\"id\":\"21759\",\"type\":\"ResetTool\"},{\"attributes\":{},\"id\":\"21752\",\"type\":\"BasicTicker\"},{\"attributes\":{},\"id\":\"21758\",\"type\":\"SaveTool\"},{\"attributes\":{\"axis\":{\"id\":\"21751\"},\"coordinates\":null,\"dimension\":1,\"group\":null,\"ticker\":null},\"id\":\"21754\",\"type\":\"Grid\"},{\"attributes\":{\"tools\":[{\"id\":\"21755\"},{\"id\":\"21756\"},{\"id\":\"21757\"},{\"id\":\"21758\"},{\"id\":\"21759\"},{\"id\":\"21760\"}]},\"id\":\"21762\",\"type\":\"Toolbar\"},{\"attributes\":{\"overlay\":{\"id\":\"21761\"}},\"id\":\"21757\",\"type\":\"BoxZoomTool\"},{\"attributes\":{\"axis_label\":\"dimensionless concentration\",\"coordinates\":null,\"formatter\":{\"id\":\"22363\"},\"group\":null,\"major_label_policy\":{\"id\":\"22364\"},\"ticker\":{\"id\":\"21752\"}},\"id\":\"21751\",\"type\":\"LinearAxis\"},{\"attributes\":{\"line_alpha\":0.2,\"line_color\":\"#1f77b4\",\"line_width\":2,\"x\":{\"field\":\"x\"},\"y\":{\"field\":\"y\"}},\"id\":\"21772\",\"type\":\"Line\"},{\"attributes\":{},\"id\":\"21756\",\"type\":\"WheelZoomTool\"},{\"attributes\":{\"axis\":{\"id\":\"21747\"},\"coordinates\":null,\"group\":null,\"ticker\":null},\"id\":\"21750\",\"type\":\"Grid\"},{\"attributes\":{\"source\":{\"id\":\"21769\"}},\"id\":\"21774\",\"type\":\"CDSView\"},{\"attributes\":{},\"id\":\"22363\",\"type\":\"BasicTickFormatter\"},{\"attributes\":{},\"id\":\"21745\",\"type\":\"LinearScale\"},{\"attributes\":{},\"id\":\"22369\",\"type\":\"Selection\"},{\"attributes\":{\"axis_label\":\"t\",\"coordinates\":null,\"formatter\":{\"id\":\"22366\"},\"group\":null,\"major_label_policy\":{\"id\":\"22367\"},\"ticker\":{\"id\":\"21748\"}},\"id\":\"21747\",\"type\":\"LinearAxis\"},{\"attributes\":{},\"id\":\"22368\",\"type\":\"UnionRenderers\"},{\"attributes\":{},\"id\":\"21741\",\"type\":\"DataRange1d\"},{\"attributes\":{\"bottom_units\":\"screen\",\"coordinates\":null,\"fill_alpha\":0.5,\"fill_color\":\"lightgrey\",\"group\":null,\"left_units\":\"screen\",\"level\":\"overlay\",\"line_alpha\":1.0,\"line_color\":\"black\",\"line_dash\":[4,4],\"line_width\":2,\"right_units\":\"screen\",\"syncable\":false,\"top_units\":\"screen\"},\"id\":\"21761\",\"type\":\"BoxAnnotation\"}],\"root_ids\":[\"21738\"]},\"title\":\"Bokeh Application\",\"version\":\"2.4.1\"}};\n  const render_items = [{\"docid\":\"de20a92b-1b99-46fc-8af6-795ff137c3a4\",\"root_ids\":[\"21738\"],\"roots\":{\"21738\":\"68f70b06-30dc-4f48-8a6f-539ee0848904\"}}];\n  root.Bokeh.embed.embed_items_notebook(docs_json, render_items);\n\n  }\n  if (root.Bokeh !== undefined) {\n    embed_document(root);\n  } else {\n    let attempts = 0;\n    const timer = setInterval(function(root) {\n      if (root.Bokeh !== undefined) {\n        clearInterval(timer);\n        embed_document(root);\n      } else {\n        attempts++;\n        if (attempts > 100) {\n          clearInterval(timer);\n          console.log(\"Bokeh: ERROR: Unable to run BokehJS code because BokehJS library is missing\");\n        }\n      }\n    }, 10, root)\n  }\n})(window);",
      "application/vnd.bokehjs_exec.v0+json": ""
     },
     "metadata": {
      "application/vnd.bokehjs_exec.v0+json": {
       "id": "21738"
      }
     },
     "output_type": "display_data"
    }
   ],
   "source": [
    "t = np.linspace(0, 1440, 96)\n",
    "p = bokeh.plotting.figure(\n",
    "    plot_width=800,\n",
    "    plot_height=400,\n",
    "    x_axis_label=\"t\",\n",
    "    y_axis_label=\"dimensionless concentration\",\n",
    "    y_axis_type=\"linear\",\n",
    "\n",
    ")\n",
    "\n",
    "colors = bokeh.palettes.d3[\"Category10\"][3]\n",
    "\n",
    "\n",
    "# Populate glyphs\n",
    "p.line(\n",
    "    t/60, Repressor.result, line_width=2, color=colors[0]\n",
    ")\n",
    "vline1 = Span(location=4, dimension='height', line_color='black', line_width=1,line_dash='dashed')\n",
    "vline2 = Span(location=16, dimension='height', line_color='black', line_width=1,line_dash='dashed')\n",
    "p.add_layout(vline1)\n",
    "p.add_layout(vline2)\n",
    "\n",
    "\n",
    "show(p)\n"
   ]
  },
  {
   "cell_type": "code",
   "execution_count": 5,
   "metadata": {},
   "outputs": [
    {
     "ename": "NameError",
     "evalue": "name 'np' is not defined",
     "output_type": "error",
     "traceback": [
      "\u001b[0;31m---------------------------------------------------------------------------\u001b[0m",
      "\u001b[0;31mNameError\u001b[0m                                 Traceback (most recent call last)",
      "\u001b[0;32m/var/folders/0v/g9gh7qlj3bb0y2y0t0lpf2ym0000gn/T/ipykernel_81788/1466751673.py\u001b[0m in \u001b[0;36m<module>\u001b[0;34m\u001b[0m\n\u001b[0;32m----> 1\u001b[0;31m \u001b[0mnp\u001b[0m\u001b[0;34m.\u001b[0m\u001b[0mshape\u001b[0m\u001b[0;34m(\u001b[0m\u001b[0mresult_all\u001b[0m\u001b[0;34m)\u001b[0m\u001b[0;34m\u001b[0m\u001b[0;34m\u001b[0m\u001b[0m\n\u001b[0m",
      "\u001b[0;31mNameError\u001b[0m: name 'np' is not defined"
     ]
    }
   ],
   "source": [
    "np.shape(result_all)"
   ]
  },
  {
   "cell_type": "code",
   "execution_count": null,
   "metadata": {},
   "outputs": [
    {
     "ename": "NameError",
     "evalue": "name 'dilute_out_species' is not defined",
     "output_type": "error",
     "traceback": [
      "\u001b[0;31m---------------------------------------------------------------------------\u001b[0m",
      "\u001b[0;31mNameError\u001b[0m                                 Traceback (most recent call last)",
      "\u001b[0;32m/var/folders/0v/g9gh7qlj3bb0y2y0t0lpf2ym0000gn/T/ipykernel_81788/2579960936.py\u001b[0m in \u001b[0;36m<module>\u001b[0;34m\u001b[0m\n\u001b[0;32m----> 1\u001b[0;31m \u001b[0mdilute_out_species\u001b[0m\u001b[0;34m(\u001b[0m\u001b[0;34m(\u001b[0m\u001b[0mT7\u001b[0m\u001b[0;34m,\u001b[0m\u001b[0mT7_DNA\u001b[0m\u001b[0;34m)\u001b[0m\u001b[0;34m)\u001b[0m\u001b[0;34m\u001b[0m\u001b[0;34m\u001b[0m\u001b[0m\n\u001b[0m",
      "\u001b[0;31mNameError\u001b[0m: name 'dilute_out_species' is not defined"
     ]
    }
   ],
   "source": [
    "dilute_out_species((T7,T7_DNA))"
   ]
  },
  {
   "cell_type": "code",
   "execution_count": null,
   "metadata": {},
   "outputs": [
    {
     "data": {
      "text/plain": [
       "array([5.12000000e-02, 2.24382621e-01, 1.05034905e+00, 1.00000000e+00,\n",
       "       7.93444398e+01, 2.46333971e+02, 2.00000000e-01, 1.58688880e+01,\n",
       "       4.92667942e+01, 1.00000000e+02])"
      ]
     },
     "execution_count": 11,
     "metadata": {},
     "output_type": "execute_result"
    }
   ],
   "source": [
    "molecules_0"
   ]
  },
  {
   "cell_type": "code",
   "execution_count": null,
   "metadata": {},
   "outputs": [],
   "source": []
  }
 ],
 "metadata": {
  "kernelspec": {
   "display_name": "Python 3.9.7 ('base')",
   "language": "python",
   "name": "python3"
  },
  "language_info": {
   "codemirror_mode": {
    "name": "ipython",
    "version": 3
   },
   "file_extension": ".py",
   "mimetype": "text/x-python",
   "name": "python",
   "nbconvert_exporter": "python",
   "pygments_lexer": "ipython3",
   "version": "3.9.7"
  },
  "orig_nbformat": 4,
  "vscode": {
   "interpreter": {
    "hash": "702350541321a2f0d6ee5689c760d1f3e12a6e5a69204819bb813b28aabd20d3"
   }
  }
 },
 "nbformat": 4,
 "nbformat_minor": 2
}
