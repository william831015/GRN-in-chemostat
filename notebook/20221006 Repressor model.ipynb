{
 "cells": [
  {
   "cell_type": "code",
   "execution_count": 32,
   "metadata": {},
   "outputs": [
    {
     "data": {
      "application/javascript": "(function(root) {\n  function now() {\n    return new Date();\n  }\n\n  var force = true;\n\n  if (typeof root._bokeh_onload_callbacks === \"undefined\" || force === true) {\n    root._bokeh_onload_callbacks = [];\n    root._bokeh_is_loading = undefined;\n  }\n\n  if (typeof (root._bokeh_timeout) === \"undefined\" || force === true) {\n    root._bokeh_timeout = Date.now() + 5000;\n    root._bokeh_failed_load = false;\n  }\n\n  function run_callbacks() {\n    try {\n      root._bokeh_onload_callbacks.forEach(function(callback) {\n        if (callback != null)\n          callback();\n      });\n    } finally {\n      delete root._bokeh_onload_callbacks\n    }\n    console.debug(\"Bokeh: all callbacks have finished\");\n  }\n\n  function load_libs(css_urls, js_urls, js_modules, callback) {\n    if (css_urls == null) css_urls = [];\n    if (js_urls == null) js_urls = [];\n    if (js_modules == null) js_modules = [];\n\n    root._bokeh_onload_callbacks.push(callback);\n    if (root._bokeh_is_loading > 0) {\n      console.debug(\"Bokeh: BokehJS is being loaded, scheduling callback at\", now());\n      return null;\n    }\n    if (js_urls.length === 0 && js_modules.length === 0) {\n      run_callbacks();\n      return null;\n    }\n    console.debug(\"Bokeh: BokehJS not loaded, scheduling load and callback at\", now());\n\n    function on_load() {\n      root._bokeh_is_loading--;\n      if (root._bokeh_is_loading === 0) {\n        console.debug(\"Bokeh: all BokehJS libraries/stylesheets loaded\");\n        run_callbacks()\n      }\n    }\n\n    function on_error() {\n      console.error(\"failed to load \" + url);\n    }\n\n    for (var i = 0; i < css_urls.length; i++) {\n      var url = css_urls[i];\n      const element = document.createElement(\"link\");\n      element.onload = on_load;\n      element.onerror = on_error;\n      element.rel = \"stylesheet\";\n      element.type = \"text/css\";\n      element.href = url;\n      console.debug(\"Bokeh: injecting link tag for BokehJS stylesheet: \", url);\n      document.body.appendChild(element);\n    }\n\n    var skip = [];\n    if (window.requirejs) {\n      window.requirejs.config({'packages': {}, 'paths': {'gridstack': 'https://cdn.jsdelivr.net/npm/gridstack@4.2.5/dist/gridstack-h5', 'notyf': 'https://cdn.jsdelivr.net/npm/notyf@3/notyf.min'}, 'shim': {'gridstack': {'exports': 'GridStack'}}});\n      require([\"gridstack\"], function(GridStack) {\n\twindow.GridStack = GridStack\n\ton_load()\n      })\n      require([\"notyf\"], function() {\n\ton_load()\n      })\n      root._bokeh_is_loading = css_urls.length + 2;\n    } else {\n      root._bokeh_is_loading = css_urls.length + js_urls.length + js_modules.length;\n    }    if (((window['GridStack'] !== undefined) && (!(window['GridStack'] instanceof HTMLElement))) || window.requirejs) {\n      var urls = ['https://cdn.jsdelivr.net/npm/gridstack@4.2.5/dist/gridstack-h5.js'];\n      for (var i = 0; i < urls.length; i++) {\n        skip.push(urls[i])\n      }\n    }    if (((window['Notyf'] !== undefined) && (!(window['Notyf'] instanceof HTMLElement))) || window.requirejs) {\n      var urls = ['https://cdn.jsdelivr.net/npm/notyf@3/notyf.min.js'];\n      for (var i = 0; i < urls.length; i++) {\n        skip.push(urls[i])\n      }\n    }    for (var i = 0; i < js_urls.length; i++) {\n      var url = js_urls[i];\n      if (skip.indexOf(url) >= 0) {\n\tif (!window.requirejs) {\n\t  on_load();\n\t}\n\tcontinue;\n      }\n      var element = document.createElement('script');\n      element.onload = on_load;\n      element.onerror = on_error;\n      element.async = false;\n      element.src = url;\n      console.debug(\"Bokeh: injecting script tag for BokehJS library: \", url);\n      document.head.appendChild(element);\n    }\n    for (var i = 0; i < js_modules.length; i++) {\n      var url = js_modules[i];\n      if (skip.indexOf(url) >= 0) {\n\tif (!window.requirejs) {\n\t  on_load();\n\t}\n\tcontinue;\n      }\n      var element = document.createElement('script');\n      element.onload = on_load;\n      element.onerror = on_error;\n      element.async = false;\n      element.src = url;\n      element.type = \"module\";\n      console.debug(\"Bokeh: injecting script tag for BokehJS library: \", url);\n      document.head.appendChild(element);\n    }\n    if (!js_urls.length && !js_modules.length) {\n      on_load()\n    }\n  };\n\n  function inject_raw_css(css) {\n    const element = document.createElement(\"style\");\n    element.appendChild(document.createTextNode(css));\n    document.body.appendChild(element);\n  }\n\n  var js_urls = [\"https://cdn.bokeh.org/bokeh/release/bokeh-2.4.1.min.js\", \"https://cdn.bokeh.org/bokeh/release/bokeh-gl-2.4.1.min.js\", \"https://cdn.bokeh.org/bokeh/release/bokeh-widgets-2.4.1.min.js\", \"https://cdn.bokeh.org/bokeh/release/bokeh-tables-2.4.1.min.js\", \"https://cdn.bokeh.org/bokeh/release/bokeh-mathjax-2.4.1.min.js\", \"https://cdn.jsdelivr.net/npm/notyf@3/notyf.min.js\", \"https://unpkg.com/@holoviz/panel@0.13.1/dist/panel.min.js\"];\n  var js_modules = [];\n  var css_urls = [\"https://cdn.jsdelivr.net/npm/notyf@3/notyf.min.css\", \"https://cdnjs.cloudflare.com/ajax/libs/font-awesome/5.15.1/css/all.min.css\", \"https://unpkg.com/@holoviz/panel@0.13.1/dist/css/debugger.css\", \"https://unpkg.com/@holoviz/panel@0.13.1/dist/css/alerts.css\", \"https://unpkg.com/@holoviz/panel@0.13.1/dist/css/card.css\", \"https://unpkg.com/@holoviz/panel@0.13.1/dist/css/widgets.css\", \"https://unpkg.com/@holoviz/panel@0.13.1/dist/css/markdown.css\", \"https://unpkg.com/@holoviz/panel@0.13.1/dist/css/json.css\", \"https://unpkg.com/@holoviz/panel@0.13.1/dist/css/loading.css\", \"https://unpkg.com/@holoviz/panel@0.13.1/dist/css/dataframe.css\"];\n  var inline_js = [    function(Bokeh) {\n      inject_raw_css(\"\\n    .bk.pn-loading.arcs:before {\\n      background-image: url(\\\"data:image/svg+xml;base64,PHN2ZyB4bWxucz0iaHR0cDovL3d3dy53My5vcmcvMjAwMC9zdmciIHhtbG5zOnhsaW5rPSJodHRwOi8vd3d3LnczLm9yZy8xOTk5L3hsaW5rIiBzdHlsZT0ibWFyZ2luOiBhdXRvOyBiYWNrZ3JvdW5kOiBub25lOyBkaXNwbGF5OiBibG9jazsgc2hhcGUtcmVuZGVyaW5nOiBhdXRvOyIgdmlld0JveD0iMCAwIDEwMCAxMDAiIHByZXNlcnZlQXNwZWN0UmF0aW89InhNaWRZTWlkIj4gIDxjaXJjbGUgY3g9IjUwIiBjeT0iNTAiIHI9IjMyIiBzdHJva2Utd2lkdGg9IjgiIHN0cm9rZT0iI2MzYzNjMyIgc3Ryb2tlLWRhc2hhcnJheT0iNTAuMjY1NDgyNDU3NDM2NjkgNTAuMjY1NDgyNDU3NDM2NjkiIGZpbGw9Im5vbmUiIHN0cm9rZS1saW5lY2FwPSJyb3VuZCI+ICAgIDxhbmltYXRlVHJhbnNmb3JtIGF0dHJpYnV0ZU5hbWU9InRyYW5zZm9ybSIgdHlwZT0icm90YXRlIiByZXBlYXRDb3VudD0iaW5kZWZpbml0ZSIgZHVyPSIxcyIga2V5VGltZXM9IjA7MSIgdmFsdWVzPSIwIDUwIDUwOzM2MCA1MCA1MCI+PC9hbmltYXRlVHJhbnNmb3JtPiAgPC9jaXJjbGU+PC9zdmc+\\\");\\n      background-size: auto calc(min(50%, 400px));\\n    }\\n    \");\n    },    function(Bokeh) {\n      Bokeh.set_log_level(\"info\");\n    },\nfunction(Bokeh) {} // ensure no trailing comma for IE\n  ];\n\n  function run_inline_js() {\n    if ((root.Bokeh !== undefined) || (force === true)) {\n      for (var i = 0; i < inline_js.length; i++) {\n        inline_js[i].call(root, root.Bokeh);\n      }} else if (Date.now() < root._bokeh_timeout) {\n      setTimeout(run_inline_js, 100);\n    } else if (!root._bokeh_failed_load) {\n      console.log(\"Bokeh: BokehJS failed to load within specified timeout.\");\n      root._bokeh_failed_load = true;\n    }\n  }\n\n  if (root._bokeh_is_loading === 0) {\n    console.debug(\"Bokeh: BokehJS loaded, going straight to plotting\");\n    run_inline_js();\n  } else {\n    load_libs(css_urls, js_urls, js_modules, function() {\n      console.debug(\"Bokeh: BokehJS plotting callback run at\", now());\n      run_inline_js();\n    });\n  }\n}(window));",
      "application/vnd.holoviews_load.v0+json": ""
     },
     "metadata": {},
     "output_type": "display_data"
    },
    {
     "data": {
      "application/javascript": "\nif ((window.PyViz === undefined) || (window.PyViz instanceof HTMLElement)) {\n  window.PyViz = {comms: {}, comm_status:{}, kernels:{}, receivers: {}, plot_index: []}\n}\n\n\n    function JupyterCommManager() {\n    }\n\n    JupyterCommManager.prototype.register_target = function(plot_id, comm_id, msg_handler) {\n      if (window.comm_manager || ((window.Jupyter !== undefined) && (Jupyter.notebook.kernel != null))) {\n        var comm_manager = window.comm_manager || Jupyter.notebook.kernel.comm_manager;\n        comm_manager.register_target(comm_id, function(comm) {\n          comm.on_msg(msg_handler);\n        });\n      } else if ((plot_id in window.PyViz.kernels) && (window.PyViz.kernels[plot_id])) {\n        window.PyViz.kernels[plot_id].registerCommTarget(comm_id, function(comm) {\n          comm.onMsg = msg_handler;\n        });\n      } else if (typeof google != 'undefined' && google.colab.kernel != null) {\n        google.colab.kernel.comms.registerTarget(comm_id, (comm) => {\n          var messages = comm.messages[Symbol.asyncIterator]();\n          function processIteratorResult(result) {\n            var message = result.value;\n            console.log(message)\n            var content = {data: message.data, comm_id};\n            var buffers = []\n            for (var buffer of message.buffers || []) {\n              buffers.push(new DataView(buffer))\n            }\n            var metadata = message.metadata || {};\n            var msg = {content, buffers, metadata}\n            msg_handler(msg);\n            return messages.next().then(processIteratorResult);\n          }\n          return messages.next().then(processIteratorResult);\n        })\n      }\n    }\n\n    JupyterCommManager.prototype.get_client_comm = function(plot_id, comm_id, msg_handler) {\n      if (comm_id in window.PyViz.comms) {\n        return window.PyViz.comms[comm_id];\n      } else if (window.comm_manager || ((window.Jupyter !== undefined) && (Jupyter.notebook.kernel != null))) {\n        var comm_manager = window.comm_manager || Jupyter.notebook.kernel.comm_manager;\n        var comm = comm_manager.new_comm(comm_id, {}, {}, {}, comm_id);\n        if (msg_handler) {\n          comm.on_msg(msg_handler);\n        }\n      } else if ((plot_id in window.PyViz.kernels) && (window.PyViz.kernels[plot_id])) {\n        var comm = window.PyViz.kernels[plot_id].connectToComm(comm_id);\n        comm.open();\n        if (msg_handler) {\n          comm.onMsg = msg_handler;\n        }\n      } else if (typeof google != 'undefined' && google.colab.kernel != null) {\n        var comm_promise = google.colab.kernel.comms.open(comm_id)\n        comm_promise.then((comm) => {\n          window.PyViz.comms[comm_id] = comm;\n          if (msg_handler) {\n            var messages = comm.messages[Symbol.asyncIterator]();\n            function processIteratorResult(result) {\n              var message = result.value;\n              var content = {data: message.data};\n              var metadata = message.metadata || {comm_id};\n              var msg = {content, metadata}\n              msg_handler(msg);\n              return messages.next().then(processIteratorResult);\n            }\n            return messages.next().then(processIteratorResult);\n          }\n        }) \n        var sendClosure = (data, metadata, buffers, disposeOnDone) => {\n          return comm_promise.then((comm) => {\n            comm.send(data, metadata, buffers, disposeOnDone);\n          });\n        };\n        var comm = {\n          send: sendClosure\n        };\n      }\n      window.PyViz.comms[comm_id] = comm;\n      return comm;\n    }\n    window.PyViz.comm_manager = new JupyterCommManager();\n    \n\n\nvar JS_MIME_TYPE = 'application/javascript';\nvar HTML_MIME_TYPE = 'text/html';\nvar EXEC_MIME_TYPE = 'application/vnd.holoviews_exec.v0+json';\nvar CLASS_NAME = 'output';\n\n/**\n * Render data to the DOM node\n */\nfunction render(props, node) {\n  var div = document.createElement(\"div\");\n  var script = document.createElement(\"script\");\n  node.appendChild(div);\n  node.appendChild(script);\n}\n\n/**\n * Handle when a new output is added\n */\nfunction handle_add_output(event, handle) {\n  var output_area = handle.output_area;\n  var output = handle.output;\n  if ((output.data == undefined) || (!output.data.hasOwnProperty(EXEC_MIME_TYPE))) {\n    return\n  }\n  var id = output.metadata[EXEC_MIME_TYPE][\"id\"];\n  var toinsert = output_area.element.find(\".\" + CLASS_NAME.split(' ')[0]);\n  if (id !== undefined) {\n    var nchildren = toinsert.length;\n    var html_node = toinsert[nchildren-1].children[0];\n    html_node.innerHTML = output.data[HTML_MIME_TYPE];\n    var scripts = [];\n    var nodelist = html_node.querySelectorAll(\"script\");\n    for (var i in nodelist) {\n      if (nodelist.hasOwnProperty(i)) {\n        scripts.push(nodelist[i])\n      }\n    }\n\n    scripts.forEach( function (oldScript) {\n      var newScript = document.createElement(\"script\");\n      var attrs = [];\n      var nodemap = oldScript.attributes;\n      for (var j in nodemap) {\n        if (nodemap.hasOwnProperty(j)) {\n          attrs.push(nodemap[j])\n        }\n      }\n      attrs.forEach(function(attr) { newScript.setAttribute(attr.name, attr.value) });\n      newScript.appendChild(document.createTextNode(oldScript.innerHTML));\n      oldScript.parentNode.replaceChild(newScript, oldScript);\n    });\n    if (JS_MIME_TYPE in output.data) {\n      toinsert[nchildren-1].children[1].textContent = output.data[JS_MIME_TYPE];\n    }\n    output_area._hv_plot_id = id;\n    if ((window.Bokeh !== undefined) && (id in Bokeh.index)) {\n      window.PyViz.plot_index[id] = Bokeh.index[id];\n    } else {\n      window.PyViz.plot_index[id] = null;\n    }\n  } else if (output.metadata[EXEC_MIME_TYPE][\"server_id\"] !== undefined) {\n    var bk_div = document.createElement(\"div\");\n    bk_div.innerHTML = output.data[HTML_MIME_TYPE];\n    var script_attrs = bk_div.children[0].attributes;\n    for (var i = 0; i < script_attrs.length; i++) {\n      toinsert[toinsert.length - 1].childNodes[1].setAttribute(script_attrs[i].name, script_attrs[i].value);\n    }\n    // store reference to server id on output_area\n    output_area._bokeh_server_id = output.metadata[EXEC_MIME_TYPE][\"server_id\"];\n  }\n}\n\n/**\n * Handle when an output is cleared or removed\n */\nfunction handle_clear_output(event, handle) {\n  var id = handle.cell.output_area._hv_plot_id;\n  var server_id = handle.cell.output_area._bokeh_server_id;\n  if (((id === undefined) || !(id in PyViz.plot_index)) && (server_id !== undefined)) { return; }\n  var comm = window.PyViz.comm_manager.get_client_comm(\"hv-extension-comm\", \"hv-extension-comm\", function () {});\n  if (server_id !== null) {\n    comm.send({event_type: 'server_delete', 'id': server_id});\n    return;\n  } else if (comm !== null) {\n    comm.send({event_type: 'delete', 'id': id});\n  }\n  delete PyViz.plot_index[id];\n  if ((window.Bokeh !== undefined) & (id in window.Bokeh.index)) {\n    var doc = window.Bokeh.index[id].model.document\n    doc.clear();\n    const i = window.Bokeh.documents.indexOf(doc);\n    if (i > -1) {\n      window.Bokeh.documents.splice(i, 1);\n    }\n  }\n}\n\n/**\n * Handle kernel restart event\n */\nfunction handle_kernel_cleanup(event, handle) {\n  delete PyViz.comms[\"hv-extension-comm\"];\n  window.PyViz.plot_index = {}\n}\n\n/**\n * Handle update_display_data messages\n */\nfunction handle_update_output(event, handle) {\n  handle_clear_output(event, {cell: {output_area: handle.output_area}})\n  handle_add_output(event, handle)\n}\n\nfunction register_renderer(events, OutputArea) {\n  function append_mime(data, metadata, element) {\n    // create a DOM node to render to\n    var toinsert = this.create_output_subarea(\n    metadata,\n    CLASS_NAME,\n    EXEC_MIME_TYPE\n    );\n    this.keyboard_manager.register_events(toinsert);\n    // Render to node\n    var props = {data: data, metadata: metadata[EXEC_MIME_TYPE]};\n    render(props, toinsert[0]);\n    element.append(toinsert);\n    return toinsert\n  }\n\n  events.on('output_added.OutputArea', handle_add_output);\n  events.on('output_updated.OutputArea', handle_update_output);\n  events.on('clear_output.CodeCell', handle_clear_output);\n  events.on('delete.Cell', handle_clear_output);\n  events.on('kernel_ready.Kernel', handle_kernel_cleanup);\n\n  OutputArea.prototype.register_mime_type(EXEC_MIME_TYPE, append_mime, {\n    safe: true,\n    index: 0\n  });\n}\n\nif (window.Jupyter !== undefined) {\n  try {\n    var events = require('base/js/events');\n    var OutputArea = require('notebook/js/outputarea').OutputArea;\n    if (OutputArea.prototype.mime_types().indexOf(EXEC_MIME_TYPE) == -1) {\n      register_renderer(events, OutputArea);\n    }\n  } catch(err) {\n  }\n}\n",
      "application/vnd.holoviews_load.v0+json": ""
     },
     "metadata": {},
     "output_type": "display_data"
    },
    {
     "data": {
      "text/html": [
       "<style>.bk-root, .bk-root .bk:before, .bk-root .bk:after {\n",
       "  font-family: var(--jp-ui-font-size1);\n",
       "  font-size: var(--jp-ui-font-size1);\n",
       "  color: var(--jp-ui-font-color1);\n",
       "}\n",
       "</style>"
      ]
     },
     "metadata": {},
     "output_type": "display_data"
    },
    {
     "data": {
      "text/html": [
       "\n",
       "    <div class=\"bk-root\">\n",
       "        <a href=\"https://bokeh.org\" target=\"_blank\" class=\"bk-logo bk-logo-small bk-logo-notebook\"></a>\n",
       "        <span id=\"1971\">Loading BokehJS ...</span>\n",
       "    </div>"
      ]
     },
     "metadata": {},
     "output_type": "display_data"
    },
    {
     "data": {
      "application/javascript": "\n(function(root) {\n  function now() {\n    return new Date();\n  }\n\n  const force = true;\n\n  if (typeof root._bokeh_onload_callbacks === \"undefined\" || force === true) {\n    root._bokeh_onload_callbacks = [];\n    root._bokeh_is_loading = undefined;\n  }\n\n  const JS_MIME_TYPE = 'application/javascript';\n  const HTML_MIME_TYPE = 'text/html';\n  const EXEC_MIME_TYPE = 'application/vnd.bokehjs_exec.v0+json';\n  const CLASS_NAME = 'output_bokeh rendered_html';\n\n  /**\n   * Render data to the DOM node\n   */\n  function render(props, node) {\n    const script = document.createElement(\"script\");\n    node.appendChild(script);\n  }\n\n  /**\n   * Handle when an output is cleared or removed\n   */\n  function handleClearOutput(event, handle) {\n    const cell = handle.cell;\n\n    const id = cell.output_area._bokeh_element_id;\n    const server_id = cell.output_area._bokeh_server_id;\n    // Clean up Bokeh references\n    if (id != null && id in Bokeh.index) {\n      Bokeh.index[id].model.document.clear();\n      delete Bokeh.index[id];\n    }\n\n    if (server_id !== undefined) {\n      // Clean up Bokeh references\n      const cmd_clean = \"from bokeh.io.state import curstate; print(curstate().uuid_to_server['\" + server_id + \"'].get_sessions()[0].document.roots[0]._id)\";\n      cell.notebook.kernel.execute(cmd_clean, {\n        iopub: {\n          output: function(msg) {\n            const id = msg.content.text.trim();\n            if (id in Bokeh.index) {\n              Bokeh.index[id].model.document.clear();\n              delete Bokeh.index[id];\n            }\n          }\n        }\n      });\n      // Destroy server and session\n      const cmd_destroy = \"import bokeh.io.notebook as ion; ion.destroy_server('\" + server_id + \"')\";\n      cell.notebook.kernel.execute(cmd_destroy);\n    }\n  }\n\n  /**\n   * Handle when a new output is added\n   */\n  function handleAddOutput(event, handle) {\n    const output_area = handle.output_area;\n    const output = handle.output;\n\n    // limit handleAddOutput to display_data with EXEC_MIME_TYPE content only\n    if ((output.output_type != \"display_data\") || (!Object.prototype.hasOwnProperty.call(output.data, EXEC_MIME_TYPE))) {\n      return\n    }\n\n    const toinsert = output_area.element.find(\".\" + CLASS_NAME.split(' ')[0]);\n\n    if (output.metadata[EXEC_MIME_TYPE][\"id\"] !== undefined) {\n      toinsert[toinsert.length - 1].firstChild.textContent = output.data[JS_MIME_TYPE];\n      // store reference to embed id on output_area\n      output_area._bokeh_element_id = output.metadata[EXEC_MIME_TYPE][\"id\"];\n    }\n    if (output.metadata[EXEC_MIME_TYPE][\"server_id\"] !== undefined) {\n      const bk_div = document.createElement(\"div\");\n      bk_div.innerHTML = output.data[HTML_MIME_TYPE];\n      const script_attrs = bk_div.children[0].attributes;\n      for (let i = 0; i < script_attrs.length; i++) {\n        toinsert[toinsert.length - 1].firstChild.setAttribute(script_attrs[i].name, script_attrs[i].value);\n        toinsert[toinsert.length - 1].firstChild.textContent = bk_div.children[0].textContent\n      }\n      // store reference to server id on output_area\n      output_area._bokeh_server_id = output.metadata[EXEC_MIME_TYPE][\"server_id\"];\n    }\n  }\n\n  function register_renderer(events, OutputArea) {\n\n    function append_mime(data, metadata, element) {\n      // create a DOM node to render to\n      const toinsert = this.create_output_subarea(\n        metadata,\n        CLASS_NAME,\n        EXEC_MIME_TYPE\n      );\n      this.keyboard_manager.register_events(toinsert);\n      // Render to node\n      const props = {data: data, metadata: metadata[EXEC_MIME_TYPE]};\n      render(props, toinsert[toinsert.length - 1]);\n      element.append(toinsert);\n      return toinsert\n    }\n\n    /* Handle when an output is cleared or removed */\n    events.on('clear_output.CodeCell', handleClearOutput);\n    events.on('delete.Cell', handleClearOutput);\n\n    /* Handle when a new output is added */\n    events.on('output_added.OutputArea', handleAddOutput);\n\n    /**\n     * Register the mime type and append_mime function with output_area\n     */\n    OutputArea.prototype.register_mime_type(EXEC_MIME_TYPE, append_mime, {\n      /* Is output safe? */\n      safe: true,\n      /* Index of renderer in `output_area.display_order` */\n      index: 0\n    });\n  }\n\n  // register the mime type if in Jupyter Notebook environment and previously unregistered\n  if (root.Jupyter !== undefined) {\n    const events = require('base/js/events');\n    const OutputArea = require('notebook/js/outputarea').OutputArea;\n\n    if (OutputArea.prototype.mime_types().indexOf(EXEC_MIME_TYPE) == -1) {\n      register_renderer(events, OutputArea);\n    }\n  }\n\n  \n  if (typeof (root._bokeh_timeout) === \"undefined\" || force === true) {\n    root._bokeh_timeout = Date.now() + 5000;\n    root._bokeh_failed_load = false;\n  }\n\n  const NB_LOAD_WARNING = {'data': {'text/html':\n     \"<div style='background-color: #fdd'>\\n\"+\n     \"<p>\\n\"+\n     \"BokehJS does not appear to have successfully loaded. If loading BokehJS from CDN, this \\n\"+\n     \"may be due to a slow or bad network connection. Possible fixes:\\n\"+\n     \"</p>\\n\"+\n     \"<ul>\\n\"+\n     \"<li>re-rerun `output_notebook()` to attempt to load from CDN again, or</li>\\n\"+\n     \"<li>use INLINE resources instead, as so:</li>\\n\"+\n     \"</ul>\\n\"+\n     \"<code>\\n\"+\n     \"from bokeh.resources import INLINE\\n\"+\n     \"output_notebook(resources=INLINE)\\n\"+\n     \"</code>\\n\"+\n     \"</div>\"}};\n\n  function display_loaded() {\n    const el = document.getElementById(\"1971\");\n    if (el != null) {\n      el.textContent = \"BokehJS is loading...\";\n    }\n    if (root.Bokeh !== undefined) {\n      if (el != null) {\n        el.textContent = \"BokehJS \" + root.Bokeh.version + \" successfully loaded.\";\n      }\n    } else if (Date.now() < root._bokeh_timeout) {\n      setTimeout(display_loaded, 100)\n    }\n  }\n\n\n  function run_callbacks() {\n    try {\n      root._bokeh_onload_callbacks.forEach(function(callback) {\n        if (callback != null)\n          callback();\n      });\n    } finally {\n      delete root._bokeh_onload_callbacks\n    }\n    console.debug(\"Bokeh: all callbacks have finished\");\n  }\n\n  function load_libs(css_urls, js_urls, callback) {\n    if (css_urls == null) css_urls = [];\n    if (js_urls == null) js_urls = [];\n\n    root._bokeh_onload_callbacks.push(callback);\n    if (root._bokeh_is_loading > 0) {\n      console.debug(\"Bokeh: BokehJS is being loaded, scheduling callback at\", now());\n      return null;\n    }\n    if (js_urls == null || js_urls.length === 0) {\n      run_callbacks();\n      return null;\n    }\n    console.debug(\"Bokeh: BokehJS not loaded, scheduling load and callback at\", now());\n    root._bokeh_is_loading = css_urls.length + js_urls.length;\n\n    function on_load() {\n      root._bokeh_is_loading--;\n      if (root._bokeh_is_loading === 0) {\n        console.debug(\"Bokeh: all BokehJS libraries/stylesheets loaded\");\n        run_callbacks()\n      }\n    }\n\n    function on_error(url) {\n      console.error(\"failed to load \" + url);\n    }\n\n    for (let i = 0; i < css_urls.length; i++) {\n      const url = css_urls[i];\n      const element = document.createElement(\"link\");\n      element.onload = on_load;\n      element.onerror = on_error.bind(null, url);\n      element.rel = \"stylesheet\";\n      element.type = \"text/css\";\n      element.href = url;\n      console.debug(\"Bokeh: injecting link tag for BokehJS stylesheet: \", url);\n      document.body.appendChild(element);\n    }\n\n    for (let i = 0; i < js_urls.length; i++) {\n      const url = js_urls[i];\n      const element = document.createElement('script');\n      element.onload = on_load;\n      element.onerror = on_error.bind(null, url);\n      element.async = false;\n      element.src = url;\n      console.debug(\"Bokeh: injecting script tag for BokehJS library: \", url);\n      document.head.appendChild(element);\n    }\n  };\n\n  function inject_raw_css(css) {\n    const element = document.createElement(\"style\");\n    element.appendChild(document.createTextNode(css));\n    document.body.appendChild(element);\n  }\n\n  \n  const js_urls = [\"https://cdn.bokeh.org/bokeh/release/bokeh-2.4.1.min.js\", \"https://cdn.bokeh.org/bokeh/release/bokeh-gl-2.4.1.min.js\", \"https://cdn.bokeh.org/bokeh/release/bokeh-widgets-2.4.1.min.js\", \"https://cdn.bokeh.org/bokeh/release/bokeh-tables-2.4.1.min.js\", \"https://cdn.bokeh.org/bokeh/release/bokeh-mathjax-2.4.1.min.js\", \"https://unpkg.com/@holoviz/panel@0.13.1/dist/panel.min.js\"];\n  const css_urls = [];\n  \n\n  const inline_js = [\n    function(Bokeh) {\n      Bokeh.set_log_level(\"info\");\n    },\n    function(Bokeh) {\n    \n    \n    }\n  ];\n\n  function run_inline_js() {\n    \n    if (root.Bokeh !== undefined || force === true) {\n      \n    for (let i = 0; i < inline_js.length; i++) {\n      inline_js[i].call(root, root.Bokeh);\n    }\n    if (force === true) {\n        display_loaded();\n      }} else if (Date.now() < root._bokeh_timeout) {\n      setTimeout(run_inline_js, 100);\n    } else if (!root._bokeh_failed_load) {\n      console.log(\"Bokeh: BokehJS failed to load within specified timeout.\");\n      root._bokeh_failed_load = true;\n    } else if (force !== true) {\n      const cell = $(document.getElementById(\"1971\")).parents('.cell').data().cell;\n      cell.output_area.append_execute_result(NB_LOAD_WARNING)\n    }\n\n  }\n\n  if (root._bokeh_is_loading === 0) {\n    console.debug(\"Bokeh: BokehJS loaded, going straight to plotting\");\n    run_inline_js();\n  } else {\n    load_libs(css_urls, js_urls, function() {\n      console.debug(\"Bokeh: BokehJS plotting callback run at\", now());\n      run_inline_js();\n    });\n  }\n}(window));",
      "application/vnd.bokehjs_load.v0+json": ""
     },
     "metadata": {},
     "output_type": "display_data"
    }
   ],
   "source": [
    "import sys,os\n",
    "sys.path.append(os.path.realpath('..'))\n",
    "\n",
    "from scripts.functions import dilution, replenish, dilute_out_species\n",
    "from scripts.species import DNA, RNA, Protein, Resource\n",
    "import scripts.models \n",
    "\n",
    "\n",
    "import numpy as np\n",
    "import scipy.integrate\n",
    "import scipy.optimize\n",
    "from bokeh.plotting import figure, output_file, show\n",
    "\n",
    "import bokeh.plotting\n",
    "import bokeh.io\n",
    "from bokeh.models import Span\n",
    "\n",
    "\n",
    "# We will use Matplotlib to make a 3D plot\n",
    "import matplotlib.pyplot as plt\n",
    "from mpl_toolkits.mplot3d import Axes3D\n",
    "%matplotlib inline\n",
    "%config InlineBackend.figure_format = 'retina'\n",
    "\n",
    "import panel as pn\n",
    "pn.extension()\n",
    "\n",
    "bokeh.io.output_notebook()"
   ]
  },
  {
   "cell_type": "code",
   "execution_count": 40,
   "metadata": {},
   "outputs": [],
   "source": [
    "#define model\n",
    "def Self_regenerate_model(molecules,t,alpha,beta,K,Kr,KTL,KTX,lamb1,lamb2):\n",
    "    T7_DNA,T7_RNA,T7,GFP_DNA,GFP_RNA,GFP,Repressor_DNA,Repressor_RNA,Repressor,R = molecules\n",
    "    TX = 1\n",
    "    TL = 1\n",
    "    return np.array(\n",
    "        [\n",
    "            0,\n",
    "            alpha*TX*T7_DNA*T7*R/(R+K)*(Kr/(Repressor+Kr)),\n",
    "            beta*TL*T7_RNA*(R/(R+K)),\n",
    "            0,\n",
    "            alpha*TX*GFP_DNA*T7*R/(R+K),\n",
    "            beta*TL*GFP_RNA*R/(R+K),\n",
    "            0,\n",
    "            alpha*TX*Repressor_DNA*T7*R/(R+K),\n",
    "            beta*TL*Repressor_RNA*R/(R+K),\n",
    "            -alpha*TX*T7_DNA*T7*R/(R+K)-alpha*TX*GFP_DNA*T7*R/(R+K)-alpha*TX*Repressor_DNA*T7*R/(R+K)-beta*TL*T7_RNA*R/(R+K)-beta*TL*GFP_RNA*R/(R+K)-beta*TL*Repressor_RNA*R/(R+K),\n",
    "        ]\n",
    "    )\n",
    "    "
   ]
  },
  {
   "cell_type": "code",
   "execution_count": 38,
   "metadata": {},
   "outputs": [],
   "source": [
    "#######Define species #######\n",
    "\n",
    "#T7 RNAP\n",
    "T7_DNA = DNA()\n",
    "T7_RNA = RNA()\n",
    "T7 = Protein()\n",
    "\n",
    "#Repressor\n",
    "Repressor_DNA = DNA()\n",
    "Repressor_RNA = RNA()\n",
    "Repressor = Protein()\n",
    "\n",
    "#GFP\n",
    "GFP_DNA = DNA()\n",
    "GFP_RNA = RNA()\n",
    "GFP = Protein()\n",
    "\n",
    "#Resource\n",
    "R      = Resource()\n",
    "\n",
    "#Others\n",
    "TX = 1\n",
    "TL = 1\n",
    "\n",
    "#list of molecules\n",
    "molecules_list = [T7_DNA,T7_RNA,T7,GFP_DNA,GFP_RNA,GFP,Repressor_DNA,Repressor_RNA,Repressor,R]\n",
    "\n",
    "\n",
    "#give index num\n",
    "for i in range(0,len(molecules_list)):\n",
    "    molecules_list[i].idx = i\n",
    "\n",
    "\n",
    "\n",
    "\n",
    "#define values \n",
    "##T7\n",
    "T7_DNA.ic =0.2\n",
    "T7_DNA.lc = 0.2\n",
    "\n",
    "T7.ic = 1\n",
    "T7.lc = 1\n",
    "\n",
    "##GFP\n",
    "GFP_DNA.ic = 1\n",
    "GFP_DNA.lc = 1\n",
    "\n",
    "GFP.lc = 0\n",
    "\n",
    "##Repressor \n",
    "Repressor_DNA.ic = 0.2\n",
    "Repressor_DNA.lc = 0.2\n",
    "\n",
    "\n",
    "#resources\n",
    "R.ic =10\n",
    "R.lc =10\n",
    "\n",
    "#initial value\n",
    "molecules_0 = [None]*len(molecules_list) #create empty list\n",
    "\n",
    "\n",
    "for i in range(0,len(molecules_list)):\n",
    "\n",
    "    molecules_0[i] = molecules_list[i].ic\n"
   ]
  },
  {
   "cell_type": "code",
   "execution_count": 39,
   "metadata": {},
   "outputs": [],
   "source": [
    "#Define parameters\n",
    "alpha=0.7;\n",
    "beta=0.07;\n",
    "K=1.0;\n",
    "Kd = 0.5;\n",
    "HC = 1;\n",
    "KTL=10;\n",
    "KTX=1;\n",
    "lamb1=0;\n",
    "lamb2=0;\n",
    "\n",
    "parameters_list = (alpha,beta,K,Kd,KTL,KTX,lamb1,lamb2)\n",
    "\n"
   ]
  },
  {
   "cell_type": "code",
   "execution_count": 41,
   "metadata": {},
   "outputs": [],
   "source": [
    "#stage 1 kick start\n",
    "result_all=molecules_0 #initial condition\n",
    "\n",
    "DR = 0.2\n",
    "\n",
    "\n",
    "for n in range (1,16):\n",
    "\n",
    "    #define time\n",
    "    t_start= n*15\n",
    "    t_end = (n+1)*15\n",
    "    t= np.linspace(t_start,t_end,2)\n",
    "\n",
    "    #solve equation and save result\n",
    "    result = scipy.integrate.odeint(Self_regenerate_model, molecules_0, t, args=parameters_list)\n",
    "    result_all = np.append(result_all,result[1])\n",
    "    #update parameter\n",
    "    molecules_0 = result.transpose()[:,-1]\n",
    "    \n",
    "    #dilution \n",
    "    ###replenish \n",
    "    molecules_0[R.idx] = R.ic*DR+(1-DR)*molecules_0[R.idx]\n",
    "    molecules_0[T7.idx] = T7.lc*DR+(1-DR)*molecules_0[T7.idx]\n",
    "\n",
    "    ###diute out\n",
    "    dilute_out_species((T7_RNA,GFP,GFP_RNA,Repressor,Repressor_RNA),molecules_0)\n",
    "\n",
    "\n",
    "#stage 2 self regeneration \n",
    "\n",
    "for n in range (16,64):\n",
    "\n",
    "    #define time\n",
    "    t_start= n*15\n",
    "    t_end = (n+1)*15\n",
    "    t= np.linspace(t_start,t_end,2)\n",
    "\n",
    "    #solve equation and save result\n",
    "    result = scipy.integrate.odeint(Self_regenerate_model, molecules_0, t, args=parameters_list)\n",
    "    result_all = np.append(result_all,result[1])\n",
    "    \n",
    "    #update parameter\n",
    "    molecules_0 = result.transpose()[:,-1]\n",
    "    \n",
    "    #dilution \n",
    "    ###replenish \n",
    "    molecules_0[R.idx] = R.ic*DR+(1-DR)*molecules_0[R.idx]\n",
    "    \n",
    "\n",
    "    ###diute out\n",
    "    dilute_out_species((T7_RNA,GFP,GFP_RNA,Repressor,Repressor_RNA),molecules_0)\n",
    "\n",
    "\n",
    "\n",
    "for n in range (64,96):\n",
    "\n",
    "    #define time\n",
    "    t_start= n*15\n",
    "    t_end = (n+1)*15\n",
    "    t= np.linspace(t_start,t_end,2)\n",
    "\n",
    "    #solve equation and save result\n",
    "    result = scipy.integrate.odeint(Self_regenerate_model, molecules_0, t, args=parameters_list)\n",
    "    result_all = np.append(result_all,result[1])\n",
    "    #update parameter\n",
    "    molecules_0 = result.transpose()[:,-1]\n",
    "    \n",
    "    #dilution \n",
    "    ###replenish \n",
    "    molecules_0[R.idx] = R.ic*DR+(1-DR)*molecules_0[R.idx]\n",
    "\n",
    "    ###diute out\n",
    "    dilute_out_species((T7,T7_RNA,T7_DNA,GFP,GFP_RNA,GFP_DNA,Repressor,Repressor_RNA,Repressor_DNA),molecules_0)\n",
    "\n",
    "\n",
    "\n",
    "result_all = np.resize(result_all,(96,10))\n",
    "for i in range(0,len(molecules_list)):\n",
    "        (molecules_list[i]).result = result_all.transpose()[i]\n",
    "\n",
    "#T7_DNA,T7_RNA,T7,GFP_DNA,GFP_RNA,GFP,R = result_all.transpose()\n"
   ]
  },
  {
   "cell_type": "code",
   "execution_count": 42,
   "metadata": {},
   "outputs": [
    {
     "data": {
      "text/html": [
       "\n",
       "\n",
       "\n",
       "\n",
       "\n",
       "\n",
       "  <div class=\"bk-root\" id=\"56b8cffc-5679-42f0-9770-6fa4048d5792\" data-root-id=\"2154\"></div>\n"
      ]
     },
     "metadata": {},
     "output_type": "display_data"
    },
    {
     "data": {
      "application/javascript": "(function(root) {\n  function embed_document(root) {\n    \n  const docs_json = {\"21523aa4-17d3-4aaf-84ed-1db8a12f454b\":{\"defs\":[{\"extends\":null,\"module\":null,\"name\":\"ReactiveHTML1\",\"overrides\":[],\"properties\":[]},{\"extends\":null,\"module\":null,\"name\":\"FlexBox1\",\"overrides\":[],\"properties\":[{\"default\":\"flex-start\",\"kind\":null,\"name\":\"align_content\"},{\"default\":\"flex-start\",\"kind\":null,\"name\":\"align_items\"},{\"default\":\"row\",\"kind\":null,\"name\":\"flex_direction\"},{\"default\":\"wrap\",\"kind\":null,\"name\":\"flex_wrap\"},{\"default\":\"flex-start\",\"kind\":null,\"name\":\"justify_content\"}]},{\"extends\":null,\"module\":null,\"name\":\"GridStack1\",\"overrides\":[],\"properties\":[{\"default\":\"warn\",\"kind\":null,\"name\":\"mode\"},{\"default\":null,\"kind\":null,\"name\":\"ncols\"},{\"default\":null,\"kind\":null,\"name\":\"nrows\"},{\"default\":true,\"kind\":null,\"name\":\"allow_resize\"},{\"default\":true,\"kind\":null,\"name\":\"allow_drag\"},{\"default\":[],\"kind\":null,\"name\":\"state\"}]},{\"extends\":null,\"module\":null,\"name\":\"click1\",\"overrides\":[],\"properties\":[{\"default\":\"\",\"kind\":null,\"name\":\"terminal_output\"},{\"default\":\"\",\"kind\":null,\"name\":\"debug_name\"},{\"default\":0,\"kind\":null,\"name\":\"clears\"}]},{\"extends\":null,\"module\":null,\"name\":\"NotificationAreaBase1\",\"overrides\":[],\"properties\":[{\"default\":\"bottom-right\",\"kind\":null,\"name\":\"position\"},{\"default\":0,\"kind\":null,\"name\":\"_clear\"}]},{\"extends\":null,\"module\":null,\"name\":\"NotificationArea1\",\"overrides\":[],\"properties\":[{\"default\":[],\"kind\":null,\"name\":\"notifications\"},{\"default\":\"bottom-right\",\"kind\":null,\"name\":\"position\"},{\"default\":0,\"kind\":null,\"name\":\"_clear\"},{\"default\":[{\"background\":\"#ffc107\",\"icon\":{\"className\":\"fas fa-exclamation-triangle\",\"color\":\"white\",\"tagName\":\"i\"},\"type\":\"warning\"},{\"background\":\"#007bff\",\"icon\":{\"className\":\"fas fa-info-circle\",\"color\":\"white\",\"tagName\":\"i\"},\"type\":\"info\"}],\"kind\":null,\"name\":\"types\"}]},{\"extends\":null,\"module\":null,\"name\":\"Notification\",\"overrides\":[],\"properties\":[{\"default\":null,\"kind\":null,\"name\":\"background\"},{\"default\":3000,\"kind\":null,\"name\":\"duration\"},{\"default\":null,\"kind\":null,\"name\":\"icon\"},{\"default\":\"\",\"kind\":null,\"name\":\"message\"},{\"default\":null,\"kind\":null,\"name\":\"notification_type\"},{\"default\":false,\"kind\":null,\"name\":\"_destroyed\"}]},{\"extends\":null,\"module\":null,\"name\":\"TemplateActions1\",\"overrides\":[],\"properties\":[{\"default\":0,\"kind\":null,\"name\":\"open_modal\"},{\"default\":0,\"kind\":null,\"name\":\"close_modal\"}]},{\"extends\":null,\"module\":null,\"name\":\"MaterialTemplateActions1\",\"overrides\":[],\"properties\":[{\"default\":0,\"kind\":null,\"name\":\"open_modal\"},{\"default\":0,\"kind\":null,\"name\":\"close_modal\"}]}],\"roots\":{\"references\":[{\"attributes\":{\"below\":[{\"id\":\"2163\"}],\"center\":[{\"id\":\"2166\"},{\"id\":\"2170\"},{\"id\":\"2191\"},{\"id\":\"2192\"}],\"height\":400,\"left\":[{\"id\":\"2167\"}],\"renderers\":[{\"id\":\"2189\"}],\"title\":{\"id\":\"2281\"},\"toolbar\":{\"id\":\"2178\"},\"width\":800,\"x_range\":{\"id\":\"2155\"},\"x_scale\":{\"id\":\"2159\"},\"y_range\":{\"id\":\"2157\"},\"y_scale\":{\"id\":\"2161\"}},\"id\":\"2154\",\"subtype\":\"Figure\",\"type\":\"Plot\"},{\"attributes\":{\"line_color\":\"#1f77b4\",\"line_width\":2,\"x\":{\"field\":\"x\"},\"y\":{\"field\":\"y\"}},\"id\":\"2186\",\"type\":\"Line\"},{\"attributes\":{},\"id\":\"2176\",\"type\":\"HelpTool\"},{\"attributes\":{},\"id\":\"2284\",\"type\":\"BasicTickFormatter\"},{\"attributes\":{},\"id\":\"2157\",\"type\":\"DataRange1d\"},{\"attributes\":{},\"id\":\"2174\",\"type\":\"SaveTool\"},{\"attributes\":{\"coordinates\":null,\"data_source\":{\"id\":\"2185\"},\"glyph\":{\"id\":\"2186\"},\"group\":null,\"hover_glyph\":null,\"muted_glyph\":{\"id\":\"2188\"},\"nonselection_glyph\":{\"id\":\"2187\"},\"view\":{\"id\":\"2190\"}},\"id\":\"2189\",\"type\":\"GlyphRenderer\"},{\"attributes\":{},\"id\":\"2168\",\"type\":\"BasicTicker\"},{\"attributes\":{},\"id\":\"2285\",\"type\":\"AllLabels\"},{\"attributes\":{},\"id\":\"2171\",\"type\":\"PanTool\"},{\"attributes\":{},\"id\":\"2287\",\"type\":\"BasicTickFormatter\"},{\"attributes\":{},\"id\":\"2172\",\"type\":\"WheelZoomTool\"},{\"attributes\":{\"line_alpha\":0.2,\"line_color\":\"#1f77b4\",\"line_width\":2,\"x\":{\"field\":\"x\"},\"y\":{\"field\":\"y\"}},\"id\":\"2188\",\"type\":\"Line\"},{\"attributes\":{},\"id\":\"2288\",\"type\":\"AllLabels\"},{\"attributes\":{\"bottom_units\":\"screen\",\"coordinates\":null,\"fill_alpha\":0.5,\"fill_color\":\"lightgrey\",\"group\":null,\"left_units\":\"screen\",\"level\":\"overlay\",\"line_alpha\":1.0,\"line_color\":\"black\",\"line_dash\":[4,4],\"line_width\":2,\"right_units\":\"screen\",\"syncable\":false,\"top_units\":\"screen\"},\"id\":\"2177\",\"type\":\"BoxAnnotation\"},{\"attributes\":{\"coordinates\":null,\"dimension\":\"height\",\"group\":null,\"line_dash\":[6],\"location\":16},\"id\":\"2192\",\"type\":\"Span\"},{\"attributes\":{\"tools\":[{\"id\":\"2171\"},{\"id\":\"2172\"},{\"id\":\"2173\"},{\"id\":\"2174\"},{\"id\":\"2175\"},{\"id\":\"2176\"}]},\"id\":\"2178\",\"type\":\"Toolbar\"},{\"attributes\":{\"axis\":{\"id\":\"2167\"},\"coordinates\":null,\"dimension\":1,\"group\":null,\"ticker\":null},\"id\":\"2170\",\"type\":\"Grid\"},{\"attributes\":{},\"id\":\"2164\",\"type\":\"BasicTicker\"},{\"attributes\":{},\"id\":\"2161\",\"type\":\"LinearScale\"},{\"attributes\":{},\"id\":\"2289\",\"type\":\"UnionRenderers\"},{\"attributes\":{\"line_alpha\":0.1,\"line_color\":\"#1f77b4\",\"line_width\":2,\"x\":{\"field\":\"x\"},\"y\":{\"field\":\"y\"}},\"id\":\"2187\",\"type\":\"Line\"},{\"attributes\":{},\"id\":\"2290\",\"type\":\"Selection\"},{\"attributes\":{\"coordinates\":null,\"group\":null},\"id\":\"2281\",\"type\":\"Title\"},{\"attributes\":{\"source\":{\"id\":\"2185\"}},\"id\":\"2190\",\"type\":\"CDSView\"},{\"attributes\":{},\"id\":\"2175\",\"type\":\"ResetTool\"},{\"attributes\":{\"coordinates\":null,\"dimension\":\"height\",\"group\":null,\"line_dash\":[6],\"location\":4},\"id\":\"2191\",\"type\":\"Span\"},{\"attributes\":{\"axis_label\":\"dimensionless concentration\",\"coordinates\":null,\"formatter\":{\"id\":\"2284\"},\"group\":null,\"major_label_policy\":{\"id\":\"2285\"},\"ticker\":{\"id\":\"2168\"}},\"id\":\"2167\",\"type\":\"LinearAxis\"},{\"attributes\":{},\"id\":\"2159\",\"type\":\"LinearScale\"},{\"attributes\":{\"axis\":{\"id\":\"2163\"},\"coordinates\":null,\"group\":null,\"ticker\":null},\"id\":\"2166\",\"type\":\"Grid\"},{\"attributes\":{\"axis_label\":\"t\",\"coordinates\":null,\"formatter\":{\"id\":\"2287\"},\"group\":null,\"major_label_policy\":{\"id\":\"2288\"},\"ticker\":{\"id\":\"2164\"}},\"id\":\"2163\",\"type\":\"LinearAxis\"},{\"attributes\":{\"overlay\":{\"id\":\"2177\"}},\"id\":\"2173\",\"type\":\"BoxZoomTool\"},{\"attributes\":{},\"id\":\"2155\",\"type\":\"DataRange1d\"},{\"attributes\":{\"data\":{\"x\":{\"__ndarray__\":\"AAAAAAAAAACyAmGkHSvQP7ICYaQdK+A/C4SRdqxA6D+yAmGkHSvwP15DeQ3lNfQ/C4SRdqxA+D+2xKnfc0v8P7ICYaQdKwBAByPtWIEwAkBeQ3kN5TUEQLRjBcJIOwZAC4SRdqxACEBhpB0rEEYKQLbEqd9zSwxADeU1lNdQDkCyAmGkHSsQQN0Sp37PLRFAByPtWIEwEkAzMzMzMzMTQF5DeQ3lNRRAilO/55Y4FUC0YwXCSDsWQN9zS5z6PRdAC4SRdqxAGEA1lNdQXkMZQGGkHSsQRhpAjLRjBcJIG0C2xKnfc0scQOLU77klTh1ADeU1lNdQHkA59XtuiVMfQLICYaQdKyBAxwqEkXasIEDdEqd+zy0hQPIaymsoryFAByPtWIEwIkAeKxBG2rEiQDMzMzMzMyNASTtWIIy0I0BeQ3kN5TUkQHNLnPo9tyRAilO/55Y4JUCfW+LU77klQLRjBcJIOyZAymsor6G8JkDfc0uc+j0nQPV7bolTvydAC4SRdqxAKEAgjLRjBcIoQDWU11BeQylAS5z6PbfEKUBhpB0rEEYqQHasQBhpxypAjLRjBcJIK0ChvIbyGsorQLbEqd9zSyxAzczMzMzMLEDi1O+5JU4tQPfcEqd+zy1ADeU1lNdQLkAi7ViBMNIuQDn1e26JUy9ATv2eW+LUL0CyAmGkHSswQLyG8hrKazBAxwqEkXasMEDSjhUII+0wQN0Sp37PLTFA55Y49XtuMUDyGsprKK8xQP2eW+LU7zFAByPtWIEwMkASp37PLXEyQB4rEEbasTJAKa+hvIbyMkAzMzMzMzMzQD63xKnfczNASTtWIIy0M0BTv+eWOPUzQF5DeQ3lNTRAaccKhJF2NEBzS5z6Pbc0QH7PLXHq9zRAilO/55Y4NUCU11BeQ3k1QJ9b4tTvuTVAqt9zS5z6NUC0YwXCSDs2QL/nljj1ezZAymsor6G8NkDU77klTv02QN9zS5z6PTdA6vfcEqd+N0D1e26JU783QAAAAAAAADhA\",\"dtype\":\"float64\",\"order\":\"little\",\"shape\":[96]},\"y\":{\"__ndarray__\":\"AAAAAAAAAAAulOKANgr3PyKM08RLGvk/EM83/ROi+j/QAORPAMj7PzEf81NWp/w/irmVAHhT/T9qV83YLtr9P4r92+JLRf4/OyInXM+b/j9H8cYru+L+PxOmuI2oHf8/gjU5SzJP/z8Cja7gP3n/P6DulnM6nf8/ZGDq/DG8/z9vuhlB99b/Pzwh4G9nv/8/YzSC7FGF/z994dRLAzT/P4a5yyeK0/4/dMQPoKBp/j9Peg84VPr9P7tTD5J+iP0/wtYGTxwW/T8DO5GZi6T8P78lzTC5NPw/pvFF2kDH+z/OcZzAhFz7P0T2iUe+9Po/mlgIJwqQ+j8h5RIgcS76P9SBUzvuz/k/HUb8QXN0+T+Gw/Pu6xv5P4OwpjNAxvg/MSR+0lVz+D+Ry61+ESP4P1eq1KNX1fc/N31b7gyK9z93lJGmFkH3P2cKxeta+vY/aeB418C19j9nQhySMHP2PwTRWVuTMvY/aED4itPz9T/Qu3yM3Lb1P+dKWdeae/U/5Qft5PtB9T+tczwl7gn1P7RlA/Ng0/Q/wpWQh0Se9D9SPrLuiWr0P2guAfsiOPQ/x4hzOgIH9D89g4brGtfzPzqN6vJgqPM/gWW90ch68z8MhlKcR07zP/Jdh/HSIvM/ZuOe8mD48j+P1Z476M7yP7dRKNxfpvI/KAjFUL9+8j/KRKJ8/lfyP7ncloeetPM/K4Jf7ZOQ9j/WisFtP8r6P1M4eeyMDwBARc4BjYQbA0DaUR1eJFsGQCIF2ghopQlA7o/o7yHYDEAYQRl8kNYPQG6uqkWzQxFA0lNMyQdqEkAXCxYvglQTQKytSKUx+xNADY3XmVlYFEAnJiapAmkUQDDjFF2cLRRAv7BQYlyqE0DVZhHCE+cSQPr513hv7hFAAGUJxtbMEECU0SI2ZR4PQAx9RQC7gwxAe37t07zfCUBSWICZ6kQHQBPk/FrewQRAwns/DF9hAkDukvfHuCoAQHQhNKx1RPw/CMwQtYaT+D/6g/wUkkL1P6CIk0ixTvI/\",\"dtype\":\"float64\",\"order\":\"little\",\"shape\":[96]}},\"selected\":{\"id\":\"2290\"},\"selection_policy\":{\"id\":\"2289\"}},\"id\":\"2185\",\"type\":\"ColumnDataSource\"}],\"root_ids\":[\"2154\"]},\"title\":\"Bokeh Application\",\"version\":\"2.4.1\"}};\n  const render_items = [{\"docid\":\"21523aa4-17d3-4aaf-84ed-1db8a12f454b\",\"root_ids\":[\"2154\"],\"roots\":{\"2154\":\"56b8cffc-5679-42f0-9770-6fa4048d5792\"}}];\n  root.Bokeh.embed.embed_items_notebook(docs_json, render_items);\n\n  }\n  if (root.Bokeh !== undefined) {\n    embed_document(root);\n  } else {\n    let attempts = 0;\n    const timer = setInterval(function(root) {\n      if (root.Bokeh !== undefined) {\n        clearInterval(timer);\n        embed_document(root);\n      } else {\n        attempts++;\n        if (attempts > 100) {\n          clearInterval(timer);\n          console.log(\"Bokeh: ERROR: Unable to run BokehJS code because BokehJS library is missing\");\n        }\n      }\n    }, 10, root)\n  }\n})(window);",
      "application/vnd.bokehjs_exec.v0+json": ""
     },
     "metadata": {
      "application/vnd.bokehjs_exec.v0+json": {
       "id": "2154"
      }
     },
     "output_type": "display_data"
    }
   ],
   "source": [
    "t = np.linspace(0, 1440, 96)\n",
    "p = bokeh.plotting.figure(\n",
    "    plot_width=800,\n",
    "    plot_height=400,\n",
    "    x_axis_label=\"t\",\n",
    "    y_axis_label=\"dimensionless concentration\",\n",
    "    y_axis_type=\"linear\",\n",
    "\n",
    ")\n",
    "\n",
    "colors = bokeh.palettes.d3[\"Category10\"][3]\n",
    "\n",
    "\n",
    "# Populate glyphs\n",
    "p.line(\n",
    "    t/60, GFP.result, line_width=2, color=colors[0]\n",
    ")\n",
    "vline1 = Span(location=4, dimension='height', line_color='black', line_width=1,line_dash='dashed')\n",
    "vline2 = Span(location=16, dimension='height', line_color='black', line_width=1,line_dash='dashed')\n",
    "p.add_layout(vline1)\n",
    "p.add_layout(vline2)\n",
    "\n",
    "\n",
    "show(p)\n"
   ]
  },
  {
   "cell_type": "code",
   "execution_count": null,
   "metadata": {},
   "outputs": [],
   "source": []
  }
 ],
 "metadata": {
  "kernelspec": {
   "display_name": "Python 3.9.7 ('base')",
   "language": "python",
   "name": "python3"
  },
  "language_info": {
   "codemirror_mode": {
    "name": "ipython",
    "version": 3
   },
   "file_extension": ".py",
   "mimetype": "text/x-python",
   "name": "python",
   "nbconvert_exporter": "python",
   "pygments_lexer": "ipython3",
   "version": "3.9.7"
  },
  "orig_nbformat": 4,
  "vscode": {
   "interpreter": {
    "hash": "702350541321a2f0d6ee5689c760d1f3e12a6e5a69204819bb813b28aabd20d3"
   }
  }
 },
 "nbformat": 4,
 "nbformat_minor": 2
}
