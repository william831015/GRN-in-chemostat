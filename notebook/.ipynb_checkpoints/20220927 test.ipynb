{
 "cells": [
  {
   "cell_type": "code",
   "execution_count": 22,
   "metadata": {},
   "outputs": [
    {
     "data": {
      "text/plain": [
       "<module 'scripts.species' from '/Users/william/Desktop/git/GRN-in-chemostat/scripts/species.py'>"
      ]
     },
     "execution_count": 22,
     "metadata": {},
     "output_type": "execute_result"
    }
   ],
   "source": [
    "import scripts.models\n",
    "from scripts.species import DNA,RNA,Protein,Resource\n",
    "import scripts.functions\n",
    "scripts.species"
   ]
  },
  {
   "cell_type": "code",
   "execution_count": 11,
   "metadata": {},
   "outputs": [],
   "source": [
    "#class of different species\n",
    "# ic : initial concentration\n",
    "# lc : loading concentration\n",
    "# pr : production rate \n",
    "# dr : degradation rate\n",
    "class DNA:\n",
    "    ic = 0\n",
    "    lc = 0\n",
    "    dr = 0\n",
    "\n",
    "\n",
    "class RNA:\n",
    "    ic = 0\n",
    "    lc = 0\n",
    "    pr = 0\n",
    "    dr = 0\n",
    "\n",
    "\n",
    "class Protein: \n",
    "    ic = 0\n",
    "    lc = 0\n",
    "    pr = 0\n",
    "    dr = 0\n",
    "\n",
    "class Resource:\n",
    "    ic = 100\n",
    "    lc = 100\n"
   ]
  },
  {
   "cell_type": "code",
   "execution_count": 25,
   "metadata": {},
   "outputs": [],
   "source": [
    "#######Define species #######\n",
    "\n",
    "#T7 RNAP\n",
    "T7_DNA = DNA()\n",
    "T7_RNA = RNA()\n",
    "T7 = Protein()\n",
    "\n",
    "#Repressor\n",
    "Repressor_DNA = DNA()\n",
    "Repressor_RNA = RNA()\n",
    "Repressor = Protein()\n",
    "\n",
    "#GFP\n",
    "GFP_DNA = DNA()\n",
    "GFP_RNA = RNA()\n",
    "GFP = Protein()\n",
    "\n",
    "#Resource\n",
    "R      = Resource()\n",
    "\n",
    "#list of molecules\n",
    "molecules_list = [T7_DNA,T7_RNA,T7,Repressor_DNA,Repressor_RNA,Repressor,GFP_DNA,GFP_RNA,GFP,R]\n",
    "\n",
    "#give index num\n",
    "for i in range(0,len(molecules_list)):\n",
    "    molecules_list[i].idx = i\n",
    "\n",
    "#initial value\n",
    "molecules_0 = molecules_list\n",
    "for i in range(0,len(molecules_list)):\n",
    "    molecules_0[i] = molecules_list[i].ic"
   ]
  },
  {
   "cell_type": "code",
   "execution_count": 26,
   "metadata": {},
   "outputs": [
    {
     "data": {
      "text/plain": [
       "[0, 0, 0, 0, 0, 0, 0, 0, 0, 100]"
      ]
     },
     "execution_count": 26,
     "metadata": {},
     "output_type": "execute_result"
    }
   ],
   "source": []
  },
  {
   "cell_type": "code",
   "execution_count": null,
   "metadata": {},
   "outputs": [],
   "source": []
  }
 ],
 "metadata": {
  "kernelspec": {
   "display_name": "Python 3.10.6",
   "language": "python",
   "name": "python3"
  },
  "language_info": {
   "codemirror_mode": {
    "name": "ipython",
    "version": 3
   },
   "file_extension": ".py",
   "mimetype": "text/x-python",
   "name": "python",
   "nbconvert_exporter": "python",
   "pygments_lexer": "ipython3",
   "version": "3.10.6"
  },
  "orig_nbformat": 4,
  "vscode": {
   "interpreter": {
    "hash": "0864f70237d62597bacb185f3ec0bb7bc9193dc1b5ae3d8075d41f494d5775cb"
   }
  }
 },
 "nbformat": 4,
 "nbformat_minor": 2
}
