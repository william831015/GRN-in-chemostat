{
 "cells": [
  {
   "cell_type": "code",
   "execution_count": 76,
   "id": "b73b06d6",
   "metadata": {},
   "outputs": [
    {
     "data": {
      "application/javascript": "\n(function(root) {\n  function now() {\n    return new Date();\n  }\n\n  var force = true;\n\n  if (typeof root._bokeh_onload_callbacks === \"undefined\" || force === true) {\n    root._bokeh_onload_callbacks = [];\n    root._bokeh_is_loading = undefined;\n  }\n\n  if (typeof (root._bokeh_timeout) === \"undefined\" || force === true) {\n    root._bokeh_timeout = Date.now() + 5000;\n    root._bokeh_failed_load = false;\n  }\n\n  function run_callbacks() {\n    try {\n      root._bokeh_onload_callbacks.forEach(function(callback) {\n        if (callback != null)\n          callback();\n      });\n    } finally {\n      delete root._bokeh_onload_callbacks\n    }\n    console.debug(\"Bokeh: all callbacks have finished\");\n  }\n\n  function load_libs(css_urls, js_urls, js_modules, callback) {\n    if (css_urls == null) css_urls = [];\n    if (js_urls == null) js_urls = [];\n    if (js_modules == null) js_modules = [];\n\n    root._bokeh_onload_callbacks.push(callback);\n    if (root._bokeh_is_loading > 0) {\n      console.debug(\"Bokeh: BokehJS is being loaded, scheduling callback at\", now());\n      return null;\n    }\n    if (js_urls.length === 0 && js_modules.length === 0) {\n      run_callbacks();\n      return null;\n    }\n    console.debug(\"Bokeh: BokehJS not loaded, scheduling load and callback at\", now());\n\n    function on_load() {\n      root._bokeh_is_loading--;\n      if (root._bokeh_is_loading === 0) {\n        console.debug(\"Bokeh: all BokehJS libraries/stylesheets loaded\");\n        run_callbacks()\n      }\n    }\n\n    function on_error() {\n      console.error(\"failed to load \" + url);\n    }\n\n    for (var i = 0; i < css_urls.length; i++) {\n      var url = css_urls[i];\n      const element = document.createElement(\"link\");\n      element.onload = on_load;\n      element.onerror = on_error;\n      element.rel = \"stylesheet\";\n      element.type = \"text/css\";\n      element.href = url;\n      console.debug(\"Bokeh: injecting link tag for BokehJS stylesheet: \", url);\n      document.body.appendChild(element);\n    }\n\n    var skip = [];\n    if (window.requirejs) {\n      window.requirejs.config({'packages': {}, 'paths': {}, 'shim': {}});\n      \n      root._bokeh_is_loading = css_urls.length + 0;\n    } else {\n      root._bokeh_is_loading = css_urls.length + js_urls.length + js_modules.length;\n    }\n    for (var i = 0; i < js_urls.length; i++) {\n      var url = js_urls[i];\n      if (skip.indexOf(url) >= 0) {\n\tif (!window.requirejs) {\n\t  on_load();\n\t}\n\tcontinue;\n      }\n      var element = document.createElement('script');\n      element.onload = on_load;\n      element.onerror = on_error;\n      element.async = false;\n      element.src = url;\n      console.debug(\"Bokeh: injecting script tag for BokehJS library: \", url);\n      document.head.appendChild(element);\n    }\n    for (var i = 0; i < js_modules.length; i++) {\n      var url = js_modules[i];\n      if (skip.indexOf(url) >= 0) {\n\tif (!window.requirejs) {\n\t  on_load();\n\t}\n\tcontinue;\n      }\n      var element = document.createElement('script');\n      element.onload = on_load;\n      element.onerror = on_error;\n      element.async = false;\n      element.src = url;\n      element.type = \"module\";\n      console.debug(\"Bokeh: injecting script tag for BokehJS library: \", url);\n      document.head.appendChild(element);\n    }\n    if (!js_urls.length && !js_modules.length) {\n      on_load()\n    }\n  };\n\n  function inject_raw_css(css) {\n    const element = document.createElement(\"style\");\n    element.appendChild(document.createTextNode(css));\n    document.body.appendChild(element);\n  }\n\n  var js_urls = [\"https://cdn.bokeh.org/bokeh/release/bokeh-2.4.1.min.js\", \"https://cdn.bokeh.org/bokeh/release/bokeh-gl-2.4.1.min.js\", \"https://cdn.bokeh.org/bokeh/release/bokeh-widgets-2.4.1.min.js\", \"https://cdn.bokeh.org/bokeh/release/bokeh-tables-2.4.1.min.js\", \"https://cdn.bokeh.org/bokeh/release/bokeh-mathjax-2.4.1.min.js\", \"https://unpkg.com/@holoviz/panel@0.13.1/dist/panel.min.js\"];\n  var js_modules = [];\n  var css_urls = [\"https://unpkg.com/@holoviz/panel@0.12.6/dist/css/debugger.css\", \"https://unpkg.com/@holoviz/panel@0.12.6/dist/css/alerts.css\", \"https://unpkg.com/@holoviz/panel@0.12.6/dist/css/card.css\", \"https://unpkg.com/@holoviz/panel@0.12.6/dist/css/widgets.css\", \"https://unpkg.com/@holoviz/panel@0.12.6/dist/css/markdown.css\", \"https://unpkg.com/@holoviz/panel@0.12.6/dist/css/json.css\", \"https://unpkg.com/@holoviz/panel@0.12.6/dist/css/loading.css\", \"https://unpkg.com/@holoviz/panel@0.12.6/dist/css/dataframe.css\"];\n  var inline_js = [\n    function(Bokeh) {\n      inject_raw_css(\"\\n    .bk.pn-loading.arcs:before {\\n      background-image: url(\\\"data:image/svg+xml;base64,PHN2ZyB4bWxucz0iaHR0cDovL3d3dy53My5vcmcvMjAwMC9zdmciIHhtbG5zOnhsaW5rPSJodHRwOi8vd3d3LnczLm9yZy8xOTk5L3hsaW5rIiBzdHlsZT0ibWFyZ2luOiBhdXRvOyBiYWNrZ3JvdW5kOiBub25lOyBkaXNwbGF5OiBibG9jazsgc2hhcGUtcmVuZGVyaW5nOiBhdXRvOyIgdmlld0JveD0iMCAwIDEwMCAxMDAiIHByZXNlcnZlQXNwZWN0UmF0aW89InhNaWRZTWlkIj4gIDxjaXJjbGUgY3g9IjUwIiBjeT0iNTAiIHI9IjMyIiBzdHJva2Utd2lkdGg9IjgiIHN0cm9rZT0iI2MzYzNjMyIgc3Ryb2tlLWRhc2hhcnJheT0iNTAuMjY1NDgyNDU3NDM2NjkgNTAuMjY1NDgyNDU3NDM2NjkiIGZpbGw9Im5vbmUiIHN0cm9rZS1saW5lY2FwPSJyb3VuZCI+ICAgIDxhbmltYXRlVHJhbnNmb3JtIGF0dHJpYnV0ZU5hbWU9InRyYW5zZm9ybSIgdHlwZT0icm90YXRlIiByZXBlYXRDb3VudD0iaW5kZWZpbml0ZSIgZHVyPSIxcyIga2V5VGltZXM9IjA7MSIgdmFsdWVzPSIwIDUwIDUwOzM2MCA1MCA1MCI+PC9hbmltYXRlVHJhbnNmb3JtPiAgPC9jaXJjbGU+PC9zdmc+\\\");\\n      max-height: 400px;\\n    }\\n    \");\n    },\n    function(Bokeh) {\n      Bokeh.set_log_level(\"info\");\n    },\n    function(Bokeh) {} // ensure no trailing comma for IE\n  ];\n\n  function run_inline_js() {\n    if ((root.Bokeh !== undefined) || (force === true)) {\n      for (var i = 0; i < inline_js.length; i++) {\n        inline_js[i].call(root, root.Bokeh);\n      }} else if (Date.now() < root._bokeh_timeout) {\n      setTimeout(run_inline_js, 100);\n    } else if (!root._bokeh_failed_load) {\n      console.log(\"Bokeh: BokehJS failed to load within specified timeout.\");\n      root._bokeh_failed_load = true;\n    }\n  }\n\n  if (root._bokeh_is_loading === 0) {\n    console.debug(\"Bokeh: BokehJS loaded, going straight to plotting\");\n    run_inline_js();\n  } else {\n    load_libs(css_urls, js_urls, js_modules, function() {\n      console.debug(\"Bokeh: BokehJS plotting callback run at\", now());\n      run_inline_js();\n    });\n  }\n}(window));",
      "application/vnd.holoviews_load.v0+json": ""
     },
     "metadata": {},
     "output_type": "display_data"
    },
    {
     "data": {
      "application/javascript": "\nif ((window.PyViz === undefined) || (window.PyViz instanceof HTMLElement)) {\n  window.PyViz = {comms: {}, comm_status:{}, kernels:{}, receivers: {}, plot_index: []}\n}\n\n\n    function JupyterCommManager() {\n    }\n\n    JupyterCommManager.prototype.register_target = function(plot_id, comm_id, msg_handler) {\n      if (window.comm_manager || ((window.Jupyter !== undefined) && (Jupyter.notebook.kernel != null))) {\n        var comm_manager = window.comm_manager || Jupyter.notebook.kernel.comm_manager;\n        comm_manager.register_target(comm_id, function(comm) {\n          comm.on_msg(msg_handler);\n        });\n      } else if ((plot_id in window.PyViz.kernels) && (window.PyViz.kernels[plot_id])) {\n        window.PyViz.kernels[plot_id].registerCommTarget(comm_id, function(comm) {\n          comm.onMsg = msg_handler;\n        });\n      } else if (typeof google != 'undefined' && google.colab.kernel != null) {\n        google.colab.kernel.comms.registerTarget(comm_id, (comm) => {\n          var messages = comm.messages[Symbol.asyncIterator]();\n          function processIteratorResult(result) {\n            var message = result.value;\n            console.log(message)\n            var content = {data: message.data, comm_id};\n            var buffers = []\n            for (var buffer of message.buffers || []) {\n              buffers.push(new DataView(buffer))\n            }\n            var metadata = message.metadata || {};\n            var msg = {content, buffers, metadata}\n            msg_handler(msg);\n            return messages.next().then(processIteratorResult);\n          }\n          return messages.next().then(processIteratorResult);\n        })\n      }\n    }\n\n    JupyterCommManager.prototype.get_client_comm = function(plot_id, comm_id, msg_handler) {\n      if (comm_id in window.PyViz.comms) {\n        return window.PyViz.comms[comm_id];\n      } else if (window.comm_manager || ((window.Jupyter !== undefined) && (Jupyter.notebook.kernel != null))) {\n        var comm_manager = window.comm_manager || Jupyter.notebook.kernel.comm_manager;\n        var comm = comm_manager.new_comm(comm_id, {}, {}, {}, comm_id);\n        if (msg_handler) {\n          comm.on_msg(msg_handler);\n        }\n      } else if ((plot_id in window.PyViz.kernels) && (window.PyViz.kernels[plot_id])) {\n        var comm = window.PyViz.kernels[plot_id].connectToComm(comm_id);\n        comm.open();\n        if (msg_handler) {\n          comm.onMsg = msg_handler;\n        }\n      } else if (typeof google != 'undefined' && google.colab.kernel != null) {\n        var comm_promise = google.colab.kernel.comms.open(comm_id)\n        comm_promise.then((comm) => {\n          window.PyViz.comms[comm_id] = comm;\n          if (msg_handler) {\n            var messages = comm.messages[Symbol.asyncIterator]();\n            function processIteratorResult(result) {\n              var message = result.value;\n              var content = {data: message.data};\n              var metadata = message.metadata || {comm_id};\n              var msg = {content, metadata}\n              msg_handler(msg);\n              return messages.next().then(processIteratorResult);\n            }\n            return messages.next().then(processIteratorResult);\n          }\n        }) \n        var sendClosure = (data, metadata, buffers, disposeOnDone) => {\n          return comm_promise.then((comm) => {\n            comm.send(data, metadata, buffers, disposeOnDone);\n          });\n        };\n        var comm = {\n          send: sendClosure\n        };\n      }\n      window.PyViz.comms[comm_id] = comm;\n      return comm;\n    }\n    window.PyViz.comm_manager = new JupyterCommManager();\n    \n\n\nvar JS_MIME_TYPE = 'application/javascript';\nvar HTML_MIME_TYPE = 'text/html';\nvar EXEC_MIME_TYPE = 'application/vnd.holoviews_exec.v0+json';\nvar CLASS_NAME = 'output';\n\n/**\n * Render data to the DOM node\n */\nfunction render(props, node) {\n  var div = document.createElement(\"div\");\n  var script = document.createElement(\"script\");\n  node.appendChild(div);\n  node.appendChild(script);\n}\n\n/**\n * Handle when a new output is added\n */\nfunction handle_add_output(event, handle) {\n  var output_area = handle.output_area;\n  var output = handle.output;\n  if ((output.data == undefined) || (!output.data.hasOwnProperty(EXEC_MIME_TYPE))) {\n    return\n  }\n  var id = output.metadata[EXEC_MIME_TYPE][\"id\"];\n  var toinsert = output_area.element.find(\".\" + CLASS_NAME.split(' ')[0]);\n  if (id !== undefined) {\n    var nchildren = toinsert.length;\n    var html_node = toinsert[nchildren-1].children[0];\n    html_node.innerHTML = output.data[HTML_MIME_TYPE];\n    var scripts = [];\n    var nodelist = html_node.querySelectorAll(\"script\");\n    for (var i in nodelist) {\n      if (nodelist.hasOwnProperty(i)) {\n        scripts.push(nodelist[i])\n      }\n    }\n\n    scripts.forEach( function (oldScript) {\n      var newScript = document.createElement(\"script\");\n      var attrs = [];\n      var nodemap = oldScript.attributes;\n      for (var j in nodemap) {\n        if (nodemap.hasOwnProperty(j)) {\n          attrs.push(nodemap[j])\n        }\n      }\n      attrs.forEach(function(attr) { newScript.setAttribute(attr.name, attr.value) });\n      newScript.appendChild(document.createTextNode(oldScript.innerHTML));\n      oldScript.parentNode.replaceChild(newScript, oldScript);\n    });\n    if (JS_MIME_TYPE in output.data) {\n      toinsert[nchildren-1].children[1].textContent = output.data[JS_MIME_TYPE];\n    }\n    output_area._hv_plot_id = id;\n    if ((window.Bokeh !== undefined) && (id in Bokeh.index)) {\n      window.PyViz.plot_index[id] = Bokeh.index[id];\n    } else {\n      window.PyViz.plot_index[id] = null;\n    }\n  } else if (output.metadata[EXEC_MIME_TYPE][\"server_id\"] !== undefined) {\n    var bk_div = document.createElement(\"div\");\n    bk_div.innerHTML = output.data[HTML_MIME_TYPE];\n    var script_attrs = bk_div.children[0].attributes;\n    for (var i = 0; i < script_attrs.length; i++) {\n      toinsert[toinsert.length - 1].childNodes[1].setAttribute(script_attrs[i].name, script_attrs[i].value);\n    }\n    // store reference to server id on output_area\n    output_area._bokeh_server_id = output.metadata[EXEC_MIME_TYPE][\"server_id\"];\n  }\n}\n\n/**\n * Handle when an output is cleared or removed\n */\nfunction handle_clear_output(event, handle) {\n  var id = handle.cell.output_area._hv_plot_id;\n  var server_id = handle.cell.output_area._bokeh_server_id;\n  if (((id === undefined) || !(id in PyViz.plot_index)) && (server_id !== undefined)) { return; }\n  var comm = window.PyViz.comm_manager.get_client_comm(\"hv-extension-comm\", \"hv-extension-comm\", function () {});\n  if (server_id !== null) {\n    comm.send({event_type: 'server_delete', 'id': server_id});\n    return;\n  } else if (comm !== null) {\n    comm.send({event_type: 'delete', 'id': id});\n  }\n  delete PyViz.plot_index[id];\n  if ((window.Bokeh !== undefined) & (id in window.Bokeh.index)) {\n    var doc = window.Bokeh.index[id].model.document\n    doc.clear();\n    const i = window.Bokeh.documents.indexOf(doc);\n    if (i > -1) {\n      window.Bokeh.documents.splice(i, 1);\n    }\n  }\n}\n\n/**\n * Handle kernel restart event\n */\nfunction handle_kernel_cleanup(event, handle) {\n  delete PyViz.comms[\"hv-extension-comm\"];\n  window.PyViz.plot_index = {}\n}\n\n/**\n * Handle update_display_data messages\n */\nfunction handle_update_output(event, handle) {\n  handle_clear_output(event, {cell: {output_area: handle.output_area}})\n  handle_add_output(event, handle)\n}\n\nfunction register_renderer(events, OutputArea) {\n  function append_mime(data, metadata, element) {\n    // create a DOM node to render to\n    var toinsert = this.create_output_subarea(\n    metadata,\n    CLASS_NAME,\n    EXEC_MIME_TYPE\n    );\n    this.keyboard_manager.register_events(toinsert);\n    // Render to node\n    var props = {data: data, metadata: metadata[EXEC_MIME_TYPE]};\n    render(props, toinsert[0]);\n    element.append(toinsert);\n    return toinsert\n  }\n\n  events.on('output_added.OutputArea', handle_add_output);\n  events.on('output_updated.OutputArea', handle_update_output);\n  events.on('clear_output.CodeCell', handle_clear_output);\n  events.on('delete.Cell', handle_clear_output);\n  events.on('kernel_ready.Kernel', handle_kernel_cleanup);\n\n  OutputArea.prototype.register_mime_type(EXEC_MIME_TYPE, append_mime, {\n    safe: true,\n    index: 0\n  });\n}\n\nif (window.Jupyter !== undefined) {\n  try {\n    var events = require('base/js/events');\n    var OutputArea = require('notebook/js/outputarea').OutputArea;\n    if (OutputArea.prototype.mime_types().indexOf(EXEC_MIME_TYPE) == -1) {\n      register_renderer(events, OutputArea);\n    }\n  } catch(err) {\n  }\n}\n",
      "application/vnd.holoviews_load.v0+json": ""
     },
     "metadata": {},
     "output_type": "display_data"
    },
    {
     "data": {
      "text/html": [
       "\n",
       "    <div class=\"bk-root\">\n",
       "        <a href=\"https://bokeh.org\" target=\"_blank\" class=\"bk-logo bk-logo-small bk-logo-notebook\"></a>\n",
       "        <span id=\"14221\">Loading BokehJS ...</span>\n",
       "    </div>"
      ]
     },
     "metadata": {},
     "output_type": "display_data"
    },
    {
     "data": {
      "application/javascript": "\n(function(root) {\n  function now() {\n    return new Date();\n  }\n\n  const force = true;\n\n  if (typeof root._bokeh_onload_callbacks === \"undefined\" || force === true) {\n    root._bokeh_onload_callbacks = [];\n    root._bokeh_is_loading = undefined;\n  }\n\n  const JS_MIME_TYPE = 'application/javascript';\n  const HTML_MIME_TYPE = 'text/html';\n  const EXEC_MIME_TYPE = 'application/vnd.bokehjs_exec.v0+json';\n  const CLASS_NAME = 'output_bokeh rendered_html';\n\n  /**\n   * Render data to the DOM node\n   */\n  function render(props, node) {\n    const script = document.createElement(\"script\");\n    node.appendChild(script);\n  }\n\n  /**\n   * Handle when an output is cleared or removed\n   */\n  function handleClearOutput(event, handle) {\n    const cell = handle.cell;\n\n    const id = cell.output_area._bokeh_element_id;\n    const server_id = cell.output_area._bokeh_server_id;\n    // Clean up Bokeh references\n    if (id != null && id in Bokeh.index) {\n      Bokeh.index[id].model.document.clear();\n      delete Bokeh.index[id];\n    }\n\n    if (server_id !== undefined) {\n      // Clean up Bokeh references\n      const cmd_clean = \"from bokeh.io.state import curstate; print(curstate().uuid_to_server['\" + server_id + \"'].get_sessions()[0].document.roots[0]._id)\";\n      cell.notebook.kernel.execute(cmd_clean, {\n        iopub: {\n          output: function(msg) {\n            const id = msg.content.text.trim();\n            if (id in Bokeh.index) {\n              Bokeh.index[id].model.document.clear();\n              delete Bokeh.index[id];\n            }\n          }\n        }\n      });\n      // Destroy server and session\n      const cmd_destroy = \"import bokeh.io.notebook as ion; ion.destroy_server('\" + server_id + \"')\";\n      cell.notebook.kernel.execute(cmd_destroy);\n    }\n  }\n\n  /**\n   * Handle when a new output is added\n   */\n  function handleAddOutput(event, handle) {\n    const output_area = handle.output_area;\n    const output = handle.output;\n\n    // limit handleAddOutput to display_data with EXEC_MIME_TYPE content only\n    if ((output.output_type != \"display_data\") || (!Object.prototype.hasOwnProperty.call(output.data, EXEC_MIME_TYPE))) {\n      return\n    }\n\n    const toinsert = output_area.element.find(\".\" + CLASS_NAME.split(' ')[0]);\n\n    if (output.metadata[EXEC_MIME_TYPE][\"id\"] !== undefined) {\n      toinsert[toinsert.length - 1].firstChild.textContent = output.data[JS_MIME_TYPE];\n      // store reference to embed id on output_area\n      output_area._bokeh_element_id = output.metadata[EXEC_MIME_TYPE][\"id\"];\n    }\n    if (output.metadata[EXEC_MIME_TYPE][\"server_id\"] !== undefined) {\n      const bk_div = document.createElement(\"div\");\n      bk_div.innerHTML = output.data[HTML_MIME_TYPE];\n      const script_attrs = bk_div.children[0].attributes;\n      for (let i = 0; i < script_attrs.length; i++) {\n        toinsert[toinsert.length - 1].firstChild.setAttribute(script_attrs[i].name, script_attrs[i].value);\n        toinsert[toinsert.length - 1].firstChild.textContent = bk_div.children[0].textContent\n      }\n      // store reference to server id on output_area\n      output_area._bokeh_server_id = output.metadata[EXEC_MIME_TYPE][\"server_id\"];\n    }\n  }\n\n  function register_renderer(events, OutputArea) {\n\n    function append_mime(data, metadata, element) {\n      // create a DOM node to render to\n      const toinsert = this.create_output_subarea(\n        metadata,\n        CLASS_NAME,\n        EXEC_MIME_TYPE\n      );\n      this.keyboard_manager.register_events(toinsert);\n      // Render to node\n      const props = {data: data, metadata: metadata[EXEC_MIME_TYPE]};\n      render(props, toinsert[toinsert.length - 1]);\n      element.append(toinsert);\n      return toinsert\n    }\n\n    /* Handle when an output is cleared or removed */\n    events.on('clear_output.CodeCell', handleClearOutput);\n    events.on('delete.Cell', handleClearOutput);\n\n    /* Handle when a new output is added */\n    events.on('output_added.OutputArea', handleAddOutput);\n\n    /**\n     * Register the mime type and append_mime function with output_area\n     */\n    OutputArea.prototype.register_mime_type(EXEC_MIME_TYPE, append_mime, {\n      /* Is output safe? */\n      safe: true,\n      /* Index of renderer in `output_area.display_order` */\n      index: 0\n    });\n  }\n\n  // register the mime type if in Jupyter Notebook environment and previously unregistered\n  if (root.Jupyter !== undefined) {\n    const events = require('base/js/events');\n    const OutputArea = require('notebook/js/outputarea').OutputArea;\n\n    if (OutputArea.prototype.mime_types().indexOf(EXEC_MIME_TYPE) == -1) {\n      register_renderer(events, OutputArea);\n    }\n  }\n\n  \n  if (typeof (root._bokeh_timeout) === \"undefined\" || force === true) {\n    root._bokeh_timeout = Date.now() + 5000;\n    root._bokeh_failed_load = false;\n  }\n\n  const NB_LOAD_WARNING = {'data': {'text/html':\n     \"<div style='background-color: #fdd'>\\n\"+\n     \"<p>\\n\"+\n     \"BokehJS does not appear to have successfully loaded. If loading BokehJS from CDN, this \\n\"+\n     \"may be due to a slow or bad network connection. Possible fixes:\\n\"+\n     \"</p>\\n\"+\n     \"<ul>\\n\"+\n     \"<li>re-rerun `output_notebook()` to attempt to load from CDN again, or</li>\\n\"+\n     \"<li>use INLINE resources instead, as so:</li>\\n\"+\n     \"</ul>\\n\"+\n     \"<code>\\n\"+\n     \"from bokeh.resources import INLINE\\n\"+\n     \"output_notebook(resources=INLINE)\\n\"+\n     \"</code>\\n\"+\n     \"</div>\"}};\n\n  function display_loaded() {\n    const el = document.getElementById(\"14221\");\n    if (el != null) {\n      el.textContent = \"BokehJS is loading...\";\n    }\n    if (root.Bokeh !== undefined) {\n      if (el != null) {\n        el.textContent = \"BokehJS \" + root.Bokeh.version + \" successfully loaded.\";\n      }\n    } else if (Date.now() < root._bokeh_timeout) {\n      setTimeout(display_loaded, 100)\n    }\n  }\n\n\n  function run_callbacks() {\n    try {\n      root._bokeh_onload_callbacks.forEach(function(callback) {\n        if (callback != null)\n          callback();\n      });\n    } finally {\n      delete root._bokeh_onload_callbacks\n    }\n    console.debug(\"Bokeh: all callbacks have finished\");\n  }\n\n  function load_libs(css_urls, js_urls, callback) {\n    if (css_urls == null) css_urls = [];\n    if (js_urls == null) js_urls = [];\n\n    root._bokeh_onload_callbacks.push(callback);\n    if (root._bokeh_is_loading > 0) {\n      console.debug(\"Bokeh: BokehJS is being loaded, scheduling callback at\", now());\n      return null;\n    }\n    if (js_urls == null || js_urls.length === 0) {\n      run_callbacks();\n      return null;\n    }\n    console.debug(\"Bokeh: BokehJS not loaded, scheduling load and callback at\", now());\n    root._bokeh_is_loading = css_urls.length + js_urls.length;\n\n    function on_load() {\n      root._bokeh_is_loading--;\n      if (root._bokeh_is_loading === 0) {\n        console.debug(\"Bokeh: all BokehJS libraries/stylesheets loaded\");\n        run_callbacks()\n      }\n    }\n\n    function on_error(url) {\n      console.error(\"failed to load \" + url);\n    }\n\n    for (let i = 0; i < css_urls.length; i++) {\n      const url = css_urls[i];\n      const element = document.createElement(\"link\");\n      element.onload = on_load;\n      element.onerror = on_error.bind(null, url);\n      element.rel = \"stylesheet\";\n      element.type = \"text/css\";\n      element.href = url;\n      console.debug(\"Bokeh: injecting link tag for BokehJS stylesheet: \", url);\n      document.body.appendChild(element);\n    }\n\n    for (let i = 0; i < js_urls.length; i++) {\n      const url = js_urls[i];\n      const element = document.createElement('script');\n      element.onload = on_load;\n      element.onerror = on_error.bind(null, url);\n      element.async = false;\n      element.src = url;\n      console.debug(\"Bokeh: injecting script tag for BokehJS library: \", url);\n      document.head.appendChild(element);\n    }\n  };\n\n  function inject_raw_css(css) {\n    const element = document.createElement(\"style\");\n    element.appendChild(document.createTextNode(css));\n    document.body.appendChild(element);\n  }\n\n  \n  const js_urls = [\"https://cdn.bokeh.org/bokeh/release/bokeh-2.4.1.min.js\", \"https://cdn.bokeh.org/bokeh/release/bokeh-gl-2.4.1.min.js\", \"https://cdn.bokeh.org/bokeh/release/bokeh-widgets-2.4.1.min.js\", \"https://cdn.bokeh.org/bokeh/release/bokeh-tables-2.4.1.min.js\", \"https://cdn.bokeh.org/bokeh/release/bokeh-mathjax-2.4.1.min.js\", \"https://unpkg.com/@holoviz/panel@0.13.1/dist/panel.min.js\"];\n  const css_urls = [];\n  \n\n  const inline_js = [\n    function(Bokeh) {\n      Bokeh.set_log_level(\"info\");\n    },\n    function(Bokeh) {\n    \n    \n    }\n  ];\n\n  function run_inline_js() {\n    \n    if (root.Bokeh !== undefined || force === true) {\n      \n    for (let i = 0; i < inline_js.length; i++) {\n      inline_js[i].call(root, root.Bokeh);\n    }\n    if (force === true) {\n        display_loaded();\n      }} else if (Date.now() < root._bokeh_timeout) {\n      setTimeout(run_inline_js, 100);\n    } else if (!root._bokeh_failed_load) {\n      console.log(\"Bokeh: BokehJS failed to load within specified timeout.\");\n      root._bokeh_failed_load = true;\n    } else if (force !== true) {\n      const cell = $(document.getElementById(\"14221\")).parents('.cell').data().cell;\n      cell.output_area.append_execute_result(NB_LOAD_WARNING)\n    }\n\n  }\n\n  if (root._bokeh_is_loading === 0) {\n    console.debug(\"Bokeh: BokehJS loaded, going straight to plotting\");\n    run_inline_js();\n  } else {\n    load_libs(css_urls, js_urls, function() {\n      console.debug(\"Bokeh: BokehJS plotting callback run at\", now());\n      run_inline_js();\n    });\n  }\n}(window));",
      "application/vnd.bokehjs_load.v0+json": ""
     },
     "metadata": {},
     "output_type": "display_data"
    },
    {
     "name": "stdout",
     "output_type": "stream",
     "text": [
      "1\n"
     ]
    }
   ],
   "source": [
    "\n",
    "import numpy as np\n",
    "import scipy.integrate\n",
    "import scipy.optimize\n",
    "from bokeh.plotting import figure, output_file, show\n",
    "\n",
    "import bokeh.plotting\n",
    "import bokeh.io\n",
    "from bokeh.models import Span\n",
    "from bokeh.io import export_png\n",
    "from bokeh.models import Range1d\n",
    "\n",
    "\n",
    "\n",
    "# We will use Matplotlib to make a 3D plot\n",
    "import matplotlib.pyplot as plt\n",
    "from mpl_toolkits.mplot3d import Axes3D\n",
    "%matplotlib inline\n",
    "%config InlineBackend.figure_format = 'retina'\n",
    "\n",
    "\n",
    "import panel as pn\n",
    "pn.extension()\n",
    "\n",
    "bokeh.io.output_notebook()\n",
    "print(1)\n"
   ]
  },
  {
   "cell_type": "code",
   "execution_count": 132,
   "id": "8685cfd5",
   "metadata": {},
   "outputs": [],
   "source": [
    "def Repressor_model(molecules,t,alpha,beta,K,KTL,KTX,lamb1,lamb2):\n",
    "    dT,dR,mT,mR,pT,pR,TX,TL = molecules\n",
    "    return np.array(\n",
    "        [\n",
    "            0,\n",
    "            0,\n",
    "            alpha*TX*dT/(dT+dR+KTX)*pT*(K/(pR+K)),\n",
    "            alpha*TX*dR/(dT+dR+KTX)*pT,\n",
    "            beta*TL*(mT/(mT+mR+KTL)),\n",
    "            beta*TL*mR/(mT+mR+KTL),\n",
    "            -lamb1*TX,\n",
    "            -lamb1*TL\n",
    "        ]\n",
    "    )\n",
    "    "
   ]
  },
  {
   "cell_type": "code",
   "execution_count": 134,
   "id": "7154a069",
   "metadata": {},
   "outputs": [
    {
     "data": {
      "text/html": [
       "\n",
       "\n",
       "\n",
       "\n",
       "\n",
       "\n",
       "  <div class=\"bk-root\" id=\"df4735ee-df71-4407-9291-1fc5cc49fd17\" data-root-id=\"59342\"></div>\n"
      ]
     },
     "metadata": {},
     "output_type": "display_data"
    },
    {
     "data": {
      "application/javascript": "(function(root) {\n  function embed_document(root) {\n    \n  const docs_json = {\"da01e3bc-8eb5-453e-89be-3c5f6f77aac4\":{\"defs\":[{\"extends\":null,\"module\":null,\"name\":\"ReactiveHTML1\",\"overrides\":[],\"properties\":[]},{\"extends\":null,\"module\":null,\"name\":\"FlexBox1\",\"overrides\":[],\"properties\":[{\"default\":\"flex-start\",\"kind\":null,\"name\":\"align_content\"},{\"default\":\"flex-start\",\"kind\":null,\"name\":\"align_items\"},{\"default\":\"row\",\"kind\":null,\"name\":\"flex_direction\"},{\"default\":\"wrap\",\"kind\":null,\"name\":\"flex_wrap\"},{\"default\":\"flex-start\",\"kind\":null,\"name\":\"justify_content\"}]},{\"extends\":null,\"module\":null,\"name\":\"TemplateActions1\",\"overrides\":[],\"properties\":[{\"default\":0,\"kind\":null,\"name\":\"open_modal\"},{\"default\":0,\"kind\":null,\"name\":\"close_modal\"}]},{\"extends\":null,\"module\":null,\"name\":\"MaterialTemplateActions1\",\"overrides\":[],\"properties\":[{\"default\":0,\"kind\":null,\"name\":\"open_modal\"},{\"default\":0,\"kind\":null,\"name\":\"close_modal\"}]}],\"roots\":{\"references\":[{\"attributes\":{\"below\":[{\"id\":\"59351\"}],\"center\":[{\"id\":\"59354\"},{\"id\":\"59358\"},{\"id\":\"59379\"},{\"id\":\"59380\"}],\"height\":400,\"left\":[{\"id\":\"59355\"}],\"renderers\":[{\"id\":\"59377\"}],\"title\":{\"id\":\"60349\"},\"toolbar\":{\"id\":\"59366\"},\"width\":800,\"x_range\":{\"id\":\"59343\"},\"x_scale\":{\"id\":\"59347\"},\"y_range\":{\"id\":\"59345\"},\"y_scale\":{\"id\":\"59349\"}},\"id\":\"59342\",\"subtype\":\"Figure\",\"type\":\"Plot\"},{\"attributes\":{\"axis\":{\"id\":\"59355\"},\"coordinates\":null,\"dimension\":1,\"group\":null,\"ticker\":null},\"id\":\"59358\",\"type\":\"Grid\"},{\"attributes\":{},\"id\":\"59345\",\"type\":\"DataRange1d\"},{\"attributes\":{},\"id\":\"59347\",\"type\":\"LinearScale\"},{\"attributes\":{\"line_color\":\"#1f77b4\",\"line_width\":2,\"x\":{\"field\":\"x\"},\"y\":{\"field\":\"y\"}},\"id\":\"59374\",\"type\":\"Line\"},{\"attributes\":{},\"id\":\"60353\",\"type\":\"AllLabels\"},{\"attributes\":{},\"id\":\"59356\",\"type\":\"BasicTicker\"},{\"attributes\":{\"coordinates\":null,\"data_source\":{\"id\":\"59373\"},\"glyph\":{\"id\":\"59374\"},\"group\":null,\"hover_glyph\":null,\"muted_glyph\":{\"id\":\"59376\"},\"nonselection_glyph\":{\"id\":\"59375\"},\"view\":{\"id\":\"59378\"}},\"id\":\"59377\",\"type\":\"GlyphRenderer\"},{\"attributes\":{\"axis_label\":\"t\",\"coordinates\":null,\"formatter\":{\"id\":\"60355\"},\"group\":null,\"major_label_policy\":{\"id\":\"60356\"},\"ticker\":{\"id\":\"59352\"}},\"id\":\"59351\",\"type\":\"LinearAxis\"},{\"attributes\":{},\"id\":\"60352\",\"type\":\"BasicTickFormatter\"},{\"attributes\":{\"source\":{\"id\":\"59373\"}},\"id\":\"59378\",\"type\":\"CDSView\"},{\"attributes\":{\"coordinates\":null,\"dimension\":\"height\",\"group\":null,\"line_dash\":[6],\"location\":16},\"id\":\"59380\",\"type\":\"Span\"},{\"attributes\":{},\"id\":\"60355\",\"type\":\"BasicTickFormatter\"},{\"attributes\":{\"line_alpha\":0.1,\"line_color\":\"#1f77b4\",\"line_width\":2,\"x\":{\"field\":\"x\"},\"y\":{\"field\":\"y\"}},\"id\":\"59375\",\"type\":\"Line\"},{\"attributes\":{\"coordinates\":null,\"group\":null},\"id\":\"60349\",\"type\":\"Title\"},{\"attributes\":{},\"id\":\"59352\",\"type\":\"BasicTicker\"},{\"attributes\":{},\"id\":\"59360\",\"type\":\"WheelZoomTool\"},{\"attributes\":{\"data\":{\"x\":{\"__ndarray__\":\"AAAAAAAAAACyAmGkHSvQP7ICYaQdK+A/C4SRdqxA6D+yAmGkHSvwP15DeQ3lNfQ/C4SRdqxA+D+2xKnfc0v8P7ICYaQdKwBAByPtWIEwAkBeQ3kN5TUEQLRjBcJIOwZAC4SRdqxACEBhpB0rEEYKQLbEqd9zSwxADeU1lNdQDkCyAmGkHSsQQN0Sp37PLRFAByPtWIEwEkAzMzMzMzMTQF5DeQ3lNRRAilO/55Y4FUC0YwXCSDsWQN9zS5z6PRdAC4SRdqxAGEA1lNdQXkMZQGGkHSsQRhpAjLRjBcJIG0C2xKnfc0scQOLU77klTh1ADeU1lNdQHkA59XtuiVMfQLICYaQdKyBAxwqEkXasIEDdEqd+zy0hQPIaymsoryFAByPtWIEwIkAeKxBG2rEiQDMzMzMzMyNASTtWIIy0I0BeQ3kN5TUkQHNLnPo9tyRAilO/55Y4JUCfW+LU77klQLRjBcJIOyZAymsor6G8JkDfc0uc+j0nQPV7bolTvydAC4SRdqxAKEAgjLRjBcIoQDWU11BeQylAS5z6PbfEKUBhpB0rEEYqQHasQBhpxypAjLRjBcJIK0ChvIbyGsorQLbEqd9zSyxAzczMzMzMLEDi1O+5JU4tQPfcEqd+zy1ADeU1lNdQLkAi7ViBMNIuQDn1e26JUy9ATv2eW+LUL0CyAmGkHSswQLyG8hrKazBAxwqEkXasMEDSjhUII+0wQN0Sp37PLTFA55Y49XtuMUDyGsprKK8xQP2eW+LU7zFAByPtWIEwMkASp37PLXEyQB4rEEbasTJAKa+hvIbyMkAzMzMzMzMzQD63xKnfczNASTtWIIy0M0BTv+eWOPUzQF5DeQ3lNTRAaccKhJF2NEBzS5z6Pbc0QH7PLXHq9zRAilO/55Y4NUCU11BeQ3k1QJ9b4tTvuTVAqt9zS5z6NUC0YwXCSDs2QL/nljj1ezZAymsor6G8NkDU77klTv02QN9zS5z6PTdA6vfcEqd+N0D1e26JU783QAAAAAAAADhA\",\"dtype\":\"float64\",\"order\":\"little\",\"shape\":[96]},\"y\":{\"__ndarray__\":\"AAAAAAAA8D8XhL88x6nwP8x12V7ZR/I/R5Mv+u+D9D/kz/qkcyn3P+kcdA2sFPo/SbSG0nwr/T+zhgXv+SwAQMk1TnBByAFADPtH4X1hA0A/qtpN9PMEQDTTFVIIfAZAvH75xwr3B0BM4HspjZUIQBtLxoirNglAIqNvFU7XCUDVY4gETHUKQM0A0r0lDwtARFdzutWjC0D2856+rzIMQBbE4n5JuwxAXxY9pmk9DUBkzxdL+7gNQKC+SIsELg5AOvxMcZ+cDkBjqxWJ9AQPQICetLc2Zw9AVf6VB6DDD0BFD/OXNw0QQFztPdbyNRBAwMwTIyNcEECc3nb56X8QQJN6q31ooRBAeXwbK7/AEEABcbyXDd4QQNFLd0hy+RBA3VYAkwoTEUCCu0iK8ioRQDxjRfNEQRFAjlY6QBtWEUAItRWRjWkRQNOWrreyexFAPej2PqCMEUA+pF50apwRQLgNzXIkqxFAFX6zLuC4EUCkgdaCrsURQIBofj2f0RFAcg/RLcHcEUDqKyQxIucRQLBkIkDP8BFAiHSme9T5EUB00zY5PQISQHNEEg8UChJAYmPC32IREkDfHS3lMhgSQK8NIbuMHhJAOBdbaXgkEkCAkwVt/SkSQE3LssEiLxJACqjV6e4zEkChXLz2ZzgSQNlkEZCTPBJAHavn+nZAEkDa7VYgF0QSQLZXoYg3RxJA2l4udWpJEkDkC+YSXEoSQDpjqArLSRJAvO5HTINHEkDUqiZSWkMSQEjrQWksPRJAhdCFsNo0EkD74LmcSSoSQLURrt5fHRJA07L0kwUOEkAC2ZKxI/wRQJ9v7Jyj5xFAaUSR6m7QEUBTIfA8b7YRQEj1pD6OmRFAUDc9tbV5EUChXQCqz1YRQObeE6fGMBFAdC72B4YHEUAyZnpa+toQQNG5y88RqxBAwu9Xu7x3EEDQW2we7kAQQDMO0jicBhBAZfLPSoKRD0BhSBjptg4PQFvWaIrdhA5AYQh1rQj0DUB5NJwhV1wNQEVpWNz0vQxA\",\"dtype\":\"float64\",\"order\":\"little\",\"shape\":[96]}},\"selected\":{\"id\":\"60358\"},\"selection_policy\":{\"id\":\"60357\"}},\"id\":\"59373\",\"type\":\"ColumnDataSource\"},{\"attributes\":{},\"id\":\"60358\",\"type\":\"Selection\"},{\"attributes\":{\"overlay\":{\"id\":\"59365\"}},\"id\":\"59361\",\"type\":\"BoxZoomTool\"},{\"attributes\":{},\"id\":\"59362\",\"type\":\"SaveTool\"},{\"attributes\":{\"axis\":{\"id\":\"59351\"},\"coordinates\":null,\"group\":null,\"ticker\":null},\"id\":\"59354\",\"type\":\"Grid\"},{\"attributes\":{},\"id\":\"59359\",\"type\":\"PanTool\"},{\"attributes\":{},\"id\":\"60356\",\"type\":\"AllLabels\"},{\"attributes\":{},\"id\":\"59364\",\"type\":\"HelpTool\"},{\"attributes\":{\"line_alpha\":0.2,\"line_color\":\"#1f77b4\",\"line_width\":2,\"x\":{\"field\":\"x\"},\"y\":{\"field\":\"y\"}},\"id\":\"59376\",\"type\":\"Line\"},{\"attributes\":{\"bottom_units\":\"screen\",\"coordinates\":null,\"fill_alpha\":0.5,\"fill_color\":\"lightgrey\",\"group\":null,\"left_units\":\"screen\",\"level\":\"overlay\",\"line_alpha\":1.0,\"line_color\":\"black\",\"line_dash\":[4,4],\"line_width\":2,\"right_units\":\"screen\",\"syncable\":false,\"top_units\":\"screen\"},\"id\":\"59365\",\"type\":\"BoxAnnotation\"},{\"attributes\":{},\"id\":\"59343\",\"type\":\"DataRange1d\"},{\"attributes\":{},\"id\":\"59363\",\"type\":\"ResetTool\"},{\"attributes\":{},\"id\":\"59349\",\"type\":\"LinearScale\"},{\"attributes\":{},\"id\":\"60357\",\"type\":\"UnionRenderers\"},{\"attributes\":{\"tools\":[{\"id\":\"59359\"},{\"id\":\"59360\"},{\"id\":\"59361\"},{\"id\":\"59362\"},{\"id\":\"59363\"},{\"id\":\"59364\"}]},\"id\":\"59366\",\"type\":\"Toolbar\"},{\"attributes\":{\"axis_label\":\"dimensionless concentration\",\"coordinates\":null,\"formatter\":{\"id\":\"60352\"},\"group\":null,\"major_label_policy\":{\"id\":\"60353\"},\"ticker\":{\"id\":\"59356\"}},\"id\":\"59355\",\"type\":\"LinearAxis\"},{\"attributes\":{\"coordinates\":null,\"dimension\":\"height\",\"group\":null,\"line_dash\":[6],\"location\":3},\"id\":\"59379\",\"type\":\"Span\"}],\"root_ids\":[\"59342\"]},\"title\":\"Bokeh Application\",\"version\":\"2.4.1\"}};\n  const render_items = [{\"docid\":\"da01e3bc-8eb5-453e-89be-3c5f6f77aac4\",\"root_ids\":[\"59342\"],\"roots\":{\"59342\":\"df4735ee-df71-4407-9291-1fc5cc49fd17\"}}];\n  root.Bokeh.embed.embed_items_notebook(docs_json, render_items);\n\n  }\n  if (root.Bokeh !== undefined) {\n    embed_document(root);\n  } else {\n    let attempts = 0;\n    const timer = setInterval(function(root) {\n      if (root.Bokeh !== undefined) {\n        clearInterval(timer);\n        embed_document(root);\n      } else {\n        attempts++;\n        if (attempts > 100) {\n          clearInterval(timer);\n          console.log(\"Bokeh: ERROR: Unable to run BokehJS code because BokehJS library is missing\");\n        }\n      }\n    }, 10, root)\n  }\n})(window);",
      "application/vnd.bokehjs_exec.v0+json": ""
     },
     "metadata": {
      "application/vnd.bokehjs_exec.v0+json": {
       "id": "59342"
      }
     },
     "output_type": "display_data"
    },
    {
     "data": {
      "text/plain": [
       "'/Users/william/Desktop/DR_015.png'"
      ]
     },
     "execution_count": 134,
     "metadata": {},
     "output_type": "execute_result"
    }
   ],
   "source": [
    "#export file name\n",
    "exp_name = '/Users/william/Desktop/DR_015.png'\n",
    "\n",
    "#index \n",
    "\n",
    "idx_dT =0\n",
    "idx_dR =1\n",
    "idx_mT =2\n",
    "idx_mR =3\n",
    "idx_pT =4\n",
    "idx_pR =5\n",
    "idx_TX =6\n",
    "idx_TL =7\n",
    "\n",
    "\n",
    "#common parameters \n",
    "alpha=0.7;\n",
    "beta=0.07;\n",
    "K=1;\n",
    "KTL=10;\n",
    "KTX=1;\n",
    "lamb1=0;\n",
    "lamb2=0;\n",
    "DR = 0.1\n",
    "\n",
    "#initial condition\n",
    "dT0=0.1;\n",
    "dR0=0.1;\n",
    "mT0=0.0;\n",
    "mR0=0.0;\n",
    "pT0=1;\n",
    "pR0=0.0;\n",
    "TX0=1;\n",
    "TL0=1;\n",
    "\n",
    "molecules0 = [dT0,dR0,mT0,mR0,pT0,pR0,TX0,TL0]\n",
    "\n",
    "\n",
    "\n",
    "\n",
    "#stage 1 kick start\n",
    "\n",
    "molecules0 = [dT0,dR0,mT0,mR0,pT0,pR0,TX0,TL0]\n",
    "result_all=molecules0\n",
    "\n",
    "for n in range (1,12):\n",
    "\n",
    "    #define time\n",
    "    t_start= n*15\n",
    "    t_end = (n+1)*15\n",
    "    t= np.linspace(t_start,t_end,2)\n",
    "\n",
    "    #solve equation and save result\n",
    "    result = scipy.integrate.odeint(Repressor_model, molecules0, t, args=(alpha,beta,K,KTL,KTX,lamb1,lamb2))\n",
    "    result_all = np.append(result_all,result[1])\n",
    "    #update parameter\n",
    "    molecules0 = result.transpose()[:,-1]\n",
    "    \n",
    "    #dilution \n",
    "    ###replenish \n",
    "    molecules0[idx_pT] =pT0*DR+(1-DR)*molecules0[idx_pT]\n",
    "\n",
    "    ###diute out\n",
    "    molecules0[idx_mT] = (1-DR)*molecules0[idx_mT] \n",
    "    molecules0[idx_mR] = (1-DR)*molecules0[idx_mR]\n",
    "    molecules0[idx_pR] = (1-DR)*molecules0[idx_pR]\n",
    "\n",
    "\n",
    "\n",
    "#stage 2 self regeneration \n",
    "\n",
    "for n in range (12,64):\n",
    "\n",
    "    #define time\n",
    "    t_start= n*15\n",
    "    t_end = (n+1)*15\n",
    "    t= np.linspace(t_start,t_end,2)\n",
    "\n",
    "    #solve equation and save result\n",
    "    result = scipy.integrate.odeint(Repressor_model, molecules0, t, args=(alpha,beta,K,KTL,KTX,lamb1,lamb2))\n",
    "    result_all = np.append(result_all,result[1])\n",
    "    #update parameter\n",
    "    molecules0 = result.transpose()[:,-1]\n",
    "    \n",
    "    #dilution \n",
    "    ###replenish \n",
    "    \n",
    "\n",
    "    ###diute out\n",
    "    molecules0[idx_mT] = (1-DR)*molecules0[idx_mT] \n",
    "    molecules0[idx_mR] = (1-DR)*molecules0[idx_mR]\n",
    "    molecules0[idx_pT] = (1-DR)*molecules0[idx_pT] \n",
    "    molecules0[idx_pR] = (1-DR)*molecules0[idx_pR]\n",
    "\n",
    "\n",
    "for n in range (64,96):\n",
    "\n",
    "    #define time\n",
    "    t_start= n*15\n",
    "    t_end = (n+1)*15\n",
    "    t= np.linspace(t_start,t_end,2)\n",
    "\n",
    "    #solve equation and save result\n",
    "    result = scipy.integrate.odeint(Repressor_model, molecules0, t, args=(alpha,beta,K,KTL,KTX,lamb1,lamb2))\n",
    "    result_all = np.append(result_all,result[1])\n",
    "    #update parameter\n",
    "    molecules0 = result.transpose()[:,-1]\n",
    "    \n",
    "    #dilution \n",
    "    ###replenish \n",
    "\n",
    "    ###diute out\n",
    "    molecules0[idx_mT] = (1-DR)*molecules0[idx_mT] \n",
    "    molecules0[idx_mR] = (1-DR)*molecules0[idx_mR]\n",
    "    molecules0[idx_pT] = (1-DR)*molecules0[idx_pT] \n",
    "    molecules0[idx_pR] = (1-DR)*molecules0[idx_pR]\n",
    "    molecules0[idx_dT] = (1-DR)*molecules0[idx_dT]\n",
    "    molecules0[idx_dR] = (1-DR)*molecules0[idx_dR]\n",
    "\n",
    "\n",
    "result_all = np.resize(result_all,(96,8))\n",
    "dT,dG,mT,mR,pT,pR,TX,TL = result_all.transpose()\n",
    "\n",
    "\n",
    "\n",
    "t = np.linspace(0, 1440, 96)\n",
    "p = bokeh.plotting.figure(\n",
    "    plot_width=800,\n",
    "    plot_height=400,\n",
    "    x_axis_label=\"t\",\n",
    "    y_axis_label=\"dimensionless concentration\",\n",
    "    y_axis_type=\"linear\",\n",
    "\n",
    ")\n",
    "\n",
    "colors = bokeh.palettes.d3[\"Category10\"][3]\n",
    "\n",
    "# Populate glyphs\n",
    "p.line(\n",
    "    t/60, pT, line_width=2, color=colors[0]\n",
    ")\n",
    "#p.y_range = Range1d(0, 2)\n",
    "vline1 = Span(location=3, dimension='height', line_color='black', line_width=1,line_dash='dashed')\n",
    "vline2 = Span(location=16, dimension='height', line_color='black', line_width=1,line_dash='dashed')\n",
    "p.add_layout(vline1)\n",
    "p.add_layout(vline2)\n",
    "\n",
    "show(p)\n",
    "export_png(p, filename=exp_name)\n",
    "\n",
    "\n",
    "\n",
    "\n",
    "\n",
    "\n"
   ]
  },
  {
   "cell_type": "code",
   "execution_count": 108,
   "id": "6ab1d1e8",
   "metadata": {},
   "outputs": [
    {
     "data": {
      "text/html": [
       "\n",
       "\n",
       "\n",
       "\n",
       "\n",
       "\n",
       "  <div class=\"bk-root\" id=\"6a3e9582-47fd-4719-9a25-50d539b97c7e\" data-root-id=\"36233\"></div>\n"
      ]
     },
     "metadata": {},
     "output_type": "display_data"
    },
    {
     "data": {
      "application/javascript": "(function(root) {\n  function embed_document(root) {\n    \n  const docs_json = {\"dfcd1ec2-571c-4b8a-b199-78c76ede5a1e\":{\"defs\":[{\"extends\":null,\"module\":null,\"name\":\"ReactiveHTML1\",\"overrides\":[],\"properties\":[]},{\"extends\":null,\"module\":null,\"name\":\"FlexBox1\",\"overrides\":[],\"properties\":[{\"default\":\"flex-start\",\"kind\":null,\"name\":\"align_content\"},{\"default\":\"flex-start\",\"kind\":null,\"name\":\"align_items\"},{\"default\":\"row\",\"kind\":null,\"name\":\"flex_direction\"},{\"default\":\"wrap\",\"kind\":null,\"name\":\"flex_wrap\"},{\"default\":\"flex-start\",\"kind\":null,\"name\":\"justify_content\"}]},{\"extends\":null,\"module\":null,\"name\":\"TemplateActions1\",\"overrides\":[],\"properties\":[{\"default\":0,\"kind\":null,\"name\":\"open_modal\"},{\"default\":0,\"kind\":null,\"name\":\"close_modal\"}]},{\"extends\":null,\"module\":null,\"name\":\"MaterialTemplateActions1\",\"overrides\":[],\"properties\":[{\"default\":0,\"kind\":null,\"name\":\"open_modal\"},{\"default\":0,\"kind\":null,\"name\":\"close_modal\"}]}],\"roots\":{\"references\":[{\"attributes\":{\"below\":[{\"id\":\"36242\"}],\"center\":[{\"id\":\"36245\"},{\"id\":\"36249\"},{\"id\":\"36270\"},{\"id\":\"36271\"}],\"height\":400,\"left\":[{\"id\":\"36246\"}],\"renderers\":[{\"id\":\"36268\"}],\"title\":{\"id\":\"37009\"},\"toolbar\":{\"id\":\"36257\"},\"width\":800,\"x_range\":{\"id\":\"36234\"},\"x_scale\":{\"id\":\"36238\"},\"y_range\":{\"id\":\"36236\"},\"y_scale\":{\"id\":\"36240\"}},\"id\":\"36233\",\"subtype\":\"Figure\",\"type\":\"Plot\"},{\"attributes\":{\"tools\":[{\"id\":\"36250\"},{\"id\":\"36251\"},{\"id\":\"36252\"},{\"id\":\"36253\"},{\"id\":\"36254\"},{\"id\":\"36255\"}]},\"id\":\"36257\",\"type\":\"Toolbar\"},{\"attributes\":{},\"id\":\"36243\",\"type\":\"BasicTicker\"},{\"attributes\":{\"axis\":{\"id\":\"36246\"},\"coordinates\":null,\"dimension\":1,\"group\":null,\"ticker\":null},\"id\":\"36249\",\"type\":\"Grid\"},{\"attributes\":{},\"id\":\"36247\",\"type\":\"BasicTicker\"},{\"attributes\":{},\"id\":\"37017\",\"type\":\"UnionRenderers\"},{\"attributes\":{},\"id\":\"36251\",\"type\":\"WheelZoomTool\"},{\"attributes\":{\"axis_label\":\"dimensionless concentration\",\"coordinates\":null,\"formatter\":{\"id\":\"37012\"},\"group\":null,\"major_label_policy\":{\"id\":\"37013\"},\"ticker\":{\"id\":\"36247\"}},\"id\":\"36246\",\"type\":\"LinearAxis\"},{\"attributes\":{},\"id\":\"36255\",\"type\":\"HelpTool\"},{\"attributes\":{\"coordinates\":null,\"group\":null},\"id\":\"37009\",\"type\":\"Title\"},{\"attributes\":{\"axis\":{\"id\":\"36242\"},\"coordinates\":null,\"group\":null,\"ticker\":null},\"id\":\"36245\",\"type\":\"Grid\"},{\"attributes\":{},\"id\":\"36250\",\"type\":\"PanTool\"},{\"attributes\":{},\"id\":\"36234\",\"type\":\"DataRange1d\"},{\"attributes\":{},\"id\":\"37018\",\"type\":\"Selection\"},{\"attributes\":{\"line_color\":\"#ff7f0e\",\"line_width\":2,\"x\":{\"field\":\"x\"},\"y\":{\"field\":\"y\"}},\"id\":\"36265\",\"type\":\"Line\"},{\"attributes\":{\"line_alpha\":0.2,\"line_color\":\"#ff7f0e\",\"line_width\":2,\"x\":{\"field\":\"x\"},\"y\":{\"field\":\"y\"}},\"id\":\"36267\",\"type\":\"Line\"},{\"attributes\":{},\"id\":\"36253\",\"type\":\"SaveTool\"},{\"attributes\":{},\"id\":\"36254\",\"type\":\"ResetTool\"},{\"attributes\":{},\"id\":\"36240\",\"type\":\"LinearScale\"},{\"attributes\":{\"overlay\":{\"id\":\"36256\"}},\"id\":\"36252\",\"type\":\"BoxZoomTool\"},{\"attributes\":{},\"id\":\"36238\",\"type\":\"LinearScale\"},{\"attributes\":{\"bottom_units\":\"screen\",\"coordinates\":null,\"fill_alpha\":0.5,\"fill_color\":\"lightgrey\",\"group\":null,\"left_units\":\"screen\",\"level\":\"overlay\",\"line_alpha\":1.0,\"line_color\":\"black\",\"line_dash\":[4,4],\"line_width\":2,\"right_units\":\"screen\",\"syncable\":false,\"top_units\":\"screen\"},\"id\":\"36256\",\"type\":\"BoxAnnotation\"},{\"attributes\":{\"coordinates\":null,\"dimension\":\"height\",\"group\":null,\"line_dash\":[6],\"location\":16},\"id\":\"36271\",\"type\":\"Span\"},{\"attributes\":{\"line_alpha\":0.1,\"line_color\":\"#ff7f0e\",\"line_width\":2,\"x\":{\"field\":\"x\"},\"y\":{\"field\":\"y\"}},\"id\":\"36266\",\"type\":\"Line\"},{\"attributes\":{\"coordinates\":null,\"dimension\":\"height\",\"group\":null,\"line_dash\":[6],\"location\":3},\"id\":\"36270\",\"type\":\"Span\"},{\"attributes\":{\"data\":{\"x\":{\"__ndarray__\":\"AAAAAAAAAACyAmGkHSvQP7ICYaQdK+A/C4SRdqxA6D+yAmGkHSvwP15DeQ3lNfQ/C4SRdqxA+D+2xKnfc0v8P7ICYaQdKwBAByPtWIEwAkBeQ3kN5TUEQLRjBcJIOwZAC4SRdqxACEBhpB0rEEYKQLbEqd9zSwxADeU1lNdQDkCyAmGkHSsQQN0Sp37PLRFAByPtWIEwEkAzMzMzMzMTQF5DeQ3lNRRAilO/55Y4FUC0YwXCSDsWQN9zS5z6PRdAC4SRdqxAGEA1lNdQXkMZQGGkHSsQRhpAjLRjBcJIG0C2xKnfc0scQOLU77klTh1ADeU1lNdQHkA59XtuiVMfQLICYaQdKyBAxwqEkXasIEDdEqd+zy0hQPIaymsoryFAByPtWIEwIkAeKxBG2rEiQDMzMzMzMyNASTtWIIy0I0BeQ3kN5TUkQHNLnPo9tyRAilO/55Y4JUCfW+LU77klQLRjBcJIOyZAymsor6G8JkDfc0uc+j0nQPV7bolTvydAC4SRdqxAKEAgjLRjBcIoQDWU11BeQylAS5z6PbfEKUBhpB0rEEYqQHasQBhpxypAjLRjBcJIK0ChvIbyGsorQLbEqd9zSyxAzczMzMzMLEDi1O+5JU4tQPfcEqd+zy1ADeU1lNdQLkAi7ViBMNIuQDn1e26JUy9ATv2eW+LUL0CyAmGkHSswQLyG8hrKazBAxwqEkXasMEDSjhUII+0wQN0Sp37PLTFA55Y49XtuMUDyGsprKK8xQP2eW+LU7zFAByPtWIEwMkASp37PLXEyQB4rEEbasTJAKa+hvIbyMkAzMzMzMzMzQD63xKnfczNASTtWIIy0M0BTv+eWOPUzQF5DeQ3lNTRAaccKhJF2NEBzS5z6Pbc0QH7PLXHq9zRAilO/55Y4NUCU11BeQ3k1QJ9b4tTvuTVAqt9zS5z6NUC0YwXCSDs2QL/nljj1ezZAymsor6G8NkDU77klTv02QN9zS5z6PTdA6vfcEqd+N0D1e26JU783QAAAAAAAADhA\",\"dtype\":\"float64\",\"order\":\"little\",\"shape\":[96]},\"y\":{\"__ndarray__\":\"AAAAAAAA4D9LvvVuVYfhPwwB5IySeuQ/uoSA3dOF5z8Av+c4Lh/qP2Kk8mooHOw/ib3eHP187T/qTzyB6FPuP8VWTYM0ue4/MqABQnLF7j/vCYPm247uPwpayodaKO4/DQxEzmGh7T+d9FqVHtHpP9jks7W4leY/KAXc9JXU4z+54sHHnXjhP8H6VhDn4d4/UB1cmwhg2z/zDOISoFXYP+zcZQ67sNU/rWNBdpxi0z/HmsdEFF/RP01yS5L4N88/KtDn4aIhzD/p2yj9xmzJP58aqkIsDcc/CDSnPF/4xD8IJn0HZCXDP30uZAp5jME/Vt5MSOYmwD/Rl+zCrN29P4NGywduvrs/lJS7SD7nuT+IVOT3clC4PwTWUD1l87Y/D9iFDFPKtT/e2hmPRNC0P7hWxLn0ALQ/y3t/ZLxYsz8qn95Tf9SyP+kYBLuacbI/4qJn0NQtsj9/YdIeTQeyPy51Ikpt/LE/gu24DtoLsj8l9apUZDSyP2JVIEb6dLI/yW4xc5jMsj8du5wsOzqzP394L2DQvLM/H3DeYipTtD+2pLky9Pu0P7MhhMSntbU/sflBEod+tj9SsdtpmFS3P3ZcT32mNbg/dHJZckQfuT+/2Bjv1Q66Pz7MSNWaAbs/nzdEEr70uz/SD9CoZuW8P70dQOvJ0L0/l/fhxj20vj8CagEHSo2/Pym+EQvJHsA/qhPdeIxOwD+v84nCTkzAPwSMkuK4FcA/VRdKbNRavz8Tv5cGWzK+PyAUJVUwwbw/8KC3RQEYuz9gwJ94e0e5P5QowyVEX7c/upgeelBttT+nU8u0in2zP02pRmOxmbE/gxAfKMGSrz916uGZbiSsPynPTekc8Kg/CKIjdXD6pT+4TqnDg0WjPyosleBm0aA/TAnHJik5nT9c3No4tUiZP7MletRmypU/MD0lSSK2kj/O80yINQOQP0+Fp0dyUYs/Hd0fsLc7hz+L/EaELbSDP8juOTmtqoA/2s49hlIgfD8z9a8wla13P8Jsps3643M/\",\"dtype\":\"float64\",\"order\":\"little\",\"shape\":[96]}},\"selected\":{\"id\":\"37018\"},\"selection_policy\":{\"id\":\"37017\"}},\"id\":\"36264\",\"type\":\"ColumnDataSource\"},{\"attributes\":{\"coordinates\":null,\"data_source\":{\"id\":\"36264\"},\"glyph\":{\"id\":\"36265\"},\"group\":null,\"hover_glyph\":null,\"muted_glyph\":{\"id\":\"36267\"},\"nonselection_glyph\":{\"id\":\"36266\"},\"view\":{\"id\":\"36269\"}},\"id\":\"36268\",\"type\":\"GlyphRenderer\"},{\"attributes\":{},\"id\":\"37016\",\"type\":\"AllLabels\"},{\"attributes\":{\"axis_label\":\"t\",\"coordinates\":null,\"formatter\":{\"id\":\"37015\"},\"group\":null,\"major_label_policy\":{\"id\":\"37016\"},\"ticker\":{\"id\":\"36243\"}},\"id\":\"36242\",\"type\":\"LinearAxis\"},{\"attributes\":{},\"id\":\"37015\",\"type\":\"BasicTickFormatter\"},{\"attributes\":{},\"id\":\"36236\",\"type\":\"DataRange1d\"},{\"attributes\":{},\"id\":\"37013\",\"type\":\"AllLabels\"},{\"attributes\":{\"source\":{\"id\":\"36264\"}},\"id\":\"36269\",\"type\":\"CDSView\"},{\"attributes\":{},\"id\":\"37012\",\"type\":\"BasicTickFormatter\"}],\"root_ids\":[\"36233\"]},\"title\":\"Bokeh Application\",\"version\":\"2.4.1\"}};\n  const render_items = [{\"docid\":\"dfcd1ec2-571c-4b8a-b199-78c76ede5a1e\",\"root_ids\":[\"36233\"],\"roots\":{\"36233\":\"6a3e9582-47fd-4719-9a25-50d539b97c7e\"}}];\n  root.Bokeh.embed.embed_items_notebook(docs_json, render_items);\n\n  }\n  if (root.Bokeh !== undefined) {\n    embed_document(root);\n  } else {\n    let attempts = 0;\n    const timer = setInterval(function(root) {\n      if (root.Bokeh !== undefined) {\n        clearInterval(timer);\n        embed_document(root);\n      } else {\n        attempts++;\n        if (attempts > 100) {\n          clearInterval(timer);\n          console.log(\"Bokeh: ERROR: Unable to run BokehJS code because BokehJS library is missing\");\n        }\n      }\n    }, 10, root)\n  }\n})(window);",
      "application/vnd.bokehjs_exec.v0+json": ""
     },
     "metadata": {
      "application/vnd.bokehjs_exec.v0+json": {
       "id": "36233"
      }
     },
     "output_type": "display_data"
    }
   ],
   "source": [
    "t = np.linspace(0, 1440, 96)\n",
    "p = bokeh.plotting.figure(\n",
    "    plot_width=800,\n",
    "    plot_height=400,\n",
    "    x_axis_label=\"t\",\n",
    "    y_axis_label=\"dimensionless concentration\",\n",
    "    y_axis_type=\"linear\",\n",
    "\n",
    ")\n",
    "\n",
    "colors = bokeh.palettes.d3[\"Category10\"][3]\n",
    "\n",
    "# Populate glyphs\n",
    "p.line(\n",
    "    t/60, pT, line_width=2, color=colors[1]\n",
    ")\n",
    "\n",
    "vline1 = Span(location=3, dimension='height', line_color='black', line_width=1,line_dash='dashed')\n",
    "vline2 = Span(location=16, dimension='height', line_color='black', line_width=1,line_dash='dashed')\n",
    "p.add_layout(vline1)\n",
    "p.add_layout(vline2)\n",
    "\n",
    "show(p)\n"
   ]
  },
  {
   "cell_type": "code",
   "execution_count": 10,
   "id": "bd084774",
   "metadata": {},
   "outputs": [
    {
     "data": {
      "text/plain": [
       "[1, 1, 0.0, 0.0, 1, 0.0, 1, 1]"
      ]
     },
     "execution_count": 10,
     "metadata": {},
     "output_type": "execute_result"
    }
   ],
   "source": [
    "result_all"
   ]
  },
  {
   "cell_type": "code",
   "execution_count": null,
   "id": "7f08ea5a",
   "metadata": {},
   "outputs": [],
   "source": []
  }
 ],
 "metadata": {
  "kernelspec": {
   "display_name": "Python 3 (ipykernel)",
   "language": "python",
   "name": "python3"
  },
  "language_info": {
   "codemirror_mode": {
    "name": "ipython",
    "version": 3
   },
   "file_extension": ".py",
   "mimetype": "text/x-python",
   "name": "python",
   "nbconvert_exporter": "python",
   "pygments_lexer": "ipython3",
   "version": "3.9.7"
  },
  "vscode": {
   "interpreter": {
    "hash": "702350541321a2f0d6ee5689c760d1f3e12a6e5a69204819bb813b28aabd20d3"
   }
  }
 },
 "nbformat": 4,
 "nbformat_minor": 5
}
