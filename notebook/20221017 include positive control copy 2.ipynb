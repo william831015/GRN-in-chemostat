{
 "cells": [
  {
   "cell_type": "code",
   "execution_count": 164,
   "metadata": {},
   "outputs": [
    {
     "data": {
      "application/javascript": "(function(root) {\n  function now() {\n    return new Date();\n  }\n\n  var force = true;\n\n  if (typeof root._bokeh_onload_callbacks === \"undefined\" || force === true) {\n    root._bokeh_onload_callbacks = [];\n    root._bokeh_is_loading = undefined;\n  }\n\n  if (typeof (root._bokeh_timeout) === \"undefined\" || force === true) {\n    root._bokeh_timeout = Date.now() + 5000;\n    root._bokeh_failed_load = false;\n  }\n\n  function run_callbacks() {\n    try {\n      root._bokeh_onload_callbacks.forEach(function(callback) {\n        if (callback != null)\n          callback();\n      });\n    } finally {\n      delete root._bokeh_onload_callbacks\n    }\n    console.debug(\"Bokeh: all callbacks have finished\");\n  }\n\n  function load_libs(css_urls, js_urls, js_modules, callback) {\n    if (css_urls == null) css_urls = [];\n    if (js_urls == null) js_urls = [];\n    if (js_modules == null) js_modules = [];\n\n    root._bokeh_onload_callbacks.push(callback);\n    if (root._bokeh_is_loading > 0) {\n      console.debug(\"Bokeh: BokehJS is being loaded, scheduling callback at\", now());\n      return null;\n    }\n    if (js_urls.length === 0 && js_modules.length === 0) {\n      run_callbacks();\n      return null;\n    }\n    console.debug(\"Bokeh: BokehJS not loaded, scheduling load and callback at\", now());\n\n    function on_load() {\n      root._bokeh_is_loading--;\n      if (root._bokeh_is_loading === 0) {\n        console.debug(\"Bokeh: all BokehJS libraries/stylesheets loaded\");\n        run_callbacks()\n      }\n    }\n\n    function on_error() {\n      console.error(\"failed to load \" + url);\n    }\n\n    for (var i = 0; i < css_urls.length; i++) {\n      var url = css_urls[i];\n      const element = document.createElement(\"link\");\n      element.onload = on_load;\n      element.onerror = on_error;\n      element.rel = \"stylesheet\";\n      element.type = \"text/css\";\n      element.href = url;\n      console.debug(\"Bokeh: injecting link tag for BokehJS stylesheet: \", url);\n      document.body.appendChild(element);\n    }\n\n    var skip = [];\n    if (window.requirejs) {\n      window.requirejs.config({'packages': {}, 'paths': {'gridstack': 'https://cdn.jsdelivr.net/npm/gridstack@4.2.5/dist/gridstack-h5', 'notyf': 'https://cdn.jsdelivr.net/npm/notyf@3/notyf.min'}, 'shim': {'gridstack': {'exports': 'GridStack'}}});\n      require([\"gridstack\"], function(GridStack) {\n\twindow.GridStack = GridStack\n\ton_load()\n      })\n      require([\"notyf\"], function() {\n\ton_load()\n      })\n      root._bokeh_is_loading = css_urls.length + 2;\n    } else {\n      root._bokeh_is_loading = css_urls.length + js_urls.length + js_modules.length;\n    }    if (((window['GridStack'] !== undefined) && (!(window['GridStack'] instanceof HTMLElement))) || window.requirejs) {\n      var urls = ['https://cdn.jsdelivr.net/npm/gridstack@4.2.5/dist/gridstack-h5.js'];\n      for (var i = 0; i < urls.length; i++) {\n        skip.push(urls[i])\n      }\n    }    if (((window['Notyf'] !== undefined) && (!(window['Notyf'] instanceof HTMLElement))) || window.requirejs) {\n      var urls = ['https://cdn.jsdelivr.net/npm/notyf@3/notyf.min.js'];\n      for (var i = 0; i < urls.length; i++) {\n        skip.push(urls[i])\n      }\n    }    for (var i = 0; i < js_urls.length; i++) {\n      var url = js_urls[i];\n      if (skip.indexOf(url) >= 0) {\n\tif (!window.requirejs) {\n\t  on_load();\n\t}\n\tcontinue;\n      }\n      var element = document.createElement('script');\n      element.onload = on_load;\n      element.onerror = on_error;\n      element.async = false;\n      element.src = url;\n      console.debug(\"Bokeh: injecting script tag for BokehJS library: \", url);\n      document.head.appendChild(element);\n    }\n    for (var i = 0; i < js_modules.length; i++) {\n      var url = js_modules[i];\n      if (skip.indexOf(url) >= 0) {\n\tif (!window.requirejs) {\n\t  on_load();\n\t}\n\tcontinue;\n      }\n      var element = document.createElement('script');\n      element.onload = on_load;\n      element.onerror = on_error;\n      element.async = false;\n      element.src = url;\n      element.type = \"module\";\n      console.debug(\"Bokeh: injecting script tag for BokehJS library: \", url);\n      document.head.appendChild(element);\n    }\n    if (!js_urls.length && !js_modules.length) {\n      on_load()\n    }\n  };\n\n  function inject_raw_css(css) {\n    const element = document.createElement(\"style\");\n    element.appendChild(document.createTextNode(css));\n    document.body.appendChild(element);\n  }\n\n  var js_urls = [\"https://cdn.bokeh.org/bokeh/release/bokeh-2.4.1.min.js\", \"https://cdn.bokeh.org/bokeh/release/bokeh-gl-2.4.1.min.js\", \"https://cdn.bokeh.org/bokeh/release/bokeh-widgets-2.4.1.min.js\", \"https://cdn.bokeh.org/bokeh/release/bokeh-tables-2.4.1.min.js\", \"https://cdn.bokeh.org/bokeh/release/bokeh-mathjax-2.4.1.min.js\", \"https://cdn.jsdelivr.net/npm/notyf@3/notyf.min.js\", \"https://unpkg.com/@holoviz/panel@0.13.1/dist/panel.min.js\"];\n  var js_modules = [];\n  var css_urls = [\"https://cdn.jsdelivr.net/npm/notyf@3/notyf.min.css\", \"https://cdnjs.cloudflare.com/ajax/libs/font-awesome/5.15.1/css/all.min.css\", \"https://unpkg.com/@holoviz/panel@0.13.1/dist/css/debugger.css\", \"https://unpkg.com/@holoviz/panel@0.13.1/dist/css/alerts.css\", \"https://unpkg.com/@holoviz/panel@0.13.1/dist/css/card.css\", \"https://unpkg.com/@holoviz/panel@0.13.1/dist/css/widgets.css\", \"https://unpkg.com/@holoviz/panel@0.13.1/dist/css/markdown.css\", \"https://unpkg.com/@holoviz/panel@0.13.1/dist/css/json.css\", \"https://unpkg.com/@holoviz/panel@0.13.1/dist/css/loading.css\", \"https://unpkg.com/@holoviz/panel@0.13.1/dist/css/dataframe.css\"];\n  var inline_js = [    function(Bokeh) {\n      inject_raw_css(\"\\n    .bk.pn-loading.arcs:before {\\n      background-image: url(\\\"data:image/svg+xml;base64,PHN2ZyB4bWxucz0iaHR0cDovL3d3dy53My5vcmcvMjAwMC9zdmciIHhtbG5zOnhsaW5rPSJodHRwOi8vd3d3LnczLm9yZy8xOTk5L3hsaW5rIiBzdHlsZT0ibWFyZ2luOiBhdXRvOyBiYWNrZ3JvdW5kOiBub25lOyBkaXNwbGF5OiBibG9jazsgc2hhcGUtcmVuZGVyaW5nOiBhdXRvOyIgdmlld0JveD0iMCAwIDEwMCAxMDAiIHByZXNlcnZlQXNwZWN0UmF0aW89InhNaWRZTWlkIj4gIDxjaXJjbGUgY3g9IjUwIiBjeT0iNTAiIHI9IjMyIiBzdHJva2Utd2lkdGg9IjgiIHN0cm9rZT0iI2MzYzNjMyIgc3Ryb2tlLWRhc2hhcnJheT0iNTAuMjY1NDgyNDU3NDM2NjkgNTAuMjY1NDgyNDU3NDM2NjkiIGZpbGw9Im5vbmUiIHN0cm9rZS1saW5lY2FwPSJyb3VuZCI+ICAgIDxhbmltYXRlVHJhbnNmb3JtIGF0dHJpYnV0ZU5hbWU9InRyYW5zZm9ybSIgdHlwZT0icm90YXRlIiByZXBlYXRDb3VudD0iaW5kZWZpbml0ZSIgZHVyPSIxcyIga2V5VGltZXM9IjA7MSIgdmFsdWVzPSIwIDUwIDUwOzM2MCA1MCA1MCI+PC9hbmltYXRlVHJhbnNmb3JtPiAgPC9jaXJjbGU+PC9zdmc+\\\");\\n      background-size: auto calc(min(50%, 400px));\\n    }\\n    \");\n    },    function(Bokeh) {\n      Bokeh.set_log_level(\"info\");\n    },\nfunction(Bokeh) {} // ensure no trailing comma for IE\n  ];\n\n  function run_inline_js() {\n    if ((root.Bokeh !== undefined) || (force === true)) {\n      for (var i = 0; i < inline_js.length; i++) {\n        inline_js[i].call(root, root.Bokeh);\n      }} else if (Date.now() < root._bokeh_timeout) {\n      setTimeout(run_inline_js, 100);\n    } else if (!root._bokeh_failed_load) {\n      console.log(\"Bokeh: BokehJS failed to load within specified timeout.\");\n      root._bokeh_failed_load = true;\n    }\n  }\n\n  if (root._bokeh_is_loading === 0) {\n    console.debug(\"Bokeh: BokehJS loaded, going straight to plotting\");\n    run_inline_js();\n  } else {\n    load_libs(css_urls, js_urls, js_modules, function() {\n      console.debug(\"Bokeh: BokehJS plotting callback run at\", now());\n      run_inline_js();\n    });\n  }\n}(window));",
      "application/vnd.holoviews_load.v0+json": ""
     },
     "metadata": {},
     "output_type": "display_data"
    },
    {
     "data": {
      "application/javascript": "\nif ((window.PyViz === undefined) || (window.PyViz instanceof HTMLElement)) {\n  window.PyViz = {comms: {}, comm_status:{}, kernels:{}, receivers: {}, plot_index: []}\n}\n\n\n    function JupyterCommManager() {\n    }\n\n    JupyterCommManager.prototype.register_target = function(plot_id, comm_id, msg_handler) {\n      if (window.comm_manager || ((window.Jupyter !== undefined) && (Jupyter.notebook.kernel != null))) {\n        var comm_manager = window.comm_manager || Jupyter.notebook.kernel.comm_manager;\n        comm_manager.register_target(comm_id, function(comm) {\n          comm.on_msg(msg_handler);\n        });\n      } else if ((plot_id in window.PyViz.kernels) && (window.PyViz.kernels[plot_id])) {\n        window.PyViz.kernels[plot_id].registerCommTarget(comm_id, function(comm) {\n          comm.onMsg = msg_handler;\n        });\n      } else if (typeof google != 'undefined' && google.colab.kernel != null) {\n        google.colab.kernel.comms.registerTarget(comm_id, (comm) => {\n          var messages = comm.messages[Symbol.asyncIterator]();\n          function processIteratorResult(result) {\n            var message = result.value;\n            console.log(message)\n            var content = {data: message.data, comm_id};\n            var buffers = []\n            for (var buffer of message.buffers || []) {\n              buffers.push(new DataView(buffer))\n            }\n            var metadata = message.metadata || {};\n            var msg = {content, buffers, metadata}\n            msg_handler(msg);\n            return messages.next().then(processIteratorResult);\n          }\n          return messages.next().then(processIteratorResult);\n        })\n      }\n    }\n\n    JupyterCommManager.prototype.get_client_comm = function(plot_id, comm_id, msg_handler) {\n      if (comm_id in window.PyViz.comms) {\n        return window.PyViz.comms[comm_id];\n      } else if (window.comm_manager || ((window.Jupyter !== undefined) && (Jupyter.notebook.kernel != null))) {\n        var comm_manager = window.comm_manager || Jupyter.notebook.kernel.comm_manager;\n        var comm = comm_manager.new_comm(comm_id, {}, {}, {}, comm_id);\n        if (msg_handler) {\n          comm.on_msg(msg_handler);\n        }\n      } else if ((plot_id in window.PyViz.kernels) && (window.PyViz.kernels[plot_id])) {\n        var comm = window.PyViz.kernels[plot_id].connectToComm(comm_id);\n        comm.open();\n        if (msg_handler) {\n          comm.onMsg = msg_handler;\n        }\n      } else if (typeof google != 'undefined' && google.colab.kernel != null) {\n        var comm_promise = google.colab.kernel.comms.open(comm_id)\n        comm_promise.then((comm) => {\n          window.PyViz.comms[comm_id] = comm;\n          if (msg_handler) {\n            var messages = comm.messages[Symbol.asyncIterator]();\n            function processIteratorResult(result) {\n              var message = result.value;\n              var content = {data: message.data};\n              var metadata = message.metadata || {comm_id};\n              var msg = {content, metadata}\n              msg_handler(msg);\n              return messages.next().then(processIteratorResult);\n            }\n            return messages.next().then(processIteratorResult);\n          }\n        }) \n        var sendClosure = (data, metadata, buffers, disposeOnDone) => {\n          return comm_promise.then((comm) => {\n            comm.send(data, metadata, buffers, disposeOnDone);\n          });\n        };\n        var comm = {\n          send: sendClosure\n        };\n      }\n      window.PyViz.comms[comm_id] = comm;\n      return comm;\n    }\n    window.PyViz.comm_manager = new JupyterCommManager();\n    \n\n\nvar JS_MIME_TYPE = 'application/javascript';\nvar HTML_MIME_TYPE = 'text/html';\nvar EXEC_MIME_TYPE = 'application/vnd.holoviews_exec.v0+json';\nvar CLASS_NAME = 'output';\n\n/**\n * Render data to the DOM node\n */\nfunction render(props, node) {\n  var div = document.createElement(\"div\");\n  var script = document.createElement(\"script\");\n  node.appendChild(div);\n  node.appendChild(script);\n}\n\n/**\n * Handle when a new output is added\n */\nfunction handle_add_output(event, handle) {\n  var output_area = handle.output_area;\n  var output = handle.output;\n  if ((output.data == undefined) || (!output.data.hasOwnProperty(EXEC_MIME_TYPE))) {\n    return\n  }\n  var id = output.metadata[EXEC_MIME_TYPE][\"id\"];\n  var toinsert = output_area.element.find(\".\" + CLASS_NAME.split(' ')[0]);\n  if (id !== undefined) {\n    var nchildren = toinsert.length;\n    var html_node = toinsert[nchildren-1].children[0];\n    html_node.innerHTML = output.data[HTML_MIME_TYPE];\n    var scripts = [];\n    var nodelist = html_node.querySelectorAll(\"script\");\n    for (var i in nodelist) {\n      if (nodelist.hasOwnProperty(i)) {\n        scripts.push(nodelist[i])\n      }\n    }\n\n    scripts.forEach( function (oldScript) {\n      var newScript = document.createElement(\"script\");\n      var attrs = [];\n      var nodemap = oldScript.attributes;\n      for (var j in nodemap) {\n        if (nodemap.hasOwnProperty(j)) {\n          attrs.push(nodemap[j])\n        }\n      }\n      attrs.forEach(function(attr) { newScript.setAttribute(attr.name, attr.value) });\n      newScript.appendChild(document.createTextNode(oldScript.innerHTML));\n      oldScript.parentNode.replaceChild(newScript, oldScript);\n    });\n    if (JS_MIME_TYPE in output.data) {\n      toinsert[nchildren-1].children[1].textContent = output.data[JS_MIME_TYPE];\n    }\n    output_area._hv_plot_id = id;\n    if ((window.Bokeh !== undefined) && (id in Bokeh.index)) {\n      window.PyViz.plot_index[id] = Bokeh.index[id];\n    } else {\n      window.PyViz.plot_index[id] = null;\n    }\n  } else if (output.metadata[EXEC_MIME_TYPE][\"server_id\"] !== undefined) {\n    var bk_div = document.createElement(\"div\");\n    bk_div.innerHTML = output.data[HTML_MIME_TYPE];\n    var script_attrs = bk_div.children[0].attributes;\n    for (var i = 0; i < script_attrs.length; i++) {\n      toinsert[toinsert.length - 1].childNodes[1].setAttribute(script_attrs[i].name, script_attrs[i].value);\n    }\n    // store reference to server id on output_area\n    output_area._bokeh_server_id = output.metadata[EXEC_MIME_TYPE][\"server_id\"];\n  }\n}\n\n/**\n * Handle when an output is cleared or removed\n */\nfunction handle_clear_output(event, handle) {\n  var id = handle.cell.output_area._hv_plot_id;\n  var server_id = handle.cell.output_area._bokeh_server_id;\n  if (((id === undefined) || !(id in PyViz.plot_index)) && (server_id !== undefined)) { return; }\n  var comm = window.PyViz.comm_manager.get_client_comm(\"hv-extension-comm\", \"hv-extension-comm\", function () {});\n  if (server_id !== null) {\n    comm.send({event_type: 'server_delete', 'id': server_id});\n    return;\n  } else if (comm !== null) {\n    comm.send({event_type: 'delete', 'id': id});\n  }\n  delete PyViz.plot_index[id];\n  if ((window.Bokeh !== undefined) & (id in window.Bokeh.index)) {\n    var doc = window.Bokeh.index[id].model.document\n    doc.clear();\n    const i = window.Bokeh.documents.indexOf(doc);\n    if (i > -1) {\n      window.Bokeh.documents.splice(i, 1);\n    }\n  }\n}\n\n/**\n * Handle kernel restart event\n */\nfunction handle_kernel_cleanup(event, handle) {\n  delete PyViz.comms[\"hv-extension-comm\"];\n  window.PyViz.plot_index = {}\n}\n\n/**\n * Handle update_display_data messages\n */\nfunction handle_update_output(event, handle) {\n  handle_clear_output(event, {cell: {output_area: handle.output_area}})\n  handle_add_output(event, handle)\n}\n\nfunction register_renderer(events, OutputArea) {\n  function append_mime(data, metadata, element) {\n    // create a DOM node to render to\n    var toinsert = this.create_output_subarea(\n    metadata,\n    CLASS_NAME,\n    EXEC_MIME_TYPE\n    );\n    this.keyboard_manager.register_events(toinsert);\n    // Render to node\n    var props = {data: data, metadata: metadata[EXEC_MIME_TYPE]};\n    render(props, toinsert[0]);\n    element.append(toinsert);\n    return toinsert\n  }\n\n  events.on('output_added.OutputArea', handle_add_output);\n  events.on('output_updated.OutputArea', handle_update_output);\n  events.on('clear_output.CodeCell', handle_clear_output);\n  events.on('delete.Cell', handle_clear_output);\n  events.on('kernel_ready.Kernel', handle_kernel_cleanup);\n\n  OutputArea.prototype.register_mime_type(EXEC_MIME_TYPE, append_mime, {\n    safe: true,\n    index: 0\n  });\n}\n\nif (window.Jupyter !== undefined) {\n  try {\n    var events = require('base/js/events');\n    var OutputArea = require('notebook/js/outputarea').OutputArea;\n    if (OutputArea.prototype.mime_types().indexOf(EXEC_MIME_TYPE) == -1) {\n      register_renderer(events, OutputArea);\n    }\n  } catch(err) {\n  }\n}\n",
      "application/vnd.holoviews_load.v0+json": ""
     },
     "metadata": {},
     "output_type": "display_data"
    },
    {
     "data": {
      "text/html": [
       "<style>.bk-root, .bk-root .bk:before, .bk-root .bk:after {\n",
       "  font-family: var(--jp-ui-font-size1);\n",
       "  font-size: var(--jp-ui-font-size1);\n",
       "  color: var(--jp-ui-font-color1);\n",
       "}\n",
       "</style>"
      ]
     },
     "metadata": {},
     "output_type": "display_data"
    },
    {
     "data": {
      "text/html": [
       "\n",
       "    <div class=\"bk-root\">\n",
       "        <a href=\"https://bokeh.org\" target=\"_blank\" class=\"bk-logo bk-logo-small bk-logo-notebook\"></a>\n",
       "        <span id=\"54606\">Loading BokehJS ...</span>\n",
       "    </div>"
      ]
     },
     "metadata": {},
     "output_type": "display_data"
    },
    {
     "data": {
      "application/javascript": "\n(function(root) {\n  function now() {\n    return new Date();\n  }\n\n  const force = true;\n\n  if (typeof root._bokeh_onload_callbacks === \"undefined\" || force === true) {\n    root._bokeh_onload_callbacks = [];\n    root._bokeh_is_loading = undefined;\n  }\n\n  const JS_MIME_TYPE = 'application/javascript';\n  const HTML_MIME_TYPE = 'text/html';\n  const EXEC_MIME_TYPE = 'application/vnd.bokehjs_exec.v0+json';\n  const CLASS_NAME = 'output_bokeh rendered_html';\n\n  /**\n   * Render data to the DOM node\n   */\n  function render(props, node) {\n    const script = document.createElement(\"script\");\n    node.appendChild(script);\n  }\n\n  /**\n   * Handle when an output is cleared or removed\n   */\n  function handleClearOutput(event, handle) {\n    const cell = handle.cell;\n\n    const id = cell.output_area._bokeh_element_id;\n    const server_id = cell.output_area._bokeh_server_id;\n    // Clean up Bokeh references\n    if (id != null && id in Bokeh.index) {\n      Bokeh.index[id].model.document.clear();\n      delete Bokeh.index[id];\n    }\n\n    if (server_id !== undefined) {\n      // Clean up Bokeh references\n      const cmd_clean = \"from bokeh.io.state import curstate; print(curstate().uuid_to_server['\" + server_id + \"'].get_sessions()[0].document.roots[0]._id)\";\n      cell.notebook.kernel.execute(cmd_clean, {\n        iopub: {\n          output: function(msg) {\n            const id = msg.content.text.trim();\n            if (id in Bokeh.index) {\n              Bokeh.index[id].model.document.clear();\n              delete Bokeh.index[id];\n            }\n          }\n        }\n      });\n      // Destroy server and session\n      const cmd_destroy = \"import bokeh.io.notebook as ion; ion.destroy_server('\" + server_id + \"')\";\n      cell.notebook.kernel.execute(cmd_destroy);\n    }\n  }\n\n  /**\n   * Handle when a new output is added\n   */\n  function handleAddOutput(event, handle) {\n    const output_area = handle.output_area;\n    const output = handle.output;\n\n    // limit handleAddOutput to display_data with EXEC_MIME_TYPE content only\n    if ((output.output_type != \"display_data\") || (!Object.prototype.hasOwnProperty.call(output.data, EXEC_MIME_TYPE))) {\n      return\n    }\n\n    const toinsert = output_area.element.find(\".\" + CLASS_NAME.split(' ')[0]);\n\n    if (output.metadata[EXEC_MIME_TYPE][\"id\"] !== undefined) {\n      toinsert[toinsert.length - 1].firstChild.textContent = output.data[JS_MIME_TYPE];\n      // store reference to embed id on output_area\n      output_area._bokeh_element_id = output.metadata[EXEC_MIME_TYPE][\"id\"];\n    }\n    if (output.metadata[EXEC_MIME_TYPE][\"server_id\"] !== undefined) {\n      const bk_div = document.createElement(\"div\");\n      bk_div.innerHTML = output.data[HTML_MIME_TYPE];\n      const script_attrs = bk_div.children[0].attributes;\n      for (let i = 0; i < script_attrs.length; i++) {\n        toinsert[toinsert.length - 1].firstChild.setAttribute(script_attrs[i].name, script_attrs[i].value);\n        toinsert[toinsert.length - 1].firstChild.textContent = bk_div.children[0].textContent\n      }\n      // store reference to server id on output_area\n      output_area._bokeh_server_id = output.metadata[EXEC_MIME_TYPE][\"server_id\"];\n    }\n  }\n\n  function register_renderer(events, OutputArea) {\n\n    function append_mime(data, metadata, element) {\n      // create a DOM node to render to\n      const toinsert = this.create_output_subarea(\n        metadata,\n        CLASS_NAME,\n        EXEC_MIME_TYPE\n      );\n      this.keyboard_manager.register_events(toinsert);\n      // Render to node\n      const props = {data: data, metadata: metadata[EXEC_MIME_TYPE]};\n      render(props, toinsert[toinsert.length - 1]);\n      element.append(toinsert);\n      return toinsert\n    }\n\n    /* Handle when an output is cleared or removed */\n    events.on('clear_output.CodeCell', handleClearOutput);\n    events.on('delete.Cell', handleClearOutput);\n\n    /* Handle when a new output is added */\n    events.on('output_added.OutputArea', handleAddOutput);\n\n    /**\n     * Register the mime type and append_mime function with output_area\n     */\n    OutputArea.prototype.register_mime_type(EXEC_MIME_TYPE, append_mime, {\n      /* Is output safe? */\n      safe: true,\n      /* Index of renderer in `output_area.display_order` */\n      index: 0\n    });\n  }\n\n  // register the mime type if in Jupyter Notebook environment and previously unregistered\n  if (root.Jupyter !== undefined) {\n    const events = require('base/js/events');\n    const OutputArea = require('notebook/js/outputarea').OutputArea;\n\n    if (OutputArea.prototype.mime_types().indexOf(EXEC_MIME_TYPE) == -1) {\n      register_renderer(events, OutputArea);\n    }\n  }\n\n  \n  if (typeof (root._bokeh_timeout) === \"undefined\" || force === true) {\n    root._bokeh_timeout = Date.now() + 5000;\n    root._bokeh_failed_load = false;\n  }\n\n  const NB_LOAD_WARNING = {'data': {'text/html':\n     \"<div style='background-color: #fdd'>\\n\"+\n     \"<p>\\n\"+\n     \"BokehJS does not appear to have successfully loaded. If loading BokehJS from CDN, this \\n\"+\n     \"may be due to a slow or bad network connection. Possible fixes:\\n\"+\n     \"</p>\\n\"+\n     \"<ul>\\n\"+\n     \"<li>re-rerun `output_notebook()` to attempt to load from CDN again, or</li>\\n\"+\n     \"<li>use INLINE resources instead, as so:</li>\\n\"+\n     \"</ul>\\n\"+\n     \"<code>\\n\"+\n     \"from bokeh.resources import INLINE\\n\"+\n     \"output_notebook(resources=INLINE)\\n\"+\n     \"</code>\\n\"+\n     \"</div>\"}};\n\n  function display_loaded() {\n    const el = document.getElementById(\"54606\");\n    if (el != null) {\n      el.textContent = \"BokehJS is loading...\";\n    }\n    if (root.Bokeh !== undefined) {\n      if (el != null) {\n        el.textContent = \"BokehJS \" + root.Bokeh.version + \" successfully loaded.\";\n      }\n    } else if (Date.now() < root._bokeh_timeout) {\n      setTimeout(display_loaded, 100)\n    }\n  }\n\n\n  function run_callbacks() {\n    try {\n      root._bokeh_onload_callbacks.forEach(function(callback) {\n        if (callback != null)\n          callback();\n      });\n    } finally {\n      delete root._bokeh_onload_callbacks\n    }\n    console.debug(\"Bokeh: all callbacks have finished\");\n  }\n\n  function load_libs(css_urls, js_urls, callback) {\n    if (css_urls == null) css_urls = [];\n    if (js_urls == null) js_urls = [];\n\n    root._bokeh_onload_callbacks.push(callback);\n    if (root._bokeh_is_loading > 0) {\n      console.debug(\"Bokeh: BokehJS is being loaded, scheduling callback at\", now());\n      return null;\n    }\n    if (js_urls == null || js_urls.length === 0) {\n      run_callbacks();\n      return null;\n    }\n    console.debug(\"Bokeh: BokehJS not loaded, scheduling load and callback at\", now());\n    root._bokeh_is_loading = css_urls.length + js_urls.length;\n\n    function on_load() {\n      root._bokeh_is_loading--;\n      if (root._bokeh_is_loading === 0) {\n        console.debug(\"Bokeh: all BokehJS libraries/stylesheets loaded\");\n        run_callbacks()\n      }\n    }\n\n    function on_error(url) {\n      console.error(\"failed to load \" + url);\n    }\n\n    for (let i = 0; i < css_urls.length; i++) {\n      const url = css_urls[i];\n      const element = document.createElement(\"link\");\n      element.onload = on_load;\n      element.onerror = on_error.bind(null, url);\n      element.rel = \"stylesheet\";\n      element.type = \"text/css\";\n      element.href = url;\n      console.debug(\"Bokeh: injecting link tag for BokehJS stylesheet: \", url);\n      document.body.appendChild(element);\n    }\n\n    for (let i = 0; i < js_urls.length; i++) {\n      const url = js_urls[i];\n      const element = document.createElement('script');\n      element.onload = on_load;\n      element.onerror = on_error.bind(null, url);\n      element.async = false;\n      element.src = url;\n      console.debug(\"Bokeh: injecting script tag for BokehJS library: \", url);\n      document.head.appendChild(element);\n    }\n  };\n\n  function inject_raw_css(css) {\n    const element = document.createElement(\"style\");\n    element.appendChild(document.createTextNode(css));\n    document.body.appendChild(element);\n  }\n\n  \n  const js_urls = [\"https://cdn.bokeh.org/bokeh/release/bokeh-2.4.1.min.js\", \"https://cdn.bokeh.org/bokeh/release/bokeh-gl-2.4.1.min.js\", \"https://cdn.bokeh.org/bokeh/release/bokeh-widgets-2.4.1.min.js\", \"https://cdn.bokeh.org/bokeh/release/bokeh-tables-2.4.1.min.js\", \"https://cdn.bokeh.org/bokeh/release/bokeh-mathjax-2.4.1.min.js\", \"https://unpkg.com/@holoviz/panel@0.13.1/dist/panel.min.js\"];\n  const css_urls = [];\n  \n\n  const inline_js = [\n    function(Bokeh) {\n      Bokeh.set_log_level(\"info\");\n    },\n    function(Bokeh) {\n    \n    \n    }\n  ];\n\n  function run_inline_js() {\n    \n    if (root.Bokeh !== undefined || force === true) {\n      \n    for (let i = 0; i < inline_js.length; i++) {\n      inline_js[i].call(root, root.Bokeh);\n    }\n    if (force === true) {\n        display_loaded();\n      }} else if (Date.now() < root._bokeh_timeout) {\n      setTimeout(run_inline_js, 100);\n    } else if (!root._bokeh_failed_load) {\n      console.log(\"Bokeh: BokehJS failed to load within specified timeout.\");\n      root._bokeh_failed_load = true;\n    } else if (force !== true) {\n      const cell = $(document.getElementById(\"54606\")).parents('.cell').data().cell;\n      cell.output_area.append_execute_result(NB_LOAD_WARNING)\n    }\n\n  }\n\n  if (root._bokeh_is_loading === 0) {\n    console.debug(\"Bokeh: BokehJS loaded, going straight to plotting\");\n    run_inline_js();\n  } else {\n    load_libs(css_urls, js_urls, function() {\n      console.debug(\"Bokeh: BokehJS plotting callback run at\", now());\n      run_inline_js();\n    });\n  }\n}(window));",
      "application/vnd.bokehjs_load.v0+json": ""
     },
     "metadata": {},
     "output_type": "display_data"
    }
   ],
   "source": [
    "import sys,os\n",
    "sys.path.append(os.path.realpath('..'))\n",
    "\n",
    "from scripts.functions import dilute, replenish,dilute_species, replenish_species, run_model,plot_result\n",
    "from scripts.species import DNA, RNA, Protein, Resource\n",
    "from scripts.models import Repressor_model\n",
    "\n",
    "\n",
    "import numpy as np\n",
    "import scipy.integrate\n",
    "import scipy.optimize\n",
    "from bokeh.plotting import figure, output_file, show\n",
    "\n",
    "import bokeh.plotting\n",
    "import bokeh.io\n",
    "from bokeh.models import Span\n",
    "\n",
    "\n",
    "# We will use Matplotlib to make a 3D plot\n",
    "import matplotlib.pyplot as plt\n",
    "from mpl_toolkits.mplot3d import Axes3D\n",
    "%matplotlib inline\n",
    "%config InlineBackend.figure_format = 'retina'\n",
    "\n",
    "import panel as pn\n",
    "pn.extension()\n",
    "\n",
    "bokeh.io.output_notebook()"
   ]
  },
  {
   "cell_type": "code",
   "execution_count": 165,
   "metadata": {},
   "outputs": [],
   "source": [
    "#######Define species #######\n",
    "\n",
    "#T7 RNAP\n",
    "T7_DNA = DNA()\n",
    "T7_RNA = RNA()\n",
    "T7 = Protein()\n",
    "\n",
    "\n",
    "#GFP\n",
    "GFP_DNA = DNA()\n",
    "GFP_RNA = RNA()\n",
    "GFP = Protein()\n",
    "\n",
    "#Resource\n",
    "R      = Resource()\n",
    "\n",
    "#Others\n",
    "TX = 1\n",
    "TL = 1\n",
    "\n",
    "#list of molecules\n",
    "molecules_list = [T7_DNA,T7_RNA,T7,GFP_DNA,GFP_RNA,GFP,R]\n",
    "\n",
    "\n",
    "#give index num\n",
    "for i in range(0,len(molecules_list)):\n",
    "    molecules_list[i].idx = i\n",
    "\n",
    "\n",
    "\n",
    "\n",
    "#define values \n",
    "##T7\n",
    "T7_DNA.ic =0\n",
    "T7_DNA.lc =0\n",
    "\n",
    "T7.ic = 1\n",
    "T7.lc = 1\n",
    "\n",
    "##GFP\n",
    "GFP_DNA.ic = 2\n",
    "GFP_DNA.lc = 2\n",
    "\n",
    "GFP.lc = 0\n",
    "\n",
    "##Repressor \n",
    "\n",
    "\n",
    "#resources\n",
    "R.ic =100\n",
    "R.lc =100\n",
    "\n",
    "#Define parameters\n",
    "alpha=0.7;\n",
    "beta=0.07;\n",
    "K=1.0;\n",
    "Kd = 1;\n",
    "KTL=10;\n",
    "KTX=1;\n",
    "lamb1=0;\n",
    "lamb2=0;\n",
    "\n",
    "parameters_list = (alpha,beta,K,Kd,KTL,KTX,lamb1,lamb2)\n",
    "\n"
   ]
  },
  {
   "cell_type": "code",
   "execution_count": 166,
   "metadata": {},
   "outputs": [],
   "source": [
    "\n",
    "def run_model(model,t,parameters_list,molecules_0,dilute_list,replenish_list,result_all):  \n",
    "    start_cycle,end_cycle = np.array(t)*4\n",
    "    for n in range (start_cycle,end_cycle):\n",
    "        #define time\n",
    "        t_start= n*15\n",
    "        t_end = (n+1)*15\n",
    "        t= np.linspace(t_start,t_end,2)\n",
    "\n",
    "        #solve equation and save result\n",
    "        result = scipy.integrate.odeint(model, molecules_0, t, args=parameters_list)\n",
    "        result_all = np.append(result_all,result[0])\n",
    "        \n",
    "        #update parameter\n",
    "        molecules_0 = result.transpose()[:,-1]\n",
    "        \n",
    "        #dilution \n",
    "        ###diute out\n",
    "        dilute_species((dilute_list),molecules_0)\n",
    "        \n",
    "        ###replenish \n",
    "        replenish_species((replenish_list),molecules_0)\n",
    "    return result_all,molecules_0"
   ]
  },
  {
   "cell_type": "code",
   "execution_count": 167,
   "metadata": {},
   "outputs": [],
   "source": [
    "def Repressor_model(molecules,t,alpha,beta,K,Kr,KTL,KTX,lamb1,lamb2):\n",
    "    T7_DNA,T7_RNA,T7,GFP_DNA,GFP_RNA,GFP,R = molecules\n",
    "    TX = 1\n",
    "    TL = 1\n",
    "    return np.array(\n",
    "        [\n",
    "            0,\n",
    "            alpha*TX*T7_DNA*T7*R/(R+K),\n",
    "            beta*TL*T7_RNA*(R/(R+K)),\n",
    "            0,\n",
    "            alpha*TX*GFP_DNA*T7*(R/(R+K)),\n",
    "            beta*TL*GFP_RNA*(R/(R+K)),\n",
    "            -alpha*TX*T7_DNA*T7*(R/(R+K))-alpha*TX*GFP_DNA*T7*(R/(R+K))-beta*TL*T7_RNA*(R/(R+K))-beta*TL*GFP_RNA*(R/(R+K)),\n",
    "        ]\n",
    "    )\n",
    "    "
   ]
  },
  {
   "cell_type": "code",
   "execution_count": 169,
   "metadata": {},
   "outputs": [
    {
     "data": {
      "text/html": [
       "\n",
       "\n",
       "\n",
       "\n",
       "\n",
       "\n",
       "  <div class=\"bk-root\" id=\"c0c62fe5-d6ca-4416-870a-205400e79948\" data-root-id=\"55729\"></div>\n"
      ]
     },
     "metadata": {},
     "output_type": "display_data"
    },
    {
     "data": {
      "application/javascript": "(function(root) {\n  function embed_document(root) {\n    \n  const docs_json = {\"47a89308-93a0-45e8-a91b-7a35f61b8d3b\":{\"defs\":[{\"extends\":null,\"module\":null,\"name\":\"ReactiveHTML1\",\"overrides\":[],\"properties\":[]},{\"extends\":null,\"module\":null,\"name\":\"FlexBox1\",\"overrides\":[],\"properties\":[{\"default\":\"flex-start\",\"kind\":null,\"name\":\"align_content\"},{\"default\":\"flex-start\",\"kind\":null,\"name\":\"align_items\"},{\"default\":\"row\",\"kind\":null,\"name\":\"flex_direction\"},{\"default\":\"wrap\",\"kind\":null,\"name\":\"flex_wrap\"},{\"default\":\"flex-start\",\"kind\":null,\"name\":\"justify_content\"}]},{\"extends\":null,\"module\":null,\"name\":\"GridStack1\",\"overrides\":[],\"properties\":[{\"default\":\"warn\",\"kind\":null,\"name\":\"mode\"},{\"default\":null,\"kind\":null,\"name\":\"ncols\"},{\"default\":null,\"kind\":null,\"name\":\"nrows\"},{\"default\":true,\"kind\":null,\"name\":\"allow_resize\"},{\"default\":true,\"kind\":null,\"name\":\"allow_drag\"},{\"default\":[],\"kind\":null,\"name\":\"state\"}]},{\"extends\":null,\"module\":null,\"name\":\"click1\",\"overrides\":[],\"properties\":[{\"default\":\"\",\"kind\":null,\"name\":\"terminal_output\"},{\"default\":\"\",\"kind\":null,\"name\":\"debug_name\"},{\"default\":0,\"kind\":null,\"name\":\"clears\"}]},{\"extends\":null,\"module\":null,\"name\":\"NotificationAreaBase1\",\"overrides\":[],\"properties\":[{\"default\":\"bottom-right\",\"kind\":null,\"name\":\"position\"},{\"default\":0,\"kind\":null,\"name\":\"_clear\"}]},{\"extends\":null,\"module\":null,\"name\":\"NotificationArea1\",\"overrides\":[],\"properties\":[{\"default\":[],\"kind\":null,\"name\":\"notifications\"},{\"default\":\"bottom-right\",\"kind\":null,\"name\":\"position\"},{\"default\":0,\"kind\":null,\"name\":\"_clear\"},{\"default\":[{\"background\":\"#ffc107\",\"icon\":{\"className\":\"fas fa-exclamation-triangle\",\"color\":\"white\",\"tagName\":\"i\"},\"type\":\"warning\"},{\"background\":\"#007bff\",\"icon\":{\"className\":\"fas fa-info-circle\",\"color\":\"white\",\"tagName\":\"i\"},\"type\":\"info\"}],\"kind\":null,\"name\":\"types\"}]},{\"extends\":null,\"module\":null,\"name\":\"Notification\",\"overrides\":[],\"properties\":[{\"default\":null,\"kind\":null,\"name\":\"background\"},{\"default\":3000,\"kind\":null,\"name\":\"duration\"},{\"default\":null,\"kind\":null,\"name\":\"icon\"},{\"default\":\"\",\"kind\":null,\"name\":\"message\"},{\"default\":null,\"kind\":null,\"name\":\"notification_type\"},{\"default\":false,\"kind\":null,\"name\":\"_destroyed\"}]},{\"extends\":null,\"module\":null,\"name\":\"TemplateActions1\",\"overrides\":[],\"properties\":[{\"default\":0,\"kind\":null,\"name\":\"open_modal\"},{\"default\":0,\"kind\":null,\"name\":\"close_modal\"}]},{\"extends\":null,\"module\":null,\"name\":\"MaterialTemplateActions1\",\"overrides\":[],\"properties\":[{\"default\":0,\"kind\":null,\"name\":\"open_modal\"},{\"default\":0,\"kind\":null,\"name\":\"close_modal\"}]}],\"roots\":{\"references\":[{\"attributes\":{\"below\":[{\"id\":\"55738\"}],\"center\":[{\"id\":\"55741\"},{\"id\":\"55745\"},{\"id\":\"55766\"},{\"id\":\"55767\"}],\"height\":400,\"left\":[{\"id\":\"55742\"}],\"renderers\":[{\"id\":\"55764\"}],\"title\":{\"id\":\"56796\"},\"toolbar\":{\"id\":\"55753\"},\"width\":800,\"x_range\":{\"id\":\"55730\"},\"x_scale\":{\"id\":\"55734\"},\"y_range\":{\"id\":\"55732\"},\"y_scale\":{\"id\":\"55736\"}},\"id\":\"55729\",\"subtype\":\"Figure\",\"type\":\"Plot\"},{\"attributes\":{},\"id\":\"55734\",\"type\":\"LinearScale\"},{\"attributes\":{},\"id\":\"55751\",\"type\":\"HelpTool\"},{\"attributes\":{},\"id\":\"55739\",\"type\":\"BasicTicker\"},{\"attributes\":{\"coordinates\":null,\"formatter\":{\"id\":\"56799\"},\"group\":null,\"major_label_policy\":{\"id\":\"56800\"},\"ticker\":{\"id\":\"55743\"}},\"id\":\"55742\",\"type\":\"LinearAxis\"},{\"attributes\":{\"axis\":{\"id\":\"55738\"},\"coordinates\":null,\"group\":null,\"ticker\":null},\"id\":\"55741\",\"type\":\"Grid\"},{\"attributes\":{\"axis\":{\"id\":\"55742\"},\"coordinates\":null,\"dimension\":1,\"group\":null,\"ticker\":null},\"id\":\"55745\",\"type\":\"Grid\"},{\"attributes\":{},\"id\":\"55736\",\"type\":\"LinearScale\"},{\"attributes\":{},\"id\":\"55743\",\"type\":\"BasicTicker\"},{\"attributes\":{\"axis_label\":\"t\",\"coordinates\":null,\"formatter\":{\"id\":\"56802\"},\"group\":null,\"major_label_policy\":{\"id\":\"56803\"},\"ticker\":{\"id\":\"55739\"}},\"id\":\"55738\",\"type\":\"LinearAxis\"},{\"attributes\":{},\"id\":\"55747\",\"type\":\"WheelZoomTool\"},{\"attributes\":{},\"id\":\"56805\",\"type\":\"Selection\"},{\"attributes\":{},\"id\":\"55746\",\"type\":\"PanTool\"},{\"attributes\":{\"overlay\":{\"id\":\"55752\"}},\"id\":\"55748\",\"type\":\"BoxZoomTool\"},{\"attributes\":{\"coordinates\":null,\"dimension\":\"height\",\"group\":null,\"line_dash\":[6],\"location\":16},\"id\":\"55767\",\"type\":\"Span\"},{\"attributes\":{},\"id\":\"56800\",\"type\":\"AllLabels\"},{\"attributes\":{},\"id\":\"55749\",\"type\":\"SaveTool\"},{\"attributes\":{},\"id\":\"55750\",\"type\":\"ResetTool\"},{\"attributes\":{},\"id\":\"56802\",\"type\":\"BasicTickFormatter\"},{\"attributes\":{\"coordinates\":null,\"dimension\":\"height\",\"group\":null,\"line_dash\":[6],\"location\":4},\"id\":\"55766\",\"type\":\"Span\"},{\"attributes\":{\"coordinates\":null,\"data_source\":{\"id\":\"55760\"},\"glyph\":{\"id\":\"55761\"},\"group\":null,\"hover_glyph\":null,\"muted_glyph\":{\"id\":\"55763\"},\"nonselection_glyph\":{\"id\":\"55762\"},\"view\":{\"id\":\"55765\"}},\"id\":\"55764\",\"type\":\"GlyphRenderer\"},{\"attributes\":{\"bottom_units\":\"screen\",\"coordinates\":null,\"fill_alpha\":0.5,\"fill_color\":\"lightgrey\",\"group\":null,\"left_units\":\"screen\",\"level\":\"overlay\",\"line_alpha\":1.0,\"line_color\":\"black\",\"line_dash\":[4,4],\"line_width\":2,\"right_units\":\"screen\",\"syncable\":false,\"top_units\":\"screen\"},\"id\":\"55752\",\"type\":\"BoxAnnotation\"},{\"attributes\":{},\"id\":\"56804\",\"type\":\"UnionRenderers\"},{\"attributes\":{\"data\":{\"x\":{\"__ndarray__\":\"AAAAAAAAAAAAAAAAAADQPwAAAAAAAOA/AAAAAAAA6D8AAAAAAADwPwAAAAAAAPQ/AAAAAAAA+D8AAAAAAAD8PwAAAAAAAABAAAAAAAAAAkAAAAAAAAAEQAAAAAAAAAZAAAAAAAAACEAAAAAAAAAKQAAAAAAAAAxAAAAAAAAADkAAAAAAAAAQQAAAAAAAABFAAAAAAAAAEkAAAAAAAAATQAAAAAAAABRAAAAAAAAAFUAAAAAAAAAWQAAAAAAAABdAAAAAAAAAGEAAAAAAAAAZQAAAAAAAABpAAAAAAAAAG0AAAAAAAAAcQAAAAAAAAB1AAAAAAAAAHkAAAAAAAAAfQAAAAAAAACBAAAAAAACAIEAAAAAAAAAhQAAAAAAAgCFAAAAAAAAAIkAAAAAAAIAiQAAAAAAAACNAAAAAAACAI0AAAAAAAAAkQAAAAAAAgCRAAAAAAAAAJUAAAAAAAIAlQAAAAAAAACZAAAAAAACAJkAAAAAAAAAnQAAAAAAAgCdAAAAAAAAAKEAAAAAAAIAoQAAAAAAAAClAAAAAAACAKUAAAAAAAAAqQAAAAAAAgCpAAAAAAAAAK0AAAAAAAIArQAAAAAAAACxAAAAAAACALEAAAAAAAAAtQAAAAAAAgC1AAAAAAAAALkAAAAAAAIAuQAAAAAAAAC9AAAAAAACAL0AAAAAAAAAwQAAAAAAAQDBAAAAAAACAMEAAAAAAAMAwQAAAAAAAADFAAAAAAABAMUAAAAAAAIAxQAAAAAAAwDFAAAAAAAAAMkAAAAAAAEAyQAAAAAAAgDJAAAAAAADAMkAAAAAAAAAzQAAAAAAAQDNAAAAAAACAM0AAAAAAAMAzQAAAAAAAADRAAAAAAABANEAAAAAAAIA0QAAAAAAAwDRAAAAAAAAANUAAAAAAAEA1QAAAAAAAgDVAAAAAAADANUAAAAAAAAA2QAAAAAAAQDZAAAAAAACANkAAAAAAAMA2QAAAAAAAADdAAAAAAABAN0AAAAAAAIA3QAAAAAAAwDdAAAAAAAAAOEAAAAAAAEA4QAAAAAAAgDhAAAAAAADAOEAAAAAAAAA5QAAAAAAAQDlAAAAAAACAOUAAAAAAAMA5QAAAAAAAADpAAAAAAABAOkAAAAAAAIA6QAAAAAAAwDpAAAAAAAAAO0AAAAAAAEA7QAAAAAAAgDtAAAAAAADAO0AAAAAAAAA8QAAAAAAAQDxAAAAAAACAPEAAAAAAAMA8QAAAAAAAAD1AAAAAAABAPUAAAAAAAIA9QAAAAAAAwD1AAAAAAAAAPkA=\",\"dtype\":\"float64\",\"order\":\"little\",\"shape\":[121]},\"y\":{\"__ndarray__\":\"AAAAAAAAWUAAAAAAAABZQCyGroPdsVJAkkQwEuGdREDK9osAAAA0QMbj/////zNAxOX/////M0BD4v////8zQF3h/////zNAJOH/////M0BI4f////8zQMLb/////zNAP+P/////M0A74v////8zQIvh/////zNAEuH/////M0C+4P////8zQITg/////zNAXOD/////M0BB4P////8zQC3g/////zNAIOD/////M0AX4P////8zQBDg/////zNADOD/////M0AI4P////8zQAbg/////zNABeD/////M0AE4P////8zQAPg/////zNAA+D/////M0AC4P////8zQALg/////zNAAuD/////M0AC4P////8zQALg/////zNAAeD/////M0AB4P////8zQAHg/////zNAAeD/////M0AB4P////8zQAHg/////zNAAeD/////M0AB4P////8zQAHg/////zNAAeD/////M0AB4P////8zQAHg/////zNAAeD/////M0AB4P////8zQAHg/////zNAAeD/////M0AB4P////8zQAHg/////zNAAeD/////M0AB4P////8zQAHg/////zNAAeD/////M0AB4P////8zQAHg/////zNAAeD/////M0AB4P////8zQAHg/////zNAAeD/////M0AB4P////8zQAHg/////zNAAeD/////M0AB4P////8zQAHg/////zNAAeD/////M0AB4P////8zQAHg/////zNAAeD/////M0AB4P////8zQAHg/////zNAAeD/////M0AB4P////8zQAHg/////zNAAeD/////M0AB4P////8zQAHg/////zNAAeD/////M0AB4P////8zQAHg/////zNAAeD/////M0AB4P////8zQAHg/////zNAAeD/////M0AB4P////8zQAHg/////zNAAeD/////M0AB4P////8zQAHg/////zNAAeD/////M0AB4P////8zQAHg/////zNAAeD/////M0AB4P////8zQAHg/////zNAAeD/////M0AB4P////8zQAHg/////zNAAeD/////M0AB4P////8zQAHg/////zNAAeD/////M0AB4P////8zQAHg/////zNAAeD/////M0AB4P////8zQAHg/////zNAAeD/////M0AB4P////8zQAHg/////zNAAeD/////M0AB4P////8zQAHg/////zNAAeD/////M0AB4P////8zQAHg/////zNAAeD/////M0A=\",\"dtype\":\"float64\",\"order\":\"little\",\"shape\":[121]}},\"selected\":{\"id\":\"56805\"},\"selection_policy\":{\"id\":\"56804\"}},\"id\":\"55760\",\"type\":\"ColumnDataSource\"},{\"attributes\":{},\"id\":\"56799\",\"type\":\"BasicTickFormatter\"},{\"attributes\":{\"coordinates\":null,\"group\":null},\"id\":\"56796\",\"type\":\"Title\"},{\"attributes\":{},\"id\":\"55730\",\"type\":\"DataRange1d\"},{\"attributes\":{\"line_color\":\"#1f77b4\",\"line_width\":2,\"x\":{\"field\":\"x\"},\"y\":{\"field\":\"y\"}},\"id\":\"55761\",\"type\":\"Line\"},{\"attributes\":{\"tools\":[{\"id\":\"55746\"},{\"id\":\"55747\"},{\"id\":\"55748\"},{\"id\":\"55749\"},{\"id\":\"55750\"},{\"id\":\"55751\"}]},\"id\":\"55753\",\"type\":\"Toolbar\"},{\"attributes\":{\"line_alpha\":0.1,\"line_color\":\"#1f77b4\",\"line_width\":2,\"x\":{\"field\":\"x\"},\"y\":{\"field\":\"y\"}},\"id\":\"55762\",\"type\":\"Line\"},{\"attributes\":{\"source\":{\"id\":\"55760\"}},\"id\":\"55765\",\"type\":\"CDSView\"},{\"attributes\":{},\"id\":\"56803\",\"type\":\"AllLabels\"},{\"attributes\":{},\"id\":\"55732\",\"type\":\"DataRange1d\"},{\"attributes\":{\"line_alpha\":0.2,\"line_color\":\"#1f77b4\",\"line_width\":2,\"x\":{\"field\":\"x\"},\"y\":{\"field\":\"y\"}},\"id\":\"55763\",\"type\":\"Line\"}],\"root_ids\":[\"55729\"]},\"title\":\"Bokeh Application\",\"version\":\"2.4.1\"}};\n  const render_items = [{\"docid\":\"47a89308-93a0-45e8-a91b-7a35f61b8d3b\",\"root_ids\":[\"55729\"],\"roots\":{\"55729\":\"c0c62fe5-d6ca-4416-870a-205400e79948\"}}];\n  root.Bokeh.embed.embed_items_notebook(docs_json, render_items);\n\n  }\n  if (root.Bokeh !== undefined) {\n    embed_document(root);\n  } else {\n    let attempts = 0;\n    const timer = setInterval(function(root) {\n      if (root.Bokeh !== undefined) {\n        clearInterval(timer);\n        embed_document(root);\n      } else {\n        attempts++;\n        if (attempts > 100) {\n          clearInterval(timer);\n          console.log(\"Bokeh: ERROR: Unable to run BokehJS code because BokehJS library is missing\");\n        }\n      }\n    }, 10, root)\n  }\n})(window);",
      "application/vnd.bokehjs_exec.v0+json": ""
     },
     "metadata": {
      "application/vnd.bokehjs_exec.v0+json": {
       "id": "55729"
      }
     },
     "output_type": "display_data"
    },
    {
     "name": "stdout",
     "output_type": "stream",
     "text": [
      "[100.         100.          74.77914516  41.23343112  20.00000003\n",
      "  20.          20.          20.          20.          20.\n",
      "  20.          20.          20.          20.          20.\n",
      "  20.          20.          20.          20.          20.\n",
      "  20.          20.          20.          20.          20.\n",
      "  20.          20.          20.          20.          20.\n",
      "  20.          20.          20.          20.          20.\n",
      "  20.          20.          20.          20.          20.\n",
      "  20.          20.          20.          20.          20.\n",
      "  20.          20.          20.          20.          20.\n",
      "  20.          20.          20.          20.          20.\n",
      "  20.          20.          20.          20.          20.\n",
      "  20.          20.          20.          20.          20.\n",
      "  20.          20.          20.          20.          20.\n",
      "  20.          20.          20.          20.          20.\n",
      "  20.          20.          20.          20.          20.\n",
      "  20.          20.          20.          20.          20.\n",
      "  20.          20.          20.          20.          20.\n",
      "  20.          20.          20.          20.          20.\n",
      "  20.          20.          20.          20.          20.\n",
      "  20.          20.          20.          20.          20.\n",
      "  20.          20.          20.          20.          20.\n",
      "  20.          20.          20.          20.          20.\n",
      "  20.          20.          20.          20.          20.\n",
      "  20.        ]\n"
     ]
    }
   ],
   "source": [
    "#Positive control\n",
    "T7_DNA.ic = 0\n",
    "T7_DNA.lc = 0\n",
    "\n",
    "#initial value\n",
    "molecules_0 = [None]*len(molecules_list) #create empty list\n",
    "\n",
    "\n",
    "for i in range(0,len(molecules_list)):\n",
    "    molecules_0[i] = molecules_list[i].ic\n",
    "\n",
    "#stage 1 kick start\n",
    "result_all=[molecules_0] #initial condition\n",
    "\n",
    "\n",
    "#kick start\n",
    "dilution_list = [T7_RNA,T7,GFP,GFP_RNA,R]\n",
    "replenish_list = [T7,R]\n",
    "result_all,molecules_0 = run_model(Repressor_model,(0,4),parameters_list,molecules_0,dilution_list,replenish_list,result_all)\n",
    "\n",
    "\n",
    "#self regeneration \n",
    "dilution_list = [T7_RNA,T7,GFP,GFP_RNA,R]\n",
    "replenish_list = [T7,R]\n",
    "result_all,molecules_0 = run_model(Repressor_model,(4,16),parameters_list,molecules_0,dilution_list,replenish_list,result_all)\n",
    "\n",
    "\n",
    "\n",
    "#wash out\n",
    "dilution_list = [T7_RNA,T7,GFP,GFP_RNA,R]\n",
    "replenish_list = [T7,R]\n",
    "\n",
    "result_all,molecules_0=run_model(Repressor_model,(16,30),parameters_list,molecules_0,dilution_list,replenish_list,result_all)\n",
    "\n",
    "\n",
    "\n",
    "result_all = np.resize(result_all,(121,7))\n",
    "for i in range(0,len(molecules_list)):\n",
    "        (molecules_list[i]).pc_result = result_all.transpose()[i]\n",
    "\n",
    "#T7_DNA,T7_RNA,T7,GFP_DNA,GFP_RNA,GFP,R = result_all.transpose()\n",
    "plot_result(R.pc_result)\n",
    "print(R.pc_result)\n"
   ]
  },
  {
   "cell_type": "code",
   "execution_count": 183,
   "metadata": {},
   "outputs": [
    {
     "data": {
      "text/html": [
       "\n",
       "\n",
       "\n",
       "\n",
       "\n",
       "\n",
       "  <div class=\"bk-root\" id=\"2f1efa3a-12b9-45ba-9d6b-d8f12c78b94e\" data-root-id=\"73232\"></div>\n"
      ]
     },
     "metadata": {},
     "output_type": "display_data"
    },
    {
     "data": {
      "application/javascript": "(function(root) {\n  function embed_document(root) {\n    \n  const docs_json = {\"e4ededd2-faa7-496a-b490-88430cde1d00\":{\"defs\":[{\"extends\":null,\"module\":null,\"name\":\"ReactiveHTML1\",\"overrides\":[],\"properties\":[]},{\"extends\":null,\"module\":null,\"name\":\"FlexBox1\",\"overrides\":[],\"properties\":[{\"default\":\"flex-start\",\"kind\":null,\"name\":\"align_content\"},{\"default\":\"flex-start\",\"kind\":null,\"name\":\"align_items\"},{\"default\":\"row\",\"kind\":null,\"name\":\"flex_direction\"},{\"default\":\"wrap\",\"kind\":null,\"name\":\"flex_wrap\"},{\"default\":\"flex-start\",\"kind\":null,\"name\":\"justify_content\"}]},{\"extends\":null,\"module\":null,\"name\":\"GridStack1\",\"overrides\":[],\"properties\":[{\"default\":\"warn\",\"kind\":null,\"name\":\"mode\"},{\"default\":null,\"kind\":null,\"name\":\"ncols\"},{\"default\":null,\"kind\":null,\"name\":\"nrows\"},{\"default\":true,\"kind\":null,\"name\":\"allow_resize\"},{\"default\":true,\"kind\":null,\"name\":\"allow_drag\"},{\"default\":[],\"kind\":null,\"name\":\"state\"}]},{\"extends\":null,\"module\":null,\"name\":\"click1\",\"overrides\":[],\"properties\":[{\"default\":\"\",\"kind\":null,\"name\":\"terminal_output\"},{\"default\":\"\",\"kind\":null,\"name\":\"debug_name\"},{\"default\":0,\"kind\":null,\"name\":\"clears\"}]},{\"extends\":null,\"module\":null,\"name\":\"NotificationAreaBase1\",\"overrides\":[],\"properties\":[{\"default\":\"bottom-right\",\"kind\":null,\"name\":\"position\"},{\"default\":0,\"kind\":null,\"name\":\"_clear\"}]},{\"extends\":null,\"module\":null,\"name\":\"NotificationArea1\",\"overrides\":[],\"properties\":[{\"default\":[],\"kind\":null,\"name\":\"notifications\"},{\"default\":\"bottom-right\",\"kind\":null,\"name\":\"position\"},{\"default\":0,\"kind\":null,\"name\":\"_clear\"},{\"default\":[{\"background\":\"#ffc107\",\"icon\":{\"className\":\"fas fa-exclamation-triangle\",\"color\":\"white\",\"tagName\":\"i\"},\"type\":\"warning\"},{\"background\":\"#007bff\",\"icon\":{\"className\":\"fas fa-info-circle\",\"color\":\"white\",\"tagName\":\"i\"},\"type\":\"info\"}],\"kind\":null,\"name\":\"types\"}]},{\"extends\":null,\"module\":null,\"name\":\"Notification\",\"overrides\":[],\"properties\":[{\"default\":null,\"kind\":null,\"name\":\"background\"},{\"default\":3000,\"kind\":null,\"name\":\"duration\"},{\"default\":null,\"kind\":null,\"name\":\"icon\"},{\"default\":\"\",\"kind\":null,\"name\":\"message\"},{\"default\":null,\"kind\":null,\"name\":\"notification_type\"},{\"default\":false,\"kind\":null,\"name\":\"_destroyed\"}]},{\"extends\":null,\"module\":null,\"name\":\"TemplateActions1\",\"overrides\":[],\"properties\":[{\"default\":0,\"kind\":null,\"name\":\"open_modal\"},{\"default\":0,\"kind\":null,\"name\":\"close_modal\"}]},{\"extends\":null,\"module\":null,\"name\":\"MaterialTemplateActions1\",\"overrides\":[],\"properties\":[{\"default\":0,\"kind\":null,\"name\":\"open_modal\"},{\"default\":0,\"kind\":null,\"name\":\"close_modal\"}]}],\"roots\":{\"references\":[{\"attributes\":{\"below\":[{\"id\":\"73241\"}],\"center\":[{\"id\":\"73244\"},{\"id\":\"73248\"},{\"id\":\"73269\"},{\"id\":\"73270\"}],\"height\":400,\"left\":[{\"id\":\"73245\"}],\"renderers\":[{\"id\":\"73267\"}],\"title\":{\"id\":\"74501\"},\"toolbar\":{\"id\":\"73256\"},\"width\":800,\"x_range\":{\"id\":\"73233\"},\"x_scale\":{\"id\":\"73237\"},\"y_range\":{\"id\":\"73235\"},\"y_scale\":{\"id\":\"73239\"}},\"id\":\"73232\",\"subtype\":\"Figure\",\"type\":\"Plot\"},{\"attributes\":{},\"id\":\"73239\",\"type\":\"LinearScale\"},{\"attributes\":{\"coordinates\":null,\"dimension\":\"height\",\"group\":null,\"line_dash\":[6],\"location\":16},\"id\":\"73270\",\"type\":\"Span\"},{\"attributes\":{\"axis\":{\"id\":\"73241\"},\"coordinates\":null,\"group\":null,\"ticker\":null},\"id\":\"73244\",\"type\":\"Grid\"},{\"attributes\":{\"axis\":{\"id\":\"73245\"},\"coordinates\":null,\"dimension\":1,\"group\":null,\"ticker\":null},\"id\":\"73248\",\"type\":\"Grid\"},{\"attributes\":{},\"id\":\"74509\",\"type\":\"UnionRenderers\"},{\"attributes\":{\"coordinates\":null,\"formatter\":{\"id\":\"74504\"},\"group\":null,\"major_label_policy\":{\"id\":\"74505\"},\"ticker\":{\"id\":\"73246\"}},\"id\":\"73245\",\"type\":\"LinearAxis\"},{\"attributes\":{},\"id\":\"74504\",\"type\":\"BasicTickFormatter\"},{\"attributes\":{\"line_alpha\":0.2,\"line_color\":\"#1f77b4\",\"line_width\":2,\"x\":{\"field\":\"x\"},\"y\":{\"field\":\"y\"}},\"id\":\"73266\",\"type\":\"Line\"},{\"attributes\":{},\"id\":\"74505\",\"type\":\"AllLabels\"},{\"attributes\":{\"coordinates\":null,\"data_source\":{\"id\":\"73263\"},\"glyph\":{\"id\":\"73264\"},\"group\":null,\"hover_glyph\":null,\"muted_glyph\":{\"id\":\"73266\"},\"nonselection_glyph\":{\"id\":\"73265\"},\"view\":{\"id\":\"73268\"}},\"id\":\"73267\",\"type\":\"GlyphRenderer\"},{\"attributes\":{\"overlay\":{\"id\":\"73255\"}},\"id\":\"73251\",\"type\":\"BoxZoomTool\"},{\"attributes\":{},\"id\":\"74507\",\"type\":\"BasicTickFormatter\"},{\"attributes\":{\"bottom_units\":\"screen\",\"coordinates\":null,\"fill_alpha\":0.5,\"fill_color\":\"lightgrey\",\"group\":null,\"left_units\":\"screen\",\"level\":\"overlay\",\"line_alpha\":1.0,\"line_color\":\"black\",\"line_dash\":[4,4],\"line_width\":2,\"right_units\":\"screen\",\"syncable\":false,\"top_units\":\"screen\"},\"id\":\"73255\",\"type\":\"BoxAnnotation\"},{\"attributes\":{},\"id\":\"74510\",\"type\":\"Selection\"},{\"attributes\":{\"axis_label\":\"t\",\"coordinates\":null,\"formatter\":{\"id\":\"74507\"},\"group\":null,\"major_label_policy\":{\"id\":\"74508\"},\"ticker\":{\"id\":\"73242\"}},\"id\":\"73241\",\"type\":\"LinearAxis\"},{\"attributes\":{},\"id\":\"74508\",\"type\":\"AllLabels\"},{\"attributes\":{\"line_alpha\":0.1,\"line_color\":\"#1f77b4\",\"line_width\":2,\"x\":{\"field\":\"x\"},\"y\":{\"field\":\"y\"}},\"id\":\"73265\",\"type\":\"Line\"},{\"attributes\":{},\"id\":\"73237\",\"type\":\"LinearScale\"},{\"attributes\":{},\"id\":\"73253\",\"type\":\"ResetTool\"},{\"attributes\":{},\"id\":\"73242\",\"type\":\"BasicTicker\"},{\"attributes\":{},\"id\":\"73250\",\"type\":\"WheelZoomTool\"},{\"attributes\":{\"line_color\":\"#1f77b4\",\"line_width\":2,\"x\":{\"field\":\"x\"},\"y\":{\"field\":\"y\"}},\"id\":\"73264\",\"type\":\"Line\"},{\"attributes\":{\"tools\":[{\"id\":\"73249\"},{\"id\":\"73250\"},{\"id\":\"73251\"},{\"id\":\"73252\"},{\"id\":\"73253\"},{\"id\":\"73254\"}]},\"id\":\"73256\",\"type\":\"Toolbar\"},{\"attributes\":{},\"id\":\"73246\",\"type\":\"BasicTicker\"},{\"attributes\":{\"coordinates\":null,\"group\":null},\"id\":\"74501\",\"type\":\"Title\"},{\"attributes\":{},\"id\":\"73235\",\"type\":\"DataRange1d\"},{\"attributes\":{},\"id\":\"73249\",\"type\":\"PanTool\"},{\"attributes\":{},\"id\":\"73233\",\"type\":\"DataRange1d\"},{\"attributes\":{\"source\":{\"id\":\"73263\"}},\"id\":\"73268\",\"type\":\"CDSView\"},{\"attributes\":{\"data\":{\"x\":{\"__ndarray__\":\"AAAAAAAAAAAAAAAAAADQPwAAAAAAAOA/AAAAAAAA6D8AAAAAAADwPwAAAAAAAPQ/AAAAAAAA+D8AAAAAAAD8PwAAAAAAAABAAAAAAAAAAkAAAAAAAAAEQAAAAAAAAAZAAAAAAAAACEAAAAAAAAAKQAAAAAAAAAxAAAAAAAAADkAAAAAAAAAQQAAAAAAAABFAAAAAAAAAEkAAAAAAAAATQAAAAAAAABRAAAAAAAAAFUAAAAAAAAAWQAAAAAAAABdAAAAAAAAAGEAAAAAAAAAZQAAAAAAAABpAAAAAAAAAG0AAAAAAAAAcQAAAAAAAAB1AAAAAAAAAHkAAAAAAAAAfQAAAAAAAACBAAAAAAACAIEAAAAAAAAAhQAAAAAAAgCFAAAAAAAAAIkAAAAAAAIAiQAAAAAAAACNAAAAAAACAI0AAAAAAAAAkQAAAAAAAgCRAAAAAAAAAJUAAAAAAAIAlQAAAAAAAACZAAAAAAACAJkAAAAAAAAAnQAAAAAAAgCdAAAAAAAAAKEAAAAAAAIAoQAAAAAAAAClAAAAAAACAKUAAAAAAAAAqQAAAAAAAgCpAAAAAAAAAK0AAAAAAAIArQAAAAAAAACxAAAAAAACALEAAAAAAAAAtQAAAAAAAgC1AAAAAAAAALkAAAAAAAIAuQAAAAAAAAC9AAAAAAACAL0AAAAAAAAAwQAAAAAAAQDBAAAAAAACAMEAAAAAAAMAwQAAAAAAAADFAAAAAAABAMUAAAAAAAIAxQAAAAAAAwDFAAAAAAAAAMkAAAAAAAEAyQAAAAAAAgDJAAAAAAADAMkAAAAAAAAAzQAAAAAAAQDNAAAAAAACAM0AAAAAAAMAzQAAAAAAAADRAAAAAAABANEAAAAAAAIA0QAAAAAAAwDRAAAAAAAAANUAAAAAAAEA1QAAAAAAAgDVAAAAAAADANUAAAAAAAAA2QAAAAAAAQDZAAAAAAACANkAAAAAAAMA2QAAAAAAAADdAAAAAAABAN0AAAAAAAIA3QAAAAAAAwDdAAAAAAAAAOEAAAAAAAEA4QAAAAAAAgDhAAAAAAADAOEAAAAAAAAA5QAAAAAAAQDlAAAAAAACAOUAAAAAAAMA5QAAAAAAAADpAAAAAAABAOkAAAAAAAIA6QAAAAAAAwDpAAAAAAAAAO0AAAAAAAEA7QAAAAAAAgDtAAAAAAADAO0AAAAAAAAA8QAAAAAAAQDxAAAAAAACAPEAAAAAAAMA8QAAAAAAAAD1AAAAAAABAPUAAAAAAAIA9QAAAAAAAwD1AAAAAAAAAPkA=\",\"dtype\":\"float64\",\"order\":\"little\",\"shape\":[121]},\"y\":{\"__ndarray__\":\"AAAAAAAAAAAAAAAAAAAAAE4cNtl2OyFAdauvPQ0GPUC+CDfBR1BGQLN0xavvIEdAIz/FiiC1R0C3HmTSyR1IQNiI/6ZlZ0hAxF0H1QGbSECS50LPHL9IQEYzybZU2EhAngrX2OzpSEBAEQrFMPZIQIZuknK8/khAxe7pEbAESUAA/GXq1AhJQMF+gme3C0lAqAPga7kNSUBmLywAQ3BJQK07RgxsEEpAzHfem83VSkCNbCopVK9LQLDItGsbkUxAQHJ4mPByTUASf/0cAE9OQAq61wQNHE9AZ8tj77WtT0CQ8G9LhMhPQIwl1bxCXk9Ad5VQFvZ4TkAl/3IEAS1NQCVxVJR8kktAPAGQVHXBSUAIGfQez89HQFxebqo+0EVAYB1P5/XRQ0Drs5qfu+BBQJCDB3Y9BUBA4NZ0/PiKPEAAdYHdgUo5QNV6P+USTTZA5DDHI+CTM0CbRpLqAx4xQED0QnAl0i1AvTfxPSnjKUDoyTcdzWYmQBBRMvMMVCNAOaHk85qhIEBk/UXja4wcQGhdJXjOcRhAHo8V2lniFED0aSLQKc4RQEQjYswvTQ5AsBYG14+8CUBkkAK4TtIFQFQB7QrHeAJAh/g3lGU5/z+FDZozBlr6P0z1uk1nNfY/U8BObzix8j8q/upUCW3vP00oW4mxYuo/NE/sE9wg5j89yavEtYniPxRgtBQnB98/r3g1GNvw2T9kLlrIzqrVP78ujRTKFNI/FIhI9K4mzj/tBWtPOB7JP/AotzSJ6MQ/4jiRoQdkwT/QzB7VjOi8P3DPNsiFArg/0C+z93ntsz8Qftg8TYewP+AGUSaeZqs/Hbi6wcuypj/FuThwssqiPyUJqqHbGJ8/ih40yzy3mT8P/tqRE0GVP7plXA26jpE/nb4CqjD+jD+CLz/vKu2HP7382tFlvIM/axwyCJhFgD+ahT+m0NF6PxThKRu7F3Y/KgyDFvUwcj8UizLA+/FtP20Qgb0co2g/lJl/DBtDZD8D0w2sYahgP5Q28VAHYVs/INrsKQp+Vj/Nl+Xlr3hSP+eqNCYSVE4/oIw3JtjjSD/tWbX7lWtEP+dmLCJ4v0A/Wv9k/LB2Oz/Au48+04I2P2AR3bc4cjI/wE0Yvtc4Lj/Ab+GLOcAoP02w9JzBQyQ/APbrtlOWID8NWan8rSUbP4dwfQ2ZNRY/zfZu8EkqEj/Ni7uaKbUNP62aQkpVSQg/Z6BVVJXZAz+QgB4OXTgAP+CuTC+dgPo+miRNAoql9T5tc8RSQa3xPmDbgc8o3ew+2lfY7YmP5z4=\",\"dtype\":\"float64\",\"order\":\"little\",\"shape\":[121]}},\"selected\":{\"id\":\"74510\"},\"selection_policy\":{\"id\":\"74509\"}},\"id\":\"73263\",\"type\":\"ColumnDataSource\"},{\"attributes\":{},\"id\":\"73254\",\"type\":\"HelpTool\"},{\"attributes\":{\"coordinates\":null,\"dimension\":\"height\",\"group\":null,\"line_dash\":[6],\"location\":4},\"id\":\"73269\",\"type\":\"Span\"},{\"attributes\":{},\"id\":\"73252\",\"type\":\"SaveTool\"}],\"root_ids\":[\"73232\"]},\"title\":\"Bokeh Application\",\"version\":\"2.4.1\"}};\n  const render_items = [{\"docid\":\"e4ededd2-faa7-496a-b490-88430cde1d00\",\"root_ids\":[\"73232\"],\"roots\":{\"73232\":\"2f1efa3a-12b9-45ba-9d6b-d8f12c78b94e\"}}];\n  root.Bokeh.embed.embed_items_notebook(docs_json, render_items);\n\n  }\n  if (root.Bokeh !== undefined) {\n    embed_document(root);\n  } else {\n    let attempts = 0;\n    const timer = setInterval(function(root) {\n      if (root.Bokeh !== undefined) {\n        clearInterval(timer);\n        embed_document(root);\n      } else {\n        attempts++;\n        if (attempts > 100) {\n          clearInterval(timer);\n          console.log(\"Bokeh: ERROR: Unable to run BokehJS code because BokehJS library is missing\");\n        }\n      }\n    }, 10, root)\n  }\n})(window);",
      "application/vnd.bokehjs_exec.v0+json": ""
     },
     "metadata": {
      "application/vnd.bokehjs_exec.v0+json": {
       "id": "73232"
      }
     },
     "output_type": "display_data"
    }
   ],
   "source": [
    "#Negative control\n",
    "T7_DNA.ic = 0\n",
    "T7_DNA.lc = 0\n",
    "\n",
    "#initial value\n",
    "molecules_0 = [None]*len(molecules_list) #create empty list\n",
    "\n",
    "\n",
    "for i in range(0,len(molecules_list)):\n",
    "    molecules_0[i] = molecules_list[i].ic\n",
    "\n",
    "#stage 1 kick start\n",
    "result_all=[molecules_0] #initial condition\n",
    "\n",
    "\n",
    "#kick start\n",
    "dilution_list = [T7_RNA,T7,GFP,GFP_RNA,R]\n",
    "replenish_list = [T7,R]\n",
    "result_all,molecules_0 = run_model(Repressor_model,(0,4),parameters_list,molecules_0,dilution_list,replenish_list,result_all)\n",
    "\n",
    "\n",
    "#self regeneration \n",
    "dilution_list = [T7_RNA,T7,GFP,GFP_RNA,R]\n",
    "replenish_list = [R]\n",
    "result_all,molecules_0 = run_model(Repressor_model,(4,16),parameters_list,molecules_0,dilution_list,replenish_list,result_all)\n",
    "\n",
    "\n",
    "\n",
    "#wash out\n",
    "dilution_list = [T7_RNA,T7,GFP,GFP_RNA,R]\n",
    "replenish_list = [R]\n",
    "\n",
    "result_all,molecules_0=run_model(Repressor_model,(16,30),parameters_list,molecules_0,dilution_list,replenish_list,result_all)\n",
    "\n",
    "\n",
    "\n",
    "result_all = np.resize(result_all,(121,7))\n",
    "for i in range(0,len(molecules_list)):\n",
    "        (molecules_list[i]).nc_result = result_all.transpose()[i]\n",
    "\n",
    "#T7_DNA,T7_RNA,T7,GFP_DNA,GFP_RNA,GFP,R = result_all.transpose()\n",
    "plot_result(GFP.nc_result)"
   ]
  },
  {
   "cell_type": "code",
   "execution_count": 189,
   "metadata": {},
   "outputs": [
    {
     "data": {
      "text/html": [
       "\n",
       "\n",
       "\n",
       "\n",
       "\n",
       "\n",
       "  <div class=\"bk-root\" id=\"5537d853-03e4-44c4-9cff-339d25df86b5\" data-root-id=\"80201\"></div>\n"
      ]
     },
     "metadata": {},
     "output_type": "display_data"
    },
    {
     "data": {
      "application/javascript": "(function(root) {\n  function embed_document(root) {\n    \n  const docs_json = {\"10a33fcf-d02e-4763-93a6-05fb8c72c50c\":{\"defs\":[{\"extends\":null,\"module\":null,\"name\":\"ReactiveHTML1\",\"overrides\":[],\"properties\":[]},{\"extends\":null,\"module\":null,\"name\":\"FlexBox1\",\"overrides\":[],\"properties\":[{\"default\":\"flex-start\",\"kind\":null,\"name\":\"align_content\"},{\"default\":\"flex-start\",\"kind\":null,\"name\":\"align_items\"},{\"default\":\"row\",\"kind\":null,\"name\":\"flex_direction\"},{\"default\":\"wrap\",\"kind\":null,\"name\":\"flex_wrap\"},{\"default\":\"flex-start\",\"kind\":null,\"name\":\"justify_content\"}]},{\"extends\":null,\"module\":null,\"name\":\"GridStack1\",\"overrides\":[],\"properties\":[{\"default\":\"warn\",\"kind\":null,\"name\":\"mode\"},{\"default\":null,\"kind\":null,\"name\":\"ncols\"},{\"default\":null,\"kind\":null,\"name\":\"nrows\"},{\"default\":true,\"kind\":null,\"name\":\"allow_resize\"},{\"default\":true,\"kind\":null,\"name\":\"allow_drag\"},{\"default\":[],\"kind\":null,\"name\":\"state\"}]},{\"extends\":null,\"module\":null,\"name\":\"click1\",\"overrides\":[],\"properties\":[{\"default\":\"\",\"kind\":null,\"name\":\"terminal_output\"},{\"default\":\"\",\"kind\":null,\"name\":\"debug_name\"},{\"default\":0,\"kind\":null,\"name\":\"clears\"}]},{\"extends\":null,\"module\":null,\"name\":\"NotificationAreaBase1\",\"overrides\":[],\"properties\":[{\"default\":\"bottom-right\",\"kind\":null,\"name\":\"position\"},{\"default\":0,\"kind\":null,\"name\":\"_clear\"}]},{\"extends\":null,\"module\":null,\"name\":\"NotificationArea1\",\"overrides\":[],\"properties\":[{\"default\":[],\"kind\":null,\"name\":\"notifications\"},{\"default\":\"bottom-right\",\"kind\":null,\"name\":\"position\"},{\"default\":0,\"kind\":null,\"name\":\"_clear\"},{\"default\":[{\"background\":\"#ffc107\",\"icon\":{\"className\":\"fas fa-exclamation-triangle\",\"color\":\"white\",\"tagName\":\"i\"},\"type\":\"warning\"},{\"background\":\"#007bff\",\"icon\":{\"className\":\"fas fa-info-circle\",\"color\":\"white\",\"tagName\":\"i\"},\"type\":\"info\"}],\"kind\":null,\"name\":\"types\"}]},{\"extends\":null,\"module\":null,\"name\":\"Notification\",\"overrides\":[],\"properties\":[{\"default\":null,\"kind\":null,\"name\":\"background\"},{\"default\":3000,\"kind\":null,\"name\":\"duration\"},{\"default\":null,\"kind\":null,\"name\":\"icon\"},{\"default\":\"\",\"kind\":null,\"name\":\"message\"},{\"default\":null,\"kind\":null,\"name\":\"notification_type\"},{\"default\":false,\"kind\":null,\"name\":\"_destroyed\"}]},{\"extends\":null,\"module\":null,\"name\":\"TemplateActions1\",\"overrides\":[],\"properties\":[{\"default\":0,\"kind\":null,\"name\":\"open_modal\"},{\"default\":0,\"kind\":null,\"name\":\"close_modal\"}]},{\"extends\":null,\"module\":null,\"name\":\"MaterialTemplateActions1\",\"overrides\":[],\"properties\":[{\"default\":0,\"kind\":null,\"name\":\"open_modal\"},{\"default\":0,\"kind\":null,\"name\":\"close_modal\"}]}],\"roots\":{\"references\":[{\"attributes\":{\"below\":[{\"id\":\"80210\"}],\"center\":[{\"id\":\"80213\"},{\"id\":\"80217\"},{\"id\":\"80238\"},{\"id\":\"80239\"}],\"height\":400,\"left\":[{\"id\":\"80214\"}],\"renderers\":[{\"id\":\"80236\"}],\"title\":{\"id\":\"81543\"},\"toolbar\":{\"id\":\"80225\"},\"width\":800,\"x_range\":{\"id\":\"80202\"},\"x_scale\":{\"id\":\"80206\"},\"y_range\":{\"id\":\"80204\"},\"y_scale\":{\"id\":\"80208\"}},\"id\":\"80201\",\"subtype\":\"Figure\",\"type\":\"Plot\"},{\"attributes\":{},\"id\":\"81550\",\"type\":\"AllLabels\"},{\"attributes\":{\"coordinates\":null,\"dimension\":\"height\",\"group\":null,\"line_dash\":[6],\"location\":16},\"id\":\"80239\",\"type\":\"Span\"},{\"attributes\":{},\"id\":\"80211\",\"type\":\"BasicTicker\"},{\"attributes\":{\"tools\":[{\"id\":\"80218\"},{\"id\":\"80219\"},{\"id\":\"80220\"},{\"id\":\"80221\"},{\"id\":\"80222\"},{\"id\":\"80223\"}]},\"id\":\"80225\",\"type\":\"Toolbar\"},{\"attributes\":{},\"id\":\"81551\",\"type\":\"UnionRenderers\"},{\"attributes\":{\"axis\":{\"id\":\"80214\"},\"coordinates\":null,\"dimension\":1,\"group\":null,\"ticker\":null},\"id\":\"80217\",\"type\":\"Grid\"},{\"attributes\":{},\"id\":\"81552\",\"type\":\"Selection\"},{\"attributes\":{\"axis_label\":\"t\",\"coordinates\":null,\"formatter\":{\"id\":\"81549\"},\"group\":null,\"major_label_policy\":{\"id\":\"81550\"},\"ticker\":{\"id\":\"80211\"}},\"id\":\"80210\",\"type\":\"LinearAxis\"},{\"attributes\":{},\"id\":\"80202\",\"type\":\"DataRange1d\"},{\"attributes\":{},\"id\":\"81547\",\"type\":\"AllLabels\"},{\"attributes\":{\"line_alpha\":0.2,\"line_color\":\"#1f77b4\",\"line_width\":2,\"x\":{\"field\":\"x\"},\"y\":{\"field\":\"y\"}},\"id\":\"80235\",\"type\":\"Line\"},{\"attributes\":{},\"id\":\"80223\",\"type\":\"HelpTool\"},{\"attributes\":{},\"id\":\"81546\",\"type\":\"BasicTickFormatter\"},{\"attributes\":{},\"id\":\"80219\",\"type\":\"WheelZoomTool\"},{\"attributes\":{},\"id\":\"80218\",\"type\":\"PanTool\"},{\"attributes\":{},\"id\":\"81549\",\"type\":\"BasicTickFormatter\"},{\"attributes\":{\"axis\":{\"id\":\"80210\"},\"coordinates\":null,\"group\":null,\"ticker\":null},\"id\":\"80213\",\"type\":\"Grid\"},{\"attributes\":{\"overlay\":{\"id\":\"80224\"}},\"id\":\"80220\",\"type\":\"BoxZoomTool\"},{\"attributes\":{},\"id\":\"80208\",\"type\":\"LinearScale\"},{\"attributes\":{},\"id\":\"80215\",\"type\":\"BasicTicker\"},{\"attributes\":{\"coordinates\":null,\"formatter\":{\"id\":\"81546\"},\"group\":null,\"major_label_policy\":{\"id\":\"81547\"},\"ticker\":{\"id\":\"80215\"}},\"id\":\"80214\",\"type\":\"LinearAxis\"},{\"attributes\":{\"bottom_units\":\"screen\",\"coordinates\":null,\"fill_alpha\":0.5,\"fill_color\":\"lightgrey\",\"group\":null,\"left_units\":\"screen\",\"level\":\"overlay\",\"line_alpha\":1.0,\"line_color\":\"black\",\"line_dash\":[4,4],\"line_width\":2,\"right_units\":\"screen\",\"syncable\":false,\"top_units\":\"screen\"},\"id\":\"80224\",\"type\":\"BoxAnnotation\"},{\"attributes\":{\"data\":{\"x\":{\"__ndarray__\":\"AAAAAAAAAAAAAAAAAADQPwAAAAAAAOA/AAAAAAAA6D8AAAAAAADwPwAAAAAAAPQ/AAAAAAAA+D8AAAAAAAD8PwAAAAAAAABAAAAAAAAAAkAAAAAAAAAEQAAAAAAAAAZAAAAAAAAACEAAAAAAAAAKQAAAAAAAAAxAAAAAAAAADkAAAAAAAAAQQAAAAAAAABFAAAAAAAAAEkAAAAAAAAATQAAAAAAAABRAAAAAAAAAFUAAAAAAAAAWQAAAAAAAABdAAAAAAAAAGEAAAAAAAAAZQAAAAAAAABpAAAAAAAAAG0AAAAAAAAAcQAAAAAAAAB1AAAAAAAAAHkAAAAAAAAAfQAAAAAAAACBAAAAAAACAIEAAAAAAAAAhQAAAAAAAgCFAAAAAAAAAIkAAAAAAAIAiQAAAAAAAACNAAAAAAACAI0AAAAAAAAAkQAAAAAAAgCRAAAAAAAAAJUAAAAAAAIAlQAAAAAAAACZAAAAAAACAJkAAAAAAAAAnQAAAAAAAgCdAAAAAAAAAKEAAAAAAAIAoQAAAAAAAAClAAAAAAACAKUAAAAAAAAAqQAAAAAAAgCpAAAAAAAAAK0AAAAAAAIArQAAAAAAAACxAAAAAAACALEAAAAAAAAAtQAAAAAAAgC1AAAAAAAAALkAAAAAAAIAuQAAAAAAAAC9AAAAAAACAL0AAAAAAAAAwQAAAAAAAQDBAAAAAAACAMEAAAAAAAMAwQAAAAAAAADFAAAAAAABAMUAAAAAAAIAxQAAAAAAAwDFAAAAAAAAAMkAAAAAAAEAyQAAAAAAAgDJAAAAAAADAMkAAAAAAAAAzQAAAAAAAQDNAAAAAAACAM0AAAAAAAMAzQAAAAAAAADRAAAAAAABANEAAAAAAAIA0QAAAAAAAwDRAAAAAAAAANUAAAAAAAEA1QAAAAAAAgDVAAAAAAADANUAAAAAAAAA2QAAAAAAAQDZAAAAAAACANkAAAAAAAMA2QAAAAAAAADdAAAAAAABAN0AAAAAAAIA3QAAAAAAAwDdAAAAAAAAAOEAAAAAAAEA4QAAAAAAAgDhAAAAAAADAOEAAAAAAAAA5QAAAAAAAQDlAAAAAAACAOUAAAAAAAMA5QAAAAAAAADpAAAAAAABAOkAAAAAAAIA6QAAAAAAAwDpAAAAAAAAAO0AAAAAAAEA7QAAAAAAAgDtAAAAAAADAO0AAAAAAAAA8QAAAAAAAQDxAAAAAAACAPEAAAAAAAMA8QAAAAAAAAD1AAAAAAABAPUAAAAAAAIA9QAAAAAAAwD1AAAAAAAAAPkA=\",\"dtype\":\"float64\",\"order\":\"little\",\"shape\":[121]},\"y\":{\"__ndarray__\":\"AAAAAAAAAAAAAAAAAAAAAD7g5eJlPyFAf1xVY3UePUDA+rJK3DRGQEz8nnJLAUdAfHahPy2SR0AQ/JlkTPhHQOwpuxj9P0hANs7IqipySEADb4FsNpVIQOu3twenrUhAw2OCeK2+SEA+MLBQh8pIQEUgzgDG0khAk+Ig5IHYSECDcLB5ftxIQC7brO5D30hASPovDDHhSEAACI6iKEFJQHJWGyCf3ElAr6NVq1qbSkDf+UdnWWxLQNCCVX24Q0xAMB9wNT8ZTUCMcKmzS+dNQPxrV61KqU5A8nAmdE1TT0DKMOZv/r1PQPqB6b3Yxk9AfxLHafdnT0DnVMpUIKpOQMRgudV1nE1ALIR2bEFQTEBkxFoqm9ZKQOtGQO4eP0lA/I1+m0yXR0B5UimxVepFQJyc9dkrQURAUu91EbOiQkBHFIRLBBRBQPehmPVoMT9AV7lXlTJmPECNeVphD8k5QPOW9+IVWzdAnHaQJCccNUAnKWwZPQszQLJ8wOSqJjFAwo5nWqHYLkCY1bN6ibMrQEKBUEDn2ChAnCPahnFDJkDsG6f54e0jQBwo6jwQ0yFADPTeaArcH0D17hklEHQcQFq2xh5NZRlAyffpz3KnFkDKhBUbzDIUQOH6On88ABJA2zAYSDwJEEBl3ytHpY8MQPHzx6EcbQlAli3S6PqgBkCDOkT0SSIEQC98t6rv6AFA9F1dXjnb/z9tMFHrB0z8P/ARHn7IEPk/2bWRn/4e9j+gWXGE13DzP6KZwF+jAvE/JG6pSeCi7T+K9Ux/qLTpPyOKDRdENOY/9fuhRqwa4z/YERz0SGDgP8iYU59L+ts/2LrbUFzS1z9jMfYFyTjUP6DhIHYhHtE/CD/o0YvnzD8wmjloLljIPyzR6bkmdcQ/pxfXccQnwT8gE2FzVre8P3SaR1CB/bc/pAABCBsCtD+XmNCvLKmwP/VRND7BtKs/KDGIrE8Bpz/hmiKGwBOjPw+fkfL5mZ8/SLaEUfMkmj9ISJMfQ5uVPzhm7F6d1pE/ElNtBUNtjT+4ZjRYBkCIP9SlIp2Z94M/yg6Zr3RtgD80y6ntpgJ7P0Fy9rh8MHY/sKfCjms3cj8cnzfG8eNtP9bgXuLygWg/MvRkbxUVZD+lssjUaXJgP+/LB5K+7Fo/t1p9ThEHVj82UorMJwNSP+ABgSGycU0/g0bhmQkOSD/KMRicvKRDPzWn0g7WCEA/cMkHx7EqOj/Ms+rQuFc1P1e705nKZjE/J0Il+MRdLD8hO37dshwnP8mgHZcv0yI/4gVWZgWoHj8=\",\"dtype\":\"float64\",\"order\":\"little\",\"shape\":[121]}},\"selected\":{\"id\":\"81552\"},\"selection_policy\":{\"id\":\"81551\"}},\"id\":\"80232\",\"type\":\"ColumnDataSource\"},{\"attributes\":{},\"id\":\"80204\",\"type\":\"DataRange1d\"},{\"attributes\":{},\"id\":\"80221\",\"type\":\"SaveTool\"},{\"attributes\":{\"coordinates\":null,\"dimension\":\"height\",\"group\":null,\"line_dash\":[6],\"location\":4},\"id\":\"80238\",\"type\":\"Span\"},{\"attributes\":{},\"id\":\"80206\",\"type\":\"LinearScale\"},{\"attributes\":{\"line_alpha\":0.1,\"line_color\":\"#1f77b4\",\"line_width\":2,\"x\":{\"field\":\"x\"},\"y\":{\"field\":\"y\"}},\"id\":\"80234\",\"type\":\"Line\"},{\"attributes\":{\"coordinates\":null,\"group\":null},\"id\":\"81543\",\"type\":\"Title\"},{\"attributes\":{\"coordinates\":null,\"data_source\":{\"id\":\"80232\"},\"glyph\":{\"id\":\"80233\"},\"group\":null,\"hover_glyph\":null,\"muted_glyph\":{\"id\":\"80235\"},\"nonselection_glyph\":{\"id\":\"80234\"},\"view\":{\"id\":\"80237\"}},\"id\":\"80236\",\"type\":\"GlyphRenderer\"},{\"attributes\":{},\"id\":\"80222\",\"type\":\"ResetTool\"},{\"attributes\":{\"source\":{\"id\":\"80232\"}},\"id\":\"80237\",\"type\":\"CDSView\"},{\"attributes\":{\"line_color\":\"#1f77b4\",\"line_width\":2,\"x\":{\"field\":\"x\"},\"y\":{\"field\":\"y\"}},\"id\":\"80233\",\"type\":\"Line\"}],\"root_ids\":[\"80201\"]},\"title\":\"Bokeh Application\",\"version\":\"2.4.1\"}};\n  const render_items = [{\"docid\":\"10a33fcf-d02e-4763-93a6-05fb8c72c50c\",\"root_ids\":[\"80201\"],\"roots\":{\"80201\":\"5537d853-03e4-44c4-9cff-339d25df86b5\"}}];\n  root.Bokeh.embed.embed_items_notebook(docs_json, render_items);\n\n  }\n  if (root.Bokeh !== undefined) {\n    embed_document(root);\n  } else {\n    let attempts = 0;\n    const timer = setInterval(function(root) {\n      if (root.Bokeh !== undefined) {\n        clearInterval(timer);\n        embed_document(root);\n      } else {\n        attempts++;\n        if (attempts > 100) {\n          clearInterval(timer);\n          console.log(\"Bokeh: ERROR: Unable to run BokehJS code because BokehJS library is missing\");\n        }\n      }\n    }, 10, root)\n  }\n})(window);",
      "application/vnd.bokehjs_exec.v0+json": ""
     },
     "metadata": {
      "application/vnd.bokehjs_exec.v0+json": {
       "id": "80201"
      }
     },
     "output_type": "display_data"
    }
   ],
   "source": [
    "#experiment \n",
    "T7_DNA.ic = 0.001\n",
    "T7_DNA.lc = 0.001\n",
    "#initial value\n",
    "molecules_0 = [None]*len(molecules_list) #create empty list\n",
    "\n",
    "for i in range(0,len(molecules_list)):\n",
    "    molecules_0[i] = molecules_list[i].ic\n",
    "\n",
    "#stage 1 kick start\n",
    "result_all=[molecules_0] #initial condition\n",
    "\n",
    "DR = 0.2\n",
    "\n",
    "#kick start\n",
    "dilution_list = [T7_RNA,T7,GFP,GFP_RNA,R]\n",
    "replenish_list = [T7,R]\n",
    "result_all,molecules_0 = run_model(Repressor_model,(0,4),parameters_list,molecules_0,dilution_list,replenish_list,result_all)\n",
    "\n",
    "\n",
    "#self regeneration \n",
    "dilution_list = [T7_RNA,T7,GFP,GFP_RNA,R]\n",
    "replenish_list = [R]\n",
    "result_all,molecules_0 = run_model(Repressor_model,(4,16),parameters_list,molecules_0,dilution_list,replenish_list,result_all)\n",
    "\n",
    "\n",
    "\n",
    "#wash out\n",
    "dilution_list = [T7_DNA,GFP_DNA,T7_RNA,T7,GFP,GFP_RNA,R]\n",
    "replenish_list = [R]\n",
    "\n",
    "result_all,molecules_0=run_model(Repressor_model,(16,30),parameters_list,molecules_0,dilution_list,replenish_list,result_all)\n",
    "\n",
    "\n",
    "\n",
    "result_all = np.resize(result_all,(121,7))\n",
    "for i in range(0,len(molecules_list)):\n",
    "        (molecules_list[i]).result = result_all.transpose()[i]\n",
    "\n",
    "#T7_DNA,T7_RNA,T7,GFP_DNA,GFP_RNA,GFP,R = result_all.transpose()\n",
    "plot_result(GFP.result)\n",
    "result3 = GFP.result"
   ]
  },
  {
   "cell_type": "code",
   "execution_count": 190,
   "metadata": {},
   "outputs": [
    {
     "data": {
      "text/html": [
       "\n",
       "\n",
       "\n",
       "\n",
       "\n",
       "\n",
       "  <div class=\"bk-root\" id=\"bd0eb6bf-854d-4b59-a675-a9ef0734f49e\" data-root-id=\"81609\"></div>\n"
      ]
     },
     "metadata": {},
     "output_type": "display_data"
    },
    {
     "data": {
      "application/javascript": "(function(root) {\n  function embed_document(root) {\n    \n  const docs_json = {\"2a07154c-2705-40db-875a-979fab1172ec\":{\"defs\":[{\"extends\":null,\"module\":null,\"name\":\"ReactiveHTML1\",\"overrides\":[],\"properties\":[]},{\"extends\":null,\"module\":null,\"name\":\"FlexBox1\",\"overrides\":[],\"properties\":[{\"default\":\"flex-start\",\"kind\":null,\"name\":\"align_content\"},{\"default\":\"flex-start\",\"kind\":null,\"name\":\"align_items\"},{\"default\":\"row\",\"kind\":null,\"name\":\"flex_direction\"},{\"default\":\"wrap\",\"kind\":null,\"name\":\"flex_wrap\"},{\"default\":\"flex-start\",\"kind\":null,\"name\":\"justify_content\"}]},{\"extends\":null,\"module\":null,\"name\":\"GridStack1\",\"overrides\":[],\"properties\":[{\"default\":\"warn\",\"kind\":null,\"name\":\"mode\"},{\"default\":null,\"kind\":null,\"name\":\"ncols\"},{\"default\":null,\"kind\":null,\"name\":\"nrows\"},{\"default\":true,\"kind\":null,\"name\":\"allow_resize\"},{\"default\":true,\"kind\":null,\"name\":\"allow_drag\"},{\"default\":[],\"kind\":null,\"name\":\"state\"}]},{\"extends\":null,\"module\":null,\"name\":\"click1\",\"overrides\":[],\"properties\":[{\"default\":\"\",\"kind\":null,\"name\":\"terminal_output\"},{\"default\":\"\",\"kind\":null,\"name\":\"debug_name\"},{\"default\":0,\"kind\":null,\"name\":\"clears\"}]},{\"extends\":null,\"module\":null,\"name\":\"NotificationAreaBase1\",\"overrides\":[],\"properties\":[{\"default\":\"bottom-right\",\"kind\":null,\"name\":\"position\"},{\"default\":0,\"kind\":null,\"name\":\"_clear\"}]},{\"extends\":null,\"module\":null,\"name\":\"NotificationArea1\",\"overrides\":[],\"properties\":[{\"default\":[],\"kind\":null,\"name\":\"notifications\"},{\"default\":\"bottom-right\",\"kind\":null,\"name\":\"position\"},{\"default\":0,\"kind\":null,\"name\":\"_clear\"},{\"default\":[{\"background\":\"#ffc107\",\"icon\":{\"className\":\"fas fa-exclamation-triangle\",\"color\":\"white\",\"tagName\":\"i\"},\"type\":\"warning\"},{\"background\":\"#007bff\",\"icon\":{\"className\":\"fas fa-info-circle\",\"color\":\"white\",\"tagName\":\"i\"},\"type\":\"info\"}],\"kind\":null,\"name\":\"types\"}]},{\"extends\":null,\"module\":null,\"name\":\"Notification\",\"overrides\":[],\"properties\":[{\"default\":null,\"kind\":null,\"name\":\"background\"},{\"default\":3000,\"kind\":null,\"name\":\"duration\"},{\"default\":null,\"kind\":null,\"name\":\"icon\"},{\"default\":\"\",\"kind\":null,\"name\":\"message\"},{\"default\":null,\"kind\":null,\"name\":\"notification_type\"},{\"default\":false,\"kind\":null,\"name\":\"_destroyed\"}]},{\"extends\":null,\"module\":null,\"name\":\"TemplateActions1\",\"overrides\":[],\"properties\":[{\"default\":0,\"kind\":null,\"name\":\"open_modal\"},{\"default\":0,\"kind\":null,\"name\":\"close_modal\"}]},{\"extends\":null,\"module\":null,\"name\":\"MaterialTemplateActions1\",\"overrides\":[],\"properties\":[{\"default\":0,\"kind\":null,\"name\":\"open_modal\"},{\"default\":0,\"kind\":null,\"name\":\"close_modal\"}]}],\"roots\":{\"references\":[{\"attributes\":{\"below\":[{\"id\":\"81618\"}],\"center\":[{\"id\":\"81621\"},{\"id\":\"81625\"},{\"id\":\"81670\"},{\"id\":\"81671\"}],\"height\":400,\"left\":[{\"id\":\"81622\"}],\"renderers\":[{\"id\":\"81644\"},{\"id\":\"81650\"},{\"id\":\"81656\"},{\"id\":\"81662\"},{\"id\":\"81668\"}],\"title\":{\"id\":\"82986\"},\"toolbar\":{\"id\":\"81633\"},\"x_range\":{\"id\":\"81610\"},\"x_scale\":{\"id\":\"81614\"},\"y_range\":{\"id\":\"81612\"},\"y_scale\":{\"id\":\"81616\"}},\"id\":\"81609\",\"subtype\":\"Figure\",\"type\":\"Plot\"},{\"attributes\":{},\"id\":\"81614\",\"type\":\"LinearScale\"},{\"attributes\":{\"data\":{\"x\":{\"__ndarray__\":\"AAAAAAAAAAAAAAAAAADQPwAAAAAAAOA/AAAAAAAA6D8AAAAAAADwPwAAAAAAAPQ/AAAAAAAA+D8AAAAAAAD8PwAAAAAAAABAAAAAAAAAAkAAAAAAAAAEQAAAAAAAAAZAAAAAAAAACEAAAAAAAAAKQAAAAAAAAAxAAAAAAAAADkAAAAAAAAAQQAAAAAAAABFAAAAAAAAAEkAAAAAAAAATQAAAAAAAABRAAAAAAAAAFUAAAAAAAAAWQAAAAAAAABdAAAAAAAAAGEAAAAAAAAAZQAAAAAAAABpAAAAAAAAAG0AAAAAAAAAcQAAAAAAAAB1AAAAAAAAAHkAAAAAAAAAfQAAAAAAAACBAAAAAAACAIEAAAAAAAAAhQAAAAAAAgCFAAAAAAAAAIkAAAAAAAIAiQAAAAAAAACNAAAAAAACAI0AAAAAAAAAkQAAAAAAAgCRAAAAAAAAAJUAAAAAAAIAlQAAAAAAAACZAAAAAAACAJkAAAAAAAAAnQAAAAAAAgCdAAAAAAAAAKEAAAAAAAIAoQAAAAAAAAClAAAAAAACAKUAAAAAAAAAqQAAAAAAAgCpAAAAAAAAAK0AAAAAAAIArQAAAAAAAACxAAAAAAACALEAAAAAAAAAtQAAAAAAAgC1AAAAAAAAALkAAAAAAAIAuQAAAAAAAAC9AAAAAAACAL0AAAAAAAAAwQAAAAAAAQDBAAAAAAACAMEAAAAAAAMAwQAAAAAAAADFAAAAAAABAMUAAAAAAAIAxQAAAAAAAwDFAAAAAAAAAMkAAAAAAAEAyQAAAAAAAgDJAAAAAAADAMkAAAAAAAAAzQAAAAAAAQDNAAAAAAACAM0AAAAAAAMAzQAAAAAAAADRAAAAAAABANEAAAAAAAIA0QAAAAAAAwDRAAAAAAAAANUAAAAAAAEA1QAAAAAAAgDVAAAAAAADANUAAAAAAAAA2QAAAAAAAQDZAAAAAAACANkAAAAAAAMA2QAAAAAAAADdAAAAAAABAN0AAAAAAAIA3QAAAAAAAwDdAAAAAAAAAOEAAAAAAAEA4QAAAAAAAgDhAAAAAAADAOEAAAAAAAAA5QAAAAAAAQDlAAAAAAACAOUAAAAAAAMA5QAAAAAAAADpAAAAAAABAOkAAAAAAAIA6QAAAAAAAwDpAAAAAAAAAO0AAAAAAAEA7QAAAAAAAgDtAAAAAAADAO0AAAAAAAAA8QAAAAAAAQDxAAAAAAACAPEAAAAAAAMA8QAAAAAAAAD1AAAAAAABAPUAAAAAAAIA9QAAAAAAAwD1AAAAAAAAAPkA=\",\"dtype\":\"float64\",\"order\":\"little\",\"shape\":[121]},\"y\":{\"__ndarray__\":\"AAAAAAAAAAAAAAAAAAAAAD7g5eJlPyFAf1xVY3UePUDA+rJK3DRGQEz8nnJLAUdAfHahPy2SR0AQ/JlkTPhHQOwpuxj9P0hANs7IqipySEADb4FsNpVIQOu3twenrUhAw2OCeK2+SEA+MLBQh8pIQEUgzgDG0khAk+Ig5IHYSECDcLB5ftxIQC7brO5D30hASPovDDHhSEAACI6iKEFJQHJWGyCf3ElAr6NVq1qbSkDf+UdnWWxLQNCCVX24Q0xAMB9wNT8ZTUCMcKmzS+dNQPxrV61KqU5A8nAmdE1TT0DKMOZv/r1PQPqB6b3Yxk9AfxLHafdnT0DnVMpUIKpOQMRgudV1nE1ALIR2bEFQTEBkxFoqm9ZKQOtGQO4eP0lA/I1+m0yXR0B5UimxVepFQJyc9dkrQURAUu91EbOiQkBHFIRLBBRBQPehmPVoMT9AV7lXlTJmPECNeVphD8k5QPOW9+IVWzdAnHaQJCccNUAnKWwZPQszQLJ8wOSqJjFAwo5nWqHYLkCY1bN6ibMrQEKBUEDn2ChAnCPahnFDJkDsG6f54e0jQBwo6jwQ0yFADPTeaArcH0D17hklEHQcQFq2xh5NZRlAyffpz3KnFkDKhBUbzDIUQOH6On88ABJA2zAYSDwJEEBl3ytHpY8MQPHzx6EcbQlAli3S6PqgBkCDOkT0SSIEQC98t6rv6AFA9F1dXjnb/z9tMFHrB0z8P/ARHn7IEPk/2bWRn/4e9j+gWXGE13DzP6KZwF+jAvE/JG6pSeCi7T+K9Ux/qLTpPyOKDRdENOY/9fuhRqwa4z/YERz0SGDgP8iYU59L+ts/2LrbUFzS1z9jMfYFyTjUP6DhIHYhHtE/CD/o0YvnzD8wmjloLljIPyzR6bkmdcQ/pxfXccQnwT8gE2FzVre8P3SaR1CB/bc/pAABCBsCtD+XmNCvLKmwP/VRND7BtKs/KDGIrE8Bpz/hmiKGwBOjPw+fkfL5mZ8/SLaEUfMkmj9ISJMfQ5uVPzhm7F6d1pE/ElNtBUNtjT+4ZjRYBkCIP9SlIp2Z94M/yg6Zr3RtgD80y6ntpgJ7P0Fy9rh8MHY/sKfCjms3cj8cnzfG8eNtP9bgXuLygWg/MvRkbxUVZD+lssjUaXJgP+/LB5K+7Fo/t1p9ThEHVj82UorMJwNSP+ABgSGycU0/g0bhmQkOSD/KMRicvKRDPzWn0g7WCEA/cMkHx7EqOj/Ms+rQuFc1P1e705nKZjE/J0Il+MRdLD8hO37dshwnP8mgHZcv0yI/4gVWZgWoHj8=\",\"dtype\":\"float64\",\"order\":\"little\",\"shape\":[121]}},\"selected\":{\"id\":\"83003\"},\"selection_policy\":{\"id\":\"83002\"}},\"id\":\"81664\",\"type\":\"ColumnDataSource\"},{\"attributes\":{\"coordinates\":null,\"data_source\":{\"id\":\"81664\"},\"glyph\":{\"id\":\"81665\"},\"group\":null,\"hover_glyph\":null,\"muted_glyph\":{\"id\":\"81667\"},\"nonselection_glyph\":{\"id\":\"81666\"},\"view\":{\"id\":\"81669\"}},\"id\":\"81668\",\"type\":\"GlyphRenderer\"},{\"attributes\":{\"coordinates\":null,\"data_source\":{\"id\":\"81646\"},\"glyph\":{\"id\":\"81647\"},\"group\":null,\"hover_glyph\":null,\"muted_glyph\":{\"id\":\"81649\"},\"nonselection_glyph\":{\"id\":\"81648\"},\"view\":{\"id\":\"81651\"}},\"id\":\"81650\",\"type\":\"GlyphRenderer\"},{\"attributes\":{\"line_alpha\":0.1,\"line_color\":\"#1f77b4\",\"line_width\":2,\"x\":{\"field\":\"x\"},\"y\":{\"field\":\"y\"}},\"id\":\"81660\",\"type\":\"Line\"},{\"attributes\":{},\"id\":\"83000\",\"type\":\"UnionRenderers\"},{\"attributes\":{\"source\":{\"id\":\"81646\"}},\"id\":\"81651\",\"type\":\"CDSView\"},{\"attributes\":{\"line_alpha\":0.1,\"line_color\":\"#1f77b4\",\"line_width\":2,\"x\":{\"field\":\"x\"},\"y\":{\"field\":\"y\"}},\"id\":\"81654\",\"type\":\"Line\"},{\"attributes\":{\"line_alpha\":0.2,\"line_color\":\"#1f77b4\",\"line_width\":2,\"x\":{\"field\":\"x\"},\"y\":{\"field\":\"y\"}},\"id\":\"81655\",\"type\":\"Line\"},{\"attributes\":{\"source\":{\"id\":\"81652\"}},\"id\":\"81657\",\"type\":\"CDSView\"},{\"attributes\":{\"line_alpha\":0.2,\"line_color\":\"#1f77b4\",\"line_width\":2,\"x\":{\"field\":\"x\"},\"y\":{\"field\":\"y\"}},\"id\":\"81667\",\"type\":\"Line\"},{\"attributes\":{\"coordinates\":null,\"dimension\":\"height\",\"group\":null,\"line_dash\":[6],\"location\":4},\"id\":\"81670\",\"type\":\"Span\"},{\"attributes\":{},\"id\":\"83001\",\"type\":\"Selection\"},{\"attributes\":{\"line_alpha\":0.1,\"line_color\":\"#1f77b4\",\"line_width\":2,\"x\":{\"field\":\"x\"},\"y\":{\"field\":\"y\"}},\"id\":\"81666\",\"type\":\"Line\"},{\"attributes\":{\"source\":{\"id\":\"81658\"}},\"id\":\"81663\",\"type\":\"CDSView\"},{\"attributes\":{},\"id\":\"82989\",\"type\":\"BasicTickFormatter\"},{\"attributes\":{\"coordinates\":null,\"data_source\":{\"id\":\"81652\"},\"glyph\":{\"id\":\"81653\"},\"group\":null,\"hover_glyph\":null,\"muted_glyph\":{\"id\":\"81655\"},\"nonselection_glyph\":{\"id\":\"81654\"},\"view\":{\"id\":\"81657\"}},\"id\":\"81656\",\"type\":\"GlyphRenderer\"},{\"attributes\":{},\"id\":\"82996\",\"type\":\"UnionRenderers\"},{\"attributes\":{},\"id\":\"82990\",\"type\":\"AllLabels\"},{\"attributes\":{\"coordinates\":null,\"group\":null},\"id\":\"82986\",\"type\":\"Title\"},{\"attributes\":{},\"id\":\"81631\",\"type\":\"HelpTool\"},{\"attributes\":{},\"id\":\"82997\",\"type\":\"Selection\"},{\"attributes\":{\"line_alpha\":0.1,\"line_color\":\"#2ca02c\",\"line_width\":2,\"x\":{\"field\":\"x\"},\"y\":{\"field\":\"y\"}},\"id\":\"81642\",\"type\":\"Line\"},{\"attributes\":{\"line_color\":\"#1f77b4\",\"line_width\":2,\"x\":{\"field\":\"x\"},\"y\":{\"field\":\"y\"}},\"id\":\"81659\",\"type\":\"Line\"},{\"attributes\":{},\"id\":\"82992\",\"type\":\"BasicTickFormatter\"},{\"attributes\":{\"line_color\":\"#ff7f0e\",\"line_width\":2,\"x\":{\"field\":\"x\"},\"y\":{\"field\":\"y\"}},\"id\":\"81647\",\"type\":\"Line\"},{\"attributes\":{},\"id\":\"81626\",\"type\":\"PanTool\"},{\"attributes\":{\"overlay\":{\"id\":\"81632\"}},\"id\":\"81628\",\"type\":\"BoxZoomTool\"},{\"attributes\":{},\"id\":\"82993\",\"type\":\"AllLabels\"},{\"attributes\":{\"line_color\":\"#1f77b4\",\"line_width\":2,\"x\":{\"field\":\"x\"},\"y\":{\"field\":\"y\"}},\"id\":\"81653\",\"type\":\"Line\"},{\"attributes\":{\"data\":{\"x\":{\"__ndarray__\":\"AAAAAAAAAAAAAAAAAADQPwAAAAAAAOA/AAAAAAAA6D8AAAAAAADwPwAAAAAAAPQ/AAAAAAAA+D8AAAAAAAD8PwAAAAAAAABAAAAAAAAAAkAAAAAAAAAEQAAAAAAAAAZAAAAAAAAACEAAAAAAAAAKQAAAAAAAAAxAAAAAAAAADkAAAAAAAAAQQAAAAAAAABFAAAAAAAAAEkAAAAAAAAATQAAAAAAAABRAAAAAAAAAFUAAAAAAAAAWQAAAAAAAABdAAAAAAAAAGEAAAAAAAAAZQAAAAAAAABpAAAAAAAAAG0AAAAAAAAAcQAAAAAAAAB1AAAAAAAAAHkAAAAAAAAAfQAAAAAAAACBAAAAAAACAIEAAAAAAAAAhQAAAAAAAgCFAAAAAAAAAIkAAAAAAAIAiQAAAAAAAACNAAAAAAACAI0AAAAAAAAAkQAAAAAAAgCRAAAAAAAAAJUAAAAAAAIAlQAAAAAAAACZAAAAAAACAJkAAAAAAAAAnQAAAAAAAgCdAAAAAAAAAKEAAAAAAAIAoQAAAAAAAAClAAAAAAACAKUAAAAAAAAAqQAAAAAAAgCpAAAAAAAAAK0AAAAAAAIArQAAAAAAAACxAAAAAAACALEAAAAAAAAAtQAAAAAAAgC1AAAAAAAAALkAAAAAAAIAuQAAAAAAAAC9AAAAAAACAL0AAAAAAAAAwQAAAAAAAQDBAAAAAAACAMEAAAAAAAMAwQAAAAAAAADFAAAAAAABAMUAAAAAAAIAxQAAAAAAAwDFAAAAAAAAAMkAAAAAAAEAyQAAAAAAAgDJAAAAAAADAMkAAAAAAAAAzQAAAAAAAQDNAAAAAAACAM0AAAAAAAMAzQAAAAAAAADRAAAAAAABANEAAAAAAAIA0QAAAAAAAwDRAAAAAAAAANUAAAAAAAEA1QAAAAAAAgDVAAAAAAADANUAAAAAAAAA2QAAAAAAAQDZAAAAAAACANkAAAAAAAMA2QAAAAAAAADdAAAAAAABAN0AAAAAAAIA3QAAAAAAAwDdAAAAAAAAAOEAAAAAAAEA4QAAAAAAAgDhAAAAAAADAOEAAAAAAAAA5QAAAAAAAQDlAAAAAAACAOUAAAAAAAMA5QAAAAAAAADpAAAAAAABAOkAAAAAAAIA6QAAAAAAAwDpAAAAAAAAAO0AAAAAAAEA7QAAAAAAAgDtAAAAAAADAO0AAAAAAAAA8QAAAAAAAQDxAAAAAAACAPEAAAAAAAMA8QAAAAAAAAD1AAAAAAABAPUAAAAAAAIA9QAAAAAAAwD1AAAAAAAAAPkA=\",\"dtype\":\"float64\",\"order\":\"little\",\"shape\":[121]},\"y\":{\"__ndarray__\":\"AAAAAAAAAAAAAAAAAAAAAE4cNtl2OyFAdauvPQ0GPUC+CDfBR1BGQLN0xavvIEdAIz/FiiC1R0C3HmTSyR1IQNiI/6ZlZ0hAxF0H1QGbSECS50LPHL9IQEYzybZU2EhAngrX2OzpSEBAEQrFMPZIQIZuknK8/khAxe7pEbAESUAA/GXq1AhJQMF+gme3C0lAqAPga7kNSUA7wgAqHw9JQKbUriAYEElA9NmBYcUQSUAqBpLxPRFJQOjLqNaREUlAlIF+N8wRSUBtu7/W9BFJQJcH8RoREklAFm8hxiQSSUCSJsZ1MhJJQMyutvs7EklALAsanEISSUCI5344RxJJQPGQ2G1KEklAKAxdqUwSSUAqXgo3ThJJQFgwwUtPEklA9LFMDFASSUDUAkeSUBJJQAGsgO9QEklAxgRfMFESSUBKJYJdURJJQLCA6nxREklABTHFklESSUD1HvqhURJJQBDsjqxREklAv8brs1ESSUCJTgu5URJJQFbnm7xREklAjukWv1ESSUCUxNDAURJJQPc4BMJREklATSjawlESSUDUBG/DURJJQMeZ1sNREklA+KwexFESSUDU01DEURJJQHS5c8RREklAuwGMxFESSUAu55zEURJJQO6oqMRREklANNewxFESSUB8iLbEURJJQIV+usRREklAHEC9xFESSUAUK7/EURJJQMCAwMRREklAfm7BxFESSUDuE8LEURJJQAyHwsRREklAKdfCxFESSUDmDsPEURJJQLM1w8RREklAsVDDxFESSUB/Y8PEURJJQJdww8RREklAt3nDxFESSUAPgMPEURJJQHyEw8RREklAlIfDxFESSUC6icPEURJJQESLw8RREklAVYzDxFESSUAUjcPEURJJQJiNw8RREklA+I3DxFESSUA1jsPEURJJQGWOw8RREklAeo7DxFESSUCYjsPEURJJQKyOw8RREklAuI7DxFESSUC+jsPEURJJQMeOw8RREklAz47DxFESSUDRjsPEURJJQNCOw8RREklA1Y7DxFESSUDejsPEURJJQOWOw8RREklA7I7DxFESSUDujsPEURJJQPuOw8RREklAAY/DxFESSUAAj8PEURJJQASPw8RREklACI/DxFESSUAGj8PEURJJQAaPw8RREklACI/DxFESSUAHj8PEURJJQASPw8RREklADI/DxFESSUAVj8PEURJJQBePw8RREklAE4/DxFESSUAZj8PEURJJQBSPw8RREklAFY/DxFESSUAbj8PEURJJQBiPw8RREklAG4/DxFESSUA=\",\"dtype\":\"float64\",\"order\":\"little\",\"shape\":[121]}},\"selected\":{\"id\":\"82995\"},\"selection_policy\":{\"id\":\"82994\"}},\"id\":\"81640\",\"type\":\"ColumnDataSource\"},{\"attributes\":{\"line_alpha\":0.2,\"line_color\":\"#ff7f0e\",\"line_width\":2,\"x\":{\"field\":\"x\"},\"y\":{\"field\":\"y\"}},\"id\":\"81649\",\"type\":\"Line\"},{\"attributes\":{},\"id\":\"81629\",\"type\":\"SaveTool\"},{\"attributes\":{\"axis\":{\"id\":\"81622\"},\"coordinates\":null,\"dimension\":1,\"group\":null,\"ticker\":null},\"id\":\"81625\",\"type\":\"Grid\"},{\"attributes\":{\"line_alpha\":0.2,\"line_color\":\"#1f77b4\",\"line_width\":2,\"x\":{\"field\":\"x\"},\"y\":{\"field\":\"y\"}},\"id\":\"81661\",\"type\":\"Line\"},{\"attributes\":{\"coordinates\":null,\"dimension\":\"height\",\"group\":null,\"line_dash\":[6],\"location\":16},\"id\":\"81671\",\"type\":\"Span\"},{\"attributes\":{},\"id\":\"81630\",\"type\":\"ResetTool\"},{\"attributes\":{\"data\":{\"x\":{\"__ndarray__\":\"AAAAAAAAAAAAAAAAAADQPwAAAAAAAOA/AAAAAAAA6D8AAAAAAADwPwAAAAAAAPQ/AAAAAAAA+D8AAAAAAAD8PwAAAAAAAABAAAAAAAAAAkAAAAAAAAAEQAAAAAAAAAZAAAAAAAAACEAAAAAAAAAKQAAAAAAAAAxAAAAAAAAADkAAAAAAAAAQQAAAAAAAABFAAAAAAAAAEkAAAAAAAAATQAAAAAAAABRAAAAAAAAAFUAAAAAAAAAWQAAAAAAAABdAAAAAAAAAGEAAAAAAAAAZQAAAAAAAABpAAAAAAAAAG0AAAAAAAAAcQAAAAAAAAB1AAAAAAAAAHkAAAAAAAAAfQAAAAAAAACBAAAAAAACAIEAAAAAAAAAhQAAAAAAAgCFAAAAAAAAAIkAAAAAAAIAiQAAAAAAAACNAAAAAAACAI0AAAAAAAAAkQAAAAAAAgCRAAAAAAAAAJUAAAAAAAIAlQAAAAAAAACZAAAAAAACAJkAAAAAAAAAnQAAAAAAAgCdAAAAAAAAAKEAAAAAAAIAoQAAAAAAAAClAAAAAAACAKUAAAAAAAAAqQAAAAAAAgCpAAAAAAAAAK0AAAAAAAIArQAAAAAAAACxAAAAAAACALEAAAAAAAAAtQAAAAAAAgC1AAAAAAAAALkAAAAAAAIAuQAAAAAAAAC9AAAAAAACAL0AAAAAAAAAwQAAAAAAAQDBAAAAAAACAMEAAAAAAAMAwQAAAAAAAADFAAAAAAABAMUAAAAAAAIAxQAAAAAAAwDFAAAAAAAAAMkAAAAAAAEAyQAAAAAAAgDJAAAAAAADAMkAAAAAAAAAzQAAAAAAAQDNAAAAAAACAM0AAAAAAAMAzQAAAAAAAADRAAAAAAABANEAAAAAAAIA0QAAAAAAAwDRAAAAAAAAANUAAAAAAAEA1QAAAAAAAgDVAAAAAAADANUAAAAAAAAA2QAAAAAAAQDZAAAAAAACANkAAAAAAAMA2QAAAAAAAADdAAAAAAABAN0AAAAAAAIA3QAAAAAAAwDdAAAAAAAAAOEAAAAAAAEA4QAAAAAAAgDhAAAAAAADAOEAAAAAAAAA5QAAAAAAAQDlAAAAAAACAOUAAAAAAAMA5QAAAAAAAADpAAAAAAABAOkAAAAAAAIA6QAAAAAAAwDpAAAAAAAAAO0AAAAAAAEA7QAAAAAAAgDtAAAAAAADAO0AAAAAAAAA8QAAAAAAAQDxAAAAAAACAPEAAAAAAAMA8QAAAAAAAAD1AAAAAAABAPUAAAAAAAIA9QAAAAAAAwD1AAAAAAAAAPkA=\",\"dtype\":\"float64\",\"order\":\"little\",\"shape\":[121]},\"y\":{\"__ndarray__\":\"AAAAAAAAAAAAAAAAAAAAAMY5y0bsYiFAitGeDtz7PUBszU4VClRFQGpKwb3lAEZA3LSIMot5RkDfbMhpZs1GQHi9O62CB0dAbmd2i7EvR0CFvfslcEtHQGDtIf6SXkdAYxj1XcNrR0Asgqw92XRHQAP79eQae0dA30Q1kGl/R0AAdFCTYIJHQJilWPlqhEdAhs7vfdKFR0BHRsWSRNRHQIIj21KcUEhAeri8/fnkSEDxbH+CNIJJQJ/A9sYMHkpAsEZeN+GxSkBQHqMjuDlLQI+YPSuGs0tAHx4Mh58eTEAVzRBMSXtMQMWTV8JjykxAUocqPykNTUCNhtQc/kRNQNB6OuZOc01AlQVx/XmZTUBf3VgswrhNQHVr78tH0k1AwBRjhQbnTUDiWHcT1vdNQNXLac1sBU5AwD7JHGMQTkBEjqlHNxlOQPVTGTBRIE5ATzXd0QUmTkAMg/himipOQGe0cQ1HLk5A6J6UQzkxTkBdnQW2lTNOQNhc0/V5NU5AgAOdzf02TkBMk6FcNDhOQDK/sP0sOU5AlWHSAvQ5TkAtw0RNkzpOQKXuSMgSO05Av9MlzHg7TkBdNd1tyjtOQIJCQb8LPE5AKnFtAkA8TkA0jxXTaTxOQDpWp0eLPE5AtXjZC6Y8TkCMtfN1uzxOQKX22pfMPE5ABTy4TNo8TkA13eZD5TxOQNyftAnuPE5A0r1iDvU8TkAq2UTf0oNOQESi6EOu8E5A5IIhScFjT0Baa9B9QqlPQKAMEwqplU9AVVfSKVUXT0AQ4OHFRS5OQA9qJMl75UxAEMeto1lOS0BM8WhuHX1JQDgWd6ZFhkdA3hBAEs58RUBQPkCRJXFDQKAzT9SzcEFAh2K3lIwLP0AQD2yZgG87QGDtIOTkFjhANKI28QcHNUAQkmZlv0EyQC9adWpsjC9AsvvHxkgjK0DpehHI1j8nQAsmtD4s2CNANYkRDHzhIEB1S3Y2YKEcQKwyoS20NRhACKTTEARrFEAUaqpbsy0RQHxjhmRq1wxASEI6TFEpCEANJ/pPuzMEQPkASEST3ABA5Prx2cQZ/D9j6MJXLWH3P2l1ZVKDbPM/Q2nDBasd8D/cT6XaiLXqP23sFnhXG+Y/f6CtqQRH4j9nBiNdBjHeP1Smk9tg6dg/KbHQlEiJ1D/ih+LKKurQP1IhXk5C18s/JOXXCQjlxj9nidSOOdDCPxoHFnjT5b4/4Y+5svhauT+aW9n4Rsu0P8HF+oYHC7E/xxrJvujrqz8irYfI+9umP51cdBuEtKI/dAT9zreYnj8=\",\"dtype\":\"float64\",\"order\":\"little\",\"shape\":[121]}},\"selected\":{\"id\":\"83001\"},\"selection_policy\":{\"id\":\"83000\"}},\"id\":\"81658\",\"type\":\"ColumnDataSource\"},{\"attributes\":{},\"id\":\"81623\",\"type\":\"BasicTicker\"},{\"attributes\":{},\"id\":\"83002\",\"type\":\"UnionRenderers\"},{\"attributes\":{\"coordinates\":null,\"data_source\":{\"id\":\"81640\"},\"glyph\":{\"id\":\"81641\"},\"group\":null,\"hover_glyph\":null,\"muted_glyph\":{\"id\":\"81643\"},\"nonselection_glyph\":{\"id\":\"81642\"},\"view\":{\"id\":\"81645\"}},\"id\":\"81644\",\"type\":\"GlyphRenderer\"},{\"attributes\":{\"line_alpha\":0.1,\"line_color\":\"#ff7f0e\",\"line_width\":2,\"x\":{\"field\":\"x\"},\"y\":{\"field\":\"y\"}},\"id\":\"81648\",\"type\":\"Line\"},{\"attributes\":{\"line_color\":\"#2ca02c\",\"line_width\":2,\"x\":{\"field\":\"x\"},\"y\":{\"field\":\"y\"}},\"id\":\"81641\",\"type\":\"Line\"},{\"attributes\":{},\"id\":\"83003\",\"type\":\"Selection\"},{\"attributes\":{\"source\":{\"id\":\"81640\"}},\"id\":\"81645\",\"type\":\"CDSView\"},{\"attributes\":{},\"id\":\"81610\",\"type\":\"DataRange1d\"},{\"attributes\":{\"axis\":{\"id\":\"81618\"},\"coordinates\":null,\"group\":null,\"ticker\":null},\"id\":\"81621\",\"type\":\"Grid\"},{\"attributes\":{},\"id\":\"82998\",\"type\":\"UnionRenderers\"},{\"attributes\":{},\"id\":\"81616\",\"type\":\"LinearScale\"},{\"attributes\":{\"data\":{\"x\":{\"__ndarray__\":\"AAAAAAAAAAAAAAAAAADQPwAAAAAAAOA/AAAAAAAA6D8AAAAAAADwPwAAAAAAAPQ/AAAAAAAA+D8AAAAAAAD8PwAAAAAAAABAAAAAAAAAAkAAAAAAAAAEQAAAAAAAAAZAAAAAAAAACEAAAAAAAAAKQAAAAAAAAAxAAAAAAAAADkAAAAAAAAAQQAAAAAAAABFAAAAAAAAAEkAAAAAAAAATQAAAAAAAABRAAAAAAAAAFUAAAAAAAAAWQAAAAAAAABdAAAAAAAAAGEAAAAAAAAAZQAAAAAAAABpAAAAAAAAAG0AAAAAAAAAcQAAAAAAAAB1AAAAAAAAAHkAAAAAAAAAfQAAAAAAAACBAAAAAAACAIEAAAAAAAAAhQAAAAAAAgCFAAAAAAAAAIkAAAAAAAIAiQAAAAAAAACNAAAAAAACAI0AAAAAAAAAkQAAAAAAAgCRAAAAAAAAAJUAAAAAAAIAlQAAAAAAAACZAAAAAAACAJkAAAAAAAAAnQAAAAAAAgCdAAAAAAAAAKEAAAAAAAIAoQAAAAAAAAClAAAAAAACAKUAAAAAAAAAqQAAAAAAAgCpAAAAAAAAAK0AAAAAAAIArQAAAAAAAACxAAAAAAACALEAAAAAAAAAtQAAAAAAAgC1AAAAAAAAALkAAAAAAAIAuQAAAAAAAAC9AAAAAAACAL0AAAAAAAAAwQAAAAAAAQDBAAAAAAACAMEAAAAAAAMAwQAAAAAAAADFAAAAAAABAMUAAAAAAAIAxQAAAAAAAwDFAAAAAAAAAMkAAAAAAAEAyQAAAAAAAgDJAAAAAAADAMkAAAAAAAAAzQAAAAAAAQDNAAAAAAACAM0AAAAAAAMAzQAAAAAAAADRAAAAAAABANEAAAAAAAIA0QAAAAAAAwDRAAAAAAAAANUAAAAAAAEA1QAAAAAAAgDVAAAAAAADANUAAAAAAAAA2QAAAAAAAQDZAAAAAAACANkAAAAAAAMA2QAAAAAAAADdAAAAAAABAN0AAAAAAAIA3QAAAAAAAwDdAAAAAAAAAOEAAAAAAAEA4QAAAAAAAgDhAAAAAAADAOEAAAAAAAAA5QAAAAAAAQDlAAAAAAACAOUAAAAAAAMA5QAAAAAAAADpAAAAAAABAOkAAAAAAAIA6QAAAAAAAwDpAAAAAAAAAO0AAAAAAAEA7QAAAAAAAgDtAAAAAAADAO0AAAAAAAAA8QAAAAAAAQDxAAAAAAACAPEAAAAAAAMA8QAAAAAAAAD1AAAAAAABAPUAAAAAAAIA9QAAAAAAAwD1AAAAAAAAAPkA=\",\"dtype\":\"float64\",\"order\":\"little\",\"shape\":[121]},\"y\":{\"__ndarray__\":\"AAAAAAAAAAAAAAAAAAAAAE4cNtl2OyFAdauvPQ0GPUC+CDfBR1BGQLN0xavvIEdAIz/FiiC1R0C3HmTSyR1IQNiI/6ZlZ0hAxF0H1QGbSECS50LPHL9IQEYzybZU2EhAngrX2OzpSEBAEQrFMPZIQIZuknK8/khAxe7pEbAESUAA/GXq1AhJQMF+gme3C0lAqAPga7kNSUBmLywAQ3BJQK07RgxsEEpAzHfem83VSkCNbCopVK9LQLDItGsbkUxAQHJ4mPByTUASf/0cAE9OQAq61wQNHE9AZ8tj77WtT0CQ8G9LhMhPQIwl1bxCXk9Ad5VQFvZ4TkAl/3IEAS1NQCVxVJR8kktAPAGQVHXBSUAIGfQez89HQFxebqo+0EVAYB1P5/XRQ0Drs5qfu+BBQJCDB3Y9BUBA4NZ0/PiKPEAAdYHdgUo5QNV6P+USTTZA5DDHI+CTM0CbRpLqAx4xQED0QnAl0i1AvTfxPSnjKUDoyTcdzWYmQBBRMvMMVCNAOaHk85qhIEBk/UXja4wcQGhdJXjOcRhAHo8V2lniFED0aSLQKc4RQEQjYswvTQ5AsBYG14+8CUBkkAK4TtIFQFQB7QrHeAJAh/g3lGU5/z+FDZozBlr6P0z1uk1nNfY/U8BObzix8j8q/upUCW3vP00oW4mxYuo/NE/sE9wg5j89yavEtYniPxRgtBQnB98/r3g1GNvw2T9kLlrIzqrVP78ujRTKFNI/FIhI9K4mzj/tBWtPOB7JP/AotzSJ6MQ/4jiRoQdkwT/QzB7VjOi8P3DPNsiFArg/0C+z93ntsz8Qftg8TYewP+AGUSaeZqs/Hbi6wcuypj/FuThwssqiPyUJqqHbGJ8/ih40yzy3mT8P/tqRE0GVP7plXA26jpE/nb4CqjD+jD+CLz/vKu2HP7382tFlvIM/axwyCJhFgD+ahT+m0NF6PxThKRu7F3Y/KgyDFvUwcj8UizLA+/FtP20Qgb0co2g/lJl/DBtDZD8D0w2sYahgP5Q28VAHYVs/INrsKQp+Vj/Nl+Xlr3hSP+eqNCYSVE4/oIw3JtjjSD/tWbX7lWtEP+dmLCJ4v0A/Wv9k/LB2Oz/Au48+04I2P2AR3bc4cjI/wE0Yvtc4Lj/Ab+GLOcAoP02w9JzBQyQ/APbrtlOWID8NWan8rSUbP4dwfQ2ZNRY/zfZu8EkqEj/Ni7uaKbUNP62aQkpVSQg/Z6BVVJXZAz+QgB4OXTgAP+CuTC+dgPo+miRNAoql9T5tc8RSQa3xPmDbgc8o3ew+2lfY7YmP5z4=\",\"dtype\":\"float64\",\"order\":\"little\",\"shape\":[121]}},\"selected\":{\"id\":\"82997\"},\"selection_policy\":{\"id\":\"82996\"}},\"id\":\"81646\",\"type\":\"ColumnDataSource\"},{\"attributes\":{},\"id\":\"81619\",\"type\":\"BasicTicker\"},{\"attributes\":{},\"id\":\"81627\",\"type\":\"WheelZoomTool\"},{\"attributes\":{},\"id\":\"82999\",\"type\":\"Selection\"},{\"attributes\":{\"coordinates\":null,\"formatter\":{\"id\":\"82989\"},\"group\":null,\"major_label_policy\":{\"id\":\"82990\"},\"ticker\":{\"id\":\"81623\"}},\"id\":\"81622\",\"type\":\"LinearAxis\"},{\"attributes\":{\"tools\":[{\"id\":\"81626\"},{\"id\":\"81627\"},{\"id\":\"81628\"},{\"id\":\"81629\"},{\"id\":\"81630\"},{\"id\":\"81631\"}]},\"id\":\"81633\",\"type\":\"Toolbar\"},{\"attributes\":{\"axis_label\":\"t\",\"coordinates\":null,\"formatter\":{\"id\":\"82992\"},\"group\":null,\"major_label_policy\":{\"id\":\"82993\"},\"ticker\":{\"id\":\"81619\"}},\"id\":\"81618\",\"type\":\"LinearAxis\"},{\"attributes\":{},\"id\":\"82994\",\"type\":\"UnionRenderers\"},{\"attributes\":{\"bottom_units\":\"screen\",\"coordinates\":null,\"fill_alpha\":0.5,\"fill_color\":\"lightgrey\",\"group\":null,\"left_units\":\"screen\",\"level\":\"overlay\",\"line_alpha\":1.0,\"line_color\":\"black\",\"line_dash\":[4,4],\"line_width\":2,\"right_units\":\"screen\",\"syncable\":false,\"top_units\":\"screen\"},\"id\":\"81632\",\"type\":\"BoxAnnotation\"},{\"attributes\":{\"line_alpha\":0.2,\"line_color\":\"#2ca02c\",\"line_width\":2,\"x\":{\"field\":\"x\"},\"y\":{\"field\":\"y\"}},\"id\":\"81643\",\"type\":\"Line\"},{\"attributes\":{\"line_color\":\"#1f77b4\",\"line_width\":2,\"x\":{\"field\":\"x\"},\"y\":{\"field\":\"y\"}},\"id\":\"81665\",\"type\":\"Line\"},{\"attributes\":{},\"id\":\"82995\",\"type\":\"Selection\"},{\"attributes\":{\"data\":{\"x\":{\"__ndarray__\":\"AAAAAAAAAAAAAAAAAADQPwAAAAAAAOA/AAAAAAAA6D8AAAAAAADwPwAAAAAAAPQ/AAAAAAAA+D8AAAAAAAD8PwAAAAAAAABAAAAAAAAAAkAAAAAAAAAEQAAAAAAAAAZAAAAAAAAACEAAAAAAAAAKQAAAAAAAAAxAAAAAAAAADkAAAAAAAAAQQAAAAAAAABFAAAAAAAAAEkAAAAAAAAATQAAAAAAAABRAAAAAAAAAFUAAAAAAAAAWQAAAAAAAABdAAAAAAAAAGEAAAAAAAAAZQAAAAAAAABpAAAAAAAAAG0AAAAAAAAAcQAAAAAAAAB1AAAAAAAAAHkAAAAAAAAAfQAAAAAAAACBAAAAAAACAIEAAAAAAAAAhQAAAAAAAgCFAAAAAAAAAIkAAAAAAAIAiQAAAAAAAACNAAAAAAACAI0AAAAAAAAAkQAAAAAAAgCRAAAAAAAAAJUAAAAAAAIAlQAAAAAAAACZAAAAAAACAJkAAAAAAAAAnQAAAAAAAgCdAAAAAAAAAKEAAAAAAAIAoQAAAAAAAAClAAAAAAACAKUAAAAAAAAAqQAAAAAAAgCpAAAAAAAAAK0AAAAAAAIArQAAAAAAAACxAAAAAAACALEAAAAAAAAAtQAAAAAAAgC1AAAAAAAAALkAAAAAAAIAuQAAAAAAAAC9AAAAAAACAL0AAAAAAAAAwQAAAAAAAQDBAAAAAAACAMEAAAAAAAMAwQAAAAAAAADFAAAAAAABAMUAAAAAAAIAxQAAAAAAAwDFAAAAAAAAAMkAAAAAAAEAyQAAAAAAAgDJAAAAAAADAMkAAAAAAAAAzQAAAAAAAQDNAAAAAAACAM0AAAAAAAMAzQAAAAAAAADRAAAAAAABANEAAAAAAAIA0QAAAAAAAwDRAAAAAAAAANUAAAAAAAEA1QAAAAAAAgDVAAAAAAADANUAAAAAAAAA2QAAAAAAAQDZAAAAAAACANkAAAAAAAMA2QAAAAAAAADdAAAAAAABAN0AAAAAAAIA3QAAAAAAAwDdAAAAAAAAAOEAAAAAAAEA4QAAAAAAAgDhAAAAAAADAOEAAAAAAAAA5QAAAAAAAQDlAAAAAAACAOUAAAAAAAMA5QAAAAAAAADpAAAAAAABAOkAAAAAAAIA6QAAAAAAAwDpAAAAAAAAAO0AAAAAAAEA7QAAAAAAAgDtAAAAAAADAO0AAAAAAAAA8QAAAAAAAQDxAAAAAAACAPEAAAAAAAMA8QAAAAAAAAD1AAAAAAABAPUAAAAAAAIA9QAAAAAAAwD1AAAAAAAAAPkA=\",\"dtype\":\"float64\",\"order\":\"little\",\"shape\":[121]},\"y\":{\"__ndarray__\":\"AAAAAAAAAAAAAAAAAAAAAJ/uacvHVydA4aFALSCvJ0CUQpeO5OcnQIXt3PLfDChAR4WKGwElKECbEbV8wzQoQGNlJRUQPyhAACPS5stFKECbXwFAM0ooQHwG2KUUTShABIsHCfdOKEC34QygMlAoQNVGLhoBUShAyLkhMohRKED1BiiW4FEoQPxNtmsaUihAoN4ZQ0BSKEAL6hjMBGkoQKp/YzhziihAjvgKNkevKEAIVWhAW9MoQCmmM6yH9ChAd/8ZNN0RKUCW96Y6IyspQMe2bU2FQClAu0zyVWBSKUC02+pkJGEpQHj3Yo1DbSlAUSZp1Ch3KUC3U9/9M38pQIplLS24hSlAcC0jFvyKKUDX/UX5Oo8pQATZF/elkilANZb0d2WVKUBx78yEmpcpQJ/4bf9fmSlAJRq+s8uaKUDEAlhB75spQJ/DDODYnClARGRDA5SdKUBtEJ/gKZ4pQAL3Pt6hnilAwCyQ7AGfKUAvXzLPTp8pQGdu8leMnylAuipmlr2fKUAaNUj+5J8pQOiBVIYEoClAwE4VwR2gKUDUlMzwMaApQNWvbRdCoClAUpRsA0+gKUCS+AFaWaApQBftZJ9hoClAFU1hPWigKUDvJp6IbaApQJjd1sRxoClAzJM8KHWgKUA41ired6ApQDrzUQl6oClAp5ZyxXugKUD8wsAofaApQCLa/0R+oClAuOBlKH+gKUCn8zD7/HEqQBUhF8qS1itANWaIy3OiLUAnvcOidbgvQA83u7KzAjFAUaxwvi0+MkD2z4ibD4ozQJedParQ4jRAAZeX+n1FNkAcqzLAc683QK83CZU3HjlA50i972aPOkBaODDUsQA8QKhSOKncbz1AtItJ5sXaPkCZ0Ii0th9AQC4nFv79zUBA7s2lC2V3QUDDHM2eMhtCQJyNpdHJuEJAJzIgz6pPQ0DTBKJAbd9DQCc9OV1MZ0RAiQmmwF3gREBOhi4r6CpFQGLh5mgSKUVAqrUnEu3TREDMYYThazBEQG8KlQ+4SUNA3Mi5XA8uQkD6U2q1m+xAQJJTmuLiJz9ATBao2jNiPEBUP+m3IJ45QCnvm0co7TZANULcrGxcNEA6YTqlF/UxQP3ay1vMeS9Ajda/coVtK0DQnZmZusYnQNbUI4ZugyRAohcRgTqfIUDnYj4TNSgeQK+9bRckthlArM0YaljZFUCiXBrDuIISQIcIcH4ORw9AYGIdBoFbCkBSvfM9sCgGQER8/3m0lgJATzFEkuUf/z8/2W6cNwL6PwhOdaEtsvU/osP55b8R8j8=\",\"dtype\":\"float64\",\"order\":\"little\",\"shape\":[121]}},\"selected\":{\"id\":\"82999\"},\"selection_policy\":{\"id\":\"82998\"}},\"id\":\"81652\",\"type\":\"ColumnDataSource\"},{\"attributes\":{\"source\":{\"id\":\"81664\"}},\"id\":\"81669\",\"type\":\"CDSView\"},{\"attributes\":{},\"id\":\"81612\",\"type\":\"DataRange1d\"},{\"attributes\":{\"coordinates\":null,\"data_source\":{\"id\":\"81658\"},\"glyph\":{\"id\":\"81659\"},\"group\":null,\"hover_glyph\":null,\"muted_glyph\":{\"id\":\"81661\"},\"nonselection_glyph\":{\"id\":\"81660\"},\"view\":{\"id\":\"81663\"}},\"id\":\"81662\",\"type\":\"GlyphRenderer\"}],\"root_ids\":[\"81609\"]},\"title\":\"Bokeh Application\",\"version\":\"2.4.1\"}};\n  const render_items = [{\"docid\":\"2a07154c-2705-40db-875a-979fab1172ec\",\"root_ids\":[\"81609\"],\"roots\":{\"81609\":\"bd0eb6bf-854d-4b59-a675-a9ef0734f49e\"}}];\n  root.Bokeh.embed.embed_items_notebook(docs_json, render_items);\n\n  }\n  if (root.Bokeh !== undefined) {\n    embed_document(root);\n  } else {\n    let attempts = 0;\n    const timer = setInterval(function(root) {\n      if (root.Bokeh !== undefined) {\n        clearInterval(timer);\n        embed_document(root);\n      } else {\n        attempts++;\n        if (attempts > 100) {\n          clearInterval(timer);\n          console.log(\"Bokeh: ERROR: Unable to run BokehJS code because BokehJS library is missing\");\n        }\n      }\n    }, 10, root)\n  }\n})(window);",
      "application/vnd.bokehjs_exec.v0+json": ""
     },
     "metadata": {
      "application/vnd.bokehjs_exec.v0+json": {
       "id": "81609"
      }
     },
     "output_type": "display_data"
    }
   ],
   "source": [
    "\n",
    "t = np.linspace(0, 15*(len(GFP.pc_result)-1), len(GFP.pc_result))\n",
    "p = bokeh.plotting.figure(\n",
    "    plot_width=600,\n",
    "    plot_height=400,\n",
    "    x_axis_label=\"t\",\n",
    "    y_axis_type=\"linear\",\n",
    ")\n",
    "\n",
    "colors = bokeh.palettes.d3[\"Category10\"][3]\n",
    "\n",
    "# Populate glyphs\n",
    "p.line(   t/60, GFP.pc_result, line_width=2, color=colors[2])\n",
    "p.line(   t/60, GFP.nc_result, line_width=2, color=colors[1])\n",
    "p.line(   t/60, result1, line_width=2, color=colors[0])\n",
    "p.line(   t/60, result2, line_width=2, color=colors[0])\n",
    "p.line(   t/60, result3, line_width=2, color=colors[0])\n",
    "vline1 = Span(location=4, dimension='height', line_color='black', line_width=1,line_dash='dashed')\n",
    "vline2 = Span(location=16, dimension='height', line_color='black', line_width=1,line_dash='dashed')\n",
    "p.add_layout(vline1)\n",
    "p.add_layout(vline2)\n",
    "show(p)\n"
   ]
  },
  {
   "cell_type": "code",
   "execution_count": 184,
   "metadata": {},
   "outputs": [
    {
     "data": {
      "text/plain": [
       "array([ 0.        ,  0.        , 11.67144619, 11.84204236, 11.95291563,\n",
       "       12.02514609, 12.07227408, 12.10305395, 12.12316958, 12.13632127,\n",
       "       12.14492226, 12.15054816, 12.15422848, 12.15663624, 12.15821153,\n",
       "       12.15924222, 12.15991658, 12.16035782, 12.16064653, 12.20511473,\n",
       "       12.27041031, 12.34234017, 12.41280557, 12.4775976 , 12.53489077,\n",
       "       12.58425315, 12.62601702, 12.66089123, 12.68973079, 12.71340601,\n",
       "       12.73273338, 12.74844354, 12.76117078, 12.77145452, 12.77974681,\n",
       "       12.78642246, 12.79178977, 12.79610076, 12.79956053, 12.80233537,\n",
       "       12.80455975, 12.80634213, 12.80776987, 12.80891325, 12.80982871,\n",
       "       12.81056155, 12.81114814, 12.81161761, 12.81199331, 12.81229396,\n",
       "       12.81253452, 12.81272701, 12.81288102, 12.81300424, 12.81310282,\n",
       "       12.8131817 , 12.8132448 , 12.81329529, 12.81333568, 12.81336799,\n",
       "       12.81339384, 12.81341452, 12.81343106, 12.8134443 , 12.81345489,\n",
       "       12.81346336, 12.81347014, 13.22263322, 13.91908866, 14.8172897 ,\n",
       "       15.86027249, 17.01055448, 18.2428855 , 19.53930065, 20.88599648,\n",
       "       22.27145354, 23.68535997, 25.11803562, 26.56016444, 28.00271345,\n",
       "       29.43696077, 30.85458221, 32.24776322, 33.60931374, 34.93277116,\n",
       "       36.21248231, 37.44365903, 38.62240018, 39.74552162, 40.80701795,\n",
       "       41.7528611 , 42.33521023, 42.32087432, 41.65567233, 40.37829226,\n",
       "       38.57592959, 36.35984382, 33.84850185, 31.15580574, 28.38360373,\n",
       "       25.61768674, 22.92639587, 20.36103325, 17.95739205, 15.73788726,\n",
       "       13.71390875, 11.8881424 , 10.25670261,  8.81099323,  7.53926497,\n",
       "        6.42787205,  5.46225134,  4.62765794,  3.90969561,  3.29467969,\n",
       "        2.7698674 ,  2.32358642,  1.9452873 ,  1.62554132,  1.35600055,\n",
       "        1.1293334 ])"
      ]
     },
     "execution_count": 184,
     "metadata": {},
     "output_type": "execute_result"
    }
   ],
   "source": [
    "result1"
   ]
  },
  {
   "cell_type": "code",
   "execution_count": null,
   "metadata": {},
   "outputs": [],
   "source": []
  }
 ],
 "metadata": {
  "kernelspec": {
   "display_name": "Python 3.9.12 ('base')",
   "language": "python",
   "name": "python3"
  },
  "language_info": {
   "codemirror_mode": {
    "name": "ipython",
    "version": 3
   },
   "file_extension": ".py",
   "mimetype": "text/x-python",
   "name": "python",
   "nbconvert_exporter": "python",
   "pygments_lexer": "ipython3",
   "version": "3.9.7"
  },
  "orig_nbformat": 4,
  "vscode": {
   "interpreter": {
    "hash": "702350541321a2f0d6ee5689c760d1f3e12a6e5a69204819bb813b28aabd20d3"
   }
  }
 },
 "nbformat": 4,
 "nbformat_minor": 2
}
