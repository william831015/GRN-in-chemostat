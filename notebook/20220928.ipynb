{
 "cells": [
  {
   "cell_type": "code",
   "execution_count": null,
   "metadata": {},
   "outputs": [],
   "source": []
  }
 ],
 "metadata": {
  "kernelspec": {
   "display_name": "Python 3.10.6",
   "language": "python",
   "name": "python3"
  },
  "language_info": {
   "name": "python",
   "version": "3.10.6"
  },
  "orig_nbformat": 4,
  "vscode": {
   "interpreter": {
    "hash": "0864f70237d62597bacb185f3ec0bb7bc9193dc1b5ae3d8075d41f494d5775cb"
   }
  }
 },
 "nbformat": 4,
 "nbformat_minor": 2
}
