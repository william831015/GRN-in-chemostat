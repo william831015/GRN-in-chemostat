{
 "cells": [
  {
   "cell_type": "code",
   "execution_count": 34,
   "id": "b73b06d6",
   "metadata": {},
   "outputs": [
    {
     "data": {
      "application/javascript": "\n(function(root) {\n  function now() {\n    return new Date();\n  }\n\n  var force = true;\n\n  if (typeof root._bokeh_onload_callbacks === \"undefined\" || force === true) {\n    root._bokeh_onload_callbacks = [];\n    root._bokeh_is_loading = undefined;\n  }\n\n  if (typeof (root._bokeh_timeout) === \"undefined\" || force === true) {\n    root._bokeh_timeout = Date.now() + 5000;\n    root._bokeh_failed_load = false;\n  }\n\n  function run_callbacks() {\n    try {\n      root._bokeh_onload_callbacks.forEach(function(callback) {\n        if (callback != null)\n          callback();\n      });\n    } finally {\n      delete root._bokeh_onload_callbacks\n    }\n    console.debug(\"Bokeh: all callbacks have finished\");\n  }\n\n  function load_libs(css_urls, js_urls, js_modules, callback) {\n    if (css_urls == null) css_urls = [];\n    if (js_urls == null) js_urls = [];\n    if (js_modules == null) js_modules = [];\n\n    root._bokeh_onload_callbacks.push(callback);\n    if (root._bokeh_is_loading > 0) {\n      console.debug(\"Bokeh: BokehJS is being loaded, scheduling callback at\", now());\n      return null;\n    }\n    if (js_urls.length === 0 && js_modules.length === 0) {\n      run_callbacks();\n      return null;\n    }\n    console.debug(\"Bokeh: BokehJS not loaded, scheduling load and callback at\", now());\n\n    function on_load() {\n      root._bokeh_is_loading--;\n      if (root._bokeh_is_loading === 0) {\n        console.debug(\"Bokeh: all BokehJS libraries/stylesheets loaded\");\n        run_callbacks()\n      }\n    }\n\n    function on_error() {\n      console.error(\"failed to load \" + url);\n    }\n\n    for (var i = 0; i < css_urls.length; i++) {\n      var url = css_urls[i];\n      const element = document.createElement(\"link\");\n      element.onload = on_load;\n      element.onerror = on_error;\n      element.rel = \"stylesheet\";\n      element.type = \"text/css\";\n      element.href = url;\n      console.debug(\"Bokeh: injecting link tag for BokehJS stylesheet: \", url);\n      document.body.appendChild(element);\n    }\n\n    var skip = [];\n    if (window.requirejs) {\n      window.requirejs.config({'packages': {}, 'paths': {'gridstack': 'https://cdn.jsdelivr.net/npm/gridstack@4.2.5/dist/gridstack-h5'}, 'shim': {'gridstack': {'exports': 'GridStack'}}});\n      \n      require([\"gridstack\"], function(GridStack) {\n\t\n\twindow.GridStack = GridStack\n\t\n\ton_load()\n      })\n      \n      root._bokeh_is_loading = css_urls.length + 1;\n    } else {\n      root._bokeh_is_loading = css_urls.length + js_urls.length + js_modules.length;\n    }\n    if (((window['GridStack'] !== undefined) && (!(window['GridStack'] instanceof HTMLElement))) || window.requirejs) {\n      var urls = ['https://cdn.jsdelivr.net/npm/gridstack@4.2.5/dist/gridstack-h5.js'];\n      for (var i = 0; i < urls.length; i++) {\n        skip.push(urls[i])\n      }\n    }\n    for (var i = 0; i < js_urls.length; i++) {\n      var url = js_urls[i];\n      if (skip.indexOf(url) >= 0) {\n\tif (!window.requirejs) {\n\t  on_load();\n\t}\n\tcontinue;\n      }\n      var element = document.createElement('script');\n      element.onload = on_load;\n      element.onerror = on_error;\n      element.async = false;\n      element.src = url;\n      console.debug(\"Bokeh: injecting script tag for BokehJS library: \", url);\n      document.head.appendChild(element);\n    }\n    for (var i = 0; i < js_modules.length; i++) {\n      var url = js_modules[i];\n      if (skip.indexOf(url) >= 0) {\n\tif (!window.requirejs) {\n\t  on_load();\n\t}\n\tcontinue;\n      }\n      var element = document.createElement('script');\n      element.onload = on_load;\n      element.onerror = on_error;\n      element.async = false;\n      element.src = url;\n      element.type = \"module\";\n      console.debug(\"Bokeh: injecting script tag for BokehJS library: \", url);\n      document.head.appendChild(element);\n    }\n    if (!js_urls.length && !js_modules.length) {\n      on_load()\n    }\n  };\n\n  function inject_raw_css(css) {\n    const element = document.createElement(\"style\");\n    element.appendChild(document.createTextNode(css));\n    document.body.appendChild(element);\n  }\n\n  var js_urls = [\"https://cdn.bokeh.org/bokeh/release/bokeh-2.4.2.min.js\", \"https://cdn.bokeh.org/bokeh/release/bokeh-gl-2.4.2.min.js\", \"https://cdn.bokeh.org/bokeh/release/bokeh-widgets-2.4.2.min.js\", \"https://cdn.bokeh.org/bokeh/release/bokeh-tables-2.4.2.min.js\", \"https://cdn.bokeh.org/bokeh/release/bokeh-mathjax-2.4.2.min.js\", \"https://unpkg.com/@holoviz/panel@0.13.0/dist/panel.min.js\"];\n  var js_modules = [];\n  var css_urls = [\"https://unpkg.com/@holoviz/panel@0.13.0/dist/css/debugger.css\", \"https://unpkg.com/@holoviz/panel@0.13.0/dist/css/alerts.css\", \"https://unpkg.com/@holoviz/panel@0.13.0/dist/css/card.css\", \"https://unpkg.com/@holoviz/panel@0.13.0/dist/css/widgets.css\", \"https://unpkg.com/@holoviz/panel@0.13.0/dist/css/markdown.css\", \"https://unpkg.com/@holoviz/panel@0.13.0/dist/css/json.css\", \"https://unpkg.com/@holoviz/panel@0.13.0/dist/css/loading.css\", \"https://unpkg.com/@holoviz/panel@0.13.0/dist/css/dataframe.css\"];\n  var inline_js = [\n    function(Bokeh) {\n      inject_raw_css(\"\\n    .bk.pn-loading.arcs:before {\\n      background-image: url(\\\"data:image/svg+xml;base64,PHN2ZyB4bWxucz0iaHR0cDovL3d3dy53My5vcmcvMjAwMC9zdmciIHhtbG5zOnhsaW5rPSJodHRwOi8vd3d3LnczLm9yZy8xOTk5L3hsaW5rIiBzdHlsZT0ibWFyZ2luOiBhdXRvOyBiYWNrZ3JvdW5kOiBub25lOyBkaXNwbGF5OiBibG9jazsgc2hhcGUtcmVuZGVyaW5nOiBhdXRvOyIgdmlld0JveD0iMCAwIDEwMCAxMDAiIHByZXNlcnZlQXNwZWN0UmF0aW89InhNaWRZTWlkIj4gIDxjaXJjbGUgY3g9IjUwIiBjeT0iNTAiIHI9IjMyIiBzdHJva2Utd2lkdGg9IjgiIHN0cm9rZT0iI2MzYzNjMyIgc3Ryb2tlLWRhc2hhcnJheT0iNTAuMjY1NDgyNDU3NDM2NjkgNTAuMjY1NDgyNDU3NDM2NjkiIGZpbGw9Im5vbmUiIHN0cm9rZS1saW5lY2FwPSJyb3VuZCI+ICAgIDxhbmltYXRlVHJhbnNmb3JtIGF0dHJpYnV0ZU5hbWU9InRyYW5zZm9ybSIgdHlwZT0icm90YXRlIiByZXBlYXRDb3VudD0iaW5kZWZpbml0ZSIgZHVyPSIxcyIga2V5VGltZXM9IjA7MSIgdmFsdWVzPSIwIDUwIDUwOzM2MCA1MCA1MCI+PC9hbmltYXRlVHJhbnNmb3JtPiAgPC9jaXJjbGU+PC9zdmc+\\\");\\n      background-size: auto calc(min(50%, 400px));\\n    }\\n    \");\n    },\n    function(Bokeh) {\n      Bokeh.set_log_level(\"info\");\n    },\n    function(Bokeh) {} // ensure no trailing comma for IE\n  ];\n\n  function run_inline_js() {\n    if ((root.Bokeh !== undefined) || (force === true)) {\n      for (var i = 0; i < inline_js.length; i++) {\n        inline_js[i].call(root, root.Bokeh);\n      }} else if (Date.now() < root._bokeh_timeout) {\n      setTimeout(run_inline_js, 100);\n    } else if (!root._bokeh_failed_load) {\n      console.log(\"Bokeh: BokehJS failed to load within specified timeout.\");\n      root._bokeh_failed_load = true;\n    }\n  }\n\n  if (root._bokeh_is_loading === 0) {\n    console.debug(\"Bokeh: BokehJS loaded, going straight to plotting\");\n    run_inline_js();\n  } else {\n    load_libs(css_urls, js_urls, js_modules, function() {\n      console.debug(\"Bokeh: BokehJS plotting callback run at\", now());\n      run_inline_js();\n    });\n  }\n}(window));",
      "application/vnd.holoviews_load.v0+json": ""
     },
     "metadata": {},
     "output_type": "display_data"
    },
    {
     "data": {
      "application/javascript": "\nif ((window.PyViz === undefined) || (window.PyViz instanceof HTMLElement)) {\n  window.PyViz = {comms: {}, comm_status:{}, kernels:{}, receivers: {}, plot_index: []}\n}\n\n\n    function JupyterCommManager() {\n    }\n\n    JupyterCommManager.prototype.register_target = function(plot_id, comm_id, msg_handler) {\n      if (window.comm_manager || ((window.Jupyter !== undefined) && (Jupyter.notebook.kernel != null))) {\n        var comm_manager = window.comm_manager || Jupyter.notebook.kernel.comm_manager;\n        comm_manager.register_target(comm_id, function(comm) {\n          comm.on_msg(msg_handler);\n        });\n      } else if ((plot_id in window.PyViz.kernels) && (window.PyViz.kernels[plot_id])) {\n        window.PyViz.kernels[plot_id].registerCommTarget(comm_id, function(comm) {\n          comm.onMsg = msg_handler;\n        });\n      } else if (typeof google != 'undefined' && google.colab.kernel != null) {\n        google.colab.kernel.comms.registerTarget(comm_id, (comm) => {\n          var messages = comm.messages[Symbol.asyncIterator]();\n          function processIteratorResult(result) {\n            var message = result.value;\n            console.log(message)\n            var content = {data: message.data, comm_id};\n            var buffers = []\n            for (var buffer of message.buffers || []) {\n              buffers.push(new DataView(buffer))\n            }\n            var metadata = message.metadata || {};\n            var msg = {content, buffers, metadata}\n            msg_handler(msg);\n            return messages.next().then(processIteratorResult);\n          }\n          return messages.next().then(processIteratorResult);\n        })\n      }\n    }\n\n    JupyterCommManager.prototype.get_client_comm = function(plot_id, comm_id, msg_handler) {\n      if (comm_id in window.PyViz.comms) {\n        return window.PyViz.comms[comm_id];\n      } else if (window.comm_manager || ((window.Jupyter !== undefined) && (Jupyter.notebook.kernel != null))) {\n        var comm_manager = window.comm_manager || Jupyter.notebook.kernel.comm_manager;\n        var comm = comm_manager.new_comm(comm_id, {}, {}, {}, comm_id);\n        if (msg_handler) {\n          comm.on_msg(msg_handler);\n        }\n      } else if ((plot_id in window.PyViz.kernels) && (window.PyViz.kernels[plot_id])) {\n        var comm = window.PyViz.kernels[plot_id].connectToComm(comm_id);\n        comm.open();\n        if (msg_handler) {\n          comm.onMsg = msg_handler;\n        }\n      } else if (typeof google != 'undefined' && google.colab.kernel != null) {\n        var comm_promise = google.colab.kernel.comms.open(comm_id)\n        comm_promise.then((comm) => {\n          window.PyViz.comms[comm_id] = comm;\n          if (msg_handler) {\n            var messages = comm.messages[Symbol.asyncIterator]();\n            function processIteratorResult(result) {\n              var message = result.value;\n              var content = {data: message.data};\n              var metadata = message.metadata || {comm_id};\n              var msg = {content, metadata}\n              msg_handler(msg);\n              return messages.next().then(processIteratorResult);\n            }\n            return messages.next().then(processIteratorResult);\n          }\n        }) \n        var sendClosure = (data, metadata, buffers, disposeOnDone) => {\n          return comm_promise.then((comm) => {\n            comm.send(data, metadata, buffers, disposeOnDone);\n          });\n        };\n        var comm = {\n          send: sendClosure\n        };\n      }\n      window.PyViz.comms[comm_id] = comm;\n      return comm;\n    }\n    window.PyViz.comm_manager = new JupyterCommManager();\n    \n\n\nvar JS_MIME_TYPE = 'application/javascript';\nvar HTML_MIME_TYPE = 'text/html';\nvar EXEC_MIME_TYPE = 'application/vnd.holoviews_exec.v0+json';\nvar CLASS_NAME = 'output';\n\n/**\n * Render data to the DOM node\n */\nfunction render(props, node) {\n  var div = document.createElement(\"div\");\n  var script = document.createElement(\"script\");\n  node.appendChild(div);\n  node.appendChild(script);\n}\n\n/**\n * Handle when a new output is added\n */\nfunction handle_add_output(event, handle) {\n  var output_area = handle.output_area;\n  var output = handle.output;\n  if ((output.data == undefined) || (!output.data.hasOwnProperty(EXEC_MIME_TYPE))) {\n    return\n  }\n  var id = output.metadata[EXEC_MIME_TYPE][\"id\"];\n  var toinsert = output_area.element.find(\".\" + CLASS_NAME.split(' ')[0]);\n  if (id !== undefined) {\n    var nchildren = toinsert.length;\n    var html_node = toinsert[nchildren-1].children[0];\n    html_node.innerHTML = output.data[HTML_MIME_TYPE];\n    var scripts = [];\n    var nodelist = html_node.querySelectorAll(\"script\");\n    for (var i in nodelist) {\n      if (nodelist.hasOwnProperty(i)) {\n        scripts.push(nodelist[i])\n      }\n    }\n\n    scripts.forEach( function (oldScript) {\n      var newScript = document.createElement(\"script\");\n      var attrs = [];\n      var nodemap = oldScript.attributes;\n      for (var j in nodemap) {\n        if (nodemap.hasOwnProperty(j)) {\n          attrs.push(nodemap[j])\n        }\n      }\n      attrs.forEach(function(attr) { newScript.setAttribute(attr.name, attr.value) });\n      newScript.appendChild(document.createTextNode(oldScript.innerHTML));\n      oldScript.parentNode.replaceChild(newScript, oldScript);\n    });\n    if (JS_MIME_TYPE in output.data) {\n      toinsert[nchildren-1].children[1].textContent = output.data[JS_MIME_TYPE];\n    }\n    output_area._hv_plot_id = id;\n    if ((window.Bokeh !== undefined) && (id in Bokeh.index)) {\n      window.PyViz.plot_index[id] = Bokeh.index[id];\n    } else {\n      window.PyViz.plot_index[id] = null;\n    }\n  } else if (output.metadata[EXEC_MIME_TYPE][\"server_id\"] !== undefined) {\n    var bk_div = document.createElement(\"div\");\n    bk_div.innerHTML = output.data[HTML_MIME_TYPE];\n    var script_attrs = bk_div.children[0].attributes;\n    for (var i = 0; i < script_attrs.length; i++) {\n      toinsert[toinsert.length - 1].childNodes[1].setAttribute(script_attrs[i].name, script_attrs[i].value);\n    }\n    // store reference to server id on output_area\n    output_area._bokeh_server_id = output.metadata[EXEC_MIME_TYPE][\"server_id\"];\n  }\n}\n\n/**\n * Handle when an output is cleared or removed\n */\nfunction handle_clear_output(event, handle) {\n  var id = handle.cell.output_area._hv_plot_id;\n  var server_id = handle.cell.output_area._bokeh_server_id;\n  if (((id === undefined) || !(id in PyViz.plot_index)) && (server_id !== undefined)) { return; }\n  var comm = window.PyViz.comm_manager.get_client_comm(\"hv-extension-comm\", \"hv-extension-comm\", function () {});\n  if (server_id !== null) {\n    comm.send({event_type: 'server_delete', 'id': server_id});\n    return;\n  } else if (comm !== null) {\n    comm.send({event_type: 'delete', 'id': id});\n  }\n  delete PyViz.plot_index[id];\n  if ((window.Bokeh !== undefined) & (id in window.Bokeh.index)) {\n    var doc = window.Bokeh.index[id].model.document\n    doc.clear();\n    const i = window.Bokeh.documents.indexOf(doc);\n    if (i > -1) {\n      window.Bokeh.documents.splice(i, 1);\n    }\n  }\n}\n\n/**\n * Handle kernel restart event\n */\nfunction handle_kernel_cleanup(event, handle) {\n  delete PyViz.comms[\"hv-extension-comm\"];\n  window.PyViz.plot_index = {}\n}\n\n/**\n * Handle update_display_data messages\n */\nfunction handle_update_output(event, handle) {\n  handle_clear_output(event, {cell: {output_area: handle.output_area}})\n  handle_add_output(event, handle)\n}\n\nfunction register_renderer(events, OutputArea) {\n  function append_mime(data, metadata, element) {\n    // create a DOM node to render to\n    var toinsert = this.create_output_subarea(\n    metadata,\n    CLASS_NAME,\n    EXEC_MIME_TYPE\n    );\n    this.keyboard_manager.register_events(toinsert);\n    // Render to node\n    var props = {data: data, metadata: metadata[EXEC_MIME_TYPE]};\n    render(props, toinsert[0]);\n    element.append(toinsert);\n    return toinsert\n  }\n\n  events.on('output_added.OutputArea', handle_add_output);\n  events.on('output_updated.OutputArea', handle_update_output);\n  events.on('clear_output.CodeCell', handle_clear_output);\n  events.on('delete.Cell', handle_clear_output);\n  events.on('kernel_ready.Kernel', handle_kernel_cleanup);\n\n  OutputArea.prototype.register_mime_type(EXEC_MIME_TYPE, append_mime, {\n    safe: true,\n    index: 0\n  });\n}\n\nif (window.Jupyter !== undefined) {\n  try {\n    var events = require('base/js/events');\n    var OutputArea = require('notebook/js/outputarea').OutputArea;\n    if (OutputArea.prototype.mime_types().indexOf(EXEC_MIME_TYPE) == -1) {\n      register_renderer(events, OutputArea);\n    }\n  } catch(err) {\n  }\n}\n",
      "application/vnd.holoviews_load.v0+json": ""
     },
     "metadata": {},
     "output_type": "display_data"
    },
    {
     "data": {
      "text/html": [
       "<style>.bk-root, .bk-root .bk:before, .bk-root .bk:after {\n",
       "  font-family: var(--jp-ui-font-size1);\n",
       "  font-size: var(--jp-ui-font-size1);\n",
       "  color: var(--jp-ui-font-color1);\n",
       "}\n",
       "</style>"
      ]
     },
     "metadata": {},
     "output_type": "display_data"
    },
    {
     "data": {
      "text/html": [
       "\n",
       "    <div class=\"bk-root\">\n",
       "        <a href=\"https://bokeh.org\" target=\"_blank\" class=\"bk-logo bk-logo-small bk-logo-notebook\"></a>\n",
       "        <span id=\"3395\">Loading BokehJS ...</span>\n",
       "    </div>"
      ]
     },
     "metadata": {},
     "output_type": "display_data"
    },
    {
     "data": {
      "application/javascript": "\n(function(root) {\n  function now() {\n    return new Date();\n  }\n\n  const force = true;\n\n  if (typeof root._bokeh_onload_callbacks === \"undefined\" || force === true) {\n    root._bokeh_onload_callbacks = [];\n    root._bokeh_is_loading = undefined;\n  }\n\n  const JS_MIME_TYPE = 'application/javascript';\n  const HTML_MIME_TYPE = 'text/html';\n  const EXEC_MIME_TYPE = 'application/vnd.bokehjs_exec.v0+json';\n  const CLASS_NAME = 'output_bokeh rendered_html';\n\n  /**\n   * Render data to the DOM node\n   */\n  function render(props, node) {\n    const script = document.createElement(\"script\");\n    node.appendChild(script);\n  }\n\n  /**\n   * Handle when an output is cleared or removed\n   */\n  function handleClearOutput(event, handle) {\n    const cell = handle.cell;\n\n    const id = cell.output_area._bokeh_element_id;\n    const server_id = cell.output_area._bokeh_server_id;\n    // Clean up Bokeh references\n    if (id != null && id in Bokeh.index) {\n      Bokeh.index[id].model.document.clear();\n      delete Bokeh.index[id];\n    }\n\n    if (server_id !== undefined) {\n      // Clean up Bokeh references\n      const cmd_clean = \"from bokeh.io.state import curstate; print(curstate().uuid_to_server['\" + server_id + \"'].get_sessions()[0].document.roots[0]._id)\";\n      cell.notebook.kernel.execute(cmd_clean, {\n        iopub: {\n          output: function(msg) {\n            const id = msg.content.text.trim();\n            if (id in Bokeh.index) {\n              Bokeh.index[id].model.document.clear();\n              delete Bokeh.index[id];\n            }\n          }\n        }\n      });\n      // Destroy server and session\n      const cmd_destroy = \"import bokeh.io.notebook as ion; ion.destroy_server('\" + server_id + \"')\";\n      cell.notebook.kernel.execute(cmd_destroy);\n    }\n  }\n\n  /**\n   * Handle when a new output is added\n   */\n  function handleAddOutput(event, handle) {\n    const output_area = handle.output_area;\n    const output = handle.output;\n\n    // limit handleAddOutput to display_data with EXEC_MIME_TYPE content only\n    if ((output.output_type != \"display_data\") || (!Object.prototype.hasOwnProperty.call(output.data, EXEC_MIME_TYPE))) {\n      return\n    }\n\n    const toinsert = output_area.element.find(\".\" + CLASS_NAME.split(' ')[0]);\n\n    if (output.metadata[EXEC_MIME_TYPE][\"id\"] !== undefined) {\n      toinsert[toinsert.length - 1].firstChild.textContent = output.data[JS_MIME_TYPE];\n      // store reference to embed id on output_area\n      output_area._bokeh_element_id = output.metadata[EXEC_MIME_TYPE][\"id\"];\n    }\n    if (output.metadata[EXEC_MIME_TYPE][\"server_id\"] !== undefined) {\n      const bk_div = document.createElement(\"div\");\n      bk_div.innerHTML = output.data[HTML_MIME_TYPE];\n      const script_attrs = bk_div.children[0].attributes;\n      for (let i = 0; i < script_attrs.length; i++) {\n        toinsert[toinsert.length - 1].firstChild.setAttribute(script_attrs[i].name, script_attrs[i].value);\n        toinsert[toinsert.length - 1].firstChild.textContent = bk_div.children[0].textContent\n      }\n      // store reference to server id on output_area\n      output_area._bokeh_server_id = output.metadata[EXEC_MIME_TYPE][\"server_id\"];\n    }\n  }\n\n  function register_renderer(events, OutputArea) {\n\n    function append_mime(data, metadata, element) {\n      // create a DOM node to render to\n      const toinsert = this.create_output_subarea(\n        metadata,\n        CLASS_NAME,\n        EXEC_MIME_TYPE\n      );\n      this.keyboard_manager.register_events(toinsert);\n      // Render to node\n      const props = {data: data, metadata: metadata[EXEC_MIME_TYPE]};\n      render(props, toinsert[toinsert.length - 1]);\n      element.append(toinsert);\n      return toinsert\n    }\n\n    /* Handle when an output is cleared or removed */\n    events.on('clear_output.CodeCell', handleClearOutput);\n    events.on('delete.Cell', handleClearOutput);\n\n    /* Handle when a new output is added */\n    events.on('output_added.OutputArea', handleAddOutput);\n\n    /**\n     * Register the mime type and append_mime function with output_area\n     */\n    OutputArea.prototype.register_mime_type(EXEC_MIME_TYPE, append_mime, {\n      /* Is output safe? */\n      safe: true,\n      /* Index of renderer in `output_area.display_order` */\n      index: 0\n    });\n  }\n\n  // register the mime type if in Jupyter Notebook environment and previously unregistered\n  if (root.Jupyter !== undefined) {\n    const events = require('base/js/events');\n    const OutputArea = require('notebook/js/outputarea').OutputArea;\n\n    if (OutputArea.prototype.mime_types().indexOf(EXEC_MIME_TYPE) == -1) {\n      register_renderer(events, OutputArea);\n    }\n  }\n\n  \n  if (typeof (root._bokeh_timeout) === \"undefined\" || force === true) {\n    root._bokeh_timeout = Date.now() + 5000;\n    root._bokeh_failed_load = false;\n  }\n\n  const NB_LOAD_WARNING = {'data': {'text/html':\n     \"<div style='background-color: #fdd'>\\n\"+\n     \"<p>\\n\"+\n     \"BokehJS does not appear to have successfully loaded. If loading BokehJS from CDN, this \\n\"+\n     \"may be due to a slow or bad network connection. Possible fixes:\\n\"+\n     \"</p>\\n\"+\n     \"<ul>\\n\"+\n     \"<li>re-rerun `output_notebook()` to attempt to load from CDN again, or</li>\\n\"+\n     \"<li>use INLINE resources instead, as so:</li>\\n\"+\n     \"</ul>\\n\"+\n     \"<code>\\n\"+\n     \"from bokeh.resources import INLINE\\n\"+\n     \"output_notebook(resources=INLINE)\\n\"+\n     \"</code>\\n\"+\n     \"</div>\"}};\n\n  function display_loaded() {\n    const el = document.getElementById(\"3395\");\n    if (el != null) {\n      el.textContent = \"BokehJS is loading...\";\n    }\n    if (root.Bokeh !== undefined) {\n      if (el != null) {\n        el.textContent = \"BokehJS \" + root.Bokeh.version + \" successfully loaded.\";\n      }\n    } else if (Date.now() < root._bokeh_timeout) {\n      setTimeout(display_loaded, 100)\n    }\n  }\n\n\n  function run_callbacks() {\n    try {\n      root._bokeh_onload_callbacks.forEach(function(callback) {\n        if (callback != null)\n          callback();\n      });\n    } finally {\n      delete root._bokeh_onload_callbacks\n    }\n    console.debug(\"Bokeh: all callbacks have finished\");\n  }\n\n  function load_libs(css_urls, js_urls, callback) {\n    if (css_urls == null) css_urls = [];\n    if (js_urls == null) js_urls = [];\n\n    root._bokeh_onload_callbacks.push(callback);\n    if (root._bokeh_is_loading > 0) {\n      console.debug(\"Bokeh: BokehJS is being loaded, scheduling callback at\", now());\n      return null;\n    }\n    if (js_urls == null || js_urls.length === 0) {\n      run_callbacks();\n      return null;\n    }\n    console.debug(\"Bokeh: BokehJS not loaded, scheduling load and callback at\", now());\n    root._bokeh_is_loading = css_urls.length + js_urls.length;\n\n    function on_load() {\n      root._bokeh_is_loading--;\n      if (root._bokeh_is_loading === 0) {\n        console.debug(\"Bokeh: all BokehJS libraries/stylesheets loaded\");\n        run_callbacks()\n      }\n    }\n\n    function on_error(url) {\n      console.error(\"failed to load \" + url);\n    }\n\n    for (let i = 0; i < css_urls.length; i++) {\n      const url = css_urls[i];\n      const element = document.createElement(\"link\");\n      element.onload = on_load;\n      element.onerror = on_error.bind(null, url);\n      element.rel = \"stylesheet\";\n      element.type = \"text/css\";\n      element.href = url;\n      console.debug(\"Bokeh: injecting link tag for BokehJS stylesheet: \", url);\n      document.body.appendChild(element);\n    }\n\n    for (let i = 0; i < js_urls.length; i++) {\n      const url = js_urls[i];\n      const element = document.createElement('script');\n      element.onload = on_load;\n      element.onerror = on_error.bind(null, url);\n      element.async = false;\n      element.src = url;\n      console.debug(\"Bokeh: injecting script tag for BokehJS library: \", url);\n      document.head.appendChild(element);\n    }\n  };\n\n  function inject_raw_css(css) {\n    const element = document.createElement(\"style\");\n    element.appendChild(document.createTextNode(css));\n    document.body.appendChild(element);\n  }\n\n  \n  const js_urls = [\"https://cdn.bokeh.org/bokeh/release/bokeh-2.4.2.min.js\", \"https://cdn.bokeh.org/bokeh/release/bokeh-gl-2.4.2.min.js\", \"https://cdn.bokeh.org/bokeh/release/bokeh-widgets-2.4.2.min.js\", \"https://cdn.bokeh.org/bokeh/release/bokeh-tables-2.4.2.min.js\", \"https://cdn.bokeh.org/bokeh/release/bokeh-mathjax-2.4.2.min.js\", \"https://unpkg.com/@holoviz/panel@0.13.0/dist/panel.min.js\"];\n  const css_urls = [];\n  \n\n  const inline_js = [\n    function(Bokeh) {\n      Bokeh.set_log_level(\"info\");\n    },\n    function(Bokeh) {\n    \n    \n    }\n  ];\n\n  function run_inline_js() {\n    \n    if (root.Bokeh !== undefined || force === true) {\n      \n    for (let i = 0; i < inline_js.length; i++) {\n      inline_js[i].call(root, root.Bokeh);\n    }\n    if (force === true) {\n        display_loaded();\n      }} else if (Date.now() < root._bokeh_timeout) {\n      setTimeout(run_inline_js, 100);\n    } else if (!root._bokeh_failed_load) {\n      console.log(\"Bokeh: BokehJS failed to load within specified timeout.\");\n      root._bokeh_failed_load = true;\n    } else if (force !== true) {\n      const cell = $(document.getElementById(\"3395\")).parents('.cell').data().cell;\n      cell.output_area.append_execute_result(NB_LOAD_WARNING)\n    }\n\n  }\n\n  if (root._bokeh_is_loading === 0) {\n    console.debug(\"Bokeh: BokehJS loaded, going straight to plotting\");\n    run_inline_js();\n  } else {\n    load_libs(css_urls, js_urls, function() {\n      console.debug(\"Bokeh: BokehJS plotting callback run at\", now());\n      run_inline_js();\n    });\n  }\n}(window));",
      "application/vnd.bokehjs_load.v0+json": ""
     },
     "metadata": {},
     "output_type": "display_data"
    }
   ],
   "source": [
    "\n",
    "import numpy as np\n",
    "import scipy.integrate\n",
    "import scipy.optimize\n",
    "from bokeh.plotting import figure, output_file, show\n",
    "\n",
    "import bokeh.plotting\n",
    "import bokeh.io\n",
    "from bokeh.models import Span\n",
    "\n",
    "\n",
    "# We will use Matplotlib to make a 3D plot\n",
    "import matplotlib.pyplot as plt\n",
    "from mpl_toolkits.mplot3d import Axes3D\n",
    "%matplotlib inline\n",
    "%config InlineBackend.figure_format = 'retina'\n",
    "\n",
    "import panel as pn\n",
    "pn.extension()\n",
    "\n",
    "bokeh.io.output_notebook()"
   ]
  },
  {
   "cell_type": "code",
   "execution_count": 46,
   "id": "8685cfd5",
   "metadata": {},
   "outputs": [],
   "source": [
    "def Self_regenerate_model(molecules,t,alpha,beta,K,KTL,KTX,lamb1,lamb2,Kdr_0,Kdr_1,Kdr_2,Kdr_3):\n",
    "    R,dT,dG,mT,mG,pT,pG,TX,TL = molecules\n",
    "    return np.array(\n",
    "        [\n",
    "            -alpha*TX*dT/(dT+dG+KTX)*pT*R/(R+K)-alpha*TX*dG/(dT+dG+KTX)*pT*R/(R+K)-beta*TL*mT/(mT+mG+KTL)*R/(R+K)-beta*TL*mG/(mT+mG+KTL)*R/(R+K),\n",
    "            0,\n",
    "            0,\n",
    "            alpha*TX*dT/(dT+dG+KTX)*pT*R/(R+K),\n",
    "            alpha*TX*dG/(dT+dG+KTX)*pT*R/(R+K)G,\n",
    "            beta*TL*(mT/(mT+mG+KTL))*(R/(R+K)),\n",
    "            beta*TL*mG/(mT+mG+KTL)*R/(R+K),\n",
    "            -lamb1*TX,\n",
    "            -lamb1*TL\n",
    "        ]\n",
    "    )\n",
    "    "
   ]
  },
  {
   "cell_type": "code",
   "execution_count": 130,
   "id": "e6c17502",
   "metadata": {},
   "outputs": [],
   "source": [
    "#common parameters \n",
    "alpha=0.7;\n",
    "beta=0.07;\n",
    "K=1.0;\n",
    "KTL=10;\n",
    "KTX=1;\n",
    "lamb1=0;\n",
    "lamb2=0;\n",
    "\n",
    "#initial condition\n",
    "R0=100.0;\n",
    "dT0=0.5;\n",
    "dG0=2;\n",
    "mT0=0.0;\n",
    "mG0=0.0;\n",
    "pT0=1;\n",
    "pG0=0.0;\n",
    "TX0=1;\n",
    "TL0=1;\n",
    "\n",
    "molecules0 = [R0,dT0,dG0,mT0,mG0,pT0,pG0,TX0,TL0]\n",
    "\n",
    "#index \n",
    "\n",
    "idx_R =0\n",
    "idx_dT =1\n",
    "idx_dG =2\n",
    "idx_mT =3\n",
    "idx_pT =4\n",
    "idx_pG =5\n",
    "idx_TX =6\n",
    "idx_TL =7\n",
    "\n",
    "\n",
    "\n",
    "#stage 1 kick start\n",
    "\n",
    "t = np.linspace(0,240,17)\n",
    "\n",
    "Kdr_0=0.012\n",
    "Kdr_1=0.012\n",
    "Kdr_2=0\n",
    "Kdr_3=0.012\n",
    "Kdr_4=0\n",
    "\n",
    "result = scipy.integrate.odeint(Self_regenerate_model, molecules0, t, args=(alpha,beta,K,KTL,KTX,lamb1,lamb2,Kdr_0,Kdr_1,Kdr_2,Kdr_3))\n",
    "#update parameters \n",
    "molecules0 = result.transpose()[:,-1]\n",
    "result_all = result\n",
    "\n",
    "#stage 2 regenerate\n",
    "t = np.linspace(240, 960, 49)\n",
    "\n",
    "Kdr_0=0\n",
    "Kdr_1=0.012\n",
    "Kdr_2=0\n",
    "Kdr_3=0.012\n",
    "Kdr_4=1\n",
    "\n",
    "result = scipy.integrate.odeint(Self_regenerate_model, molecules0, t, args=(alpha,beta,K,KTL,KTX,lamb1,lamb2,Kdr_0,Kdr_1,Kdr_2,Kdr_3))\n",
    "molecules0 = result.transpose()[:,-1]\n",
    "\n",
    "result_all = np.append(result_all,result[1:],axis=0)\n",
    "\n",
    "\n",
    "#stage 3 washout\n",
    "t = np.linspace(960, 1800, 57)\n",
    "\n",
    "Kdr_0=0\n",
    "Kdr_1=0.012\n",
    "Kdr_2=0.012\n",
    "Kdr_3=0.012\n",
    "Kdr_4=1\n",
    "\n",
    "result = scipy.integrate.odeint(Self_regenerate_model, molecules0, t, args=(alpha,beta,K,KTL,KTX,lamb1,lamb2,Kdr_0,Kdr_1,Kdr_2,Kdr_3))\n",
    "\n",
    "result_all = np.append(result_all,result[1:],axis=0)\n",
    "R,dT,dG,mT,mG,pT,pG,TX,TL = result_all.transpose()\n",
    "\n",
    "\n"
   ]
  },
  {
   "cell_type": "code",
   "execution_count": 72,
   "id": "306ed372",
   "metadata": {},
   "outputs": [
    {
     "data": {
      "text/html": [
       "\n",
       "\n",
       "\n",
       "\n",
       "\n",
       "\n",
       "  <div class=\"bk-root\" id=\"bf1689e4-3a5d-4a58-bb0b-c14b053a5b23\" data-root-id=\"6141\"></div>\n"
      ]
     },
     "metadata": {},
     "output_type": "display_data"
    },
    {
     "data": {
      "application/javascript": "(function(root) {\n  function embed_document(root) {\n    \n  const docs_json = {\"7ae9cb25-ea5c-439f-84aa-f17f2a1e7380\":{\"defs\":[{\"extends\":null,\"module\":null,\"name\":\"ReactiveHTML1\",\"overrides\":[],\"properties\":[]},{\"extends\":null,\"module\":null,\"name\":\"FlexBox1\",\"overrides\":[],\"properties\":[{\"default\":\"flex-start\",\"kind\":null,\"name\":\"align_content\"},{\"default\":\"flex-start\",\"kind\":null,\"name\":\"align_items\"},{\"default\":\"row\",\"kind\":null,\"name\":\"flex_direction\"},{\"default\":\"wrap\",\"kind\":null,\"name\":\"flex_wrap\"},{\"default\":\"flex-start\",\"kind\":null,\"name\":\"justify_content\"}]},{\"extends\":null,\"module\":null,\"name\":\"GridStack1\",\"overrides\":[],\"properties\":[{\"default\":\"warn\",\"kind\":null,\"name\":\"mode\"},{\"default\":null,\"kind\":null,\"name\":\"ncols\"},{\"default\":null,\"kind\":null,\"name\":\"nrows\"},{\"default\":true,\"kind\":null,\"name\":\"allow_resize\"},{\"default\":true,\"kind\":null,\"name\":\"allow_drag\"},{\"default\":[],\"kind\":null,\"name\":\"state\"}]},{\"extends\":null,\"module\":null,\"name\":\"click1\",\"overrides\":[],\"properties\":[{\"default\":\"\",\"kind\":null,\"name\":\"terminal_output\"},{\"default\":\"\",\"kind\":null,\"name\":\"debug_name\"},{\"default\":0,\"kind\":null,\"name\":\"clears\"}]},{\"extends\":null,\"module\":null,\"name\":\"TemplateActions1\",\"overrides\":[],\"properties\":[{\"default\":0,\"kind\":null,\"name\":\"open_modal\"},{\"default\":0,\"kind\":null,\"name\":\"close_modal\"}]},{\"extends\":null,\"module\":null,\"name\":\"MaterialTemplateActions1\",\"overrides\":[],\"properties\":[{\"default\":0,\"kind\":null,\"name\":\"open_modal\"},{\"default\":0,\"kind\":null,\"name\":\"close_modal\"}]}],\"roots\":{\"references\":[{\"attributes\":{\"below\":[{\"id\":\"6150\"}],\"center\":[{\"id\":\"6153\"},{\"id\":\"6157\"},{\"id\":\"6189\"},{\"id\":\"6191\"},{\"id\":\"6192\"}],\"height\":200,\"left\":[{\"id\":\"6154\"}],\"renderers\":[{\"id\":\"6176\"}],\"title\":{\"id\":\"6178\"},\"toolbar\":{\"id\":\"6165\"},\"width\":800,\"x_range\":{\"id\":\"6142\"},\"x_scale\":{\"id\":\"6146\"},\"y_range\":{\"id\":\"6144\"},\"y_scale\":{\"id\":\"6148\"}},\"id\":\"6141\",\"subtype\":\"Figure\",\"type\":\"Plot\"},{\"attributes\":{\"tools\":[{\"id\":\"6158\"},{\"id\":\"6159\"},{\"id\":\"6160\"},{\"id\":\"6161\"},{\"id\":\"6162\"},{\"id\":\"6163\"}]},\"id\":\"6165\",\"type\":\"Toolbar\"},{\"attributes\":{},\"id\":\"6155\",\"type\":\"BasicTicker\"},{\"attributes\":{},\"id\":\"6186\",\"type\":\"UnionRenderers\"},{\"attributes\":{\"overlay\":{\"id\":\"6164\"}},\"id\":\"6160\",\"type\":\"BoxZoomTool\"},{\"attributes\":{\"axis_label\":\"t\",\"coordinates\":null,\"formatter\":{\"id\":\"6184\"},\"group\":null,\"major_label_policy\":{\"id\":\"6185\"},\"ticker\":{\"id\":\"6151\"}},\"id\":\"6150\",\"type\":\"LinearAxis\"},{\"attributes\":{},\"id\":\"6161\",\"type\":\"SaveTool\"},{\"attributes\":{},\"id\":\"6163\",\"type\":\"HelpTool\"},{\"attributes\":{},\"id\":\"6181\",\"type\":\"BasicTickFormatter\"},{\"attributes\":{},\"id\":\"6151\",\"type\":\"BasicTicker\"},{\"attributes\":{\"bottom_units\":\"screen\",\"coordinates\":null,\"fill_alpha\":0.5,\"fill_color\":\"lightgrey\",\"group\":null,\"left_units\":\"screen\",\"level\":\"overlay\",\"line_alpha\":1.0,\"line_color\":\"black\",\"line_dash\":[4,4],\"line_width\":2,\"right_units\":\"screen\",\"syncable\":false,\"top_units\":\"screen\"},\"id\":\"6164\",\"type\":\"BoxAnnotation\"},{\"attributes\":{},\"id\":\"6182\",\"type\":\"AllLabels\"},{\"attributes\":{\"axis\":{\"id\":\"6154\"},\"coordinates\":null,\"dimension\":1,\"group\":null,\"ticker\":null},\"id\":\"6157\",\"type\":\"Grid\"},{\"attributes\":{},\"id\":\"6185\",\"type\":\"AllLabels\"},{\"attributes\":{\"axis_label\":\" concentration\",\"coordinates\":null,\"formatter\":{\"id\":\"6181\"},\"group\":null,\"major_label_policy\":{\"id\":\"6182\"},\"ticker\":{\"id\":\"6155\"}},\"id\":\"6154\",\"type\":\"LinearAxis\"},{\"attributes\":{},\"id\":\"6162\",\"type\":\"ResetTool\"},{\"attributes\":{\"line_alpha\":0.1,\"line_color\":\"#1f77b4\",\"line_width\":2,\"x\":{\"field\":\"x\"},\"y\":{\"field\":\"y\"}},\"id\":\"6174\",\"type\":\"Line\"},{\"attributes\":{},\"id\":\"6144\",\"type\":\"DataRange1d\"},{\"attributes\":{\"coordinates\":null,\"dimension\":\"height\",\"group\":null,\"line_dash\":[6],\"location\":16},\"id\":\"6192\",\"type\":\"Span\"},{\"attributes\":{},\"id\":\"6142\",\"type\":\"DataRange1d\"},{\"attributes\":{},\"id\":\"6159\",\"type\":\"WheelZoomTool\"},{\"attributes\":{\"line_color\":\"#1f77b4\",\"line_width\":2,\"x\":{\"field\":\"x\"},\"y\":{\"field\":\"y\"}},\"id\":\"6173\",\"type\":\"Line\"},{\"attributes\":{},\"id\":\"6146\",\"type\":\"LinearScale\"},{\"attributes\":{},\"id\":\"6148\",\"type\":\"LinearScale\"},{\"attributes\":{\"source\":{\"id\":\"6172\"}},\"id\":\"6177\",\"type\":\"CDSView\"},{\"attributes\":{\"data\":{\"x\":{\"__ndarray__\":\"AAAAAAAAAAAAAAAAAADQPwAAAAAAAOA/AAAAAAAA6D8AAAAAAADwPwAAAAAAAPQ/AAAAAAAA+D8AAAAAAAD8PwAAAAAAAABAAAAAAAAAAkAAAAAAAAAEQAAAAAAAAAZAAAAAAAAACEAAAAAAAAAKQAAAAAAAAAxAAAAAAAAADkAAAAAAAAAQQAAAAAAAABFAAAAAAAAAEkAAAAAAAAATQAAAAAAAABRAAAAAAAAAFUAAAAAAAAAWQAAAAAAAABdAAAAAAAAAGEAAAAAAAAAZQAAAAAAAABpAAAAAAAAAG0AAAAAAAAAcQAAAAAAAAB1AAAAAAAAAHkAAAAAAAAAfQAAAAAAAACBAAAAAAACAIEAAAAAAAAAhQAAAAAAAgCFAAAAAAAAAIkAAAAAAAIAiQAAAAAAAACNAAAAAAACAI0AAAAAAAAAkQAAAAAAAgCRAAAAAAAAAJUAAAAAAAIAlQAAAAAAAACZAAAAAAACAJkAAAAAAAAAnQAAAAAAAgCdAAAAAAAAAKEAAAAAAAIAoQAAAAAAAAClAAAAAAACAKUAAAAAAAAAqQAAAAAAAgCpAAAAAAAAAK0AAAAAAAIArQAAAAAAAACxAAAAAAACALEAAAAAAAAAtQAAAAAAAgC1AAAAAAAAALkAAAAAAAIAuQAAAAAAAAC9AAAAAAACAL0AAAAAAAAAwQAAAAAAAQDBAAAAAAACAMEAAAAAAAMAwQAAAAAAAADFAAAAAAABAMUAAAAAAAIAxQAAAAAAAwDFAAAAAAAAAMkAAAAAAAEAyQAAAAAAAgDJAAAAAAADAMkAAAAAAAAAzQAAAAAAAQDNAAAAAAACAM0AAAAAAAMAzQAAAAAAAADRAAAAAAABANEAAAAAAAIA0QAAAAAAAwDRAAAAAAAAANUAAAAAAAEA1QAAAAAAAgDVAAAAAAADANUAAAAAAAAA2QAAAAAAAQDZAAAAAAACANkAAAAAAAMA2QAAAAAAAADdAAAAAAABAN0AAAAAAAIA3QAAAAAAAwDdAAAAAAAAAOEAAAAAAAEA4QAAAAAAAgDhAAAAAAADAOEAAAAAAAAA5QAAAAAAAQDlAAAAAAACAOUAAAAAAAMA5QAAAAAAAADpAAAAAAABAOkAAAAAAAIA6QAAAAAAAwDpAAAAAAAAAO0AAAAAAAEA7QAAAAAAAgDtAAAAAAADAO0AAAAAAAAA8QAAAAAAAQDxAAAAAAACAPEAAAAAAAMA8QAAAAAAAAD1AAAAAAABAPUAAAAAAAIA9QAAAAAAAwD1AAAAAAAAAPkA=\",\"dtype\":\"float64\",\"order\":\"little\",\"shape\":[121]},\"y\":{\"__ndarray__\":\"AAAAAAAAAACM+TWlOFvIP3vy0xVCQ+E/vaozh3Nr7T90BYdTHZ30P6AOL61AFvo/Wmwf9KYJ/z+WnAA4hrkBQC0g1+GyqwNAjpJ4zf1fBUA8AaBK79sGQCCZQwVFJQhAXsmouJRBCUAqF5WCHDYKQJGuFE+tBwtAQQglM6S6C0Dl8mw37FIMQG1wkF7S0wxASptIONw/DUDOQlHimZkNQDsXgm5c4w1AWzvXoRIfDkAEmgZUWk4OQD4kFZuacg5AoZdgbReNDkDxArfq/J4OQLIt7IRkqQ5AjGaWkVatDkAcpPIcyqsOQKhJmRSkpQ5APlv7bLabDkBul66Jv44OQFxU3Ahqfw5AInNK9kxuDkBAo4pe7FsOQEAdrTK6SA5AUeUwaxc1DkCqVS1XVSEOQPxSMQe3DQ5Aedw8xHL6DUBC/UCGs+cNQOrP7l+a1Q1A2F0S2D/EDUBlez0rtbMNQFn7KnIFpA1A5KNKqzaVDUCc3B2nSocNQCeoxNc/eg1AR+dPBRJuDUB0GsboumINQCwnua8yWA1A76n8anBODUAL+LdqakUNQM5jB4oWPQ1A2DIpbGo1DUCXfC2uWy4NQKbFkwzgJw1AwxP7ge0hDUD2HaZdehwNQLzz8FJ9Fw1AzHLChO0SDUD+R7KPwg4NQNkCV4f0Cg1AWfDV+3sHDUDytkX5UQQNQFqEFdkNAQ1AnZICEe37DEBS4uhNNPMMQCJw73125QxAbsN1TnjRDED9dvvjHLYMQM9BbThZkgxAXtBIVixlDEBvhwVYmy0MQIOHAV+w6gtAxP8IBXybC0A2CBL7GD8LQALuzZ6x1ApAKyg8YIdbCkD/u7nG+9IJQMEBSsyaOglAACZJGyaSCECGcM2HoNkHQOq/ZOFYEQdAzRTqDvM5BkCfd9RKblQFQBiKBlsnYgRAUvsx2tVkA0AgiigJhF4CQF0RTyuBUQFAh8DADk9AAEBxTATsF1v+P09YGBe1N/w/UuV4j5Mb+j8U289DfQv4P/4nzEXCC/Y/YhXA8Bsg9D80nxAymkvyPyS38QSbkPA/ycihhZbh7T+H7KaSXtrqP+9BqjJjDOg/Xu/382p35T/z4NmjVxrjPwdPqkVR8+A/cBcyuN//3T+tdOVxxHraP3yi9mAhUdc/9LfOKXZ81D+6lRiVI/bRP6FPwWMob88/G3LWObh0yz+znqO5ofDHP9kkJcw018Q/4kEpqnwdwj/pYgOpmXK/P8zx1OaMQrs/kLDfl6+Ztz+lV3OIbmi0P8AOV1S2oLE/p8dLC71rrj8=\",\"dtype\":\"float64\",\"order\":\"little\",\"shape\":[121]}},\"selected\":{\"id\":\"6187\"},\"selection_policy\":{\"id\":\"6186\"}},\"id\":\"6172\",\"type\":\"ColumnDataSource\"},{\"attributes\":{\"click_policy\":\"hide\",\"coordinates\":null,\"group\":null,\"items\":[{\"id\":\"6190\"}]},\"id\":\"6189\",\"type\":\"Legend\"},{\"attributes\":{\"axis\":{\"id\":\"6150\"},\"coordinates\":null,\"group\":null,\"ticker\":null},\"id\":\"6153\",\"type\":\"Grid\"},{\"attributes\":{\"coordinates\":null,\"dimension\":\"height\",\"group\":null,\"line_dash\":[6],\"location\":4},\"id\":\"6191\",\"type\":\"Span\"},{\"attributes\":{\"coordinates\":null,\"data_source\":{\"id\":\"6172\"},\"glyph\":{\"id\":\"6173\"},\"group\":null,\"hover_glyph\":null,\"muted_glyph\":{\"id\":\"6175\"},\"nonselection_glyph\":{\"id\":\"6174\"},\"view\":{\"id\":\"6177\"}},\"id\":\"6176\",\"type\":\"GlyphRenderer\"},{\"attributes\":{},\"id\":\"6184\",\"type\":\"BasicTickFormatter\"},{\"attributes\":{\"coordinates\":null,\"group\":null},\"id\":\"6178\",\"type\":\"Title\"},{\"attributes\":{},\"id\":\"6187\",\"type\":\"Selection\"},{\"attributes\":{\"line_alpha\":0.2,\"line_color\":\"#1f77b4\",\"line_width\":2,\"x\":{\"field\":\"x\"},\"y\":{\"field\":\"y\"}},\"id\":\"6175\",\"type\":\"Line\"},{\"attributes\":{},\"id\":\"6158\",\"type\":\"PanTool\"},{\"attributes\":{\"label\":{\"value\":\"pG\"},\"renderers\":[{\"id\":\"6176\"}]},\"id\":\"6190\",\"type\":\"LegendItem\"}],\"root_ids\":[\"6141\"]},\"title\":\"Bokeh Application\",\"version\":\"2.4.2\"}};\n  const render_items = [{\"docid\":\"7ae9cb25-ea5c-439f-84aa-f17f2a1e7380\",\"root_ids\":[\"6141\"],\"roots\":{\"6141\":\"bf1689e4-3a5d-4a58-bb0b-c14b053a5b23\"}}];\n  root.Bokeh.embed.embed_items_notebook(docs_json, render_items);\n\n  }\n  if (root.Bokeh !== undefined) {\n    embed_document(root);\n  } else {\n    let attempts = 0;\n    const timer = setInterval(function(root) {\n      if (root.Bokeh !== undefined) {\n        clearInterval(timer);\n        embed_document(root);\n      } else {\n        attempts++;\n        if (attempts > 100) {\n          clearInterval(timer);\n          console.log(\"Bokeh: ERROR: Unable to run BokehJS code because BokehJS library is missing\");\n        }\n      }\n    }, 10, root)\n  }\n})(window);",
      "application/vnd.bokehjs_exec.v0+json": ""
     },
     "metadata": {
      "application/vnd.bokehjs_exec.v0+json": {
       "id": "6141"
      }
     },
     "output_type": "display_data"
    }
   ],
   "source": [
    "t = np.linspace(0, 30, 121)\n",
    "p = bokeh.plotting.figure(\n",
    "    plot_width=800,\n",
    "    plot_height=200,\n",
    "    x_axis_label=\"t\",\n",
    "    y_axis_label=\" concentration\",\n",
    "    y_axis_type=\"linear\",\n",
    "\n",
    ")\n",
    "\n",
    "colors = bokeh.palettes.d3[\"Category10\"][5]\n",
    "\n",
    "# Populate glyphs\n",
    "\n",
    "p.line(\n",
    "    t, pG, line_width=2, color=colors[0], legend_label=\"pG\"\n",
    ")\n",
    "\n",
    "vline1 = Span(location=4, dimension='height', line_color='black', line_width=1,line_dash='dashed')\n",
    "vline2 = Span(location=16, dimension='height', line_color='black', line_width=1,line_dash='dashed')\n",
    "p.add_layout(vline1)\n",
    "p.add_layout(vline2)\n",
    "\n",
    "p.legend.click_policy=\"hide\"\n",
    "\n",
    "show(p)\n"
   ]
  },
  {
   "cell_type": "code",
   "execution_count": 899,
   "id": "bbeb91e4",
   "metadata": {},
   "outputs": [
    {
     "data": {
      "text/plain": [
       "(121, 9)"
      ]
     },
     "execution_count": 899,
     "metadata": {},
     "output_type": "execute_result"
    }
   ],
   "source": [
    "np.shape(result_all)"
   ]
  },
  {
   "cell_type": "code",
   "execution_count": 494,
   "id": "dca68ebc",
   "metadata": {},
   "outputs": [],
   "source": [
    "R,dT,dG,mT,mG,pT,pG,TX,TL = result_all.transpose()"
   ]
  },
  {
   "cell_type": "code",
   "execution_count": 499,
   "id": "c30fa921",
   "metadata": {},
   "outputs": [
    {
     "data": {
      "text/html": [
       "\n",
       "\n",
       "\n",
       "\n",
       "\n",
       "\n",
       "  <div class=\"bk-root\" id=\"f0113b80-da72-4d2c-bef8-dd8b3bf4e8eb\" data-root-id=\"75300\"></div>\n"
      ]
     },
     "metadata": {},
     "output_type": "display_data"
    },
    {
     "data": {
      "application/javascript": "(function(root) {\n  function embed_document(root) {\n    \n  const docs_json = {\"3d2a20d0-7f7b-455a-9a63-779b2e10fe4f\":{\"defs\":[{\"extends\":null,\"module\":null,\"name\":\"ReactiveHTML1\",\"overrides\":[],\"properties\":[]},{\"extends\":null,\"module\":null,\"name\":\"FlexBox1\",\"overrides\":[],\"properties\":[{\"default\":\"flex-start\",\"kind\":null,\"name\":\"align_content\"},{\"default\":\"flex-start\",\"kind\":null,\"name\":\"align_items\"},{\"default\":\"row\",\"kind\":null,\"name\":\"flex_direction\"},{\"default\":\"wrap\",\"kind\":null,\"name\":\"flex_wrap\"},{\"default\":\"flex-start\",\"kind\":null,\"name\":\"justify_content\"}]},{\"extends\":null,\"module\":null,\"name\":\"TemplateActions1\",\"overrides\":[],\"properties\":[{\"default\":0,\"kind\":null,\"name\":\"open_modal\"},{\"default\":0,\"kind\":null,\"name\":\"close_modal\"}]},{\"extends\":null,\"module\":null,\"name\":\"MaterialTemplateActions1\",\"overrides\":[],\"properties\":[{\"default\":0,\"kind\":null,\"name\":\"open_modal\"},{\"default\":0,\"kind\":null,\"name\":\"close_modal\"}]}],\"roots\":{\"references\":[{\"attributes\":{\"below\":[{\"id\":\"75309\"}],\"center\":[{\"id\":\"75312\"},{\"id\":\"75316\"}],\"height\":400,\"left\":[{\"id\":\"75313\"}],\"renderers\":[{\"id\":\"75335\"}],\"title\":{\"id\":\"76514\"},\"toolbar\":{\"id\":\"75324\"},\"width\":800,\"x_range\":{\"id\":\"75301\"},\"x_scale\":{\"id\":\"75305\"},\"y_range\":{\"id\":\"75303\"},\"y_scale\":{\"id\":\"75307\"}},\"id\":\"75300\",\"subtype\":\"Figure\",\"type\":\"Plot\"},{\"attributes\":{\"overlay\":{\"id\":\"75323\"}},\"id\":\"75319\",\"type\":\"BoxZoomTool\"},{\"attributes\":{\"axis\":{\"id\":\"75313\"},\"coordinates\":null,\"dimension\":1,\"group\":null,\"ticker\":null},\"id\":\"75316\",\"type\":\"Grid\"},{\"attributes\":{\"source\":{\"id\":\"75331\"}},\"id\":\"75336\",\"type\":\"CDSView\"},{\"attributes\":{\"bottom_units\":\"screen\",\"coordinates\":null,\"fill_alpha\":0.5,\"fill_color\":\"lightgrey\",\"group\":null,\"left_units\":\"screen\",\"level\":\"overlay\",\"line_alpha\":1.0,\"line_color\":\"black\",\"line_dash\":[4,4],\"line_width\":2,\"right_units\":\"screen\",\"syncable\":false,\"top_units\":\"screen\"},\"id\":\"75323\",\"type\":\"BoxAnnotation\"},{\"attributes\":{\"line_color\":\"#1f77b4\",\"line_width\":2,\"x\":{\"field\":\"x\"},\"y\":{\"field\":\"y\"}},\"id\":\"75332\",\"type\":\"Line\"},{\"attributes\":{},\"id\":\"76517\",\"type\":\"BasicTickFormatter\"},{\"attributes\":{\"data\":{\"x\":{\"__ndarray__\":\"AAAAAAAAAACyAmGkHSvQP7ICYaQdK+A/C4SRdqxA6D+yAmGkHSvwP15DeQ3lNfQ/C4SRdqxA+D+4xKnfc0v8P7ICYaQdKwBACCPtWIEwAkBeQ3kN5TUEQLVjBcJIOwZAC4SRdqxACEBhpB0rEEYKQLjEqd9zSwxADuU1lNdQDkCyAmGkHSsQQN0Sp37PLRFACCPtWIEwEkAzMzMzMzMTQF5DeQ3lNRRAilO/55Y4FUC1YwXCSDsWQOBzS5z6PRdAC4SRdqxAGEA2lNdQXkMZQGGkHSsQRhpAjLRjBcJIG0C4xKnfc0scQOPU77klTh1ADuU1lNdQHkA59XtuiVMfQLICYaQdKyBAyAqEkXasIEDdEqd+zy0hQPMaymsoryFACCPtWIEwIkAeKxBG2rEiQDMzMzMzMyNASTtWIIy0I0BeQ3kN5TUkQHRLnPo9tyRAilO/55Y4JUCfW+LU77klQLVjBcJIOyZAymsor6G8JkDgc0uc+j0nQPV7bolTvydAC4SRdqxAKEAhjLRjBcIoQDaU11BeQylATJz6PbfEKUBhpB0rEEYqQHesQBhpxypAjLRjBcJIK0CivIbyGsorQLjEqd9zSyxAzczMzMzMLEDj1O+5JU4tQPjcEqd+zy1ADuU1lNdQLkAj7ViBMNIuQDn1e26JUy9ATv2eW+LUL0CyAmGkHSswQL2G8hrKazBAyAqEkXasMEDSjhUII+0wQN0Sp37PLTFA6JY49XtuMUDzGsprKK8xQP2eW+LU7zFACCPtWIEwMkATp37PLXEyQB4rEEbasTJAKa+hvIbyMkAzMzMzMzMzQD63xKnfczNASTtWIIy0M0BUv+eWOPUzQF5DeQ3lNTRAaccKhJF2NEB0S5z6Pbc0QH/PLXHq9zRAilO/55Y4NUCU11BeQ3k1QJ9b4tTvuTVAqt9zS5z6NUC1YwXCSDs2QMDnljj1ezZAymsor6G8NkDV77klTv02QOBzS5z6PTdA6/fcEqd+N0D1e26JU783QAAAAAAAADhA\",\"dtype\":\"float64\",\"order\":\"little\",\"shape\":[96]},\"y\":{\"__ndarray__\":\"AAAAAAAA8D+yctkLXGPtP9FaZiaaR/A/ByTv/qeI8j/Y0DlBONf0P/MvUMcn+fY/96HXAJzZ+D/C6LxSUnT6P32JLg+9zPs/uwE1tKjp/D8JV2/z/NL9P/GmETyVkP4/d9C1XLEp/z/kz6+suaT/P7hMp0qYAwBAcOjw0t0qAEBw6PDS3SoAQNLyLmPHSABAIbucH8pgAEC/KlyBCHQAQBPtFhZwgwBAYVpKGMKPAED02rD7mpkAQFgJGvJ4oQBAmPkFgMGnAEBG2ZsWxqwAQLH35OzHsABAbHaPLPuzAED2VUuCibYAQMOKrjOUuABAHhnH0TW6AEBI9JCIg7sAQJM4Q0COvABACERPeGO9AECTbyPyDb4AQCvdn0WWvgBAytuWTgO/AECql7SGWr8AQNXo1E2gvwBAXfeGIti/AEBriJDPBMAAQGoRW5AowABAUn+/LUXAAECyzwsVXMAAQP287GluwABAu+rXFn3AAEBhvoLWiMAAQOBjRz6SwABAj9v2xZnAAEAk0U3Nn8AAQO/e8KCkwABA6rVJfqjAAEBdRIKWq8AAQFfo1BCuwABAK+q2DLDAAEB6MmOjscAAQNi5CemywABAt5fK7bPAAEB6iI++tMAAQOpLwmW1wABAaIOl67XAAED9wdpWtsAAQPEvtKy2wABAszBx8bbAAEBhvHsot8AAQCxjkFS3wABAzVvcd7fAAEAkkh6Ut8AAQOn3wKq3wABAsVfmvLfAAEALGmrLt8AAQCa8CNe3wABAJWlT4LfAAEDkB8Xnt8AAQF73ve23wABAs7WB8rfAAECyDVP2t8AAQBeyYfm3wABA13bV+7fAAEALgc39t8AAQAuBzf23wABAxZeUtHvAAEB7eZTV8r4AQODirXD2ugBAsOiWM0izAEDv+BuvZ6YAQJ5RAQ1+kgBAHc/iZlp1AECCx7zdeUwAQP9j1LkXFQBAJs9naomY/z+pS7DfEN7+PwfBuxIm9f0/8Cr6FArZ/D/eRi9Sn4b7P56jsbpM/fk/\",\"dtype\":\"float64\",\"order\":\"little\",\"shape\":[96]}},\"selected\":{\"id\":\"76523\"},\"selection_policy\":{\"id\":\"76522\"}},\"id\":\"75331\",\"type\":\"ColumnDataSource\"},{\"attributes\":{},\"id\":\"76523\",\"type\":\"Selection\"},{\"attributes\":{},\"id\":\"75317\",\"type\":\"PanTool\"},{\"attributes\":{},\"id\":\"75322\",\"type\":\"HelpTool\"},{\"attributes\":{\"line_alpha\":0.2,\"line_color\":\"#1f77b4\",\"line_width\":2,\"x\":{\"field\":\"x\"},\"y\":{\"field\":\"y\"}},\"id\":\"75334\",\"type\":\"Line\"},{\"attributes\":{},\"id\":\"75321\",\"type\":\"ResetTool\"},{\"attributes\":{},\"id\":\"75305\",\"type\":\"LinearScale\"},{\"attributes\":{\"coordinates\":null,\"data_source\":{\"id\":\"75331\"},\"glyph\":{\"id\":\"75332\"},\"group\":null,\"hover_glyph\":null,\"muted_glyph\":{\"id\":\"75334\"},\"nonselection_glyph\":{\"id\":\"75333\"},\"view\":{\"id\":\"75336\"}},\"id\":\"75335\",\"type\":\"GlyphRenderer\"},{\"attributes\":{},\"id\":\"75320\",\"type\":\"SaveTool\"},{\"attributes\":{\"coordinates\":null,\"group\":null},\"id\":\"76514\",\"type\":\"Title\"},{\"attributes\":{\"axis\":{\"id\":\"75309\"},\"coordinates\":null,\"group\":null,\"ticker\":null},\"id\":\"75312\",\"type\":\"Grid\"},{\"attributes\":{\"tools\":[{\"id\":\"75317\"},{\"id\":\"75318\"},{\"id\":\"75319\"},{\"id\":\"75320\"},{\"id\":\"75321\"},{\"id\":\"75322\"}]},\"id\":\"75324\",\"type\":\"Toolbar\"},{\"attributes\":{},\"id\":\"75318\",\"type\":\"WheelZoomTool\"},{\"attributes\":{},\"id\":\"75314\",\"type\":\"BasicTicker\"},{\"attributes\":{},\"id\":\"76521\",\"type\":\"AllLabels\"},{\"attributes\":{},\"id\":\"75301\",\"type\":\"DataRange1d\"},{\"attributes\":{},\"id\":\"75307\",\"type\":\"LinearScale\"},{\"attributes\":{\"axis_label\":\"t\",\"coordinates\":null,\"formatter\":{\"id\":\"76520\"},\"group\":null,\"major_label_policy\":{\"id\":\"76521\"},\"ticker\":{\"id\":\"75310\"}},\"id\":\"75309\",\"type\":\"LinearAxis\"},{\"attributes\":{},\"id\":\"76518\",\"type\":\"AllLabels\"},{\"attributes\":{},\"id\":\"75303\",\"type\":\"DataRange1d\"},{\"attributes\":{},\"id\":\"76520\",\"type\":\"BasicTickFormatter\"},{\"attributes\":{},\"id\":\"75310\",\"type\":\"BasicTicker\"},{\"attributes\":{\"line_alpha\":0.1,\"line_color\":\"#1f77b4\",\"line_width\":2,\"x\":{\"field\":\"x\"},\"y\":{\"field\":\"y\"}},\"id\":\"75333\",\"type\":\"Line\"},{\"attributes\":{\"axis_label\":\"dimensionless concentration\",\"coordinates\":null,\"formatter\":{\"id\":\"76517\"},\"group\":null,\"major_label_policy\":{\"id\":\"76518\"},\"ticker\":{\"id\":\"75314\"}},\"id\":\"75313\",\"type\":\"LinearAxis\"},{\"attributes\":{},\"id\":\"76522\",\"type\":\"UnionRenderers\"}],\"root_ids\":[\"75300\"]},\"title\":\"Bokeh Application\",\"version\":\"2.4.1\"}};\n  const render_items = [{\"docid\":\"3d2a20d0-7f7b-455a-9a63-779b2e10fe4f\",\"root_ids\":[\"75300\"],\"roots\":{\"75300\":\"f0113b80-da72-4d2c-bef8-dd8b3bf4e8eb\"}}];\n  root.Bokeh.embed.embed_items_notebook(docs_json, render_items);\n\n  }\n  if (root.Bokeh !== undefined) {\n    embed_document(root);\n  } else {\n    let attempts = 0;\n    const timer = setInterval(function(root) {\n      if (root.Bokeh !== undefined) {\n        clearInterval(timer);\n        embed_document(root);\n      } else {\n        attempts++;\n        if (attempts > 100) {\n          clearInterval(timer);\n          console.log(\"Bokeh: ERROR: Unable to run BokehJS code because BokehJS library is missing\");\n        }\n      }\n    }, 10, root)\n  }\n})(window);",
      "application/vnd.bokehjs_exec.v0+json": ""
     },
     "metadata": {
      "application/vnd.bokehjs_exec.v0+json": {
       "id": "75300"
      }
     },
     "output_type": "display_data"
    }
   ],
   "source": [
    "t = np.linspace(0, 24, 96)\n",
    "p = bokeh.plotting.figure(\n",
    "    plot_width=800,\n",
    "    plot_height=400,\n",
    "    x_axis_label=\"t\",\n",
    "    y_axis_label=\"dimensionless concentration\",\n",
    "    y_axis_type=\"linear\",\n",
    "\n",
    ")\n",
    "\n",
    "colors = bokeh.palettes.d3[\"Category10\"][3]\n",
    "\n",
    "# Populate glyphs\n",
    "p.line(\n",
    "    t, pT, line_width=2, color=colors[0]\n",
    ")\n",
    "show(p)\n"
   ]
  },
  {
   "cell_type": "code",
   "execution_count": 149,
   "id": "7154a069",
   "metadata": {},
   "outputs": [],
   "source": [
    "#index \n",
    "from lib2to3.pgen2.driver import Driver\n",
    "\n",
    "\n",
    "idx_R =0\n",
    "idx_dT =1\n",
    "idx_dG =2\n",
    "idx_mT =3\n",
    "idx_mG =4\n",
    "idx_pT =5\n",
    "idx_pG =6\n",
    "idx_TX =7\n",
    "idx_TL =8\n",
    "\n",
    "\n",
    "#common parameters \n",
    "alpha=0.7;\n",
    "beta=0.07;\n",
    "K=1.0;\n",
    "KTL=10;\n",
    "KTX=1;\n",
    "lamb1=0;\n",
    "lamb2=0;\n",
    "DR = 0.2\n",
    "\n",
    "#initial condition\n",
    "R0=100.0;\n",
    "dT0=0.5;\n",
    "dG0=2;\n",
    "mT0=0.0;\n",
    "mG0=0.0;\n",
    "pT0=1;\n",
    "pG0=0.0;\n",
    "TX0=1;\n",
    "TL0=1;\n",
    "\n",
    "molecules0 = [R0,dT0,dG0,mT0,mG0,pT0,pG0,TX0,TL0]\n",
    "\n",
    "\n",
    "\n",
    "\n",
    "#stage 1 kick start\n",
    "Kdr_0=0.012\n",
    "Kdr_1=0.012\n",
    "Kdr_2=0\n",
    "Kdr_3=0.012\n",
    "Kdr_4=0\n",
    "\n",
    "result_all=[]\n",
    "molecules0 = [R0,dT0,dG0,mT0,mG0,pT0,pG0,TX0,TL0]\n",
    "\n",
    "\n",
    "for n in range (0,50):\n",
    "\n",
    "    #define time\n",
    "    t_start= n*15\n",
    "    t_end = (n+1)*15\n",
    "    t= np.linspace(t_start,t_end,2)\n",
    "\n",
    "    #solve equation and save result\n",
    "    result = scipy.integrate.odeint(Self_regenerate_model, molecules0, t, args=(alpha,beta,K,KTL,KTX,lamb1,lamb2,Kdr_0,Kdr_1,Kdr_2,Kdr_3))\n",
    "    result_all = np.append(result_all,result[1])\n",
    "    #update parameter\n",
    "    molecules0 = result.transpose()[:,-1]\n",
    "    \n",
    "    #dilution \n",
    "    ###replenish \n",
    "    molecules0[idx_R] = (R0-molecules0[idx_R])*DR+(1-DR)*molecules0[idx_R]\n",
    "    molecules0[idx_pT] = (pT0-molecules0[idx_pT])*DR+(1-DR)*molecules0[idx_pT]\n",
    "\n",
    "    ###diute out\n",
    "    molecules0[idx_mT] = (1-DR)*molecules0[idx_mT] \n",
    "    molecules0[idx_mG] = (1-DR)*molecules0[idx_mG]\n",
    "    molecules0[idx_pG] = (1-DR)*molecules0[idx_pG]\n",
    "\n",
    "result_all = np.resize(result_all,(50,9))\n",
    "R,dT,dG,mT,mG,pT,pG,TX,TL = result_all.transpose()\n",
    "\n"
   ]
  },
  {
   "cell_type": "code",
   "execution_count": 153,
   "id": "6ab1d1e8",
   "metadata": {},
   "outputs": [
    {
     "data": {
      "text/html": [
       "\n",
       "\n",
       "\n",
       "\n",
       "\n",
       "\n",
       "  <div class=\"bk-root\" id=\"a6bb8104-7583-4fda-9e52-86ade59287f8\" data-root-id=\"8802\"></div>\n"
      ]
     },
     "metadata": {},
     "output_type": "display_data"
    },
    {
     "data": {
      "application/javascript": "(function(root) {\n  function embed_document(root) {\n    \n  const docs_json = {\"ec470346-397c-4d72-99f8-7f7cab7caf62\":{\"defs\":[{\"extends\":null,\"module\":null,\"name\":\"ReactiveHTML1\",\"overrides\":[],\"properties\":[]},{\"extends\":null,\"module\":null,\"name\":\"FlexBox1\",\"overrides\":[],\"properties\":[{\"default\":\"flex-start\",\"kind\":null,\"name\":\"align_content\"},{\"default\":\"flex-start\",\"kind\":null,\"name\":\"align_items\"},{\"default\":\"row\",\"kind\":null,\"name\":\"flex_direction\"},{\"default\":\"wrap\",\"kind\":null,\"name\":\"flex_wrap\"},{\"default\":\"flex-start\",\"kind\":null,\"name\":\"justify_content\"}]},{\"extends\":null,\"module\":null,\"name\":\"GridStack1\",\"overrides\":[],\"properties\":[{\"default\":\"warn\",\"kind\":null,\"name\":\"mode\"},{\"default\":null,\"kind\":null,\"name\":\"ncols\"},{\"default\":null,\"kind\":null,\"name\":\"nrows\"},{\"default\":true,\"kind\":null,\"name\":\"allow_resize\"},{\"default\":true,\"kind\":null,\"name\":\"allow_drag\"},{\"default\":[],\"kind\":null,\"name\":\"state\"}]},{\"extends\":null,\"module\":null,\"name\":\"click1\",\"overrides\":[],\"properties\":[{\"default\":\"\",\"kind\":null,\"name\":\"terminal_output\"},{\"default\":\"\",\"kind\":null,\"name\":\"debug_name\"},{\"default\":0,\"kind\":null,\"name\":\"clears\"}]},{\"extends\":null,\"module\":null,\"name\":\"TemplateActions1\",\"overrides\":[],\"properties\":[{\"default\":0,\"kind\":null,\"name\":\"open_modal\"},{\"default\":0,\"kind\":null,\"name\":\"close_modal\"}]},{\"extends\":null,\"module\":null,\"name\":\"MaterialTemplateActions1\",\"overrides\":[],\"properties\":[{\"default\":0,\"kind\":null,\"name\":\"open_modal\"},{\"default\":0,\"kind\":null,\"name\":\"close_modal\"}]}],\"roots\":{\"references\":[{\"attributes\":{\"below\":[{\"id\":\"8811\"}],\"center\":[{\"id\":\"8814\"},{\"id\":\"8818\"}],\"height\":400,\"left\":[{\"id\":\"8815\"}],\"renderers\":[{\"id\":\"8837\"}],\"title\":{\"id\":\"9158\"},\"toolbar\":{\"id\":\"8826\"},\"width\":800,\"x_range\":{\"id\":\"8803\"},\"x_scale\":{\"id\":\"8807\"},\"y_range\":{\"id\":\"8805\"},\"y_scale\":{\"id\":\"8809\"}},\"id\":\"8802\",\"subtype\":\"Figure\",\"type\":\"Plot\"},{\"attributes\":{},\"id\":\"8823\",\"type\":\"ResetTool\"},{\"attributes\":{},\"id\":\"9161\",\"type\":\"BasicTickFormatter\"},{\"attributes\":{},\"id\":\"9162\",\"type\":\"AllLabels\"},{\"attributes\":{\"overlay\":{\"id\":\"8825\"}},\"id\":\"8821\",\"type\":\"BoxZoomTool\"},{\"attributes\":{},\"id\":\"9164\",\"type\":\"BasicTickFormatter\"},{\"attributes\":{\"tools\":[{\"id\":\"8819\"},{\"id\":\"8820\"},{\"id\":\"8821\"},{\"id\":\"8822\"},{\"id\":\"8823\"},{\"id\":\"8824\"}]},\"id\":\"8826\",\"type\":\"Toolbar\"},{\"attributes\":{\"axis\":{\"id\":\"8815\"},\"coordinates\":null,\"dimension\":1,\"group\":null,\"ticker\":null},\"id\":\"8818\",\"type\":\"Grid\"},{\"attributes\":{},\"id\":\"9165\",\"type\":\"AllLabels\"},{\"attributes\":{},\"id\":\"8819\",\"type\":\"PanTool\"},{\"attributes\":{\"bottom_units\":\"screen\",\"coordinates\":null,\"fill_alpha\":0.5,\"fill_color\":\"lightgrey\",\"group\":null,\"left_units\":\"screen\",\"level\":\"overlay\",\"line_alpha\":1.0,\"line_color\":\"black\",\"line_dash\":[4,4],\"line_width\":2,\"right_units\":\"screen\",\"syncable\":false,\"top_units\":\"screen\"},\"id\":\"8825\",\"type\":\"BoxAnnotation\"},{\"attributes\":{},\"id\":\"9166\",\"type\":\"UnionRenderers\"},{\"attributes\":{},\"id\":\"8820\",\"type\":\"WheelZoomTool\"},{\"attributes\":{},\"id\":\"8803\",\"type\":\"DataRange1d\"},{\"attributes\":{},\"id\":\"9167\",\"type\":\"Selection\"},{\"attributes\":{},\"id\":\"8805\",\"type\":\"DataRange1d\"},{\"attributes\":{\"coordinates\":null,\"group\":null},\"id\":\"9158\",\"type\":\"Title\"},{\"attributes\":{\"axis_label\":\"dimensionless concentration\",\"coordinates\":null,\"formatter\":{\"id\":\"9161\"},\"group\":null,\"major_label_policy\":{\"id\":\"9162\"},\"ticker\":{\"id\":\"8816\"}},\"id\":\"8815\",\"type\":\"LinearAxis\"},{\"attributes\":{\"coordinates\":null,\"data_source\":{\"id\":\"8833\"},\"glyph\":{\"id\":\"8834\"},\"group\":null,\"hover_glyph\":null,\"muted_glyph\":{\"id\":\"8836\"},\"nonselection_glyph\":{\"id\":\"8835\"},\"view\":{\"id\":\"8838\"}},\"id\":\"8837\",\"type\":\"GlyphRenderer\"},{\"attributes\":{},\"id\":\"8809\",\"type\":\"LinearScale\"},{\"attributes\":{},\"id\":\"8816\",\"type\":\"BasicTicker\"},{\"attributes\":{\"line_alpha\":0.2,\"line_color\":\"#1f77b4\",\"line_width\":2,\"x\":{\"field\":\"x\"},\"y\":{\"field\":\"y\"}},\"id\":\"8836\",\"type\":\"Line\"},{\"attributes\":{},\"id\":\"8824\",\"type\":\"HelpTool\"},{\"attributes\":{},\"id\":\"8807\",\"type\":\"LinearScale\"},{\"attributes\":{},\"id\":\"8812\",\"type\":\"BasicTicker\"},{\"attributes\":{\"source\":{\"id\":\"8833\"}},\"id\":\"8838\",\"type\":\"CDSView\"},{\"attributes\":{\"line_color\":\"#1f77b4\",\"line_width\":2,\"x\":{\"field\":\"x\"},\"y\":{\"field\":\"y\"}},\"id\":\"8834\",\"type\":\"Line\"},{\"attributes\":{\"data\":{\"x\":{\"__ndarray__\":\"AAAAAAAAAACn4OUUvJwuQKfg5RS8nD5AfWisD431RkCn4OUUvJxOQGisD431IVNAfWisD431VkCSJEmSJMlaQKfg5RS8nF5AXk7Byyk4YUBorA+N9SFjQHMKXk7BC2VAfWisD431ZkCIxvrQWN9oQJIkSZIkyWpAnYKXU/CybECn4OUUvJxuQFkfGutDQ3BAXk7Byyk4cUBjfWisDy1yQGisD431IXNAbtu2bdsWdEBzCl5OwQt1QHg5BS+nAHZAfWisD431dkCCl1Pwcup3QIjG+tBY33hAjfWhsT7UeUCSJEmSJMl6QJdT8HIKvntAnYKXU/CyfECisT401qd9QKfg5RS8nH5ArA+N9aGRf0BZHxrrQ0OAQNu2bdu2vYBAXk7Byyk4gUDh5RS8nLKBQGN9aKwPLYJA5hS8nIKngkBorA+N9SGDQOtDY31onINAbtu2bdsWhEDwcgpeTpGEQHMKXk7BC4VA9aGxPjSGhUB4OQUvpwCGQPvQWB8ae4ZAfWisD431hkAAAAAAAHCHQA==\",\"dtype\":\"float64\",\"order\":\"little\",\"shape\":[50]},\"y\":{\"__ndarray__\":\"AAAAAAAAAEAAAAAAAAAAQAAAAAAAAABAAAAAAAAAAEAAAAAAAAAAQAAAAAAAAABAAAAAAAAAAEAAAAAAAAAAQAAAAAAAAABAAAAAAAAAAEAAAAAAAAAAQAAAAAAAAABAAAAAAAAAAEAAAAAAAAAAQAAAAAAAAABAAAAAAAAAAEAAAAAAAAAAQAAAAAAAAABAAAAAAAAAAEAAAAAAAAAAQAAAAAAAAABAAAAAAAAAAEAAAAAAAAAAQAAAAAAAAABAAAAAAAAAAEAAAAAAAAAAQAAAAAAAAABAAAAAAAAAAEAAAAAAAAAAQAAAAAAAAABAAAAAAAAAAEAAAAAAAAAAQAAAAAAAAABAAAAAAAAAAEAAAAAAAAAAQAAAAAAAAABAAAAAAAAAAEAAAAAAAAAAQAAAAAAAAABAAAAAAAAAAEAAAAAAAAAAQAAAAAAAAABAAAAAAAAAAEAAAAAAAAAAQAAAAAAAAABAAAAAAAAAAEAAAAAAAAAAQAAAAAAAAABAAAAAAAAAAEAAAAAAAAAAQA==\",\"dtype\":\"float64\",\"order\":\"little\",\"shape\":[50]}},\"selected\":{\"id\":\"9167\"},\"selection_policy\":{\"id\":\"9166\"}},\"id\":\"8833\",\"type\":\"ColumnDataSource\"},{\"attributes\":{\"line_alpha\":0.1,\"line_color\":\"#1f77b4\",\"line_width\":2,\"x\":{\"field\":\"x\"},\"y\":{\"field\":\"y\"}},\"id\":\"8835\",\"type\":\"Line\"},{\"attributes\":{\"axis\":{\"id\":\"8811\"},\"coordinates\":null,\"group\":null,\"ticker\":null},\"id\":\"8814\",\"type\":\"Grid\"},{\"attributes\":{\"axis_label\":\"t\",\"coordinates\":null,\"formatter\":{\"id\":\"9164\"},\"group\":null,\"major_label_policy\":{\"id\":\"9165\"},\"ticker\":{\"id\":\"8812\"}},\"id\":\"8811\",\"type\":\"LinearAxis\"},{\"attributes\":{},\"id\":\"8822\",\"type\":\"SaveTool\"}],\"root_ids\":[\"8802\"]},\"title\":\"Bokeh Application\",\"version\":\"2.4.2\"}};\n  const render_items = [{\"docid\":\"ec470346-397c-4d72-99f8-7f7cab7caf62\",\"root_ids\":[\"8802\"],\"roots\":{\"8802\":\"a6bb8104-7583-4fda-9e52-86ade59287f8\"}}];\n  root.Bokeh.embed.embed_items_notebook(docs_json, render_items);\n\n  }\n  if (root.Bokeh !== undefined) {\n    embed_document(root);\n  } else {\n    let attempts = 0;\n    const timer = setInterval(function(root) {\n      if (root.Bokeh !== undefined) {\n        clearInterval(timer);\n        embed_document(root);\n      } else {\n        attempts++;\n        if (attempts > 100) {\n          clearInterval(timer);\n          console.log(\"Bokeh: ERROR: Unable to run BokehJS code because BokehJS library is missing\");\n        }\n      }\n    }, 10, root)\n  }\n})(window);",
      "application/vnd.bokehjs_exec.v0+json": ""
     },
     "metadata": {
      "application/vnd.bokehjs_exec.v0+json": {
       "id": "8802"
      }
     },
     "output_type": "display_data"
    }
   ],
   "source": [
    "t = np.linspace(0, 750, 50)\n",
    "p = bokeh.plotting.figure(\n",
    "    plot_width=800,\n",
    "    plot_height=400,\n",
    "    x_axis_label=\"t\",\n",
    "    y_axis_label=\"dimensionless concentration\",\n",
    "    y_axis_type=\"linear\",\n",
    "\n",
    ")\n",
    "\n",
    "colors = bokeh.palettes.d3[\"Category10\"][3]\n",
    "\n",
    "# Populate glyphs\n",
    "p.line(\n",
    "    t, dG, line_width=2, color=colors[0]\n",
    ")\n",
    "show(p)\n"
   ]
  },
  {
   "cell_type": "code",
   "execution_count": 137,
   "id": "e942521e",
   "metadata": {},
   "outputs": [
    {
     "data": {
      "text/plain": [
       "(50, 9)"
      ]
     },
     "execution_count": 137,
     "metadata": {},
     "output_type": "execute_result"
    }
   ],
   "source": [
    "np.shape(result_all)"
   ]
  },
  {
   "cell_type": "code",
   "execution_count": 148,
   "id": "29534d66",
   "metadata": {},
   "outputs": [
    {
     "data": {
      "text/plain": [
       "array([[92.84374984,  0.5       ,  2.        ,  1.38367907,  5.53471627,\n",
       "         1.04757096,  0.19028385,  1.        ,  1.        , 73.28751196,\n",
       "         0.5       ,  2.        ,  2.12420196,  8.49680784,  0.94130994,\n",
       "         0.46524361,  1.        ,  1.        , 63.77654439,  0.5       ,\n",
       "         2.        ,  2.54825655, 10.19302621,  0.90085506,  0.70017267,\n",
       "         1.        ,  1.        , 59.11263034,  0.5       ,  2.        ,\n",
       "         2.80503285, 11.22013141,  0.88663989,  0.88139319,  1.        ,\n",
       "         1.        , 56.80206442,  0.5       ,  2.        ,  2.96791126,\n",
       "        11.87164506,  0.88285719,  1.01585332,  1.        ,  1.        ,\n",
       "        55.64230276,  0.5       ,  2.        ,  3.07508816, 12.30035265],\n",
       "       [ 0.88298125,  1.11378093,  1.        ,  1.        , 55.05029204,\n",
       "         0.5       ,  2.        ,  3.14756713, 12.5902685 ,  0.8843382 ,\n",
       "         1.18439689,  1.        ,  1.        , 54.74156962,  0.5       ,\n",
       "         2.        ,  3.19754216, 12.79016865,  0.88588065,  1.23503317,\n",
       "         1.        ,  1.        , 54.57628042,  0.5       ,  2.        ,\n",
       "         3.23246118, 12.92984473,  0.88724261,  1.27122494,  1.        ,\n",
       "         1.        , 54.48498839,  0.5       ,  2.        ,  3.25707686,\n",
       "        13.02830746,  0.88833401,  1.29704422,  1.        ,  1.        ,\n",
       "        54.43278002,  0.5       ,  2.        ,  3.27452985, 13.09811939,\n",
       "         0.88916784,  1.31544453,  1.        ,  1.        , 54.40181065],\n",
       "       [ 0.5       ,  2.        ,  3.28695042, 13.14780168,  0.88978842,\n",
       "         1.32855069,  1.        ,  1.        , 54.38276798,  0.5       ,\n",
       "         2.        ,  3.29581057, 13.18324227,  0.8902433 ,  1.33788395,\n",
       "         1.        ,  1.        , 54.37066596,  0.5       ,  2.        ,\n",
       "         3.30214034, 13.20856134,  0.89057371,  1.34453033,  1.        ,\n",
       "         1.        , 54.36275249,  0.5       ,  2.        ,  3.30666659,\n",
       "        13.22666637,  0.89081238,  1.34926385,  1.        ,  1.        ,\n",
       "        54.35745577,  0.5       ,  2.        ,  3.30990507, 13.23962028,\n",
       "         0.89098418,  1.35263565,  1.        ,  1.        , 54.35384515,\n",
       "         0.5       ,  2.        ,  3.31222298, 13.24889191,  0.8911076 ],\n",
       "       [ 1.35503801,  1.        ,  1.        , 54.35134963,  0.5       ,\n",
       "         2.        ,  3.31388235, 13.2555294 ,  0.89119615,  1.35675007,\n",
       "         1.        ,  1.        , 54.34960714,  0.5       ,  2.        ,\n",
       "         3.31507044, 13.26028174,  0.89125962,  1.3579705 ,  1.        ,\n",
       "         1.        , 54.34838144,  0.5       ,  2.        ,  3.31592115,\n",
       "        13.2636846 ,  0.8913051 ,  1.35884069,  1.        ,  1.        ,\n",
       "        54.34751469,  0.5       ,  2.        ,  3.31653032, 13.26612127,\n",
       "         0.89133768,  1.35946131,  1.        ,  1.        , 54.34689948,\n",
       "         0.5       ,  2.        ,  3.31696653, 13.26786613,  0.89136102,\n",
       "         1.35990405,  1.        ,  1.        , 54.34646165,  0.5       ],\n",
       "       [ 2.        ,  3.3172789 , 13.26911562,  0.89137773,  1.36021996,\n",
       "         1.        ,  1.        , 54.34614948,  0.5       ,  2.        ,\n",
       "         3.31750259, 13.27001037,  0.8913897 ,  1.36044542,  1.        ,\n",
       "         1.        , 54.34592662,  0.5       ,  2.        ,  3.31766277,\n",
       "        13.2706511 ,  0.89139827,  1.36060637,  1.        ,  1.        ,\n",
       "        54.34576738,  0.5       ,  2.        ,  3.31777748, 13.27110992,\n",
       "         0.8914044 ,  1.36072128,  1.        ,  1.        , 54.34565351,\n",
       "         0.5       ,  2.        ,  3.31785962, 13.27143849,  0.8914088 ,\n",
       "         1.36080334,  1.        ,  1.        , 54.34557206,  0.5       ,\n",
       "         2.        ,  3.31791844, 13.27167377,  0.89141194,  1.36086196],\n",
       "       [ 1.        ,  1.        , 54.34551377,  0.5       ,  2.        ,\n",
       "         3.31796056, 13.27184225,  0.8914142 ,  1.36090383,  1.        ,\n",
       "         1.        , 54.34547206,  0.5       ,  2.        ,  3.31799073,\n",
       "        13.27196291,  0.89141581,  1.36093374,  1.        ,  1.        ,\n",
       "        54.3454422 ,  0.5       ,  2.        ,  3.31801233, 13.2720493 ,\n",
       "         0.89141696,  1.36095512,  1.        ,  1.        , 54.34542082,\n",
       "         0.5       ,  2.        ,  3.31802779, 13.27211117,  0.89141779,\n",
       "         1.3609704 ,  1.        ,  1.        , 54.34540551,  0.5       ,\n",
       "         2.        ,  3.31803887, 13.27215548,  0.89141838,  1.36098132,\n",
       "         1.        ,  1.        , 54.34539455,  0.5       ,  2.        ],\n",
       "       [ 3.3180468 , 13.2721872 ,  0.89141881,  1.36098913,  1.        ,\n",
       "         1.        , 54.34538671,  0.5       ,  2.        ,  3.31805248,\n",
       "        13.27220992,  0.89141911,  1.36099471,  1.        ,  1.        ,\n",
       "        54.34538109,  0.5       ,  2.        ,  3.31805655, 13.27222619,\n",
       "         0.89141933,  1.3609987 ,  1.        ,  1.        , 54.34537706,\n",
       "         0.5       ,  2.        ,  3.31805946, 13.27223784,  0.89141949,\n",
       "         1.36100155,  1.        ,  1.        , 54.34537418,  0.5       ,\n",
       "         2.        ,  3.31806155, 13.27224618,  0.8914196 ,  1.36100359,\n",
       "         1.        ,  1.        , 54.34537212,  0.5       ,  2.        ,\n",
       "         3.31806304, 13.27225216,  0.89141968,  1.36100505,  1.        ],\n",
       "       [ 1.        , 54.34537064,  0.5       ,  2.        ,  3.31806411,\n",
       "        13.27225644,  0.89141973,  1.3610061 ,  1.        ,  1.        ,\n",
       "        54.34536958,  0.5       ,  2.        ,  3.31806487, 13.2722595 ,\n",
       "         0.89141977,  1.36100684,  1.        ,  1.        , 54.34536882,\n",
       "         0.5       ,  2.        ,  3.31806542, 13.27226169,  0.8914198 ,\n",
       "         1.36100738,  1.        ,  1.        , 54.34536828,  0.5       ,\n",
       "         2.        ,  3.31806582, 13.27226326,  0.89141983,  1.36100776,\n",
       "         1.        ,  1.        , 54.34536789,  0.5       ,  2.        ,\n",
       "         3.3180661 , 13.27226439,  0.89141984,  1.36100803,  1.        ,\n",
       "         1.        , 54.34536761,  0.5       ,  2.        ,  3.3180663 ],\n",
       "       [13.27226519,  0.89141985,  1.36100823,  1.        ,  1.        ,\n",
       "        54.34536741,  0.5       ,  2.        ,  3.31806644, 13.27226577,\n",
       "         0.89141986,  1.36100837,  1.        ,  1.        , 54.34536727,\n",
       "         0.5       ,  2.        ,  3.31806655, 13.27226618,  0.89141986,\n",
       "         1.36100847,  1.        ,  1.        , 54.34536717,  0.5       ,\n",
       "         2.        ,  3.31806662, 13.27226648,  0.89141987,  1.36100854,\n",
       "         1.        ,  1.        , 54.34536709,  0.5       ,  2.        ,\n",
       "         3.31806667, 13.27226669,  0.89141987,  1.36100859,  1.        ,\n",
       "         1.        , 54.34536704,  0.5       ,  2.        ,  3.31806671,\n",
       "        13.27226684,  0.89141987,  1.36100863,  1.        ,  1.        ]])"
      ]
     },
     "execution_count": 148,
     "metadata": {},
     "output_type": "execute_result"
    }
   ],
   "source": [
    "result_all"
   ]
  },
  {
   "cell_type": "code",
   "execution_count": null,
   "id": "633cbe1c",
   "metadata": {},
   "outputs": [],
   "source": []
  }
 ],
 "metadata": {
  "kernelspec": {
   "display_name": "Python 3 (ipykernel)",
   "language": "python",
   "name": "python3"
  },
  "language_info": {
   "codemirror_mode": {
    "name": "ipython",
    "version": 3
   },
   "file_extension": ".py",
   "mimetype": "text/x-python",
   "name": "python",
   "nbconvert_exporter": "python",
   "pygments_lexer": "ipython3",
   "version": "3.9.12"
  },
  "vscode": {
   "interpreter": {
    "hash": "702350541321a2f0d6ee5689c760d1f3e12a6e5a69204819bb813b28aabd20d3"
   }
  }
 },
 "nbformat": 4,
 "nbformat_minor": 5
}
